{
 "cells": [
  {
   "cell_type": "code",
   "execution_count": 1,
   "metadata": {
    "scrolled": true
   },
   "outputs": [
    {
     "name": "stdout",
     "output_type": "stream",
     "text": [
      "Populating the interactive namespace from numpy and matplotlib\n"
     ]
    }
   ],
   "source": [
    "%pylab inline"
   ]
  },
  {
   "cell_type": "code",
   "execution_count": 6,
   "metadata": {},
   "outputs": [
    {
     "name": "stdout",
     "output_type": "stream",
     "text": [
      "\n"
     ]
    }
   ],
   "source": [
    "import dataiku\n",
    "from dataiku import pandasutils as pdu\n",
    "import pandas as pd\n",
    "import re\n",
    "import tensorflow\n",
    "from tensorflow.keras.preprocessing.text import Tokenizer\n",
    "from tensorflow.keras.losses import BinaryCrossentropy\n",
    "import pandas as pd\n",
    "import sklearn\n",
    "import keras_tuner\n",
    "from keras_nlp.layers import PositionEmbedding"
   ]
  },
  {
   "cell_type": "markdown",
   "metadata": {},
   "source": [
    "# Reading Data"
   ]
  },
  {
   "cell_type": "code",
   "execution_count": 8,
   "metadata": {},
   "outputs": [],
   "source": [
    "#df=pd.read_csv(\"/NAMESCREENING_1/X71uZTip/Processed_Names.csv\")\n",
    "import os\n",
    "# Recipe inputs\n",
    "folder_path = dataiku.Folder(\"Name Screening notebooks\").get_path()  #/* FuShmlsH is the Folder ID */\n",
    "path_of_csv = os.path.join(folder_path, \"Processed_Names.csv\") #/* dataset_01.csv is one of the files in this folder */\n",
    "df=pd.read_csv(path_of_csv)\n",
    "# df=pd.read_csv(\"Processed_Names.csv\")\n"
   ]
  },
  {
   "cell_type": "code",
   "execution_count": 9,
   "metadata": {},
   "outputs": [
    {
     "data": {
      "text/html": [
       "\n",
       "            <button style=\"display:none\" \n",
       "            class=\"btn btn-default ipython-export-btn\" \n",
       "            id=\"btn-df-57f57ce9-9f48-4db7-9ed3-c941c7743155\" \n",
       "            onclick=\"_export_df('57f57ce9-9f48-4db7-9ed3-c941c7743155')\">\n",
       "                Export dataframe\n",
       "            </button>\n",
       "            \n",
       "            <script>\n",
       "                \n",
       "                function _check_export_df_possible(dfid,yes_fn,no_fn) {\n",
       "                    console.log('Checking dataframe exportability...')\n",
       "                    if(!IPython || !IPython.notebook || !IPython.notebook.kernel || !IPython.notebook.kernel) {\n",
       "                        console.log('Export is not possible (IPython kernel is not available)')\n",
       "                        if(no_fn) {\n",
       "                            no_fn();\n",
       "                        }\n",
       "                    } else {\n",
       "                        var pythonCode = 'from dataiku.notebook.export import IPythonExporter;IPythonExporter._check_export_stdout(\"'+dfid+'\")';\n",
       "                        IPython.notebook.kernel.execute(pythonCode,{iopub: {output: function(resp) {\n",
       "                            console.info(\"Exportability response\", resp);\n",
       "                            var size = /^([0-9]+)x([0-9]+)$/.exec(resp.content.data || resp.content.text)\n",
       "                            if(!size) {\n",
       "                                console.log('Export is not possible (dataframe is not in-memory anymore)')\n",
       "                                if(no_fn) {\n",
       "                                    no_fn();\n",
       "                                }\n",
       "                            } else {\n",
       "                                console.log('Export is possible')\n",
       "                                if(yes_fn) {\n",
       "                                    yes_fn(1*size[1],1*size[2]);\n",
       "                                }\n",
       "                            }\n",
       "                        }}});\n",
       "                    }\n",
       "                }\n",
       "            \n",
       "                function _export_df(dfid) {\n",
       "                    \n",
       "                    var btn = $('#btn-df-'+dfid);\n",
       "                    var btns = $('.ipython-export-btn');\n",
       "                    \n",
       "                    _check_export_df_possible(dfid,function() {\n",
       "                        \n",
       "                        window.parent.openExportModalFromIPython('Pandas dataframe',function(data) {\n",
       "                            btns.prop('disabled',true);\n",
       "                            btn.text('Exporting...');\n",
       "                            var command = 'from dataiku.notebook.export import IPythonExporter;IPythonExporter._run_export(\"'+dfid+'\",\"'+data.exportId+'\")';\n",
       "                            var callback = {iopub:{output: function(resp) {\n",
       "                                console.info(\"CB resp:\", resp);\n",
       "                                _check_export_df_possible(dfid,function(rows, cols) {\n",
       "                                    $('#btn-df-'+dfid)\n",
       "                                        .css('display','inline-block')\n",
       "                                        .text('Export this dataframe ('+rows+' rows, '+cols+' cols)')\n",
       "                                        .prop('disabled',false);\n",
       "                                },function() {\n",
       "                                    $('#btn-df-'+dfid).css('display','none');\n",
       "                                });\n",
       "                            }}};\n",
       "                            IPython.notebook.kernel.execute(command,callback,{silent:false}); // yes, silent now defaults to true. figures.\n",
       "                        });\n",
       "                    \n",
       "                    }, function(){\n",
       "                            alert('Unable to export : the Dataframe object is not loaded in memory');\n",
       "                            btn.css('display','none');\n",
       "                    });\n",
       "                    \n",
       "                }\n",
       "                \n",
       "                (function(dfid) {\n",
       "                \n",
       "                    var retryCount = 10;\n",
       "                \n",
       "                    function is_valid_websock(s) {\n",
       "                        return s && s.readyState==1;\n",
       "                    }\n",
       "                \n",
       "                    function check_conn() {\n",
       "                        \n",
       "                        if(typeof(IPython) === \"undefined\" || !IPython || !IPython.notebook) {\n",
       "                            // Don't even try to go further\n",
       "                            return;\n",
       "                        }\n",
       "                        \n",
       "                        // Check if IPython is ready\n",
       "                        console.info(\"Checking conn ...\")\n",
       "                        if(IPython.notebook.kernel\n",
       "                        && IPython.notebook.kernel\n",
       "                        && is_valid_websock(IPython.notebook.kernel.ws)\n",
       "                        ) {\n",
       "                            \n",
       "                            _check_export_df_possible(dfid,function(rows, cols) {\n",
       "                                $('#btn-df-'+dfid).css('display','inline-block');\n",
       "                                $('#btn-df-'+dfid).text('Export this dataframe ('+rows+' rows, '+cols+' cols)');\n",
       "                            });\n",
       "                            \n",
       "                        } else {\n",
       "                            console.info(\"Conditions are not ok\", IPython.notebook.kernel);\n",
       "                            \n",
       "                            // Retry later\n",
       "                            \n",
       "                            if(retryCount>0) {\n",
       "                                setTimeout(check_conn,500);\n",
       "                                retryCount--;\n",
       "                            }\n",
       "                            \n",
       "                        }\n",
       "                    };\n",
       "                    \n",
       "                    setTimeout(check_conn,100);\n",
       "                    \n",
       "                })(\"57f57ce9-9f48-4db7-9ed3-c941c7743155\");\n",
       "                \n",
       "            </script>\n",
       "            \n",
       "        <div>\n",
       "<style scoped>\n",
       "    .dataframe tbody tr th:only-of-type {\n",
       "        vertical-align: middle;\n",
       "    }\n",
       "\n",
       "    .dataframe tbody tr th {\n",
       "        vertical-align: top;\n",
       "    }\n",
       "\n",
       "    .dataframe thead th {\n",
       "        text-align: right;\n",
       "    }\n",
       "</style>\n",
       "<table border=\"1\" class=\"dataframe\">\n",
       "  <thead>\n",
       "    <tr style=\"text-align: right;\">\n",
       "      <th></th>\n",
       "      <th>ALL_ALIAS_NAMES</th>\n",
       "      <th>ALL_PARTY_NAMES</th>\n",
       "      <th>ALL_WL_NAMES</th>\n",
       "      <th>V_COMMENTS</th>\n",
       "      <th>V_RESOLUTION</th>\n",
       "      <th>N_MATCH_SCORE</th>\n",
       "    </tr>\n",
       "  </thead>\n",
       "  <tbody>\n",
       "    <tr>\n",
       "      <th>0</th>\n",
       "      <td>['', '', '', '', '', '', '', '', '', '', '', '...</td>\n",
       "      <td>['SAHARUDDIN BIN MD SALLEH', '', '', '']</td>\n",
       "      <td>['', '', '', '', '', '', 'SHARUDDIN BIN MD SAL...</td>\n",
       "      <td>Mismatch ID number_NRIC\\n</td>\n",
       "      <td>FP</td>\n",
       "      <td>95.0</td>\n",
       "    </tr>\n",
       "    <tr>\n",
       "      <th>1</th>\n",
       "      <td>['', '', '', '', '', '', '', '', '', '', '', '...</td>\n",
       "      <td>['HO KIONG CHAN', '', '', '']</td>\n",
       "      <td>['', '', '', '', '', '', 'HO KIONG CHAN']</td>\n",
       "      <td>NaN</td>\n",
       "      <td>TH</td>\n",
       "      <td>100.0</td>\n",
       "    </tr>\n",
       "    <tr>\n",
       "      <th>2</th>\n",
       "      <td>['', '', '', '', '', '', '', '', '', '', '', '...</td>\n",
       "      <td>[' AHMAD ASABI BIN ISMAIL', '', '', '']</td>\n",
       "      <td>['', '', '', '', '', '', ' AHMAD ASABI BIN ISM...</td>\n",
       "      <td>NaN</td>\n",
       "      <td>TH</td>\n",
       "      <td>100.0</td>\n",
       "    </tr>\n",
       "    <tr>\n",
       "      <th>3</th>\n",
       "      <td>['', '', '', '', '', '', '', '', '', '', '', '...</td>\n",
       "      <td>['ANG LEE ENG', '', '', '']</td>\n",
       "      <td>['', '', '', '', '', '', 'ANG LEE ENG']</td>\n",
       "      <td>Mismatch ID number_NRIC</td>\n",
       "      <td>FP</td>\n",
       "      <td>100.0</td>\n",
       "    </tr>\n",
       "    <tr>\n",
       "      <th>4</th>\n",
       "      <td>['', '', '', '', '', '', '', '', '', '', '', '...</td>\n",
       "      <td>['ENG LEE ANG', '', '', '']</td>\n",
       "      <td>['', '', '', '', '', '', 'ANG LEE ENG']</td>\n",
       "      <td>Mismatch ID Number_NRIC</td>\n",
       "      <td>FP</td>\n",
       "      <td>100.0</td>\n",
       "    </tr>\n",
       "    <tr>\n",
       "      <th>...</th>\n",
       "      <td>...</td>\n",
       "      <td>...</td>\n",
       "      <td>...</td>\n",
       "      <td>...</td>\n",
       "      <td>...</td>\n",
       "      <td>...</td>\n",
       "    </tr>\n",
       "    <tr>\n",
       "      <th>715256</th>\n",
       "      <td>['', '', '', '', '', '', '', '', '', '', '', '...</td>\n",
       "      <td>[' MUHD UMAR', '', '', '']</td>\n",
       "      <td>['', '', '', '', '', '', ' MUHD UMAIR']</td>\n",
       "      <td>Mismatch Full Legal Name – Name Does Not Sound...</td>\n",
       "      <td>FP</td>\n",
       "      <td>90.0</td>\n",
       "    </tr>\n",
       "    <tr>\n",
       "      <th>715257</th>\n",
       "      <td>['', '', '', '', '', '', '', '', '', '', '', '...</td>\n",
       "      <td>[' MUHD UMAR', '', '', '']</td>\n",
       "      <td>['', '', '', '', '', '', ' MUHD UMAIR']</td>\n",
       "      <td>Mismatch Father's Name - Difference in Father'...</td>\n",
       "      <td>FP</td>\n",
       "      <td>90.0</td>\n",
       "    </tr>\n",
       "    <tr>\n",
       "      <th>715258</th>\n",
       "      <td>['', '', '', '', '', '', '', '', '', '', '', '...</td>\n",
       "      <td>[' MUHD UMAIR', '', '', '']</td>\n",
       "      <td>['', '', '', '', '', '', ' MUHD UMAIR']</td>\n",
       "      <td>Mismatch Father's Name - Difference in Father'...</td>\n",
       "      <td>FP</td>\n",
       "      <td>100.0</td>\n",
       "    </tr>\n",
       "    <tr>\n",
       "      <th>715259</th>\n",
       "      <td>['', '', '', '', '', '', '', '', '', '', '', '...</td>\n",
       "      <td>['MAIKO SUZUKI', '', '', '']</td>\n",
       "      <td>['', '', '', '', '', '', 'MARIKO SUZUKI']</td>\n",
       "      <td>Mismatch Full Legal Name_Name Does Not Sound S...</td>\n",
       "      <td>FP</td>\n",
       "      <td>93.0</td>\n",
       "    </tr>\n",
       "    <tr>\n",
       "      <th>715260</th>\n",
       "      <td>['', '', '', '', '', '', '', '', '', '', '', '...</td>\n",
       "      <td>['LUA YUANYUAN', '', '', '']</td>\n",
       "      <td>['LIUAYUAN YUAN', '', '', '', '', '', 'YUANYUA...</td>\n",
       "      <td>Mismatch Full Legal Name_Native Name (Characte...</td>\n",
       "      <td>FP</td>\n",
       "      <td>92.0</td>\n",
       "    </tr>\n",
       "  </tbody>\n",
       "</table>\n",
       "<p>715261 rows × 6 columns</p>\n",
       "</div>"
      ],
      "text/plain": [
       "                                          ALL_ALIAS_NAMES                           ALL_PARTY_NAMES                                       ALL_WL_NAMES                                         V_COMMENTS V_RESOLUTION  N_MATCH_SCORE\n",
       "0       ['', '', '', '', '', '', '', '', '', '', '', '...  ['SAHARUDDIN BIN MD SALLEH', '', '', '']  ['', '', '', '', '', '', 'SHARUDDIN BIN MD SAL...                          Mismatch ID number_NRIC\\n           FP           95.0\n",
       "1       ['', '', '', '', '', '', '', '', '', '', '', '...             ['HO KIONG CHAN', '', '', '']          ['', '', '', '', '', '', 'HO KIONG CHAN']                                                NaN           TH          100.0\n",
       "2       ['', '', '', '', '', '', '', '', '', '', '', '...   [' AHMAD ASABI BIN ISMAIL', '', '', '']  ['', '', '', '', '', '', ' AHMAD ASABI BIN ISM...                                                NaN           TH          100.0\n",
       "3       ['', '', '', '', '', '', '', '', '', '', '', '...               ['ANG LEE ENG', '', '', '']            ['', '', '', '', '', '', 'ANG LEE ENG']                            Mismatch ID number_NRIC           FP          100.0\n",
       "4       ['', '', '', '', '', '', '', '', '', '', '', '...               ['ENG LEE ANG', '', '', '']            ['', '', '', '', '', '', 'ANG LEE ENG']                            Mismatch ID Number_NRIC           FP          100.0\n",
       "...                                                   ...                                       ...                                                ...                                                ...          ...            ...\n",
       "715256  ['', '', '', '', '', '', '', '', '', '', '', '...                [' MUHD UMAR', '', '', '']            ['', '', '', '', '', '', ' MUHD UMAIR']  Mismatch Full Legal Name – Name Does Not Sound...           FP           90.0\n",
       "715257  ['', '', '', '', '', '', '', '', '', '', '', '...                [' MUHD UMAR', '', '', '']            ['', '', '', '', '', '', ' MUHD UMAIR']  Mismatch Father's Name - Difference in Father'...           FP           90.0\n",
       "715258  ['', '', '', '', '', '', '', '', '', '', '', '...               [' MUHD UMAIR', '', '', '']            ['', '', '', '', '', '', ' MUHD UMAIR']  Mismatch Father's Name - Difference in Father'...           FP          100.0\n",
       "715259  ['', '', '', '', '', '', '', '', '', '', '', '...              ['MAIKO SUZUKI', '', '', '']          ['', '', '', '', '', '', 'MARIKO SUZUKI']  Mismatch Full Legal Name_Name Does Not Sound S...           FP           93.0\n",
       "715260  ['', '', '', '', '', '', '', '', '', '', '', '...              ['LUA YUANYUAN', '', '', '']  ['LIUAYUAN YUAN', '', '', '', '', '', 'YUANYUA...  Mismatch Full Legal Name_Native Name (Characte...           FP           92.0\n",
       "\n",
       "[715261 rows x 6 columns]"
      ]
     },
     "execution_count": 9,
     "metadata": {},
     "output_type": "execute_result"
    }
   ],
   "source": [
    "try :\n",
    "    df.drop(\"Unnamed: 0\",axis=1,inplace=True)\n",
    "except:\n",
    "    df\n",
    "df"
   ]
  },
  {
   "cell_type": "code",
   "execution_count": 10,
   "metadata": {},
   "outputs": [
    {
     "name": "stdout",
     "output_type": "stream",
     "text": [
      "[<class 'str'>]\n",
      "[<class 'str'>]\n",
      "[<class 'str'>]\n"
     ]
    }
   ],
   "source": [
    "print(df[\"ALL_ALIAS_NAMES\"].apply(lambda x : type(x)).unique())\n",
    "print(df[\"ALL_PARTY_NAMES\"].apply(lambda x: type(x)).unique())\n",
    "print(df[\"ALL_WL_NAMES\"].apply(lambda x: type(x)).unique())"
   ]
  },
  {
   "cell_type": "code",
   "execution_count": 11,
   "metadata": {},
   "outputs": [
    {
     "data": {
      "text/plain": [
       "0         ['', '', '', '', '', '', 'SHARUDDIN BIN MD SAL...\n",
       "1                 ['', '', '', '', '', '', 'HO KIONG CHAN']\n",
       "2         ['', '', '', '', '', '', ' AHMAD ASABI BIN ISM...\n",
       "3                   ['', '', '', '', '', '', 'ANG LEE ENG']\n",
       "4                   ['', '', '', '', '', '', 'ANG LEE ENG']\n",
       "                                ...                        \n",
       "715256              ['', '', '', '', '', '', ' MUHD UMAIR']\n",
       "715257              ['', '', '', '', '', '', ' MUHD UMAIR']\n",
       "715258              ['', '', '', '', '', '', ' MUHD UMAIR']\n",
       "715259            ['', '', '', '', '', '', 'MARIKO SUZUKI']\n",
       "715260    ['LIUAYUAN YUAN', '', '', '', '', '', 'YUANYUA...\n",
       "Name: ALL_WL_NAMES, Length: 715261, dtype: object"
      ]
     },
     "execution_count": 11,
     "metadata": {},
     "output_type": "execute_result"
    }
   ],
   "source": [
    "df[\"ALL_WL_NAMES\"]"
   ]
  },
  {
   "cell_type": "code",
   "execution_count": 12,
   "metadata": {},
   "outputs": [
    {
     "name": "stdout",
     "output_type": "stream",
     "text": [
      "ALL_ALIAS_NAMES\n",
      "ALL_PARTY_NAMES\n",
      "ALL_WL_NAMES\n"
     ]
    }
   ],
   "source": [
    "# need to remove brackets & split based on comma as whole input in complete one string.\n",
    "list_col=[\"ALL_ALIAS_NAMES\",\"ALL_PARTY_NAMES\",\"ALL_WL_NAMES\"]\n",
    "def str_gen(col_nam):\n",
    "    print(col_nam)\n",
    "    df[col_nam]=df[col_nam].apply(lambda x: x.lstrip(\"[\").rstrip(\"]\"))\n",
    "    df[col_nam]=df[col_nam].apply(lambda x : re.split(\",\",x))\n",
    "    df[col_nam]=df[col_nam].apply(lambda x: [i.strip(\"\\\"\").strip(' \\'') for i in x])\n",
    "\n",
    "for i in list_col:\n",
    "    str_gen(i)"
   ]
  },
  {
   "cell_type": "code",
   "execution_count": 13,
   "metadata": {},
   "outputs": [
    {
     "data": {
      "text/plain": [
       "0           [, , , , , , SHARUDDIN BIN MD SALLEH]\n",
       "1                     [, , , , , , HO KIONG CHAN]\n",
       "2            [, , , , , , AHMAD ASABI BIN ISMAIL]\n",
       "3                       [, , , , , , ANG LEE ENG]\n",
       "4                       [, , , , , , ANG LEE ENG]\n",
       "                           ...                   \n",
       "715256                   [, , , , , , MUHD UMAIR]\n",
       "715257                   [, , , , , , MUHD UMAIR]\n",
       "715258                   [, , , , , , MUHD UMAIR]\n",
       "715259                [, , , , , , MARIKO SUZUKI]\n",
       "715260    [LIUAYUAN YUAN, , , , , , YUANYUAN LIU]\n",
       "Name: ALL_WL_NAMES, Length: 715261, dtype: object"
      ]
     },
     "execution_count": 13,
     "metadata": {},
     "output_type": "execute_result"
    }
   ],
   "source": [
    "df[\"ALL_WL_NAMES\"]"
   ]
  },
  {
   "cell_type": "code",
   "execution_count": 14,
   "metadata": {},
   "outputs": [
    {
     "name": "stdout",
     "output_type": "stream",
     "text": [
      "[<class 'list'>]\n",
      "[<class 'list'>]\n",
      "[<class 'list'>]\n"
     ]
    }
   ],
   "source": [
    "print(df[\"ALL_ALIAS_NAMES\"].apply(lambda x: type(x)).unique())\n",
    "print(df[\"ALL_PARTY_NAMES\"].apply(lambda x: type(x)).unique())\n",
    "print(df[\"ALL_WL_NAMES\"].apply(lambda x: type(x)).unique())\n"
   ]
  },
  {
   "cell_type": "markdown",
   "metadata": {},
   "source": [
    "# Generation of training dataset"
   ]
  },
  {
   "cell_type": "markdown",
   "metadata": {},
   "source": [
    "### Filtering alerts with resolution TH , THNM and comments have match names."
   ]
  },
  {
   "cell_type": "code",
   "execution_count": 15,
   "metadata": {},
   "outputs": [
    {
     "data": {
      "text/plain": [
       "'\\nprint(df[df[\"V_COMMENTSs\"].str.contains(\"Match Full Legal Name|Match Name|Match_ Full Legal Name|Match name|Match_name|Matched Name|Matched nameMatch_Name|Match_Full Legal Name\")][[\"v_comments\",\"v_regd_party_name\",\"v_profile_name\",\"v_resolution\"]])\\n\\n\\n# case -2 comments with name match but have having name variations\\n\\nprint(\"alerts closed with TH resolution having name match as comments but having name variation\",      df[(df[\"V_COMMENTS\"].str.contains(\"Match Full Legal Name|Match Name|Match_ Full Legal Name|Match name|Match_name|Matched Name|Matched nameMatch_Name|Match_Full Legal Name\") )& (df[\"v_regd_party_name\"]!=df[\"v_profile_name\"])][[\"v_comments\",\"v_regd_party_name\",\"v_profile_name\"]].shape)\\n'"
      ]
     },
     "execution_count": 15,
     "metadata": {},
     "output_type": "execute_result"
    }
   ],
   "source": [
    "# case-1 comments with name match but may have or not name variations\n",
    "'''\n",
    "print(df[df[\"V_COMMENTSs\"].str.contains(\"Match Full Legal Name|Match Name|Match_ Full Legal Name|Match name|Match_name|Matched Name|Matched name\\\n",
    "Match_Name|Match_Full Legal Name\")][[\"v_comments\",\"v_regd_party_name\",\"v_profile_name\",\"v_resolution\"]])\n",
    "\n",
    "\n",
    "# case -2 comments with name match but have having name variations\n",
    "\n",
    "print(\"alerts closed with TH resolution having name match as comments but having name variation\", \\\n",
    "     df[(df[\"V_COMMENTS\"].str.contains(\"Match Full Legal Name|Match Name|Match_ Full Legal Name|Match name|Match_name|Matched Name|Matched name\\\n",
    "Match_Name|Match_Full Legal Name\") )& (df[\"v_regd_party_name\"]!=df[\"v_profile_name\"])][[\"v_comments\",\"v_regd_party_name\",\"v_profile_name\"]].shape)\n",
    "'''\n"
   ]
  },
  {
   "cell_type": "code",
   "execution_count": 16,
   "metadata": {},
   "outputs": [
    {
     "name": "stdout",
     "output_type": "stream",
     "text": [
      "(195034, 6)\n",
      "FP      127672\n",
      "TH       65655\n",
      "THNM      1707\n",
      "Name: V_RESOLUTION, dtype: int64\n",
      "(62599, 6)\n"
     ]
    }
   ],
   "source": [
    "df[\"V_COMMENTS\"]=df[\"V_COMMENTS\"].apply(lambda x: \"\" if pd.isna(x) else x)\n",
    "# We assume that all the alerts that are close because of names anchor should have name as text in comments .Now secondly, \n",
    "# we need to check that when commenst contain name as string , whether the context of comment is alogned with resolution TH , THNM, FP.\n",
    "# So we obtain value counts for TH, THNM & FP .Now check with existing observed comments like Match Full leagal name , to see what extent to we approach to these value counts.\n",
    "patt=re.compile(\"name\",re.IGNORECASE)\n",
    "print(df[df[\"V_COMMENTS\"].str.contains(patt,re.IGNORECASE)].shape)\n",
    "print(df[df[\"V_COMMENTS\"].str.contains(patt,re.IGNORECASE)][\"V_RESOLUTION\"].value_counts())\n",
    "\n",
    "\n",
    "patt_2=re.compile(\"Match Full Legal Name|Match Name|Match_ Full Legal Name|Match name|Match_name|Matched Name|Matched name\\\n",
    "Match_Name|Match_Full Legal Name|Match ID and Full Legal Name|Match ID or Full Legal Name|Match ID & Legal Name|Match ID and/or Full Legal Name|Match_ Name|Match Full Legal  Name\",re.IGNORECASE)\n",
    "\n",
    "df_TH_comm_val=pd.DataFrame({})\n",
    "df_TH_comm_val=df[(df[\"V_COMMENTS\"].str.contains(patt_2)) & (df[\"V_RESOLUTION\"].isin([\"TH\",\"THNM\"]))]\n",
    "\n",
    "print(df[(df[\"V_COMMENTS\"].str.contains(patt_2)) & (df[\"V_RESOLUTION\"].isin([\"TH\",\"THNM\"]))].shape)"
   ]
  },
  {
   "cell_type": "markdown",
   "metadata": {},
   "source": [
    "We see that out of 69,035 alerts with comments as name & resolution TH, THNM we are able to validate for 64061.Refer jupyter noreboook Comment_Analysis_For_Names to see the alerts where comments cannot be validated."
   ]
  },
  {
   "cell_type": "markdown",
   "metadata": {},
   "source": [
    "### Filtering the alerts with resolution as FP and comments as name miss-match\n"
   ]
  },
  {
   "cell_type": "code",
   "execution_count": 17,
   "metadata": {},
   "outputs": [
    {
     "data": {
      "text/plain": [
       "(127672, 6)"
      ]
     },
     "execution_count": 17,
     "metadata": {},
     "output_type": "execute_result"
    }
   ],
   "source": [
    "df[(df[\"V_COMMENTS\"].str.contains(patt)) & (df[\"V_RESOLUTION\"]==\"FP\")].shape"
   ]
  },
  {
   "cell_type": "code",
   "execution_count": 18,
   "metadata": {},
   "outputs": [
    {
     "name": "stdout",
     "output_type": "stream",
     "text": [
      "(113055,)\n"
     ]
    }
   ],
   "source": [
    "# We need to check whether the context in which name is coming in comments is aligned with resolution FP.So we have existing \n",
    "# comments based on which we validate that upto how much alerts with name in comments & FP can we achieve.\n",
    "patt_3=re.compile(\"Mismatch Full Legal Name|not sounds similar|not sound similar\",re.IGNORECASE)\n",
    "print(df[(df[\"V_COMMENTS\"].str.contains(patt_3)) & (df[\"V_RESOLUTION\"]==\"FP\")][\"V_COMMENTS\"].shape)\n",
    "# Refer Comment_Analysis_For_Names to see the alerts where commenst could not be validated i.e 14 thousand alerts approx.\n",
    "\n",
    "df_FP_comm_val=df[(df[\"V_COMMENTS\"].str.contains(patt_3)) & (df[\"V_RESOLUTION\"]==\"FP\")]"
   ]
  },
  {
   "cell_type": "code",
   "execution_count": 19,
   "metadata": {
    "scrolled": false
   },
   "outputs": [
    {
     "name": "stdout",
     "output_type": "stream",
     "text": [
      "175654\n"
     ]
    },
    {
     "data": {
      "text/html": [
       "\n",
       "            <button style=\"display:none\" \n",
       "            class=\"btn btn-default ipython-export-btn\" \n",
       "            id=\"btn-df-058aeb67-eedd-4057-bde7-9373a41d1d9b\" \n",
       "            onclick=\"_export_df('058aeb67-eedd-4057-bde7-9373a41d1d9b')\">\n",
       "                Export dataframe\n",
       "            </button>\n",
       "            \n",
       "            <script>\n",
       "                \n",
       "                function _check_export_df_possible(dfid,yes_fn,no_fn) {\n",
       "                    console.log('Checking dataframe exportability...')\n",
       "                    if(!IPython || !IPython.notebook || !IPython.notebook.kernel || !IPython.notebook.kernel) {\n",
       "                        console.log('Export is not possible (IPython kernel is not available)')\n",
       "                        if(no_fn) {\n",
       "                            no_fn();\n",
       "                        }\n",
       "                    } else {\n",
       "                        var pythonCode = 'from dataiku.notebook.export import IPythonExporter;IPythonExporter._check_export_stdout(\"'+dfid+'\")';\n",
       "                        IPython.notebook.kernel.execute(pythonCode,{iopub: {output: function(resp) {\n",
       "                            console.info(\"Exportability response\", resp);\n",
       "                            var size = /^([0-9]+)x([0-9]+)$/.exec(resp.content.data || resp.content.text)\n",
       "                            if(!size) {\n",
       "                                console.log('Export is not possible (dataframe is not in-memory anymore)')\n",
       "                                if(no_fn) {\n",
       "                                    no_fn();\n",
       "                                }\n",
       "                            } else {\n",
       "                                console.log('Export is possible')\n",
       "                                if(yes_fn) {\n",
       "                                    yes_fn(1*size[1],1*size[2]);\n",
       "                                }\n",
       "                            }\n",
       "                        }}});\n",
       "                    }\n",
       "                }\n",
       "            \n",
       "                function _export_df(dfid) {\n",
       "                    \n",
       "                    var btn = $('#btn-df-'+dfid);\n",
       "                    var btns = $('.ipython-export-btn');\n",
       "                    \n",
       "                    _check_export_df_possible(dfid,function() {\n",
       "                        \n",
       "                        window.parent.openExportModalFromIPython('Pandas dataframe',function(data) {\n",
       "                            btns.prop('disabled',true);\n",
       "                            btn.text('Exporting...');\n",
       "                            var command = 'from dataiku.notebook.export import IPythonExporter;IPythonExporter._run_export(\"'+dfid+'\",\"'+data.exportId+'\")';\n",
       "                            var callback = {iopub:{output: function(resp) {\n",
       "                                console.info(\"CB resp:\", resp);\n",
       "                                _check_export_df_possible(dfid,function(rows, cols) {\n",
       "                                    $('#btn-df-'+dfid)\n",
       "                                        .css('display','inline-block')\n",
       "                                        .text('Export this dataframe ('+rows+' rows, '+cols+' cols)')\n",
       "                                        .prop('disabled',false);\n",
       "                                },function() {\n",
       "                                    $('#btn-df-'+dfid).css('display','none');\n",
       "                                });\n",
       "                            }}};\n",
       "                            IPython.notebook.kernel.execute(command,callback,{silent:false}); // yes, silent now defaults to true. figures.\n",
       "                        });\n",
       "                    \n",
       "                    }, function(){\n",
       "                            alert('Unable to export : the Dataframe object is not loaded in memory');\n",
       "                            btn.css('display','none');\n",
       "                    });\n",
       "                    \n",
       "                }\n",
       "                \n",
       "                (function(dfid) {\n",
       "                \n",
       "                    var retryCount = 10;\n",
       "                \n",
       "                    function is_valid_websock(s) {\n",
       "                        return s && s.readyState==1;\n",
       "                    }\n",
       "                \n",
       "                    function check_conn() {\n",
       "                        \n",
       "                        if(typeof(IPython) === \"undefined\" || !IPython || !IPython.notebook) {\n",
       "                            // Don't even try to go further\n",
       "                            return;\n",
       "                        }\n",
       "                        \n",
       "                        // Check if IPython is ready\n",
       "                        console.info(\"Checking conn ...\")\n",
       "                        if(IPython.notebook.kernel\n",
       "                        && IPython.notebook.kernel\n",
       "                        && is_valid_websock(IPython.notebook.kernel.ws)\n",
       "                        ) {\n",
       "                            \n",
       "                            _check_export_df_possible(dfid,function(rows, cols) {\n",
       "                                $('#btn-df-'+dfid).css('display','inline-block');\n",
       "                                $('#btn-df-'+dfid).text('Export this dataframe ('+rows+' rows, '+cols+' cols)');\n",
       "                            });\n",
       "                            \n",
       "                        } else {\n",
       "                            console.info(\"Conditions are not ok\", IPython.notebook.kernel);\n",
       "                            \n",
       "                            // Retry later\n",
       "                            \n",
       "                            if(retryCount>0) {\n",
       "                                setTimeout(check_conn,500);\n",
       "                                retryCount--;\n",
       "                            }\n",
       "                            \n",
       "                        }\n",
       "                    };\n",
       "                    \n",
       "                    setTimeout(check_conn,100);\n",
       "                    \n",
       "                })(\"058aeb67-eedd-4057-bde7-9373a41d1d9b\");\n",
       "                \n",
       "            </script>\n",
       "            \n",
       "        <div>\n",
       "<style scoped>\n",
       "    .dataframe tbody tr th:only-of-type {\n",
       "        vertical-align: middle;\n",
       "    }\n",
       "\n",
       "    .dataframe tbody tr th {\n",
       "        vertical-align: top;\n",
       "    }\n",
       "\n",
       "    .dataframe thead th {\n",
       "        text-align: right;\n",
       "    }\n",
       "</style>\n",
       "<table border=\"1\" class=\"dataframe\">\n",
       "  <thead>\n",
       "    <tr style=\"text-align: right;\">\n",
       "      <th></th>\n",
       "      <th>ALL_ALIAS_NAMES</th>\n",
       "      <th>ALL_PARTY_NAMES</th>\n",
       "      <th>ALL_WL_NAMES</th>\n",
       "      <th>V_COMMENTS</th>\n",
       "      <th>V_RESOLUTION</th>\n",
       "      <th>N_MATCH_SCORE</th>\n",
       "    </tr>\n",
       "  </thead>\n",
       "  <tbody>\n",
       "    <tr>\n",
       "      <th>0</th>\n",
       "      <td>[, , , , , , , , , , , , , , , ]</td>\n",
       "      <td>[ZHANG QIAN, , , ]</td>\n",
       "      <td>[, , , , , , QIANG ZHANG]</td>\n",
       "      <td>Mismatch Full Legal Name – Name Does Not Sound...</td>\n",
       "      <td>FP</td>\n",
       "      <td>91.0</td>\n",
       "    </tr>\n",
       "    <tr>\n",
       "      <th>1</th>\n",
       "      <td>[, , , , , , , , , , , , , , , ]</td>\n",
       "      <td>[MUHD ANUAR BIN MOHD FAUZI, , , ]</td>\n",
       "      <td>[, , , , , , MUHD ANUAR BIN MOHD FAUZI]</td>\n",
       "      <td>Match Name, Gender, ID number_NRIC, Date of Bi...</td>\n",
       "      <td>TH</td>\n",
       "      <td>100.0</td>\n",
       "    </tr>\n",
       "    <tr>\n",
       "      <th>2</th>\n",
       "      <td>[, , , , , , , , , , , , , , , ]</td>\n",
       "      <td>[TIN ZAW NAING, , , ]</td>\n",
       "      <td>[ZAW NAING, , , , , , ZAW NAING WIN]</td>\n",
       "      <td>Mismatch Full Legal Name_Name Does Not Sound S...</td>\n",
       "      <td>FP</td>\n",
       "      <td>93.0</td>\n",
       "    </tr>\n",
       "    <tr>\n",
       "      <th>3</th>\n",
       "      <td>[, , , , , , , , , , , , , , , ]</td>\n",
       "      <td>[MUHD AZEEM, , , ]</td>\n",
       "      <td>[, , , , , , MUHD AZEEM]</td>\n",
       "      <td>Match Name and ID</td>\n",
       "      <td>TH</td>\n",
       "      <td>100.0</td>\n",
       "    </tr>\n",
       "    <tr>\n",
       "      <th>4</th>\n",
       "      <td>[, , , , , , , , , , , , , , , ]</td>\n",
       "      <td>[WANG BIN, , , ]</td>\n",
       "      <td>[WANGAWEI QIN, , , , , , WANG]</td>\n",
       "      <td>Mismatch Full Legal Name – Name Does Not Sound...</td>\n",
       "      <td>FP</td>\n",
       "      <td>100.0</td>\n",
       "    </tr>\n",
       "  </tbody>\n",
       "</table>\n",
       "</div>"
      ],
      "text/plain": [
       "                    ALL_ALIAS_NAMES                    ALL_PARTY_NAMES                             ALL_WL_NAMES                                         V_COMMENTS V_RESOLUTION  N_MATCH_SCORE\n",
       "0  [, , , , , , , , , , , , , , , ]                 [ZHANG QIAN, , , ]                [, , , , , , QIANG ZHANG]  Mismatch Full Legal Name – Name Does Not Sound...           FP           91.0\n",
       "1  [, , , , , , , , , , , , , , , ]  [MUHD ANUAR BIN MOHD FAUZI, , , ]  [, , , , , , MUHD ANUAR BIN MOHD FAUZI]  Match Name, Gender, ID number_NRIC, Date of Bi...           TH          100.0\n",
       "2  [, , , , , , , , , , , , , , , ]              [TIN ZAW NAING, , , ]     [ZAW NAING, , , , , , ZAW NAING WIN]  Mismatch Full Legal Name_Name Does Not Sound S...           FP           93.0\n",
       "3  [, , , , , , , , , , , , , , , ]                 [MUHD AZEEM, , , ]                 [, , , , , , MUHD AZEEM]                                  Match Name and ID           TH          100.0\n",
       "4  [, , , , , , , , , , , , , , , ]                   [WANG BIN, , , ]           [WANGAWEI QIN, , , , , , WANG]  Mismatch Full Legal Name – Name Does Not Sound...           FP          100.0"
      ]
     },
     "execution_count": 19,
     "metadata": {},
     "output_type": "execute_result"
    }
   ],
   "source": [
    "print(df_TH_comm_val.shape[0]+df_FP_comm_val.shape[0])\n",
    "df_comm_val=pd.concat([df_TH_comm_val,df_FP_comm_val],axis=0,join=\"outer\")\n",
    "df_comm_val = df_comm_val.sample(frac=1, random_state=42).reset_index(drop=True)\n",
    "df_comm_val.head()"
   ]
  },
  {
   "cell_type": "markdown",
   "metadata": {},
   "source": [
    "# Pre-processing"
   ]
  },
  {
   "cell_type": "markdown",
   "metadata": {},
   "source": [
    "    Tokenizing \n",
    "    Text to Sequence\n",
    "    Siamese Architechture\n",
    "    Training & Call backs\n",
    "    Graphical Analysis\n",
    "    Random Search & Bayesian Optimization\n",
    "    Best model\n",
    "    Model prediction\n"
   ]
  },
  {
   "cell_type": "markdown",
   "metadata": {},
   "source": [
    "### Tokenization"
   ]
  },
  {
   "cell_type": "code",
   "execution_count": 20,
   "metadata": {},
   "outputs": [],
   "source": [
    "df_comm_val[\"WL_NAMES\"]=df_comm_val[\"ALL_WL_NAMES\"].apply(lambda x: x[6])\n",
    "df_comm_val[\"PARTY_NAMES\"]=df_comm_val[\"ALL_PARTY_NAMES\"].apply(lambda x: x[0])"
   ]
  },
  {
   "cell_type": "code",
   "execution_count": 21,
   "metadata": {},
   "outputs": [
    {
     "name": "stdout",
     "output_type": "stream",
     "text": [
      "(8574, 2)\n"
     ]
    }
   ],
   "source": [
    "# Need to drop the alerts where any of the name is empty string.\n",
    "print(df_comm_val[ (df_comm_val[\"PARTY_NAMES\"].isin([\"\"])) | (df_comm_val[\"WL_NAMES\"].isin([\"\"]))][[\"PARTY_NAMES\",\"WL_NAMES\"]].shape)\n",
    "df_comm_val.drop(df_comm_val[ (df_comm_val[\"PARTY_NAMES\"].isin([\"\"])) | (df_comm_val[\"WL_NAMES\"].isin([\"\"]))].index,axis=0,inplace=True)"
   ]
  },
  {
   "cell_type": "code",
   "execution_count": 22,
   "metadata": {},
   "outputs": [
    {
     "data": {
      "text/html": [
       "\n",
       "            <button style=\"display:none\" \n",
       "            class=\"btn btn-default ipython-export-btn\" \n",
       "            id=\"btn-df-ac008869-dbf3-40a3-b1ed-7daf3c41ed91\" \n",
       "            onclick=\"_export_df('ac008869-dbf3-40a3-b1ed-7daf3c41ed91')\">\n",
       "                Export dataframe\n",
       "            </button>\n",
       "            \n",
       "            <script>\n",
       "                \n",
       "                function _check_export_df_possible(dfid,yes_fn,no_fn) {\n",
       "                    console.log('Checking dataframe exportability...')\n",
       "                    if(!IPython || !IPython.notebook || !IPython.notebook.kernel || !IPython.notebook.kernel) {\n",
       "                        console.log('Export is not possible (IPython kernel is not available)')\n",
       "                        if(no_fn) {\n",
       "                            no_fn();\n",
       "                        }\n",
       "                    } else {\n",
       "                        var pythonCode = 'from dataiku.notebook.export import IPythonExporter;IPythonExporter._check_export_stdout(\"'+dfid+'\")';\n",
       "                        IPython.notebook.kernel.execute(pythonCode,{iopub: {output: function(resp) {\n",
       "                            console.info(\"Exportability response\", resp);\n",
       "                            var size = /^([0-9]+)x([0-9]+)$/.exec(resp.content.data || resp.content.text)\n",
       "                            if(!size) {\n",
       "                                console.log('Export is not possible (dataframe is not in-memory anymore)')\n",
       "                                if(no_fn) {\n",
       "                                    no_fn();\n",
       "                                }\n",
       "                            } else {\n",
       "                                console.log('Export is possible')\n",
       "                                if(yes_fn) {\n",
       "                                    yes_fn(1*size[1],1*size[2]);\n",
       "                                }\n",
       "                            }\n",
       "                        }}});\n",
       "                    }\n",
       "                }\n",
       "            \n",
       "                function _export_df(dfid) {\n",
       "                    \n",
       "                    var btn = $('#btn-df-'+dfid);\n",
       "                    var btns = $('.ipython-export-btn');\n",
       "                    \n",
       "                    _check_export_df_possible(dfid,function() {\n",
       "                        \n",
       "                        window.parent.openExportModalFromIPython('Pandas dataframe',function(data) {\n",
       "                            btns.prop('disabled',true);\n",
       "                            btn.text('Exporting...');\n",
       "                            var command = 'from dataiku.notebook.export import IPythonExporter;IPythonExporter._run_export(\"'+dfid+'\",\"'+data.exportId+'\")';\n",
       "                            var callback = {iopub:{output: function(resp) {\n",
       "                                console.info(\"CB resp:\", resp);\n",
       "                                _check_export_df_possible(dfid,function(rows, cols) {\n",
       "                                    $('#btn-df-'+dfid)\n",
       "                                        .css('display','inline-block')\n",
       "                                        .text('Export this dataframe ('+rows+' rows, '+cols+' cols)')\n",
       "                                        .prop('disabled',false);\n",
       "                                },function() {\n",
       "                                    $('#btn-df-'+dfid).css('display','none');\n",
       "                                });\n",
       "                            }}};\n",
       "                            IPython.notebook.kernel.execute(command,callback,{silent:false}); // yes, silent now defaults to true. figures.\n",
       "                        });\n",
       "                    \n",
       "                    }, function(){\n",
       "                            alert('Unable to export : the Dataframe object is not loaded in memory');\n",
       "                            btn.css('display','none');\n",
       "                    });\n",
       "                    \n",
       "                }\n",
       "                \n",
       "                (function(dfid) {\n",
       "                \n",
       "                    var retryCount = 10;\n",
       "                \n",
       "                    function is_valid_websock(s) {\n",
       "                        return s && s.readyState==1;\n",
       "                    }\n",
       "                \n",
       "                    function check_conn() {\n",
       "                        \n",
       "                        if(typeof(IPython) === \"undefined\" || !IPython || !IPython.notebook) {\n",
       "                            // Don't even try to go further\n",
       "                            return;\n",
       "                        }\n",
       "                        \n",
       "                        // Check if IPython is ready\n",
       "                        console.info(\"Checking conn ...\")\n",
       "                        if(IPython.notebook.kernel\n",
       "                        && IPython.notebook.kernel\n",
       "                        && is_valid_websock(IPython.notebook.kernel.ws)\n",
       "                        ) {\n",
       "                            \n",
       "                            _check_export_df_possible(dfid,function(rows, cols) {\n",
       "                                $('#btn-df-'+dfid).css('display','inline-block');\n",
       "                                $('#btn-df-'+dfid).text('Export this dataframe ('+rows+' rows, '+cols+' cols)');\n",
       "                            });\n",
       "                            \n",
       "                        } else {\n",
       "                            console.info(\"Conditions are not ok\", IPython.notebook.kernel);\n",
       "                            \n",
       "                            // Retry later\n",
       "                            \n",
       "                            if(retryCount>0) {\n",
       "                                setTimeout(check_conn,500);\n",
       "                                retryCount--;\n",
       "                            }\n",
       "                            \n",
       "                        }\n",
       "                    };\n",
       "                    \n",
       "                    setTimeout(check_conn,100);\n",
       "                    \n",
       "                })(\"ac008869-dbf3-40a3-b1ed-7daf3c41ed91\");\n",
       "                \n",
       "            </script>\n",
       "            \n",
       "        <div>\n",
       "<style scoped>\n",
       "    .dataframe tbody tr th:only-of-type {\n",
       "        vertical-align: middle;\n",
       "    }\n",
       "\n",
       "    .dataframe tbody tr th {\n",
       "        vertical-align: top;\n",
       "    }\n",
       "\n",
       "    .dataframe thead th {\n",
       "        text-align: right;\n",
       "    }\n",
       "</style>\n",
       "<table border=\"1\" class=\"dataframe\">\n",
       "  <thead>\n",
       "    <tr style=\"text-align: right;\">\n",
       "      <th></th>\n",
       "      <th>PARTY_NAMES</th>\n",
       "      <th>WL_NAMES</th>\n",
       "    </tr>\n",
       "  </thead>\n",
       "  <tbody>\n",
       "  </tbody>\n",
       "</table>\n",
       "</div>"
      ],
      "text/plain": [
       "Empty DataFrame\n",
       "Columns: [PARTY_NAMES, WL_NAMES]\n",
       "Index: []"
      ]
     },
     "execution_count": 22,
     "metadata": {},
     "output_type": "execute_result"
    }
   ],
   "source": [
    "# none of them training data has customer or watchlist data empty\n",
    "df_comm_val[ (df_comm_val[\"PARTY_NAMES\"].isin([\"\"])) | (df_comm_val[\"WL_NAMES\"].isin([\"\"]))][[\"PARTY_NAMES\",\"WL_NAMES\"]]"
   ]
  },
  {
   "cell_type": "code",
   "execution_count": 23,
   "metadata": {},
   "outputs": [
    {
     "data": {
      "text/html": [
       "\n",
       "            <button style=\"display:none\" \n",
       "            class=\"btn btn-default ipython-export-btn\" \n",
       "            id=\"btn-df-9b8500e6-5bc8-45a6-b7ef-4ab1b3a58f62\" \n",
       "            onclick=\"_export_df('9b8500e6-5bc8-45a6-b7ef-4ab1b3a58f62')\">\n",
       "                Export dataframe\n",
       "            </button>\n",
       "            \n",
       "            <script>\n",
       "                \n",
       "                function _check_export_df_possible(dfid,yes_fn,no_fn) {\n",
       "                    console.log('Checking dataframe exportability...')\n",
       "                    if(!IPython || !IPython.notebook || !IPython.notebook.kernel || !IPython.notebook.kernel) {\n",
       "                        console.log('Export is not possible (IPython kernel is not available)')\n",
       "                        if(no_fn) {\n",
       "                            no_fn();\n",
       "                        }\n",
       "                    } else {\n",
       "                        var pythonCode = 'from dataiku.notebook.export import IPythonExporter;IPythonExporter._check_export_stdout(\"'+dfid+'\")';\n",
       "                        IPython.notebook.kernel.execute(pythonCode,{iopub: {output: function(resp) {\n",
       "                            console.info(\"Exportability response\", resp);\n",
       "                            var size = /^([0-9]+)x([0-9]+)$/.exec(resp.content.data || resp.content.text)\n",
       "                            if(!size) {\n",
       "                                console.log('Export is not possible (dataframe is not in-memory anymore)')\n",
       "                                if(no_fn) {\n",
       "                                    no_fn();\n",
       "                                }\n",
       "                            } else {\n",
       "                                console.log('Export is possible')\n",
       "                                if(yes_fn) {\n",
       "                                    yes_fn(1*size[1],1*size[2]);\n",
       "                                }\n",
       "                            }\n",
       "                        }}});\n",
       "                    }\n",
       "                }\n",
       "            \n",
       "                function _export_df(dfid) {\n",
       "                    \n",
       "                    var btn = $('#btn-df-'+dfid);\n",
       "                    var btns = $('.ipython-export-btn');\n",
       "                    \n",
       "                    _check_export_df_possible(dfid,function() {\n",
       "                        \n",
       "                        window.parent.openExportModalFromIPython('Pandas dataframe',function(data) {\n",
       "                            btns.prop('disabled',true);\n",
       "                            btn.text('Exporting...');\n",
       "                            var command = 'from dataiku.notebook.export import IPythonExporter;IPythonExporter._run_export(\"'+dfid+'\",\"'+data.exportId+'\")';\n",
       "                            var callback = {iopub:{output: function(resp) {\n",
       "                                console.info(\"CB resp:\", resp);\n",
       "                                _check_export_df_possible(dfid,function(rows, cols) {\n",
       "                                    $('#btn-df-'+dfid)\n",
       "                                        .css('display','inline-block')\n",
       "                                        .text('Export this dataframe ('+rows+' rows, '+cols+' cols)')\n",
       "                                        .prop('disabled',false);\n",
       "                                },function() {\n",
       "                                    $('#btn-df-'+dfid).css('display','none');\n",
       "                                });\n",
       "                            }}};\n",
       "                            IPython.notebook.kernel.execute(command,callback,{silent:false}); // yes, silent now defaults to true. figures.\n",
       "                        });\n",
       "                    \n",
       "                    }, function(){\n",
       "                            alert('Unable to export : the Dataframe object is not loaded in memory');\n",
       "                            btn.css('display','none');\n",
       "                    });\n",
       "                    \n",
       "                }\n",
       "                \n",
       "                (function(dfid) {\n",
       "                \n",
       "                    var retryCount = 10;\n",
       "                \n",
       "                    function is_valid_websock(s) {\n",
       "                        return s && s.readyState==1;\n",
       "                    }\n",
       "                \n",
       "                    function check_conn() {\n",
       "                        \n",
       "                        if(typeof(IPython) === \"undefined\" || !IPython || !IPython.notebook) {\n",
       "                            // Don't even try to go further\n",
       "                            return;\n",
       "                        }\n",
       "                        \n",
       "                        // Check if IPython is ready\n",
       "                        console.info(\"Checking conn ...\")\n",
       "                        if(IPython.notebook.kernel\n",
       "                        && IPython.notebook.kernel\n",
       "                        && is_valid_websock(IPython.notebook.kernel.ws)\n",
       "                        ) {\n",
       "                            \n",
       "                            _check_export_df_possible(dfid,function(rows, cols) {\n",
       "                                $('#btn-df-'+dfid).css('display','inline-block');\n",
       "                                $('#btn-df-'+dfid).text('Export this dataframe ('+rows+' rows, '+cols+' cols)');\n",
       "                            });\n",
       "                            \n",
       "                        } else {\n",
       "                            console.info(\"Conditions are not ok\", IPython.notebook.kernel);\n",
       "                            \n",
       "                            // Retry later\n",
       "                            \n",
       "                            if(retryCount>0) {\n",
       "                                setTimeout(check_conn,500);\n",
       "                                retryCount--;\n",
       "                            }\n",
       "                            \n",
       "                        }\n",
       "                    };\n",
       "                    \n",
       "                    setTimeout(check_conn,100);\n",
       "                    \n",
       "                })(\"9b8500e6-5bc8-45a6-b7ef-4ab1b3a58f62\");\n",
       "                \n",
       "            </script>\n",
       "            \n",
       "        <div>\n",
       "<style scoped>\n",
       "    .dataframe tbody tr th:only-of-type {\n",
       "        vertical-align: middle;\n",
       "    }\n",
       "\n",
       "    .dataframe tbody tr th {\n",
       "        vertical-align: top;\n",
       "    }\n",
       "\n",
       "    .dataframe thead th {\n",
       "        text-align: right;\n",
       "    }\n",
       "</style>\n",
       "<table border=\"1\" class=\"dataframe\">\n",
       "  <thead>\n",
       "    <tr style=\"text-align: right;\">\n",
       "      <th></th>\n",
       "      <th>ALL_ALIAS_NAMES</th>\n",
       "      <th>ALL_PARTY_NAMES</th>\n",
       "      <th>ALL_WL_NAMES</th>\n",
       "      <th>V_COMMENTS</th>\n",
       "      <th>V_RESOLUTION</th>\n",
       "      <th>N_MATCH_SCORE</th>\n",
       "      <th>WL_NAMES</th>\n",
       "      <th>PARTY_NAMES</th>\n",
       "    </tr>\n",
       "  </thead>\n",
       "  <tbody>\n",
       "    <tr>\n",
       "      <th>0</th>\n",
       "      <td>[, , , , , , , , , , , , , , , ]</td>\n",
       "      <td>[ZHANG QIAN, , , ]</td>\n",
       "      <td>[, , , , , , QIANG ZHANG]</td>\n",
       "      <td>Mismatch Full Legal Name – Name Does Not Sound...</td>\n",
       "      <td>FP</td>\n",
       "      <td>91.0</td>\n",
       "      <td>QIANG ZHANG</td>\n",
       "      <td>ZHANG QIAN</td>\n",
       "    </tr>\n",
       "    <tr>\n",
       "      <th>1</th>\n",
       "      <td>[, , , , , , , , , , , , , , , ]</td>\n",
       "      <td>[MUHD ANUAR BIN MOHD FAUZI, , , ]</td>\n",
       "      <td>[, , , , , , MUHD ANUAR BIN MOHD FAUZI]</td>\n",
       "      <td>Match Name, Gender, ID number_NRIC, Date of Bi...</td>\n",
       "      <td>TH</td>\n",
       "      <td>100.0</td>\n",
       "      <td>MUHD ANUAR BIN MOHD FAUZI</td>\n",
       "      <td>MUHD ANUAR BIN MOHD FAUZI</td>\n",
       "    </tr>\n",
       "    <tr>\n",
       "      <th>2</th>\n",
       "      <td>[, , , , , , , , , , , , , , , ]</td>\n",
       "      <td>[TIN ZAW NAING, , , ]</td>\n",
       "      <td>[ZAW NAING, , , , , , ZAW NAING WIN]</td>\n",
       "      <td>Mismatch Full Legal Name_Name Does Not Sound S...</td>\n",
       "      <td>FP</td>\n",
       "      <td>93.0</td>\n",
       "      <td>ZAW NAING WIN</td>\n",
       "      <td>TIN ZAW NAING</td>\n",
       "    </tr>\n",
       "    <tr>\n",
       "      <th>3</th>\n",
       "      <td>[, , , , , , , , , , , , , , , ]</td>\n",
       "      <td>[MUHD AZEEM, , , ]</td>\n",
       "      <td>[, , , , , , MUHD AZEEM]</td>\n",
       "      <td>Match Name and ID</td>\n",
       "      <td>TH</td>\n",
       "      <td>100.0</td>\n",
       "      <td>MUHD AZEEM</td>\n",
       "      <td>MUHD AZEEM</td>\n",
       "    </tr>\n",
       "    <tr>\n",
       "      <th>4</th>\n",
       "      <td>[, , , , , , , , , , , , , , , ]</td>\n",
       "      <td>[WANG BIN, , , ]</td>\n",
       "      <td>[WANGAWEI QIN, , , , , , WANG]</td>\n",
       "      <td>Mismatch Full Legal Name – Name Does Not Sound...</td>\n",
       "      <td>FP</td>\n",
       "      <td>100.0</td>\n",
       "      <td>WANG</td>\n",
       "      <td>WANG BIN</td>\n",
       "    </tr>\n",
       "    <tr>\n",
       "      <th>...</th>\n",
       "      <td>...</td>\n",
       "      <td>...</td>\n",
       "      <td>...</td>\n",
       "      <td>...</td>\n",
       "      <td>...</td>\n",
       "      <td>...</td>\n",
       "      <td>...</td>\n",
       "      <td>...</td>\n",
       "    </tr>\n",
       "    <tr>\n",
       "      <th>175649</th>\n",
       "      <td>[, , , , , , , , , , , , , , , ]</td>\n",
       "      <td>[MUNIAN GOVINDASAMY, , , ]</td>\n",
       "      <td>[GOVINDASAMYAMUNIANDY AL, , , , , , MUNIANDY G...</td>\n",
       "      <td>Mismatch Full Legal Name_Name Does Not Sound S...</td>\n",
       "      <td>FP</td>\n",
       "      <td>90.0</td>\n",
       "      <td>MUNIANDY GOVINDASAMY</td>\n",
       "      <td>MUNIAN GOVINDASAMY</td>\n",
       "    </tr>\n",
       "    <tr>\n",
       "      <th>175650</th>\n",
       "      <td>[, , , , , , , , , , , , , , , ]</td>\n",
       "      <td>[CHOO SIEW LAN, , , ]</td>\n",
       "      <td>[, , , , , , CHOO SIEW LAI]</td>\n",
       "      <td>Mismatch Full Legal Name – Name Does Not Sound...</td>\n",
       "      <td>FP</td>\n",
       "      <td>93.0</td>\n",
       "      <td>CHOO SIEW LAI</td>\n",
       "      <td>CHOO SIEW LAN</td>\n",
       "    </tr>\n",
       "    <tr>\n",
       "      <th>175651</th>\n",
       "      <td>[, , , , , , , , , , , , , , , ]</td>\n",
       "      <td>[MAJIDAH  ABDUL RAHMAN, , , ]</td>\n",
       "      <td>[, , , , , , RASIDAH AWANG  ABDUL RAHMAN]</td>\n",
       "      <td>Mismatch Full Legal Name_ Name does not sounds...</td>\n",
       "      <td>FP</td>\n",
       "      <td>90.0</td>\n",
       "      <td>RASIDAH AWANG  ABDUL RAHMAN</td>\n",
       "      <td>MAJIDAH  ABDUL RAHMAN</td>\n",
       "    </tr>\n",
       "    <tr>\n",
       "      <th>175652</th>\n",
       "      <td>[, , , , , , , , , , , , , , , ]</td>\n",
       "      <td>[CHEN YINZHI, , , ]</td>\n",
       "      <td>[CHENAJIN ZHI, , , , , , JINZHI CHEN]</td>\n",
       "      <td>Mismatch Full Legal Name_Native Name (Chinese ...</td>\n",
       "      <td>FP</td>\n",
       "      <td>91.0</td>\n",
       "      <td>JINZHI CHEN</td>\n",
       "      <td>CHEN YINZHI</td>\n",
       "    </tr>\n",
       "    <tr>\n",
       "      <th>175653</th>\n",
       "      <td>[, , , , , , , , , , , , , , , ]</td>\n",
       "      <td>[SUHANA  ABDUL RAHMAN, , , ]</td>\n",
       "      <td>[, , , , , , ROHANA  ABDUL RAHMAN]</td>\n",
       "      <td>Mismatch Full Legal Name_Name does not sound s...</td>\n",
       "      <td>FP</td>\n",
       "      <td>90.0</td>\n",
       "      <td>ROHANA  ABDUL RAHMAN</td>\n",
       "      <td>SUHANA  ABDUL RAHMAN</td>\n",
       "    </tr>\n",
       "  </tbody>\n",
       "</table>\n",
       "<p>167080 rows × 8 columns</p>\n",
       "</div>"
      ],
      "text/plain": [
       "                         ALL_ALIAS_NAMES                    ALL_PARTY_NAMES                                       ALL_WL_NAMES                                         V_COMMENTS V_RESOLUTION  N_MATCH_SCORE                     WL_NAMES                PARTY_NAMES\n",
       "0       [, , , , , , , , , , , , , , , ]                 [ZHANG QIAN, , , ]                          [, , , , , , QIANG ZHANG]  Mismatch Full Legal Name – Name Does Not Sound...           FP           91.0                  QIANG ZHANG                 ZHANG QIAN\n",
       "1       [, , , , , , , , , , , , , , , ]  [MUHD ANUAR BIN MOHD FAUZI, , , ]            [, , , , , , MUHD ANUAR BIN MOHD FAUZI]  Match Name, Gender, ID number_NRIC, Date of Bi...           TH          100.0    MUHD ANUAR BIN MOHD FAUZI  MUHD ANUAR BIN MOHD FAUZI\n",
       "2       [, , , , , , , , , , , , , , , ]              [TIN ZAW NAING, , , ]               [ZAW NAING, , , , , , ZAW NAING WIN]  Mismatch Full Legal Name_Name Does Not Sound S...           FP           93.0                ZAW NAING WIN              TIN ZAW NAING\n",
       "3       [, , , , , , , , , , , , , , , ]                 [MUHD AZEEM, , , ]                           [, , , , , , MUHD AZEEM]                                  Match Name and ID           TH          100.0                   MUHD AZEEM                 MUHD AZEEM\n",
       "4       [, , , , , , , , , , , , , , , ]                   [WANG BIN, , , ]                     [WANGAWEI QIN, , , , , , WANG]  Mismatch Full Legal Name – Name Does Not Sound...           FP          100.0                         WANG                   WANG BIN\n",
       "...                                  ...                                ...                                                ...                                                ...          ...            ...                          ...                        ...\n",
       "175649  [, , , , , , , , , , , , , , , ]         [MUNIAN GOVINDASAMY, , , ]  [GOVINDASAMYAMUNIANDY AL, , , , , , MUNIANDY G...  Mismatch Full Legal Name_Name Does Not Sound S...           FP           90.0         MUNIANDY GOVINDASAMY         MUNIAN GOVINDASAMY\n",
       "175650  [, , , , , , , , , , , , , , , ]              [CHOO SIEW LAN, , , ]                        [, , , , , , CHOO SIEW LAI]  Mismatch Full Legal Name – Name Does Not Sound...           FP           93.0                CHOO SIEW LAI              CHOO SIEW LAN\n",
       "175651  [, , , , , , , , , , , , , , , ]      [MAJIDAH  ABDUL RAHMAN, , , ]          [, , , , , , RASIDAH AWANG  ABDUL RAHMAN]  Mismatch Full Legal Name_ Name does not sounds...           FP           90.0  RASIDAH AWANG  ABDUL RAHMAN      MAJIDAH  ABDUL RAHMAN\n",
       "175652  [, , , , , , , , , , , , , , , ]                [CHEN YINZHI, , , ]              [CHENAJIN ZHI, , , , , , JINZHI CHEN]  Mismatch Full Legal Name_Native Name (Chinese ...           FP           91.0                  JINZHI CHEN                CHEN YINZHI\n",
       "175653  [, , , , , , , , , , , , , , , ]       [SUHANA  ABDUL RAHMAN, , , ]                 [, , , , , , ROHANA  ABDUL RAHMAN]  Mismatch Full Legal Name_Name does not sound s...           FP           90.0         ROHANA  ABDUL RAHMAN       SUHANA  ABDUL RAHMAN\n",
       "\n",
       "[167080 rows x 8 columns]"
      ]
     },
     "execution_count": 23,
     "metadata": {},
     "output_type": "execute_result"
    }
   ],
   "source": [
    "df_comm_val"
   ]
  },
  {
   "cell_type": "code",
   "execution_count": 0,
   "metadata": {},
   "outputs": [],
   "source": []
  },
  {
   "cell_type": "code",
   "execution_count": 24,
   "metadata": {},
   "outputs": [],
   "source": [
    "import unicodedata"
   ]
  },
  {
   "cell_type": "code",
   "execution_count": 0,
   "metadata": {},
   "outputs": [],
   "source": []
  },
  {
   "cell_type": "code",
   "execution_count": 25,
   "metadata": {},
   "outputs": [
    {
     "name": "stdout",
     "output_type": "stream",
     "text": [
      "Empty DataFrame\n",
      "Columns: [ALL_ALIAS_NAMES, ALL_PARTY_NAMES, ALL_WL_NAMES, V_COMMENTS, V_RESOLUTION, N_MATCH_SCORE, WL_NAMES, PARTY_NAMES]\n",
      "Index: []\n",
      "Empty DataFrame\n",
      "Columns: [ALL_ALIAS_NAMES, ALL_PARTY_NAMES, ALL_WL_NAMES, V_COMMENTS, V_RESOLUTION, N_MATCH_SCORE, WL_NAMES, PARTY_NAMES]\n",
      "Index: []\n"
     ]
    }
   ],
   "source": [
    "# check for  of unicode \\xa0 in WL names and customer names\n",
    "\n",
    "print(df_comm_val[df_comm_val[\"WL_NAMES\"].str.contains(\"\\\\xa0\")])\n",
    "print(df_comm_val[df_comm_val[\"PARTY_NAMES\"].str.contains(\"\\\\xa0\")])\n"
   ]
  },
  {
   "cell_type": "code",
   "execution_count": 26,
   "metadata": {},
   "outputs": [
    {
     "data": {
      "text/plain": [
       "(167080, 8)"
      ]
     },
     "execution_count": 26,
     "metadata": {},
     "output_type": "execute_result"
    }
   ],
   "source": [
    "df_comm_val.shape"
   ]
  },
  {
   "cell_type": "code",
   "execution_count": 27,
   "metadata": {},
   "outputs": [],
   "source": [
    "# check for duplicated data\n",
    "df_comm_val[df_comm_val.duplicated(subset=[\"WL_NAMES\",\"PARTY_NAMES\",\"V_RESOLUTION\"])].shape\n",
    "# dropping duplicates\n",
    "df_comm_val.drop_duplicates(subset=[\"WL_NAMES\",\"PARTY_NAMES\",\"V_RESOLUTION\"], inplace=True)"
   ]
  },
  {
   "cell_type": "code",
   "execution_count": 28,
   "metadata": {},
   "outputs": [
    {
     "data": {
      "text/plain": [
       "(87287, 8)"
      ]
     },
     "execution_count": 28,
     "metadata": {},
     "output_type": "execute_result"
    }
   ],
   "source": [
    "df_comm_val.shape"
   ]
  },
  {
   "cell_type": "code",
   "execution_count": 29,
   "metadata": {},
   "outputs": [],
   "source": [
    "file_path=os.path.join(folder_path,\"Processed_names_for_training.csv\")\n",
    "df_comm_val[[\"PARTY_NAMES\",\"WL_NAMES\",\"V_RESOLUTION\",\"V_COMMENTS\",\"N_MATCH_SCORE\"]].to_csv(file_path)"
   ]
  },
  {
   "cell_type": "code",
   "execution_count": 30,
   "metadata": {},
   "outputs": [
    {
     "name": "stdout",
     "output_type": "stream",
     "text": [
      "84\n"
     ]
    }
   ],
   "source": [
    "# Tokenizer - it means generating index for each token ( can be word or character) . So we need unique set of tokens\n",
    "\n",
    "\n",
    "cust_and_wl_names = list(set(df_comm_val['PARTY_NAMES'].tolist()+\\\n",
    "                               df_comm_val['WL_NAMES'].tolist())) # list of list of unique set of names present in customer & watchlist data\n",
    "\n",
    "\n",
    "tk = Tokenizer(num_words=None, char_level=True, oov_token='UNK') # creating object of class tokenizer\n",
    "tk.fit_on_texts(cust_and_wl_names)                              \n",
    "\n",
    "tk.word_index\n",
    "\n",
    "length = []\n",
    "\n",
    "for i in range(len(cust_and_wl_names)):\n",
    "    length.append(len(cust_and_wl_names[i]))\n",
    "    \n",
    "print(max(length))\n",
    "\n",
    "\n",
    "\n",
    "\n",
    "\n",
    "\n",
    "\n"
   ]
  },
  {
   "cell_type": "code",
   "execution_count": 31,
   "metadata": {},
   "outputs": [
    {
     "data": {
      "text/plain": [
       "dict_values([1, 2, 3, 4, 5, 6, 7, 8, 9, 10, 11, 12, 13, 14, 15, 16, 17, 18, 19, 20, 21, 22, 23, 24, 25, 26, 27, 28])"
      ]
     },
     "execution_count": 31,
     "metadata": {},
     "output_type": "execute_result"
    }
   ],
   "source": [
    "tk.word_index.values()"
   ]
  },
  {
   "cell_type": "code",
   "execution_count": 32,
   "metadata": {},
   "outputs": [
    {
     "data": {
      "text/plain": [
       "{'UNK': 1,\n",
       " 'a': 2,\n",
       " ' ': 3,\n",
       " 'n': 4,\n",
       " 'i': 5,\n",
       " 'h': 6,\n",
       " 'm': 7,\n",
       " 'o': 8,\n",
       " 'd': 9,\n",
       " 'e': 10,\n",
       " 'l': 11,\n",
       " 'u': 12,\n",
       " 'r': 13,\n",
       " 's': 14,\n",
       " 'b': 15,\n",
       " 'g': 16,\n",
       " 'k': 17,\n",
       " 'z': 18,\n",
       " 't': 19,\n",
       " 'y': 20,\n",
       " 'w': 21,\n",
       " 'c': 22,\n",
       " 'f': 23,\n",
       " 'j': 24,\n",
       " 'p': 25,\n",
       " 'v': 26,\n",
       " 'q': 27,\n",
       " 'x': 28}"
      ]
     },
     "execution_count": 32,
     "metadata": {},
     "output_type": "execute_result"
    }
   ],
   "source": [
    "tk.word_index"
   ]
  },
  {
   "cell_type": "code",
   "execution_count": 33,
   "metadata": {},
   "outputs": [],
   "source": [
    "\n",
    "\n",
    "# construct a new vocabulary \n",
    "\n",
    "alphabet=''.join(list(tk.word_index.keys())).replace('UNK','')\n",
    "\n",
    "char_dict = {}\n",
    "for i, char in enumerate(alphabet):\n",
    "    char_dict[char] = i + 1\n",
    "    \n",
    "# Use char_dict to replace the tk.word_index\n",
    "tk.word_index = char_dict \n",
    "# Add 'UNK' to the vocabulary \n",
    "tk.word_index[tk.oov_token] = max(char_dict.values()) + 1\n",
    "\n",
    "\n"
   ]
  },
  {
   "cell_type": "code",
   "execution_count": 34,
   "metadata": {},
   "outputs": [
    {
     "data": {
      "text/plain": [
       "{'a': 1,\n",
       " ' ': 2,\n",
       " 'n': 3,\n",
       " 'i': 4,\n",
       " 'h': 5,\n",
       " 'm': 6,\n",
       " 'o': 7,\n",
       " 'd': 8,\n",
       " 'e': 9,\n",
       " 'l': 10,\n",
       " 'u': 11,\n",
       " 'r': 12,\n",
       " 's': 13,\n",
       " 'b': 14,\n",
       " 'g': 15,\n",
       " 'k': 16,\n",
       " 'z': 17,\n",
       " 't': 18,\n",
       " 'y': 19,\n",
       " 'w': 20,\n",
       " 'c': 21,\n",
       " 'f': 22,\n",
       " 'j': 23,\n",
       " 'p': 24,\n",
       " 'v': 25,\n",
       " 'q': 26,\n",
       " 'x': 27,\n",
       " 'UNK': 28}"
      ]
     },
     "execution_count": 34,
     "metadata": {},
     "output_type": "execute_result"
    }
   ],
   "source": [
    "char_dict"
   ]
  },
  {
   "cell_type": "code",
   "execution_count": 35,
   "metadata": {},
   "outputs": [],
   "source": [
    "input_dim=len(char_dict.keys())"
   ]
  },
  {
   "cell_type": "code",
   "execution_count": 36,
   "metadata": {},
   "outputs": [
    {
     "data": {
      "text/plain": [
       "<keras.src.preprocessing.text.Tokenizer at 0x7f8266c7db80>"
      ]
     },
     "execution_count": 36,
     "metadata": {},
     "output_type": "execute_result"
    }
   ],
   "source": [
    "tk"
   ]
  },
  {
   "cell_type": "code",
   "execution_count": 0,
   "metadata": {},
   "outputs": [],
   "source": [
    "\n",
    "                "
   ]
  },
  {
   "cell_type": "code",
   "execution_count": 37,
   "metadata": {},
   "outputs": [],
   "source": [
    "import pickle\n",
    "path_of_obj=os.path.join(folder_path,\"tk.sav\")\n",
    "pickle.dump(tk,open(path_of_obj,\"wb\"))"
   ]
  },
  {
   "cell_type": "markdown",
   "metadata": {},
   "source": [
    "### Text to Sequence & Padding "
   ]
  },
  {
   "cell_type": "code",
   "execution_count": 38,
   "metadata": {},
   "outputs": [],
   "source": [
    "# convert names into sequences\n",
    "\n",
    "### turning into Sequences & Padding\n",
    "from keras_preprocessing.sequence import pad_sequences\n",
    "#from tensorflow.keras.utils import pad_sequences\n",
    "# -------------------\n",
    "maxlen = max([51,len(np.max(df_comm_val['WL_NAMES'])),len(np.max(df_comm_val['PARTY_NAMES']))])\n",
    "\n",
    "sequences_names_cust = tk.texts_to_sequences(df_comm_val['PARTY_NAMES'].tolist())\n",
    "sequences_names_wl = tk.texts_to_sequences(df_comm_val['WL_NAMES'].tolist())\n",
    "\n",
    "\n",
    "# Padding to 51\n",
    "cust_pad_names = pad_sequences(sequences_names_cust, maxlen=maxlen, padding='post')\n",
    "wl_pad_names = pad_sequences(sequences_names_wl, maxlen=maxlen, padding='post')\n",
    "\n",
    "\n",
    "\n",
    "\n",
    "#df[\"ALL_WL_NAMES\"].apply(lambda x: tk.texts_to_sequence(i))\n"
   ]
  },
  {
   "cell_type": "code",
   "execution_count": 39,
   "metadata": {},
   "outputs": [],
   "source": [
    "# Convert to numpy array\n",
    "cust_pad_names = np.array(cust_pad_names)\n",
    "wl_pad_names = np.array(wl_pad_names)\n",
    "#print(df_comm_val['ALL_PARTY_NAMES'].tolist()[1])\n",
    "#print(cust_pad_names [1])"
   ]
  },
  {
   "cell_type": "code",
   "execution_count": 40,
   "metadata": {},
   "outputs": [
    {
     "data": {
      "text/plain": [
       "TH      44206\n",
       "FP      42260\n",
       "THNM      821\n",
       "Name: V_RESOLUTION, dtype: int64"
      ]
     },
     "execution_count": 40,
     "metadata": {},
     "output_type": "execute_result"
    }
   ],
   "source": [
    "df_comm_val[\"V_RESOLUTION\"].value_counts()"
   ]
  },
  {
   "cell_type": "code",
   "execution_count": 41,
   "metadata": {},
   "outputs": [],
   "source": [
    "df_comm_val[\"Score\"]=df_comm_val[\"V_RESOLUTION\"].apply(lambda x: 1 if x in [\"TH\",\"THNM\"] else 0 )"
   ]
  },
  {
   "cell_type": "code",
   "execution_count": 42,
   "metadata": {},
   "outputs": [
    {
     "data": {
      "text/html": [
       "\n",
       "            <button style=\"display:none\" \n",
       "            class=\"btn btn-default ipython-export-btn\" \n",
       "            id=\"btn-df-9b8500e6-5bc8-45a6-b7ef-4ab1b3a58f62\" \n",
       "            onclick=\"_export_df('9b8500e6-5bc8-45a6-b7ef-4ab1b3a58f62')\">\n",
       "                Export dataframe\n",
       "            </button>\n",
       "            \n",
       "            <script>\n",
       "                \n",
       "                function _check_export_df_possible(dfid,yes_fn,no_fn) {\n",
       "                    console.log('Checking dataframe exportability...')\n",
       "                    if(!IPython || !IPython.notebook || !IPython.notebook.kernel || !IPython.notebook.kernel) {\n",
       "                        console.log('Export is not possible (IPython kernel is not available)')\n",
       "                        if(no_fn) {\n",
       "                            no_fn();\n",
       "                        }\n",
       "                    } else {\n",
       "                        var pythonCode = 'from dataiku.notebook.export import IPythonExporter;IPythonExporter._check_export_stdout(\"'+dfid+'\")';\n",
       "                        IPython.notebook.kernel.execute(pythonCode,{iopub: {output: function(resp) {\n",
       "                            console.info(\"Exportability response\", resp);\n",
       "                            var size = /^([0-9]+)x([0-9]+)$/.exec(resp.content.data || resp.content.text)\n",
       "                            if(!size) {\n",
       "                                console.log('Export is not possible (dataframe is not in-memory anymore)')\n",
       "                                if(no_fn) {\n",
       "                                    no_fn();\n",
       "                                }\n",
       "                            } else {\n",
       "                                console.log('Export is possible')\n",
       "                                if(yes_fn) {\n",
       "                                    yes_fn(1*size[1],1*size[2]);\n",
       "                                }\n",
       "                            }\n",
       "                        }}});\n",
       "                    }\n",
       "                }\n",
       "            \n",
       "                function _export_df(dfid) {\n",
       "                    \n",
       "                    var btn = $('#btn-df-'+dfid);\n",
       "                    var btns = $('.ipython-export-btn');\n",
       "                    \n",
       "                    _check_export_df_possible(dfid,function() {\n",
       "                        \n",
       "                        window.parent.openExportModalFromIPython('Pandas dataframe',function(data) {\n",
       "                            btns.prop('disabled',true);\n",
       "                            btn.text('Exporting...');\n",
       "                            var command = 'from dataiku.notebook.export import IPythonExporter;IPythonExporter._run_export(\"'+dfid+'\",\"'+data.exportId+'\")';\n",
       "                            var callback = {iopub:{output: function(resp) {\n",
       "                                console.info(\"CB resp:\", resp);\n",
       "                                _check_export_df_possible(dfid,function(rows, cols) {\n",
       "                                    $('#btn-df-'+dfid)\n",
       "                                        .css('display','inline-block')\n",
       "                                        .text('Export this dataframe ('+rows+' rows, '+cols+' cols)')\n",
       "                                        .prop('disabled',false);\n",
       "                                },function() {\n",
       "                                    $('#btn-df-'+dfid).css('display','none');\n",
       "                                });\n",
       "                            }}};\n",
       "                            IPython.notebook.kernel.execute(command,callback,{silent:false}); // yes, silent now defaults to true. figures.\n",
       "                        });\n",
       "                    \n",
       "                    }, function(){\n",
       "                            alert('Unable to export : the Dataframe object is not loaded in memory');\n",
       "                            btn.css('display','none');\n",
       "                    });\n",
       "                    \n",
       "                }\n",
       "                \n",
       "                (function(dfid) {\n",
       "                \n",
       "                    var retryCount = 10;\n",
       "                \n",
       "                    function is_valid_websock(s) {\n",
       "                        return s && s.readyState==1;\n",
       "                    }\n",
       "                \n",
       "                    function check_conn() {\n",
       "                        \n",
       "                        if(typeof(IPython) === \"undefined\" || !IPython || !IPython.notebook) {\n",
       "                            // Don't even try to go further\n",
       "                            return;\n",
       "                        }\n",
       "                        \n",
       "                        // Check if IPython is ready\n",
       "                        console.info(\"Checking conn ...\")\n",
       "                        if(IPython.notebook.kernel\n",
       "                        && IPython.notebook.kernel\n",
       "                        && is_valid_websock(IPython.notebook.kernel.ws)\n",
       "                        ) {\n",
       "                            \n",
       "                            _check_export_df_possible(dfid,function(rows, cols) {\n",
       "                                $('#btn-df-'+dfid).css('display','inline-block');\n",
       "                                $('#btn-df-'+dfid).text('Export this dataframe ('+rows+' rows, '+cols+' cols)');\n",
       "                            });\n",
       "                            \n",
       "                        } else {\n",
       "                            console.info(\"Conditions are not ok\", IPython.notebook.kernel);\n",
       "                            \n",
       "                            // Retry later\n",
       "                            \n",
       "                            if(retryCount>0) {\n",
       "                                setTimeout(check_conn,500);\n",
       "                                retryCount--;\n",
       "                            }\n",
       "                            \n",
       "                        }\n",
       "                    };\n",
       "                    \n",
       "                    setTimeout(check_conn,100);\n",
       "                    \n",
       "                })(\"9b8500e6-5bc8-45a6-b7ef-4ab1b3a58f62\");\n",
       "                \n",
       "            </script>\n",
       "            \n",
       "        <div>\n",
       "<style scoped>\n",
       "    .dataframe tbody tr th:only-of-type {\n",
       "        vertical-align: middle;\n",
       "    }\n",
       "\n",
       "    .dataframe tbody tr th {\n",
       "        vertical-align: top;\n",
       "    }\n",
       "\n",
       "    .dataframe thead th {\n",
       "        text-align: right;\n",
       "    }\n",
       "</style>\n",
       "<table border=\"1\" class=\"dataframe\">\n",
       "  <thead>\n",
       "    <tr style=\"text-align: right;\">\n",
       "      <th></th>\n",
       "      <th>ALL_ALIAS_NAMES</th>\n",
       "      <th>ALL_PARTY_NAMES</th>\n",
       "      <th>ALL_WL_NAMES</th>\n",
       "      <th>V_COMMENTS</th>\n",
       "      <th>V_RESOLUTION</th>\n",
       "      <th>N_MATCH_SCORE</th>\n",
       "      <th>WL_NAMES</th>\n",
       "      <th>PARTY_NAMES</th>\n",
       "      <th>Score</th>\n",
       "    </tr>\n",
       "  </thead>\n",
       "  <tbody>\n",
       "    <tr>\n",
       "      <th>0</th>\n",
       "      <td>[, , , , , , , , , , , , , , , ]</td>\n",
       "      <td>[ZHANG QIAN, , , ]</td>\n",
       "      <td>[, , , , , , QIANG ZHANG]</td>\n",
       "      <td>Mismatch Full Legal Name – Name Does Not Sound...</td>\n",
       "      <td>FP</td>\n",
       "      <td>91.0</td>\n",
       "      <td>QIANG ZHANG</td>\n",
       "      <td>ZHANG QIAN</td>\n",
       "      <td>0</td>\n",
       "    </tr>\n",
       "    <tr>\n",
       "      <th>1</th>\n",
       "      <td>[, , , , , , , , , , , , , , , ]</td>\n",
       "      <td>[MUHD ANUAR BIN MOHD FAUZI, , , ]</td>\n",
       "      <td>[, , , , , , MUHD ANUAR BIN MOHD FAUZI]</td>\n",
       "      <td>Match Name, Gender, ID number_NRIC, Date of Bi...</td>\n",
       "      <td>TH</td>\n",
       "      <td>100.0</td>\n",
       "      <td>MUHD ANUAR BIN MOHD FAUZI</td>\n",
       "      <td>MUHD ANUAR BIN MOHD FAUZI</td>\n",
       "      <td>1</td>\n",
       "    </tr>\n",
       "    <tr>\n",
       "      <th>2</th>\n",
       "      <td>[, , , , , , , , , , , , , , , ]</td>\n",
       "      <td>[TIN ZAW NAING, , , ]</td>\n",
       "      <td>[ZAW NAING, , , , , , ZAW NAING WIN]</td>\n",
       "      <td>Mismatch Full Legal Name_Name Does Not Sound S...</td>\n",
       "      <td>FP</td>\n",
       "      <td>93.0</td>\n",
       "      <td>ZAW NAING WIN</td>\n",
       "      <td>TIN ZAW NAING</td>\n",
       "      <td>0</td>\n",
       "    </tr>\n",
       "    <tr>\n",
       "      <th>3</th>\n",
       "      <td>[, , , , , , , , , , , , , , , ]</td>\n",
       "      <td>[MUHD AZEEM, , , ]</td>\n",
       "      <td>[, , , , , , MUHD AZEEM]</td>\n",
       "      <td>Match Name and ID</td>\n",
       "      <td>TH</td>\n",
       "      <td>100.0</td>\n",
       "      <td>MUHD AZEEM</td>\n",
       "      <td>MUHD AZEEM</td>\n",
       "      <td>1</td>\n",
       "    </tr>\n",
       "    <tr>\n",
       "      <th>4</th>\n",
       "      <td>[, , , , , , , , , , , , , , , ]</td>\n",
       "      <td>[WANG BIN, , , ]</td>\n",
       "      <td>[WANGAWEI QIN, , , , , , WANG]</td>\n",
       "      <td>Mismatch Full Legal Name – Name Does Not Sound...</td>\n",
       "      <td>FP</td>\n",
       "      <td>100.0</td>\n",
       "      <td>WANG</td>\n",
       "      <td>WANG BIN</td>\n",
       "      <td>0</td>\n",
       "    </tr>\n",
       "    <tr>\n",
       "      <th>...</th>\n",
       "      <td>...</td>\n",
       "      <td>...</td>\n",
       "      <td>...</td>\n",
       "      <td>...</td>\n",
       "      <td>...</td>\n",
       "      <td>...</td>\n",
       "      <td>...</td>\n",
       "      <td>...</td>\n",
       "      <td>...</td>\n",
       "    </tr>\n",
       "    <tr>\n",
       "      <th>175640</th>\n",
       "      <td>[, , , , , , , , , , , , , , , ]</td>\n",
       "      <td>[DORATY BAINGKIT, , , ]</td>\n",
       "      <td>[, , , , , , DORATY BAINGKIT]</td>\n",
       "      <td>SCC2: Match ID and/or Full Legal Name</td>\n",
       "      <td>TH</td>\n",
       "      <td>100.0</td>\n",
       "      <td>DORATY BAINGKIT</td>\n",
       "      <td>DORATY BAINGKIT</td>\n",
       "      <td>1</td>\n",
       "    </tr>\n",
       "    <tr>\n",
       "      <th>175643</th>\n",
       "      <td>[, , , , , , , , , , , , , , , ]</td>\n",
       "      <td>[MOHD FIRDAUS BIN HASSAN, , , ]</td>\n",
       "      <td>[, , , , , , MUHD FIRDHAUS BIN HASSAN]</td>\n",
       "      <td>Mismatch - Name, Date of birth\\n\\nCustomer - a...</td>\n",
       "      <td>FP</td>\n",
       "      <td>90.0</td>\n",
       "      <td>MUHD FIRDHAUS BIN HASSAN</td>\n",
       "      <td>MOHD FIRDAUS BIN HASSAN</td>\n",
       "      <td>0</td>\n",
       "    </tr>\n",
       "    <tr>\n",
       "      <th>175647</th>\n",
       "      <td>[, , , , , , , , , , , , , , , ]</td>\n",
       "      <td>[JOHN RON ROGER, , , ]</td>\n",
       "      <td>[, , , , , , JOHN RON ROGER]</td>\n",
       "      <td>Match ID and/or Full Legal Name</td>\n",
       "      <td>TH</td>\n",
       "      <td>100.0</td>\n",
       "      <td>JOHN RON ROGER</td>\n",
       "      <td>JOHN RON ROGER</td>\n",
       "      <td>1</td>\n",
       "    </tr>\n",
       "    <tr>\n",
       "      <th>175649</th>\n",
       "      <td>[, , , , , , , , , , , , , , , ]</td>\n",
       "      <td>[MUNIAN GOVINDASAMY, , , ]</td>\n",
       "      <td>[GOVINDASAMYAMUNIANDY AL, , , , , , MUNIANDY G...</td>\n",
       "      <td>Mismatch Full Legal Name_Name Does Not Sound S...</td>\n",
       "      <td>FP</td>\n",
       "      <td>90.0</td>\n",
       "      <td>MUNIANDY GOVINDASAMY</td>\n",
       "      <td>MUNIAN GOVINDASAMY</td>\n",
       "      <td>0</td>\n",
       "    </tr>\n",
       "    <tr>\n",
       "      <th>175652</th>\n",
       "      <td>[, , , , , , , , , , , , , , , ]</td>\n",
       "      <td>[CHEN YINZHI, , , ]</td>\n",
       "      <td>[CHENAJIN ZHI, , , , , , JINZHI CHEN]</td>\n",
       "      <td>Mismatch Full Legal Name_Native Name (Chinese ...</td>\n",
       "      <td>FP</td>\n",
       "      <td>91.0</td>\n",
       "      <td>JINZHI CHEN</td>\n",
       "      <td>CHEN YINZHI</td>\n",
       "      <td>0</td>\n",
       "    </tr>\n",
       "  </tbody>\n",
       "</table>\n",
       "<p>87287 rows × 9 columns</p>\n",
       "</div>"
      ],
      "text/plain": [
       "                         ALL_ALIAS_NAMES                    ALL_PARTY_NAMES                                       ALL_WL_NAMES                                         V_COMMENTS V_RESOLUTION  N_MATCH_SCORE                   WL_NAMES                PARTY_NAMES  Score\n",
       "0       [, , , , , , , , , , , , , , , ]                 [ZHANG QIAN, , , ]                          [, , , , , , QIANG ZHANG]  Mismatch Full Legal Name – Name Does Not Sound...           FP           91.0                QIANG ZHANG                 ZHANG QIAN      0\n",
       "1       [, , , , , , , , , , , , , , , ]  [MUHD ANUAR BIN MOHD FAUZI, , , ]            [, , , , , , MUHD ANUAR BIN MOHD FAUZI]  Match Name, Gender, ID number_NRIC, Date of Bi...           TH          100.0  MUHD ANUAR BIN MOHD FAUZI  MUHD ANUAR BIN MOHD FAUZI      1\n",
       "2       [, , , , , , , , , , , , , , , ]              [TIN ZAW NAING, , , ]               [ZAW NAING, , , , , , ZAW NAING WIN]  Mismatch Full Legal Name_Name Does Not Sound S...           FP           93.0              ZAW NAING WIN              TIN ZAW NAING      0\n",
       "3       [, , , , , , , , , , , , , , , ]                 [MUHD AZEEM, , , ]                           [, , , , , , MUHD AZEEM]                                  Match Name and ID           TH          100.0                 MUHD AZEEM                 MUHD AZEEM      1\n",
       "4       [, , , , , , , , , , , , , , , ]                   [WANG BIN, , , ]                     [WANGAWEI QIN, , , , , , WANG]  Mismatch Full Legal Name – Name Does Not Sound...           FP          100.0                       WANG                   WANG BIN      0\n",
       "...                                  ...                                ...                                                ...                                                ...          ...            ...                        ...                        ...    ...\n",
       "175640  [, , , , , , , , , , , , , , , ]            [DORATY BAINGKIT, , , ]                      [, , , , , , DORATY BAINGKIT]              SCC2: Match ID and/or Full Legal Name           TH          100.0            DORATY BAINGKIT            DORATY BAINGKIT      1\n",
       "175643  [, , , , , , , , , , , , , , , ]    [MOHD FIRDAUS BIN HASSAN, , , ]             [, , , , , , MUHD FIRDHAUS BIN HASSAN]  Mismatch - Name, Date of birth\\n\\nCustomer - a...           FP           90.0   MUHD FIRDHAUS BIN HASSAN    MOHD FIRDAUS BIN HASSAN      0\n",
       "175647  [, , , , , , , , , , , , , , , ]             [JOHN RON ROGER, , , ]                       [, , , , , , JOHN RON ROGER]                    Match ID and/or Full Legal Name           TH          100.0             JOHN RON ROGER             JOHN RON ROGER      1\n",
       "175649  [, , , , , , , , , , , , , , , ]         [MUNIAN GOVINDASAMY, , , ]  [GOVINDASAMYAMUNIANDY AL, , , , , , MUNIANDY G...  Mismatch Full Legal Name_Name Does Not Sound S...           FP           90.0       MUNIANDY GOVINDASAMY         MUNIAN GOVINDASAMY      0\n",
       "175652  [, , , , , , , , , , , , , , , ]                [CHEN YINZHI, , , ]              [CHENAJIN ZHI, , , , , , JINZHI CHEN]  Mismatch Full Legal Name_Native Name (Chinese ...           FP           91.0                JINZHI CHEN                CHEN YINZHI      0\n",
       "\n",
       "[87287 rows x 9 columns]"
      ]
     },
     "execution_count": 42,
     "metadata": {},
     "output_type": "execute_result"
    }
   ],
   "source": [
    "try:\n",
    "    df_comm_val.drop(\"Unnamed: 0\",axis=1,inplace=True)\n",
    "except:\n",
    "    df_comm_val\n",
    "df_comm_val"
   ]
  },
  {
   "cell_type": "code",
   "execution_count": 43,
   "metadata": {},
   "outputs": [
    {
     "data": {
      "text/plain": [
       "(715261, 6)"
      ]
     },
     "execution_count": 43,
     "metadata": {},
     "output_type": "execute_result"
    }
   ],
   "source": [
    "df.shape"
   ]
  },
  {
   "cell_type": "markdown",
   "metadata": {},
   "source": [
    "### Contrastive Loss"
   ]
  },
  {
   "cell_type": "code",
   "execution_count": 44,
   "metadata": {},
   "outputs": [],
   "source": [
    "### defining contrastive loss\n",
    "\n",
    "def loss(margin=1):\n",
    "    \"\"\"Provides 'constrastive_loss' an enclosing scope with variable 'margin'.\n",
    "\n",
    "    Arguments:\n",
    "        margin: Integer, defines the baseline for distance for which pairs\n",
    "                should be classified as dissimilar. - (default is 1).\n",
    "\n",
    "    Returns:\n",
    "        'constrastive_loss' function with data ('margin') attached.\n",
    "    \"\"\"\n",
    "\n",
    "    # Contrastive loss = mean( (1-true_value) * square(prediction) +\n",
    "    #                         true_value * square( max(margin-prediction, 0) ))\n",
    "    def contrastive_loss(y_true, y_pred):\n",
    "        \"\"\"Calculates the constrastive loss.\n",
    "\n",
    "        Arguments:\n",
    "            y_true: List of labels, each label is of type float32.\n",
    "            y_pred: List of predictions of same length as of y_true,\n",
    "                    each label is of type float32.\n",
    "\n",
    "        Returns:\n",
    "            A tensor containing constrastive loss as floating point value.\n",
    "        \"\"\"\n",
    "        y_pred = tf.cast(y_pred, tf.float32)\n",
    "        y_true = tf.cast(y_true, tf.float32)\n",
    "        \n",
    "        square_pred = tf.math.square(y_pred)\n",
    "        margin_square = tf.math.square(tf.math.maximum(margin - (y_pred), 0))\n",
    "        return tf.math.reduce_mean(\n",
    "            (1 - y_true) * square_pred + (y_true) * margin_square\n",
    "        )\n",
    "\n",
    "    return contrastive_loss"
   ]
  },
  {
   "cell_type": "code",
   "execution_count": 45,
   "metadata": {},
   "outputs": [],
   "source": [
    "class cont_loss:\n",
    "    def __init__(self):\n",
    "        pass\n",
    "    \n",
    "    def loss(margin=1):\n",
    "    \n",
    "        def contrastive_loss(y_true, y_pred):\n",
    "\n",
    "            y_pred = tf.cast(y_pred, tf.float32)\n",
    "            y_true = tf.cast(y_true, tf.float32)\n",
    "\n",
    "            square_pred = tf.math.square(y_pred)\n",
    "            margin_square = tf.math.square(tf.math.maximum(margin - (y_pred), 0))\n",
    "            return tf.math.reduce_mean(\n",
    "                (1 - y_true) * square_pred + (y_true) * margin_square\n",
    "            )\n",
    "\n",
    "        return contrastive_loss"
   ]
  },
  {
   "cell_type": "code",
   "execution_count": 46,
   "metadata": {},
   "outputs": [],
   "source": [
    "#train_test_split()\n",
    "X=np.array([[i,j]for (i,j) in zip(cust_pad_names,wl_pad_names) ])\n",
    "y=df_comm_val[\"Score\"].values"
   ]
  },
  {
   "cell_type": "code",
   "execution_count": 47,
   "metadata": {},
   "outputs": [
    {
     "data": {
      "text/plain": [
       "array([[17,  5,  1,  3, 15,  2, 26,  4,  1,  3,  0,  0,  0,  0,  0,  0,\n",
       "         0,  0,  0,  0,  0,  0,  0,  0,  0,  0,  0,  0,  0,  0,  0,  0,\n",
       "         0,  0,  0,  0,  0,  0,  0,  0,  0,  0,  0,  0,  0,  0,  0,  0,\n",
       "         0,  0,  0],\n",
       "       [26,  4,  1,  3, 15,  2, 17,  5,  1,  3, 15,  0,  0,  0,  0,  0,\n",
       "         0,  0,  0,  0,  0,  0,  0,  0,  0,  0,  0,  0,  0,  0,  0,  0,\n",
       "         0,  0,  0,  0,  0,  0,  0,  0,  0,  0,  0,  0,  0,  0,  0,  0,\n",
       "         0,  0,  0]], dtype=int32)"
      ]
     },
     "execution_count": 47,
     "metadata": {},
     "output_type": "execute_result"
    }
   ],
   "source": [
    "X[0]"
   ]
  },
  {
   "cell_type": "code",
   "execution_count": 48,
   "metadata": {},
   "outputs": [
    {
     "name": "stderr",
     "output_type": "stream",
     "text": [
      "Calling nonzero on 0d arrays is deprecated, as it behaves surprisingly. Use `atleast_1d(cond).nonzero()` if the old behavior was intended. If the context of this warning is of the form `arr[nonzero(cond)]`, just use `arr[cond]`.\n"
     ]
    },
    {
     "data": {
      "text/plain": [
       "['i UNK   b a v n UNK   x x x x x x x x x x x x x x x x x x x x x x x x x x x x x x x x x x x x x x x x x']"
      ]
     },
     "execution_count": 48,
     "metadata": {},
     "output_type": "execute_result"
    }
   ],
   "source": [
    "tk.sequences_to_texts([np.delete(X[0,0],np.where(np.any(0 in X[0,0] or 28 in X[0,0])))])"
   ]
  },
  {
   "cell_type": "code",
   "execution_count": 49,
   "metadata": {},
   "outputs": [
    {
     "data": {
      "text/plain": [
       "array([ 5,  1,  3, 15,  2, 26,  4,  1,  3,  0,  0,  0,  0,  0,  0,  0,  0,\n",
       "        0,  0,  0,  0,  0,  0,  0,  0,  0,  0,  0,  0,  0,  0,  0,  0,  0,\n",
       "        0,  0,  0,  0,  0,  0,  0,  0,  0,  0,  0,  0,  0,  0,  0,  0],\n",
       "      dtype=int32)"
      ]
     },
     "execution_count": 49,
     "metadata": {},
     "output_type": "execute_result"
    }
   ],
   "source": [
    "np.delete(X[0,0],np.where(np.any(0 in X[0,0] or 28 in X[0,0])))"
   ]
  },
  {
   "cell_type": "code",
   "execution_count": 50,
   "metadata": {},
   "outputs": [
    {
     "data": {
      "text/plain": [
       "{'a': 1,\n",
       " ' ': 2,\n",
       " 'n': 3,\n",
       " 'i': 4,\n",
       " 'h': 5,\n",
       " 'm': 6,\n",
       " 'o': 7,\n",
       " 'd': 8,\n",
       " 'e': 9,\n",
       " 'l': 10,\n",
       " 'u': 11,\n",
       " 'r': 12,\n",
       " 's': 13,\n",
       " 'b': 14,\n",
       " 'g': 15,\n",
       " 'k': 16,\n",
       " 'z': 17,\n",
       " 't': 18,\n",
       " 'y': 19,\n",
       " 'w': 20,\n",
       " 'c': 21,\n",
       " 'f': 22,\n",
       " 'j': 23,\n",
       " 'p': 24,\n",
       " 'v': 25,\n",
       " 'q': 26,\n",
       " 'x': 27,\n",
       " 'UNK': 28}"
      ]
     },
     "execution_count": 50,
     "metadata": {},
     "output_type": "execute_result"
    }
   ],
   "source": [
    "tk.word_index"
   ]
  },
  {
   "cell_type": "markdown",
   "metadata": {},
   "source": [
    "# Train-test split"
   ]
  },
  {
   "cell_type": "code",
   "execution_count": 51,
   "metadata": {},
   "outputs": [],
   "source": [
    "# we split the dataset becoz we don't want any input from test dataset in tokenization & training of model \n",
    "from sklearn.model_selection import train_test_split\n",
    "\n",
    "X_train, X_test, y_train, y_test = train_test_split(X, y, test_size=0.10, random_state=1)\n",
    "X_train,X_val,y_train,y_val=train_test_split(X_train,y_train,test_size=0.1,random_state=2)"
   ]
  },
  {
   "cell_type": "code",
   "execution_count": 52,
   "metadata": {},
   "outputs": [
    {
     "data": {
      "text/plain": [
       "(70702, 2, 51)"
      ]
     },
     "execution_count": 52,
     "metadata": {},
     "output_type": "execute_result"
    }
   ],
   "source": [
    "X_train.shape"
   ]
  },
  {
   "cell_type": "code",
   "execution_count": 53,
   "metadata": {},
   "outputs": [],
   "source": [
    "train_cust_names=X_train[:,0]\n",
    "train_wl_names=X_train[:,1]\n",
    "test_cust_names=X_test[:,0]\n",
    "test_wl_names=X_test[:,1]\n",
    "\n",
    "val_cust_names=X_val[:,0]\n",
    "val_wl_names=X_val[:,1]"
   ]
  },
  {
   "cell_type": "code",
   "execution_count": 54,
   "metadata": {},
   "outputs": [
    {
     "data": {
      "text/plain": [
       "(8729, 51)"
      ]
     },
     "execution_count": 54,
     "metadata": {},
     "output_type": "execute_result"
    }
   ],
   "source": [
    "test_cust_names.shape"
   ]
  },
  {
   "cell_type": "code",
   "execution_count": 55,
   "metadata": {},
   "outputs": [
    {
     "name": "stdout",
     "output_type": "stream",
     "text": [
      "the count of rows with nith name match in test dataset 4510\n",
      "the count of rows with name miss-match in test dataset 4219\n"
     ]
    }
   ],
   "source": [
    "print(\"the count of rows with nith name match in test dataset\",sum(y_test==1))\n",
    "print(\"the count of rows with name miss-match in test dataset\",sum(y_test==0))\n",
    "\n"
   ]
  },
  {
   "cell_type": "code",
   "execution_count": 56,
   "metadata": {},
   "outputs": [
    {
     "name": "stdout",
     "output_type": "stream",
     "text": [
      "rows in training data (70702,)\n",
      "rows in validation data (7856,)\n",
      "rows in  test data (8729,)\n"
     ]
    }
   ],
   "source": [
    "print(\"rows in training data\",y_train.shape)\n",
    "print(\"rows in validation data\",y_val.shape)\n",
    "print(\"rows in  test data\",y_test.shape)"
   ]
  },
  {
   "cell_type": "code",
   "execution_count": 57,
   "metadata": {},
   "outputs": [],
   "source": [
    "import keras\n",
    "import tensorflow as tf\n",
    "from keras.models import Sequential\n",
    "from tensorflow.keras.optimizers import Adam\n",
    "from keras.layers import Input\n",
    "from keras.models import Model\n",
    "from tensorflow.keras.layers import Dot, LSTM, Bidirectional, Reshape,Flatten\n",
    "from keras.layers import Dense\n",
    "from keras import backend as K\n",
    "from tensorflow.keras.layers import Dense, Dropout, Activation, Embedding, Conv1D\n",
    "\n",
    "#pip install keras_nlp\n",
    "#from keras_nlp.layers import PositionEmbedding\n",
    "\n",
    "\n",
    "from tensorflow.keras.callbacks import EarlyStopping, ModelCheckpoint"
   ]
  },
  {
   "cell_type": "code",
   "execution_count": 58,
   "metadata": {},
   "outputs": [
    {
     "data": {
      "text/plain": [
       "\"\\nembedded_l=tf.convert_to_tensor(np.array([embedded_l1,embedded_l2 ]))\\nembedded_l\\n\\n#import tf.keras.layers.Conv1D\\n\\nC_l = tf.keras.layers.Conv1D(filters = 32,                                # ---------layer2 ( Conv1d layer)\\n                            kernel_size = 1,\\n                            padding = 'valid',\\n                            activation = 'relu',kernel_initializer='he_uniform')(embedded_l)\\n\""
      ]
     },
     "execution_count": 58,
     "metadata": {},
     "output_type": "execute_result"
    }
   ],
   "source": [
    "'''\n",
    "embedded_l=tf.convert_to_tensor(np.array([embedded_l1,embedded_l2 ]))\n",
    "embedded_l\n",
    "\n",
    "#import tf.keras.layers.Conv1D\n",
    "\n",
    "C_l = tf.keras.layers.Conv1D(filters = 32,                                # ---------layer2 ( Conv1d layer)\n",
    "                            kernel_size = 1,\n",
    "                            padding = 'valid',\n",
    "                            activation = 'relu',kernel_initializer='he_uniform')(embedded_l)\n",
    "'''"
   ]
  },
  {
   "cell_type": "markdown",
   "metadata": {},
   "source": [
    "# Model Architechture"
   ]
  },
  {
   "cell_type": "code",
   "execution_count": 59,
   "metadata": {
    "scrolled": false
   },
   "outputs": [
    {
     "name": "stdout",
     "output_type": "stream",
     "text": [
      "Model: \"model\"\n",
      "__________________________________________________________________________________________________\n",
      " Layer (type)                Output Shape                 Param #   Connected to                  \n",
      "==================================================================================================\n",
      " input_1 (InputLayer)        [(None, 51)]                 0         []                            \n",
      "                                                                                                  \n",
      " input_2 (InputLayer)        [(None, 51)]                 0         []                            \n",
      "                                                                                                  \n",
      " embedding (Embedding)       (None, 51, 100)              3000      ['input_1[0][0]']             \n",
      "                                                                                                  \n",
      " embedding_1 (Embedding)     (None, 51, 100)              3000      ['input_2[0][0]']             \n",
      "                                                                                                  \n",
      " position_embedding (Positi  (None, 51, 100)              5100      ['embedding[0][0]']           \n",
      " onEmbedding)                                                                                     \n",
      "                                                                                                  \n",
      " position_embedding_1 (Posi  (None, 51, 100)              5100      ['embedding_1[0][0]']         \n",
      " tionEmbedding)                                                                                   \n",
      "                                                                                                  \n",
      " tf.__operators__.add (TFOp  (None, 51, 100)              0         ['embedding[0][0]',           \n",
      " Lambda)                                                             'position_embedding[0][0]']  \n",
      "                                                                                                  \n",
      " tf.__operators__.add_1 (TF  (None, 51, 100)              0         ['embedding_1[0][0]',         \n",
      " OpLambda)                                                           'position_embedding_1[0][0]']\n",
      "                                                                                                  \n",
      " conv1d (Conv1D)             (None, 51, 100)              40100     ['tf.__operators__.add[0][0]']\n",
      "                                                                                                  \n",
      " conv1d_1 (Conv1D)           (None, 51, 100)              40100     ['tf.__operators__.add_1[0][0]\n",
      "                                                                    ']                            \n",
      "                                                                                                  \n",
      " dense (Dense)               (None, 51, 100)              10100     ['conv1d[0][0]']              \n",
      "                                                                                                  \n",
      " dense_1 (Dense)             (None, 51, 100)              10100     ['conv1d_1[0][0]']            \n",
      "                                                                                                  \n",
      " tf.__operators__.add_2 (TF  (None, 51, 100)              0         ['tf.__operators__.add[0][0]',\n",
      " OpLambda)                                                           'dense[0][0]']               \n",
      "                                                                                                  \n",
      " tf.__operators__.add_3 (TF  (None, 51, 100)              0         ['tf.__operators__.add_1[0][0]\n",
      " OpLambda)                                                          ',                            \n",
      "                                                                     'dense_1[0][0]']             \n",
      "                                                                                                  \n",
      " dropout (Dropout)           (None, 51, 100)              0         ['tf.__operators__.add_2[0][0]\n",
      "                                                                    ']                            \n",
      "                                                                                                  \n",
      " dropout_1 (Dropout)         (None, 51, 100)              0         ['tf.__operators__.add_3[0][0]\n",
      "                                                                    ']                            \n",
      "                                                                                                  \n",
      " tf.__operators__.add_4 (TF  (None, 51, 100)              0         ['tf.__operators__.add[0][0]',\n",
      " OpLambda)                                                           'dropout[0][0]']             \n",
      "                                                                                                  \n",
      " tf.__operators__.add_5 (TF  (None, 51, 100)              0         ['tf.__operators__.add_1[0][0]\n",
      " OpLambda)                                                          ',                            \n",
      "                                                                     'dropout_1[0][0]']           \n",
      "                                                                                                  \n",
      " conv1d_2 (Conv1D)           (None, 51, 16)               12816     ['tf.__operators__.add_4[0][0]\n",
      "                                                                    ']                            \n",
      "                                                                                                  \n",
      " conv1d_3 (Conv1D)           (None, 51, 16)               12816     ['tf.__operators__.add_5[0][0]\n",
      "                                                                    ']                            \n",
      "                                                                                                  \n",
      " dense_2 (Dense)             (None, 51, 100)              1700      ['conv1d_2[0][0]']            \n",
      "                                                                                                  \n",
      " dense_3 (Dense)             (None, 51, 100)              1700      ['conv1d_3[0][0]']            \n",
      "                                                                                                  \n",
      " tf.__operators__.add_6 (TF  (None, 51, 100)              0         ['tf.__operators__.add[0][0]',\n",
      " OpLambda)                                                           'dense_2[0][0]']             \n",
      "                                                                                                  \n",
      " tf.__operators__.add_7 (TF  (None, 51, 100)              0         ['tf.__operators__.add_1[0][0]\n",
      " OpLambda)                                                          ',                            \n",
      "                                                                     'dense_3[0][0]']             \n",
      "                                                                                                  \n",
      " dense_4 (Dense)             (None, 51, 1)                101       ['tf.__operators__.add_6[0][0]\n",
      "                                                                    ']                            \n",
      "                                                                                                  \n",
      " dense_5 (Dense)             (None, 51, 1)                101       ['tf.__operators__.add_7[0][0]\n",
      "                                                                    ']                            \n",
      "                                                                                                  \n",
      " dot (Dot)                   (None, 1, 1)                 0         ['dense_4[0][0]',             \n",
      "                                                                     'dense_5[0][0]']             \n",
      "                                                                                                  \n",
      " flatten (Flatten)           (None, 1)                    0         ['dot[0][0]']                 \n",
      "                                                                                                  \n",
      " dense_6 (Dense)             (None, 1)                    2         ['flatten[0][0]']             \n",
      "                                                                                                  \n",
      "==================================================================================================\n",
      "Total params: 145836 (569.67 KB)\n",
      "Trainable params: 145836 (569.67 KB)\n",
      "Non-trainable params: 0 (0.00 Byte)\n",
      "__________________________________________________________________________________________________\n",
      "None\n"
     ]
    }
   ],
   "source": [
    "import tensorflow as tf\n",
    "import keras\n",
    "tf.random.set_seed(\n",
    "    11\n",
    ")\n",
    "\n",
    "rate = 0.2\n",
    "\n",
    "output_dim = 100\n",
    "\n",
    "#from tensorflow.keras import layers\n",
    "from tensorflow.keras import regularizers\n",
    "from sklearn.preprocessing import OneHotEncoder\n",
    "from tensorflow import one_hot\n",
    "\n",
    "#OHE = one_hot(depth=100)\n",
    "# Define inputs \n",
    "left_input = Input((51,))\n",
    "right_input = Input((51,))\n",
    "\n",
    "embedded_l = Embedding(30, output_dim)(left_input)                        #   ------layer 1 (embedding layer)\n",
    "embedded_r = Embedding(30, output_dim)(right_input)\n",
    "\n",
    "'''\n",
    "OHE_embeddings_l = one_hot(embedded_l, 100)\n",
    "OHE_embeddings_r = one_hot(embedded_r, 100)\n",
    "\n",
    "embedded_l = embedded_l + OHE_embeddings_l\n",
    "embedded_r = embedded_r + OHE_embeddings_r\n",
    "'''\n",
    "position_embeddings_l = PositionEmbedding(\n",
    "    sequence_length=51)(embedded_l)\n",
    "position_embeddings_r = PositionEmbedding(\n",
    "    sequence_length=51)(embedded_r)\n",
    "\n",
    "embedded_l = embedded_l + position_embeddings_l\n",
    "embedded_r = embedded_r + position_embeddings_r\n",
    "\n",
    "# \n",
    "C_l = tf.keras.layers.Conv1D(filters = 100,                                # ---------layer2 ( Conv1d layer)\n",
    "                            kernel_size = 4,\n",
    "                            padding = 'same',\n",
    "                            activation = 'relu',kernel_initializer='he_uniform')(embedded_l)\n",
    "C_r = tf.keras.layers.Conv1D(filters = 100,                                # ---------layer2 ( Conv1d layer)\n",
    "                            kernel_size = 4,\n",
    "                            padding = 'same',\n",
    "                            activation = 'relu',kernel_initializer='he_uniform')(embedded_r)\n",
    "C_l = Dense(output_dim)(C_l)                                             # ----------------layer3 ( dense layer)\n",
    "C_r = Dense(output_dim)(C_r)\n",
    "\n",
    "C_l = embedded_l + C_l                                                   # updating vector\n",
    "C_r = embedded_r + C_r\n",
    "\n",
    "##\n",
    "\n",
    "C_l = tf.keras.layers.Dropout(rate)(C_l)                                # -----------------layer 4 ( dropout layer)\n",
    "C_r = tf.keras.layers.Dropout(rate)(C_r)\n",
    "\n",
    "C_l = embedded_l + C_l                                                 # updating vector\n",
    "C_r = embedded_r + C_r\n",
    "\n",
    "\n",
    "##\n",
    "\"\"\n",
    "\n",
    "#C_r.add(tf.keras.layers.SpatialDropout1D(rate))\n",
    "\n",
    "\"\"\n",
    "\"\"\"\n",
    "C_l = tf.keras.layers.Conv1D(filters = 16,\n",
    "                            kernel_size = 6,\n",
    "                            padding = 'same',\n",
    "                            activation = 'relu')(C_l)\n",
    "\n",
    "   \"\"\"                      #   \"\"\"kernel_regularizer=regularizers.L2(l2=1e-5),\n",
    "                         #   bias_regularizer=regularizers.L1(1e-5),\n",
    "                         #   activity_regularizer=regularizers.L2(1e-2)\"\"\"\n",
    "\"\"\"                            \n",
    "C_r = tf.keras.layers.Conv1D(filters = 16,\n",
    "                            kernel_size = 4,\n",
    "                            padding = 'same',\n",
    "                            activation = 'relu')(C_r)\n",
    "\n",
    "\"\"\"                         #   \"\"\"kernel_regularizer=regularizers.L2(l2=1e-5),\n",
    "                         #   bias_regularizer=regularizers.L1(1e-5),\n",
    "                         #   activity_regularizer=regularizers.L2(1e-2)\"\"\"\n",
    "                            \n",
    "\"\"\"\n",
    "C_l = Dense(output_dim)(C_l)\n",
    "C_r = Dense(output_dim)(C_r)\n",
    "\n",
    "C_l = embedded_l + C_l\n",
    "C_r = embedded_r + C_r\n",
    "\"\"\"\n",
    "\"\"\n",
    "##\n",
    "\"\"\"\n",
    "C_l = tf.keras.layers.Dropout(rate)(C_l)\n",
    "C_r = tf.keras.layers.Dropout(rate)(C_r)\n",
    "\n",
    "C_l = embedded_l + C_l\n",
    "C_r = embedded_r + C_r\n",
    "\n",
    "\"\"\"\n",
    "##\n",
    "\n",
    "\"\"\"\n",
    "C_l = tf.keras.layers.Conv1D(filters = 16,\n",
    "                            kernel_size = 8,\n",
    "                            padding = 'same',\n",
    "                            activation = 'relu')(C_l)\n",
    "C_r = tf.keras.layers.Conv1D(filters = 16,\n",
    "                            kernel_size = 8,\n",
    "                            padding = 'same',\n",
    "                            activation = 'relu')(C_r)\n",
    "\n",
    "C_l = Dense(output_dim)(C_l)\n",
    "C_r = Dense(output_dim)(C_r)\n",
    "\n",
    "C_l = embedded_l + C_l\n",
    "C_r = embedded_r + C_r\n",
    "\n",
    "\"\"\"\n",
    "\"\"\n",
    "# Generate C_l & C_r with regularization - kernel,bias,activity                  # layer5 ( Conv1d)\n",
    "C_l = tf.keras.layers.Conv1D(filters = 16,\n",
    "                            kernel_size = 8,\n",
    "                            padding = 'same',\n",
    "                            activation = 'relu',kernel_initializer='he_uniform',\n",
    "                            kernel_regularizer=regularizers.L2(l2=1e-5),\n",
    "                            bias_regularizer=regularizers.L1(1),\n",
    "                            activity_regularizer=regularizers.L2(1e-2))(C_l)\n",
    "C_r = tf.keras.layers.Conv1D(filters = 16,\n",
    "                            kernel_size = 8,\n",
    "                            padding = 'same',\n",
    "                            activation = 'relu',kernel_initializer='he_uniform',\n",
    "                            kernel_regularizer=regularizers.L2(l2=1e-5),\n",
    "                            bias_regularizer=regularizers.L1(1),\n",
    "                            activity_regularizer=regularizers.L2(1e-2))(C_r)\n",
    "# Adding dense layer with nuerons equal to 64\n",
    "\n",
    "C_l = Dense(output_dim)(C_l)                                                      #layer6 (dense layer)\n",
    "C_r = Dense(output_dim)(C_r)\n",
    "\n",
    "# Summing the input  embed & output of dense layer \n",
    "C_l = embedded_l + C_l                                                           # update \n",
    "C_r = embedded_r + C_r\n",
    "\n",
    "##\n",
    "\"\"\"\n",
    "C_l = tf.keras.layers.Dropout(rate)(C_l)\n",
    "C_r = tf.keras.layers.Dropout(rate)(C_r)\n",
    "\n",
    "C_l = embedded_l + C_l\n",
    "C_r = embedded_r + C_r\n",
    "\n",
    "\"\"\"\n",
    "##\n",
    "\n",
    "\n",
    "# Adding dense layer with one nueron. \n",
    "\n",
    "C_l = Dense(1)(C_l)                                                                       # layer7 (dense layer)\n",
    "C_r = Dense(1)(C_r)\n",
    "\n",
    "                                                        # return the cosine similarity on output of left & right sub-network\n",
    "y_pred = Dot(axes=(1), normalize=True)([C_l, C_r]) # y_pred == E_w\n",
    "                                                                                          # flattening\n",
    "y_pred = Flatten()(y_pred)\n",
    "# one final neuron with sigmoid as activation.\n",
    "y_pred = tf.keras.layers.Dense(1, activation=\"sigmoid\")(y_pred)                           # layer 8 (output layer)\n",
    "\n",
    "# define optimizer\n",
    "opt = tf.keras.optimizers.Adam(learning_rate=0.0001)\n",
    "\n",
    "\n",
    "siamese_net_4_mod_1 = Model(inputs=[left_input,right_input],outputs=y_pred)\n",
    "#siamese_net_4_mod_1.compile(loss=tf.keras.losses.BinaryCrossentropy(), optimizer=opt, \\\n",
    "siamese_net_4_mod_1.compile(loss=loss(margin=1), optimizer=opt, \\\n",
    "                      metrics=[tf.keras.metrics.Precision(thresholds=0.5),tf.keras.metrics.Recall(thresholds=0.5)])\n",
    "\n",
    "\n",
    "print(siamese_net_4_mod_1.summary())"
   ]
  },
  {
   "cell_type": "code",
   "execution_count": 60,
   "metadata": {},
   "outputs": [],
   "source": [
    "folder_path=dataiku.Folder(\"Name Screening notebooks\").get_path()"
   ]
  },
  {
   "cell_type": "markdown",
   "metadata": {},
   "source": [
    "# Training"
   ]
  },
  {
   "cell_type": "code",
   "execution_count": 61,
   "metadata": {
    "scrolled": true
   },
   "outputs": [
    {
     "name": "stdout",
     "output_type": "stream",
     "text": [
      "Epoch 1/30\n",
      "2207/2210 [============================>.] - ETA: 0s - loss: 0.2316 - precision: 0.6327 - recall: 0.9673\n",
      "Epoch 1: val_loss improved from inf to 0.20938, saving model to /app/dataiku_filesystem_managed/NAMESCREENING_1/X71uZTip/mixed_val_loss_ind_pe.hdf5\n",
      "2210/2210 [==============================] - 36s 15ms/step - loss: 0.2315 - precision: 0.6328 - recall: 0.9673 - val_loss: 0.2094 - val_precision: 0.6871 - val_recall: 0.9682 - lr: 1.0000e-04\n",
      "Epoch 2/30\n",
      "   5/2210 [..............................] - ETA: 32s - loss: 0.2011 - precision: 0.7395 - recall: 0.9670"
     ]
    },
    {
     "name": "stderr",
     "output_type": "stream",
     "text": [
      "You are saving your model as an HDF5 file via `model.save()`. This file format is considered legacy. We recommend using instead the native Keras format, e.g. `model.save('my_model.keras')`.\n"
     ]
    },
    {
     "name": "stdout",
     "output_type": "stream",
     "text": [
      "2208/2210 [============================>.] - ETA: 0s - loss: 0.2010 - precision: 0.7243 - recall: 0.9530\n",
      "Epoch 2: val_loss improved from 0.20938 to 0.19567, saving model to /app/dataiku_filesystem_managed/NAMESCREENING_1/X71uZTip/mixed_val_loss_ind_pe.hdf5\n",
      "2210/2210 [==============================] - 32s 15ms/step - loss: 0.2010 - precision: 0.7243 - recall: 0.9529 - val_loss: 0.1957 - val_precision: 0.7289 - val_recall: 0.9454 - lr: 1.0000e-04\n",
      "Epoch 3/30\n",
      "2207/2210 [============================>.] - ETA: 0s - loss: 0.1889 - precision: 0.7420 - recall: 0.9451\n",
      "Epoch 3: val_loss improved from 0.19567 to 0.18369, saving model to /app/dataiku_filesystem_managed/NAMESCREENING_1/X71uZTip/mixed_val_loss_ind_pe.hdf5\n",
      "2210/2210 [==============================] - 30s 14ms/step - loss: 0.1889 - precision: 0.7420 - recall: 0.9451 - val_loss: 0.1837 - val_precision: 0.7399 - val_recall: 0.9542 - lr: 1.0000e-04\n",
      "Epoch 4/30\n",
      "2208/2210 [============================>.] - ETA: 0s - loss: 0.1759 - precision: 0.7638 - recall: 0.9436\n",
      "Epoch 4: val_loss improved from 0.18369 to 0.17032, saving model to /app/dataiku_filesystem_managed/NAMESCREENING_1/X71uZTip/mixed_val_loss_ind_pe.hdf5\n",
      "2210/2210 [==============================] - 27s 12ms/step - loss: 0.1759 - precision: 0.7638 - recall: 0.9437 - val_loss: 0.1703 - val_precision: 0.7616 - val_recall: 0.9537 - lr: 1.0000e-04\n",
      "Epoch 5/30\n",
      "2208/2210 [============================>.] - ETA: 0s - loss: 0.1647 - precision: 0.7790 - recall: 0.9413\n",
      "Epoch 5: val_loss improved from 0.17032 to 0.16298, saving model to /app/dataiku_filesystem_managed/NAMESCREENING_1/X71uZTip/mixed_val_loss_ind_pe.hdf5\n",
      "2210/2210 [==============================] - 27s 12ms/step - loss: 0.1647 - precision: 0.7790 - recall: 0.9413 - val_loss: 0.1630 - val_precision: 0.7608 - val_recall: 0.9657 - lr: 1.0000e-04\n",
      "Epoch 6/30\n",
      "2210/2210 [==============================] - ETA: 0s - loss: 0.1558 - precision: 0.7852 - recall: 0.9387\n",
      "Epoch 6: val_loss improved from 0.16298 to 0.15257, saving model to /app/dataiku_filesystem_managed/NAMESCREENING_1/X71uZTip/mixed_val_loss_ind_pe.hdf5\n",
      "2210/2210 [==============================] - 28s 13ms/step - loss: 0.1558 - precision: 0.7852 - recall: 0.9387 - val_loss: 0.1526 - val_precision: 0.7950 - val_recall: 0.9236 - lr: 1.0000e-04\n",
      "Epoch 7/30\n",
      "2207/2210 [============================>.] - ETA: 0s - loss: 0.1483 - precision: 0.7917 - recall: 0.9361\n",
      "Epoch 7: val_loss improved from 0.15257 to 0.14483, saving model to /app/dataiku_filesystem_managed/NAMESCREENING_1/X71uZTip/mixed_val_loss_ind_pe.hdf5\n",
      "2210/2210 [==============================] - 28s 13ms/step - loss: 0.1483 - precision: 0.7916 - recall: 0.9360 - val_loss: 0.1448 - val_precision: 0.7927 - val_recall: 0.9404 - lr: 1.0000e-04\n",
      "Epoch 8/30\n",
      "2206/2210 [============================>.] - ETA: 0s - loss: 0.1420 - precision: 0.7951 - recall: 0.9377\n",
      "Epoch 8: val_loss improved from 0.14483 to 0.13935, saving model to /app/dataiku_filesystem_managed/NAMESCREENING_1/X71uZTip/mixed_val_loss_ind_pe.hdf5\n",
      "2210/2210 [==============================] - 28s 13ms/step - loss: 0.1420 - precision: 0.7950 - recall: 0.9377 - val_loss: 0.1394 - val_precision: 0.7874 - val_recall: 0.9529 - lr: 1.0000e-04\n",
      "Epoch 9/30\n",
      "2208/2210 [============================>.] - ETA: 0s - loss: 0.1368 - precision: 0.7986 - recall: 0.9386\n",
      "Epoch 9: val_loss improved from 0.13935 to 0.13470, saving model to /app/dataiku_filesystem_managed/NAMESCREENING_1/X71uZTip/mixed_val_loss_ind_pe.hdf5\n",
      "2210/2210 [==============================] - 28s 13ms/step - loss: 0.1368 - precision: 0.7986 - recall: 0.9386 - val_loss: 0.1347 - val_precision: 0.8011 - val_recall: 0.9371 - lr: 1.0000e-04\n",
      "Epoch 10/30\n",
      "2206/2210 [============================>.] - ETA: 0s - loss: 0.1320 - precision: 0.8021 - recall: 0.9397\n",
      "Epoch 10: val_loss improved from 0.13470 to 0.13053, saving model to /app/dataiku_filesystem_managed/NAMESCREENING_1/X71uZTip/mixed_val_loss_ind_pe.hdf5\n",
      "2210/2210 [==============================] - 28s 13ms/step - loss: 0.1319 - precision: 0.8022 - recall: 0.9398 - val_loss: 0.1305 - val_precision: 0.7945 - val_recall: 0.9542 - lr: 1.0000e-04\n",
      "Epoch 11/30\n",
      "2210/2210 [==============================] - ETA: 0s - loss: 0.1276 - precision: 0.8061 - recall: 0.9416\n",
      "Epoch 11: val_loss improved from 0.13053 to 0.12648, saving model to /app/dataiku_filesystem_managed/NAMESCREENING_1/X71uZTip/mixed_val_loss_ind_pe.hdf5\n",
      "2210/2210 [==============================] - 28s 13ms/step - loss: 0.1276 - precision: 0.8061 - recall: 0.9416 - val_loss: 0.1265 - val_precision: 0.8045 - val_recall: 0.9371 - lr: 1.0000e-04\n",
      "Epoch 12/30\n",
      "2208/2210 [============================>.] - ETA: 0s - loss: 0.1243 - precision: 0.8080 - recall: 0.9410\n",
      "Epoch 12: val_loss improved from 0.12648 to 0.12334, saving model to /app/dataiku_filesystem_managed/NAMESCREENING_1/X71uZTip/mixed_val_loss_ind_pe.hdf5\n",
      "2210/2210 [==============================] - 28s 13ms/step - loss: 0.1243 - precision: 0.8080 - recall: 0.9410 - val_loss: 0.1233 - val_precision: 0.7977 - val_recall: 0.9524 - lr: 1.0000e-04\n",
      "Epoch 13/30\n",
      "2209/2210 [============================>.] - ETA: 0s - loss: 0.1209 - precision: 0.8120 - recall: 0.9417\n",
      "Epoch 13: val_loss improved from 0.12334 to 0.12170, saving model to /app/dataiku_filesystem_managed/NAMESCREENING_1/X71uZTip/mixed_val_loss_ind_pe.hdf5\n",
      "2210/2210 [==============================] - 28s 13ms/step - loss: 0.1209 - precision: 0.8119 - recall: 0.9417 - val_loss: 0.1217 - val_precision: 0.7949 - val_recall: 0.9589 - lr: 1.0000e-04\n",
      "Epoch 14/30\n",
      "2206/2210 [============================>.] - ETA: 0s - loss: 0.1181 - precision: 0.8156 - recall: 0.9430\n",
      "Epoch 14: val_loss improved from 0.12170 to 0.11786, saving model to /app/dataiku_filesystem_managed/NAMESCREENING_1/X71uZTip/mixed_val_loss_ind_pe.hdf5\n",
      "2210/2210 [==============================] - 29s 13ms/step - loss: 0.1181 - precision: 0.8156 - recall: 0.9429 - val_loss: 0.1179 - val_precision: 0.8080 - val_recall: 0.9519 - lr: 1.0000e-04\n",
      "Epoch 15/30\n",
      "2207/2210 [============================>.] - ETA: 0s - loss: 0.1154 - precision: 0.8188 - recall: 0.9416\n",
      "Epoch 15: val_loss improved from 0.11786 to 0.11558, saving model to /app/dataiku_filesystem_managed/NAMESCREENING_1/X71uZTip/mixed_val_loss_ind_pe.hdf5\n",
      "2210/2210 [==============================] - 28s 13ms/step - loss: 0.1154 - precision: 0.8188 - recall: 0.9415 - val_loss: 0.1156 - val_precision: 0.8126 - val_recall: 0.9502 - lr: 1.0000e-04\n",
      "Epoch 16/30\n",
      "2209/2210 [============================>.] - ETA: 0s - loss: 0.1129 - precision: 0.8215 - recall: 0.9432\n",
      "Epoch 16: val_loss improved from 0.11558 to 0.11361, saving model to /app/dataiku_filesystem_managed/NAMESCREENING_1/X71uZTip/mixed_val_loss_ind_pe.hdf5\n",
      "2210/2210 [==============================] - 29s 13ms/step - loss: 0.1129 - precision: 0.8214 - recall: 0.9432 - val_loss: 0.1136 - val_precision: 0.8341 - val_recall: 0.9228 - lr: 1.0000e-04\n",
      "Epoch 17/30\n",
      "2209/2210 [============================>.] - ETA: 0s - loss: 0.1108 - precision: 0.8246 - recall: 0.9420\n",
      "Epoch 17: val_loss improved from 0.11361 to 0.11202, saving model to /app/dataiku_filesystem_managed/NAMESCREENING_1/X71uZTip/mixed_val_loss_ind_pe.hdf5\n",
      "2210/2210 [==============================] - 30s 13ms/step - loss: 0.1108 - precision: 0.8246 - recall: 0.9420 - val_loss: 0.1120 - val_precision: 0.8187 - val_recall: 0.9411 - lr: 1.0000e-04\n",
      "Epoch 18/30\n",
      "2207/2210 [============================>.] - ETA: 0s - loss: 0.1086 - precision: 0.8276 - recall: 0.9437\n",
      "Epoch 18: val_loss improved from 0.11202 to 0.10939, saving model to /app/dataiku_filesystem_managed/NAMESCREENING_1/X71uZTip/mixed_val_loss_ind_pe.hdf5\n",
      "2210/2210 [==============================] - 30s 13ms/step - loss: 0.1086 - precision: 0.8277 - recall: 0.9437 - val_loss: 0.1094 - val_precision: 0.8343 - val_recall: 0.9311 - lr: 1.0000e-04\n",
      "Epoch 19/30\n",
      "2208/2210 [============================>.] - ETA: 0s - loss: 0.1063 - precision: 0.8317 - recall: 0.9425\n",
      "Epoch 19: val_loss improved from 0.10939 to 0.10836, saving model to /app/dataiku_filesystem_managed/NAMESCREENING_1/X71uZTip/mixed_val_loss_ind_pe.hdf5\n",
      "2210/2210 [==============================] - 29s 13ms/step - loss: 0.1063 - precision: 0.8316 - recall: 0.9425 - val_loss: 0.1084 - val_precision: 0.8137 - val_recall: 0.9554 - lr: 1.0000e-04\n",
      "Epoch 20/30\n",
      "2209/2210 [============================>.] - ETA: 0s - loss: 0.1044 - precision: 0.8350 - recall: 0.9425\n",
      "Epoch 20: val_loss improved from 0.10836 to 0.10619, saving model to /app/dataiku_filesystem_managed/NAMESCREENING_1/X71uZTip/mixed_val_loss_ind_pe.hdf5\n",
      "2210/2210 [==============================] - 29s 13ms/step - loss: 0.1044 - precision: 0.8349 - recall: 0.9425 - val_loss: 0.1062 - val_precision: 0.8331 - val_recall: 0.9301 - lr: 1.0000e-04\n",
      "Epoch 21/30\n",
      "2209/2210 [============================>.] - ETA: 0s - loss: 0.1028 - precision: 0.8365 - recall: 0.9416\n",
      "Epoch 21: val_loss improved from 0.10619 to 0.10389, saving model to /app/dataiku_filesystem_managed/NAMESCREENING_1/X71uZTip/mixed_val_loss_ind_pe.hdf5\n",
      "2210/2210 [==============================] - 29s 13ms/step - loss: 0.1028 - precision: 0.8366 - recall: 0.9416 - val_loss: 0.1039 - val_precision: 0.8397 - val_recall: 0.9316 - lr: 1.0000e-04\n",
      "Epoch 22/30\n",
      "2207/2210 [============================>.] - ETA: 0s - loss: 0.1013 - precision: 0.8397 - recall: 0.9415\n",
      "Epoch 22: val_loss improved from 0.10389 to 0.10302, saving model to /app/dataiku_filesystem_managed/NAMESCREENING_1/X71uZTip/mixed_val_loss_ind_pe.hdf5\n",
      "2210/2210 [==============================] - 30s 13ms/step - loss: 0.1013 - precision: 0.8397 - recall: 0.9414 - val_loss: 0.1030 - val_precision: 0.8304 - val_recall: 0.9466 - lr: 1.0000e-04\n",
      "Epoch 23/30\n",
      "2206/2210 [============================>.] - ETA: 0s - loss: 0.1000 - precision: 0.8414 - recall: 0.9414\n",
      "Epoch 23: val_loss improved from 0.10302 to 0.10139, saving model to /app/dataiku_filesystem_managed/NAMESCREENING_1/X71uZTip/mixed_val_loss_ind_pe.hdf5\n",
      "2210/2210 [==============================] - 29s 13ms/step - loss: 0.1000 - precision: 0.8414 - recall: 0.9413 - val_loss: 0.1014 - val_precision: 0.8400 - val_recall: 0.9401 - lr: 1.0000e-04\n",
      "Epoch 24/30\n",
      "2207/2210 [============================>.] - ETA: 0s - loss: 0.0984 - precision: 0.8457 - recall: 0.9406\n",
      "Epoch 24: val_loss improved from 0.10139 to 0.10065, saving model to /app/dataiku_filesystem_managed/NAMESCREENING_1/X71uZTip/mixed_val_loss_ind_pe.hdf5\n",
      "2210/2210 [==============================] - 29s 13ms/step - loss: 0.0984 - precision: 0.8457 - recall: 0.9406 - val_loss: 0.1006 - val_precision: 0.8348 - val_recall: 0.9444 - lr: 1.0000e-04\n",
      "Epoch 25/30\n",
      "2208/2210 [============================>.] - ETA: 0s - loss: 0.0968 - precision: 0.8489 - recall: 0.9413\n",
      "Epoch 25: val_loss did not improve from 0.10065\n",
      "2210/2210 [==============================] - 29s 13ms/step - loss: 0.0968 - precision: 0.8488 - recall: 0.9413 - val_loss: 0.1009 - val_precision: 0.8246 - val_recall: 0.9542 - lr: 1.0000e-04\n",
      "Epoch 26/30\n",
      "2208/2210 [============================>.] - ETA: 0s - loss: 0.0954 - precision: 0.8512 - recall: 0.9402\n",
      "Epoch 26: val_loss improved from 0.10065 to 0.09802, saving model to /app/dataiku_filesystem_managed/NAMESCREENING_1/X71uZTip/mixed_val_loss_ind_pe.hdf5\n",
      "2210/2210 [==============================] - 29s 13ms/step - loss: 0.0954 - precision: 0.8512 - recall: 0.9402 - val_loss: 0.0980 - val_precision: 0.8430 - val_recall: 0.9361 - lr: 1.0000e-04\n",
      "Epoch 27/30\n",
      "2207/2210 [============================>.] - ETA: 0s - loss: 0.0945 - precision: 0.8528 - recall: 0.9401\n",
      "Epoch 27: val_loss improved from 0.09802 to 0.09725, saving model to /app/dataiku_filesystem_managed/NAMESCREENING_1/X71uZTip/mixed_val_loss_ind_pe.hdf5\n",
      "2210/2210 [==============================] - 31s 14ms/step - loss: 0.0945 - precision: 0.8527 - recall: 0.9402 - val_loss: 0.0972 - val_precision: 0.8359 - val_recall: 0.9491 - lr: 1.0000e-04\n",
      "Epoch 28/30\n",
      "2208/2210 [============================>.] - ETA: 0s - loss: 0.0932 - precision: 0.8544 - recall: 0.9396\n",
      "Epoch 28: val_loss improved from 0.09725 to 0.09611, saving model to /app/dataiku_filesystem_managed/NAMESCREENING_1/X71uZTip/mixed_val_loss_ind_pe.hdf5\n",
      "2210/2210 [==============================] - 30s 14ms/step - loss: 0.0932 - precision: 0.8545 - recall: 0.9396 - val_loss: 0.0961 - val_precision: 0.8530 - val_recall: 0.9316 - lr: 1.0000e-04\n",
      "Epoch 29/30\n",
      "2210/2210 [==============================] - ETA: 0s - loss: 0.0919 - precision: 0.8573 - recall: 0.9389\n",
      "Epoch 29: val_loss improved from 0.09611 to 0.09578, saving model to /app/dataiku_filesystem_managed/NAMESCREENING_1/X71uZTip/mixed_val_loss_ind_pe.hdf5\n",
      "2210/2210 [==============================] - 30s 14ms/step - loss: 0.0919 - precision: 0.8573 - recall: 0.9389 - val_loss: 0.0958 - val_precision: 0.8519 - val_recall: 0.9349 - lr: 1.0000e-04\n",
      "Epoch 30/30\n",
      "2209/2210 [============================>.] - ETA: 0s - loss: 0.0912 - precision: 0.8585 - recall: 0.9394\n",
      "Epoch 30: val_loss improved from 0.09578 to 0.09496, saving model to /app/dataiku_filesystem_managed/NAMESCREENING_1/X71uZTip/mixed_val_loss_ind_pe.hdf5\n",
      "2210/2210 [==============================] - 29s 13ms/step - loss: 0.0912 - precision: 0.8585 - recall: 0.9394 - val_loss: 0.0950 - val_precision: 0.8343 - val_recall: 0.9534 - lr: 1.0000e-04\n"
     ]
    }
   ],
   "source": [
    "from tensorflow.keras.callbacks import (ModelCheckpoint, TensorBoard, ReduceLROnPlateau,\n",
    "                                        CSVLogger, EarlyStopping)\n",
    "from tensorflow.keras.optimizers import Adam\n",
    "\n",
    "\n",
    "# checkpointer\n",
    "keras_callbacks   = [\\\n",
    "      EarlyStopping(monitor='val_loss', min_delta =0.01, patience=25, mode='min'),\\\n",
    "      ReduceLROnPlateau(monitor='val_loss', factor=0.75,patience=10, min_lr=0.000001),\\\n",
    "      ModelCheckpoint(filepath=os.path.join(folder_path,\"mixed_val_loss_ind_pe.hdf5\"),\n",
    "                      monitor='val_loss',\n",
    "                      verbose=1, \n",
    "                      save_best_only=True,\n",
    "                      save_weights_only=False,\n",
    "                      mode='min',\n",
    "                      )]\n",
    "history = siamese_net_4_mod_1.fit(x=[train_cust_names,train_wl_names],y=y_train,validation_data=([val_cust_names,val_wl_names],y_val),\n",
    "                       epochs = 30,\n",
    "                       verbose = 1,\n",
    "                       shuffle = True,\n",
    "                       callbacks=[keras_callbacks])"
   ]
  },
  {
   "cell_type": "code",
   "execution_count": 62,
   "metadata": {},
   "outputs": [
    {
     "data": {
      "text/plain": [
       "<keras.src.engine.functional.Functional at 0x7f82642c6d90>"
      ]
     },
     "execution_count": 62,
     "metadata": {},
     "output_type": "execute_result"
    }
   ],
   "source": [
    "model_path=os.path.join(folder_path,\"mixed_val_loss_ind_pe.hdf5\")\n",
    "tf.keras.models.load_model(model_path,compile=False)"
   ]
  },
  {
   "cell_type": "code",
   "execution_count": 63,
   "metadata": {
    "scrolled": true
   },
   "outputs": [
    {
     "name": "stdout",
     "output_type": "stream",
     "text": [
      "273/273 [==============================] - 2s 5ms/step\n"
     ]
    }
   ],
   "source": [
    "# metrics on test dataset\n",
    "y_pred=siamese_net_4_mod_1.predict([test_cust_names,test_wl_names])"
   ]
  },
  {
   "cell_type": "markdown",
   "metadata": {},
   "source": [
    "# SCORE GENERATION"
   ]
  },
  {
   "cell_type": "code",
   "execution_count": 66,
   "metadata": {},
   "outputs": [],
   "source": [
    "def score_generation(x,y):\n",
    "    if x==\"\" or y==\"\":\n",
    "        return 0\n",
    "    else:\n",
    "        sequences_names_cust=tk.texts_to_sequences([x])\n",
    "        sequences_names_wl=tk.texts_to_sequences([y])\n",
    "        cust_pad_names = pad_sequences(sequences_names_cust, maxlen, padding='post')\n",
    "        wl_pad_names = pad_sequences(sequences_names_wl, maxlen, padding='post')\n",
    "        cust_pad_names = np.array(cust_pad_names)\n",
    "        wl_pad_names = np.array(wl_pad_names)\n",
    "        return siamese_net_4_mod_1.predict([cust_pad_names,wl_pad_names])[0][0]"
   ]
  },
  {
   "cell_type": "code",
   "execution_count": 67,
   "metadata": {},
   "outputs": [
    {
     "name": "stdout",
     "output_type": "stream",
     "text": [
      "1/1 [==============================] - 0s 22ms/step\n",
      "0.8962383 Siddharth Gupta Siddharth Gupta\n",
      "1/1 [==============================] - 0s 22ms/step\n",
      "0.896259 Siddharth Gupta Siddharth-Gupta\n",
      "1/1 [==============================] - 0s 24ms/step\n",
      "0.06880779 Siddharth Gupta SiddharthGupta\n",
      "1/1 [==============================] - 0s 23ms/step\n",
      "0.115648754 Siddharth Gupta Gupta Siddharth\n",
      "1/1 [==============================] - 0s 22ms/step\n",
      "0.68486863 Kamlesh Kumar Singh Kamlesh Singh\n",
      "1/1 [==============================] - 0s 25ms/step\n",
      "0.11166333 Siddharth Gupta Sid Gupta\n",
      "1/1 [==============================] - 0s 22ms/step\n",
      "0.12393254 Siddharth Gupta Gupta Sid\n",
      "1/1 [==============================] - 0s 21ms/step\n",
      "0.19850382 Kamlesh Kumar Singh Singh Kamlesh\n"
     ]
    }
   ],
   "source": [
    "# check for name variations\n",
    "#exact names\n",
    "print(score_generation(\"Siddharth Gupta\",\"Siddharth Gupta\"),\"Siddharth Gupta\",\"Siddharth Gupta\")\n",
    "# spaces and hypens\n",
    "print(score_generation(\"Siddharth Gupta\",\"Siddharth-Gupta\"),\"Siddharth Gupta\",\"Siddharth-Gupta\")\n",
    "print(score_generation(\"Siddharth Gupta\",\"SiddharthGupta\"),\"Siddharth Gupta\",\"SiddharthGupta\")\n",
    "# out of order\n",
    "print(score_generation(\"Siddharth Gupta\",\"Gupta Siddharth\"),\"Siddharth Gupta\",\"Gupta Siddharth\")\n",
    "\n",
    "# missing word component\n",
    "print(score_generation(\"Kamlesh Kumar Singh\",\"Kamlesh Singh\"),\"Kamlesh Kumar Singh\",\"Kamlesh Singh\")\n",
    "# Truncated similiar names\n",
    "print(score_generation(\"Siddharth Gupta\",\"Sid Gupta\"),\"Siddharth Gupta\",\"Sid Gupta\")\n",
    "\n",
    "# truncated and out of order component\n",
    "print(score_generation(\"Siddharth Gupta\",\"Gupta Sid\"),\"Siddharth Gupta\",\"Gupta Sid\")\n",
    "# truncated and missing word component\n",
    "print(score_generation(\"Kamlesh Kumar Singh\",\"Singh Kamlesh\"),\"Kamlesh Kumar Singh\",\"Singh Kamlesh\")"
   ]
  },
  {
   "cell_type": "code",
   "execution_count": 84,
   "metadata": {},
   "outputs": [
    {
     "data": {
      "text/plain": [
       "(8744, 1)"
      ]
     },
     "execution_count": 84,
     "metadata": {},
     "output_type": "execute_result"
    }
   ],
   "source": [
    "y_pred.shape"
   ]
  },
  {
   "cell_type": "code",
   "execution_count": 85,
   "metadata": {},
   "outputs": [],
   "source": [
    "threshold=0.5\n",
    "y_pred_binary_score=np.array([ 1 if i>threshold else 0 for i in y_pred.flatten()])"
   ]
  },
  {
   "cell_type": "code",
   "execution_count": 86,
   "metadata": {},
   "outputs": [],
   "source": [
    "recall=tf.keras.metrics.Recall(thresholds=0.5)"
   ]
  },
  {
   "cell_type": "code",
   "execution_count": 87,
   "metadata": {},
   "outputs": [],
   "source": [
    "recall.update_state(y_test,y_pred)\n",
    "recall_value = recall.result().numpy()"
   ]
  },
  {
   "cell_type": "code",
   "execution_count": 88,
   "metadata": {},
   "outputs": [
    {
     "data": {
      "text/plain": [
       "0.917613"
      ]
     },
     "execution_count": 88,
     "metadata": {},
     "output_type": "execute_result"
    }
   ],
   "source": [
    "recall_value"
   ]
  },
  {
   "cell_type": "code",
   "execution_count": 89,
   "metadata": {},
   "outputs": [],
   "source": [
    "precision=tf.keras.metrics.Precision(thresholds=0.5)\n",
    "precision.update_state(y_test,y_pred)\n",
    "precision_value = precision.result().numpy()"
   ]
  },
  {
   "cell_type": "code",
   "execution_count": 90,
   "metadata": {
    "scrolled": true
   },
   "outputs": [
    {
     "data": {
      "text/plain": [
       "0.8740191"
      ]
     },
     "execution_count": 90,
     "metadata": {},
     "output_type": "execute_result"
    }
   ],
   "source": [
    "precision_value"
   ]
  },
  {
   "cell_type": "code",
   "execution_count": 91,
   "metadata": {},
   "outputs": [
    {
     "name": "stdout",
     "output_type": "stream",
     "text": [
      "274/274 [==============================] - 1s 5ms/step\n"
     ]
    },
    {
     "data": {
      "text/plain": [
       "array([[0.6415718 ],\n",
       "       [0.01102902],\n",
       "       [0.05983183],\n",
       "       ...,\n",
       "       [0.90826786],\n",
       "       [0.76519495],\n",
       "       [0.05551093]], dtype=float32)"
      ]
     },
     "execution_count": 91,
     "metadata": {},
     "output_type": "execute_result"
    }
   ],
   "source": [
    "siamese_net_4_mod_1.predict([test_cust_names,test_wl_names])"
   ]
  },
  {
   "cell_type": "code",
   "execution_count": 92,
   "metadata": {
    "scrolled": false
   },
   "outputs": [
    {
     "name": "stdout",
     "output_type": "stream",
     "text": [
      "141/141 [==============================] - 1s 5ms/step\n"
     ]
    },
    {
     "name": "stderr",
     "output_type": "stream",
     "text": [
      "the `interpolation=` argument to percentile was renamed to `method=`, which has additional options.\n",
      "Users of the modes 'nearest', 'lower', 'higher', or 'midpoint' are encouraged to review the method they used. (Deprecated NumPy 1.22)\n"
     ]
    },
    {
     "data": {
      "text/html": [
       "\n",
       "            <button style=\"display:none\" \n",
       "            class=\"btn btn-default ipython-export-btn\" \n",
       "            id=\"btn-df-1f97a66e-524e-41e0-baa3-b527b6ba48d1\" \n",
       "            onclick=\"_export_df('1f97a66e-524e-41e0-baa3-b527b6ba48d1')\">\n",
       "                Export dataframe\n",
       "            </button>\n",
       "            \n",
       "            <script>\n",
       "                \n",
       "                function _check_export_df_possible(dfid,yes_fn,no_fn) {\n",
       "                    console.log('Checking dataframe exportability...')\n",
       "                    if(!IPython || !IPython.notebook || !IPython.notebook.kernel || !IPython.notebook.kernel) {\n",
       "                        console.log('Export is not possible (IPython kernel is not available)')\n",
       "                        if(no_fn) {\n",
       "                            no_fn();\n",
       "                        }\n",
       "                    } else {\n",
       "                        var pythonCode = 'from dataiku.notebook.export import IPythonExporter;IPythonExporter._check_export_stdout(\"'+dfid+'\")';\n",
       "                        IPython.notebook.kernel.execute(pythonCode,{iopub: {output: function(resp) {\n",
       "                            console.info(\"Exportability response\", resp);\n",
       "                            var size = /^([0-9]+)x([0-9]+)$/.exec(resp.content.data || resp.content.text)\n",
       "                            if(!size) {\n",
       "                                console.log('Export is not possible (dataframe is not in-memory anymore)')\n",
       "                                if(no_fn) {\n",
       "                                    no_fn();\n",
       "                                }\n",
       "                            } else {\n",
       "                                console.log('Export is possible')\n",
       "                                if(yes_fn) {\n",
       "                                    yes_fn(1*size[1],1*size[2]);\n",
       "                                }\n",
       "                            }\n",
       "                        }}});\n",
       "                    }\n",
       "                }\n",
       "            \n",
       "                function _export_df(dfid) {\n",
       "                    \n",
       "                    var btn = $('#btn-df-'+dfid);\n",
       "                    var btns = $('.ipython-export-btn');\n",
       "                    \n",
       "                    _check_export_df_possible(dfid,function() {\n",
       "                        \n",
       "                        window.parent.openExportModalFromIPython('Pandas dataframe',function(data) {\n",
       "                            btns.prop('disabled',true);\n",
       "                            btn.text('Exporting...');\n",
       "                            var command = 'from dataiku.notebook.export import IPythonExporter;IPythonExporter._run_export(\"'+dfid+'\",\"'+data.exportId+'\")';\n",
       "                            var callback = {iopub:{output: function(resp) {\n",
       "                                console.info(\"CB resp:\", resp);\n",
       "                                _check_export_df_possible(dfid,function(rows, cols) {\n",
       "                                    $('#btn-df-'+dfid)\n",
       "                                        .css('display','inline-block')\n",
       "                                        .text('Export this dataframe ('+rows+' rows, '+cols+' cols)')\n",
       "                                        .prop('disabled',false);\n",
       "                                },function() {\n",
       "                                    $('#btn-df-'+dfid).css('display','none');\n",
       "                                });\n",
       "                            }}};\n",
       "                            IPython.notebook.kernel.execute(command,callback,{silent:false}); // yes, silent now defaults to true. figures.\n",
       "                        });\n",
       "                    \n",
       "                    }, function(){\n",
       "                            alert('Unable to export : the Dataframe object is not loaded in memory');\n",
       "                            btn.css('display','none');\n",
       "                    });\n",
       "                    \n",
       "                }\n",
       "                \n",
       "                (function(dfid) {\n",
       "                \n",
       "                    var retryCount = 10;\n",
       "                \n",
       "                    function is_valid_websock(s) {\n",
       "                        return s && s.readyState==1;\n",
       "                    }\n",
       "                \n",
       "                    function check_conn() {\n",
       "                        \n",
       "                        if(typeof(IPython) === \"undefined\" || !IPython || !IPython.notebook) {\n",
       "                            // Don't even try to go further\n",
       "                            return;\n",
       "                        }\n",
       "                        \n",
       "                        // Check if IPython is ready\n",
       "                        console.info(\"Checking conn ...\")\n",
       "                        if(IPython.notebook.kernel\n",
       "                        && IPython.notebook.kernel\n",
       "                        && is_valid_websock(IPython.notebook.kernel.ws)\n",
       "                        ) {\n",
       "                            \n",
       "                            _check_export_df_possible(dfid,function(rows, cols) {\n",
       "                                $('#btn-df-'+dfid).css('display','inline-block');\n",
       "                                $('#btn-df-'+dfid).text('Export this dataframe ('+rows+' rows, '+cols+' cols)');\n",
       "                            });\n",
       "                            \n",
       "                        } else {\n",
       "                            console.info(\"Conditions are not ok\", IPython.notebook.kernel);\n",
       "                            \n",
       "                            // Retry later\n",
       "                            \n",
       "                            if(retryCount>0) {\n",
       "                                setTimeout(check_conn,500);\n",
       "                                retryCount--;\n",
       "                            }\n",
       "                            \n",
       "                        }\n",
       "                    };\n",
       "                    \n",
       "                    setTimeout(check_conn,100);\n",
       "                    \n",
       "                })(\"1f97a66e-524e-41e0-baa3-b527b6ba48d1\");\n",
       "                \n",
       "            </script>\n",
       "            \n",
       "        <div>\n",
       "<style scoped>\n",
       "    .dataframe tbody tr th:only-of-type {\n",
       "        vertical-align: middle;\n",
       "    }\n",
       "\n",
       "    .dataframe tbody tr th {\n",
       "        vertical-align: top;\n",
       "    }\n",
       "\n",
       "    .dataframe thead th {\n",
       "        text-align: right;\n",
       "    }\n",
       "</style>\n",
       "<table border=\"1\" class=\"dataframe\">\n",
       "  <thead>\n",
       "    <tr style=\"text-align: right;\">\n",
       "      <th></th>\n",
       "      <th>0</th>\n",
       "    </tr>\n",
       "  </thead>\n",
       "  <tbody>\n",
       "    <tr>\n",
       "      <th>count</th>\n",
       "      <td>4491.000000</td>\n",
       "    </tr>\n",
       "    <tr>\n",
       "      <th>mean</th>\n",
       "      <td>0.796519</td>\n",
       "    </tr>\n",
       "    <tr>\n",
       "      <th>std</th>\n",
       "      <td>0.184340</td>\n",
       "    </tr>\n",
       "    <tr>\n",
       "      <th>min</th>\n",
       "      <td>0.003059</td>\n",
       "    </tr>\n",
       "    <tr>\n",
       "      <th>25%</th>\n",
       "      <td>0.783597</td>\n",
       "    </tr>\n",
       "    <tr>\n",
       "      <th>50%</th>\n",
       "      <td>0.872271</td>\n",
       "    </tr>\n",
       "    <tr>\n",
       "      <th>75%</th>\n",
       "      <td>0.901972</td>\n",
       "    </tr>\n",
       "    <tr>\n",
       "      <th>max</th>\n",
       "      <td>0.928401</td>\n",
       "    </tr>\n",
       "  </tbody>\n",
       "</table>\n",
       "</div>"
      ],
      "text/plain": [
       "                 0\n",
       "count  4491.000000\n",
       "mean      0.796519\n",
       "std       0.184340\n",
       "min       0.003059\n",
       "25%       0.783597\n",
       "50%       0.872271\n",
       "75%       0.901972\n",
       "max       0.928401"
      ]
     },
     "execution_count": 92,
     "metadata": {},
     "output_type": "execute_result"
    }
   ],
   "source": [
    "# investigation on test datasets for checking the match of predicted value and test value when names of both profiles are same\n",
    "results_on_test_when_same_name=siamese_net_4_mod_1.predict([test_cust_names[np.where(y_test==1)],test_wl_names[np.where(y_test==1)]])\n",
    "pd.DataFrame(results_on_test_when_same_name).describe()"
   ]
  },
  {
   "cell_type": "code",
   "execution_count": 93,
   "metadata": {},
   "outputs": [
    {
     "data": {
      "text/plain": [
       "(array([[0.6415718],\n",
       "        [0.9055902],\n",
       "        [0.8371424],\n",
       "        ...,\n",
       "        [0.9121064],\n",
       "        [0.8864029],\n",
       "        [0.908268 ]], dtype=float32),\n",
       " array([[0.6415718 ],\n",
       "        [0.01102902],\n",
       "        [0.05983183],\n",
       "        ...,\n",
       "        [0.90826786],\n",
       "        [0.76519495],\n",
       "        [0.05551093]], dtype=float32))"
      ]
     },
     "execution_count": 93,
     "metadata": {},
     "output_type": "execute_result"
    }
   ],
   "source": [
    "results_on_test_when_same_name,y_pred"
   ]
  },
  {
   "cell_type": "code",
   "execution_count": 94,
   "metadata": {
    "scrolled": true
   },
   "outputs": [
    {
     "data": {
      "text/plain": [
       "<function matplotlib.pyplot.show(close=None, block=None)>"
      ]
     },
     "execution_count": 94,
     "metadata": {},
     "output_type": "execute_result"
    },
    {
     "data": {
      "image/png": "[encoded data removed]",
      "text/plain": [
       "<Figure size 640x480 with 2 Axes>"
      ]
     },
     "metadata": {},
     "output_type": "display_data"
    }
   ],
   "source": [
    "fig,ax=plt.subplots(nrows=2,ncols=1)\n",
    "#plt.scatter(np.arange(len(results_on_test_when_same_name)),results_on_test_when_same_name)\n",
    "ax[0].hist(results_on_test_when_same_name,10)\n",
    "ax[1].scatter(np.arange(len(results_on_test_when_same_name)),results_on_test_when_same_name)\n",
    "\n",
    "plt.show"
   ]
  },
  {
   "cell_type": "code",
   "execution_count": 95,
   "metadata": {
    "scrolled": true
   },
   "outputs": [
    {
     "name": "stdout",
     "output_type": "stream",
     "text": [
      "133/133 [==============================] - 1s 4ms/step\n"
     ]
    },
    {
     "name": "stderr",
     "output_type": "stream",
     "text": [
      "the `interpolation=` argument to percentile was renamed to `method=`, which has additional options.\n",
      "Users of the modes 'nearest', 'lower', 'higher', or 'midpoint' are encouraged to review the method they used. (Deprecated NumPy 1.22)\n"
     ]
    },
    {
     "data": {
      "text/html": [
       "\n",
       "            <button style=\"display:none\" \n",
       "            class=\"btn btn-default ipython-export-btn\" \n",
       "            id=\"btn-df-d61ca74a-d95c-4c69-9761-98728918c31f\" \n",
       "            onclick=\"_export_df('d61ca74a-d95c-4c69-9761-98728918c31f')\">\n",
       "                Export dataframe\n",
       "            </button>\n",
       "            \n",
       "            <script>\n",
       "                \n",
       "                function _check_export_df_possible(dfid,yes_fn,no_fn) {\n",
       "                    console.log('Checking dataframe exportability...')\n",
       "                    if(!IPython || !IPython.notebook || !IPython.notebook.kernel || !IPython.notebook.kernel) {\n",
       "                        console.log('Export is not possible (IPython kernel is not available)')\n",
       "                        if(no_fn) {\n",
       "                            no_fn();\n",
       "                        }\n",
       "                    } else {\n",
       "                        var pythonCode = 'from dataiku.notebook.export import IPythonExporter;IPythonExporter._check_export_stdout(\"'+dfid+'\")';\n",
       "                        IPython.notebook.kernel.execute(pythonCode,{iopub: {output: function(resp) {\n",
       "                            console.info(\"Exportability response\", resp);\n",
       "                            var size = /^([0-9]+)x([0-9]+)$/.exec(resp.content.data || resp.content.text)\n",
       "                            if(!size) {\n",
       "                                console.log('Export is not possible (dataframe is not in-memory anymore)')\n",
       "                                if(no_fn) {\n",
       "                                    no_fn();\n",
       "                                }\n",
       "                            } else {\n",
       "                                console.log('Export is possible')\n",
       "                                if(yes_fn) {\n",
       "                                    yes_fn(1*size[1],1*size[2]);\n",
       "                                }\n",
       "                            }\n",
       "                        }}});\n",
       "                    }\n",
       "                }\n",
       "            \n",
       "                function _export_df(dfid) {\n",
       "                    \n",
       "                    var btn = $('#btn-df-'+dfid);\n",
       "                    var btns = $('.ipython-export-btn');\n",
       "                    \n",
       "                    _check_export_df_possible(dfid,function() {\n",
       "                        \n",
       "                        window.parent.openExportModalFromIPython('Pandas dataframe',function(data) {\n",
       "                            btns.prop('disabled',true);\n",
       "                            btn.text('Exporting...');\n",
       "                            var command = 'from dataiku.notebook.export import IPythonExporter;IPythonExporter._run_export(\"'+dfid+'\",\"'+data.exportId+'\")';\n",
       "                            var callback = {iopub:{output: function(resp) {\n",
       "                                console.info(\"CB resp:\", resp);\n",
       "                                _check_export_df_possible(dfid,function(rows, cols) {\n",
       "                                    $('#btn-df-'+dfid)\n",
       "                                        .css('display','inline-block')\n",
       "                                        .text('Export this dataframe ('+rows+' rows, '+cols+' cols)')\n",
       "                                        .prop('disabled',false);\n",
       "                                },function() {\n",
       "                                    $('#btn-df-'+dfid).css('display','none');\n",
       "                                });\n",
       "                            }}};\n",
       "                            IPython.notebook.kernel.execute(command,callback,{silent:false}); // yes, silent now defaults to true. figures.\n",
       "                        });\n",
       "                    \n",
       "                    }, function(){\n",
       "                            alert('Unable to export : the Dataframe object is not loaded in memory');\n",
       "                            btn.css('display','none');\n",
       "                    });\n",
       "                    \n",
       "                }\n",
       "                \n",
       "                (function(dfid) {\n",
       "                \n",
       "                    var retryCount = 10;\n",
       "                \n",
       "                    function is_valid_websock(s) {\n",
       "                        return s && s.readyState==1;\n",
       "                    }\n",
       "                \n",
       "                    function check_conn() {\n",
       "                        \n",
       "                        if(typeof(IPython) === \"undefined\" || !IPython || !IPython.notebook) {\n",
       "                            // Don't even try to go further\n",
       "                            return;\n",
       "                        }\n",
       "                        \n",
       "                        // Check if IPython is ready\n",
       "                        console.info(\"Checking conn ...\")\n",
       "                        if(IPython.notebook.kernel\n",
       "                        && IPython.notebook.kernel\n",
       "                        && is_valid_websock(IPython.notebook.kernel.ws)\n",
       "                        ) {\n",
       "                            \n",
       "                            _check_export_df_possible(dfid,function(rows, cols) {\n",
       "                                $('#btn-df-'+dfid).css('display','inline-block');\n",
       "                                $('#btn-df-'+dfid).text('Export this dataframe ('+rows+' rows, '+cols+' cols)');\n",
       "                            });\n",
       "                            \n",
       "                        } else {\n",
       "                            console.info(\"Conditions are not ok\", IPython.notebook.kernel);\n",
       "                            \n",
       "                            // Retry later\n",
       "                            \n",
       "                            if(retryCount>0) {\n",
       "                                setTimeout(check_conn,500);\n",
       "                                retryCount--;\n",
       "                            }\n",
       "                            \n",
       "                        }\n",
       "                    };\n",
       "                    \n",
       "                    setTimeout(check_conn,100);\n",
       "                    \n",
       "                })(\"d61ca74a-d95c-4c69-9761-98728918c31f\");\n",
       "                \n",
       "            </script>\n",
       "            \n",
       "        <div>\n",
       "<style scoped>\n",
       "    .dataframe tbody tr th:only-of-type {\n",
       "        vertical-align: middle;\n",
       "    }\n",
       "\n",
       "    .dataframe tbody tr th {\n",
       "        vertical-align: top;\n",
       "    }\n",
       "\n",
       "    .dataframe thead th {\n",
       "        text-align: right;\n",
       "    }\n",
       "</style>\n",
       "<table border=\"1\" class=\"dataframe\">\n",
       "  <thead>\n",
       "    <tr style=\"text-align: right;\">\n",
       "      <th></th>\n",
       "      <th>0</th>\n",
       "    </tr>\n",
       "  </thead>\n",
       "  <tbody>\n",
       "    <tr>\n",
       "      <th>count</th>\n",
       "      <td>4253.000000</td>\n",
       "    </tr>\n",
       "    <tr>\n",
       "      <th>mean</th>\n",
       "      <td>0.199911</td>\n",
       "    </tr>\n",
       "    <tr>\n",
       "      <th>std</th>\n",
       "      <td>0.236946</td>\n",
       "    </tr>\n",
       "    <tr>\n",
       "      <th>min</th>\n",
       "      <td>0.001695</td>\n",
       "    </tr>\n",
       "    <tr>\n",
       "      <th>25%</th>\n",
       "      <td>0.035021</td>\n",
       "    </tr>\n",
       "    <tr>\n",
       "      <th>50%</th>\n",
       "      <td>0.091652</td>\n",
       "    </tr>\n",
       "    <tr>\n",
       "      <th>75%</th>\n",
       "      <td>0.273082</td>\n",
       "    </tr>\n",
       "    <tr>\n",
       "      <th>max</th>\n",
       "      <td>0.928837</td>\n",
       "    </tr>\n",
       "  </tbody>\n",
       "</table>\n",
       "</div>"
      ],
      "text/plain": [
       "                 0\n",
       "count  4253.000000\n",
       "mean      0.199911\n",
       "std       0.236946\n",
       "min       0.001695\n",
       "25%       0.035021\n",
       "50%       0.091652\n",
       "75%       0.273082\n",
       "max       0.928837"
      ]
     },
     "execution_count": 95,
     "metadata": {},
     "output_type": "execute_result"
    }
   ],
   "source": [
    "# investigation on test datapoints when customer and watchlist name miss-match\n",
    "results_on_test_when_diff_name=siamese_net_4_mod_1.predict([test_cust_names[np.where(y_test==0)],test_wl_names[np.where(y_test==0)]])\n",
    "pd.DataFrame(results_on_test_when_diff_name).describe()"
   ]
  },
  {
   "cell_type": "code",
   "execution_count": 96,
   "metadata": {},
   "outputs": [
    {
     "data": {
      "text/plain": [
       "<function matplotlib.pyplot.show(close=None, block=None)>"
      ]
     },
     "execution_count": 96,
     "metadata": {},
     "output_type": "execute_result"
    },
    {
     "data": {
      "image/png": "[encoded data removed]",
      "text/plain": [
       "<Figure size 640x480 with 2 Axes>"
      ]
     },
     "metadata": {},
     "output_type": "display_data"
    }
   ],
   "source": [
    "fig,ax=plt.subplots(nrows=2,ncols=1)\n",
    "\n",
    "ax[0].hist(results_on_test_when_diff_name,10)\n",
    "ax[1].scatter(np.arange(len(results_on_test_when_diff_name)),results_on_test_when_diff_name)\n",
    "\n",
    "plt.show"
   ]
  },
  {
   "cell_type": "markdown",
   "metadata": {},
   "source": [
    "### Graphical Analysis"
   ]
  },
  {
   "cell_type": "code",
   "execution_count": 97,
   "metadata": {},
   "outputs": [
    {
     "data": {
      "image/png": "[encoded data removed]",
      "text/plain": [
       "<Figure size 640x480 with 1 Axes>"
      ]
     },
     "metadata": {},
     "output_type": "display_data"
    }
   ],
   "source": [
    "import matplotlib.pyplot as plt\n",
    "plt.plot(history.history['loss'])\n",
    "plt.plot(history.history['val_loss'])\n",
    "plt.title('model loss')\n",
    "plt.ylabel('loss')\n",
    "plt.xlabel('epoch')\n",
    "plt.legend(['train', 'val'], loc='upper right')\n",
    "plt.show()"
   ]
  },
  {
   "cell_type": "code",
   "execution_count": 98,
   "metadata": {},
   "outputs": [
    {
     "data": {
      "text/plain": [
       "dict_keys(['loss', 'precision', 'recall', 'val_loss', 'val_precision', 'val_recall', 'lr'])"
      ]
     },
     "execution_count": 98,
     "metadata": {},
     "output_type": "execute_result"
    }
   ],
   "source": [
    "history.history.keys()\n"
   ]
  },
  {
   "cell_type": "markdown",
   "metadata": {},
   "source": [
    "We conclude that after 20 epochs val loss comes to saturation meanwhile train loss may go down increasing possiblity of \n",
    "overfitting"
   ]
  },
  {
   "cell_type": "code",
   "execution_count": 99,
   "metadata": {},
   "outputs": [
    {
     "ename": "KeyError",
     "evalue": "'precision_5'",
     "output_type": "error",
     "traceback": [
      "\u001b[0;31m---------------------------------------------------------------------------\u001b[0m",
      "\u001b[0;31mKeyError\u001b[0m                                  Traceback (most recent call last)",
      "\u001b[0;32m<ipython-input-99-5e6d87fc3104>\u001b[0m in \u001b[0;36m<cell line: 12>\u001b[0;34m()\u001b[0m\n\u001b[1;32m     10\u001b[0m \u001b[0;34m\u001b[0m\u001b[0m\n\u001b[1;32m     11\u001b[0m \u001b[0mplt\u001b[0m\u001b[0;34m.\u001b[0m\u001b[0msca\u001b[0m\u001b[0;34m(\u001b[0m\u001b[0max\u001b[0m\u001b[0;34m[\u001b[0m\u001b[0;36m0\u001b[0m\u001b[0;34m,\u001b[0m\u001b[0;36m1\u001b[0m\u001b[0;34m]\u001b[0m\u001b[0;34m)\u001b[0m\u001b[0;34m\u001b[0m\u001b[0;34m\u001b[0m\u001b[0m\n\u001b[0;32m---> 12\u001b[0;31m \u001b[0max\u001b[0m\u001b[0;34m[\u001b[0m\u001b[0;36m0\u001b[0m\u001b[0;34m,\u001b[0m\u001b[0;36m1\u001b[0m\u001b[0;34m]\u001b[0m\u001b[0;34m.\u001b[0m\u001b[0mscatter\u001b[0m\u001b[0;34m(\u001b[0m\u001b[0mrange\u001b[0m\u001b[0;34m(\u001b[0m\u001b[0;36m1\u001b[0m\u001b[0;34m,\u001b[0m\u001b[0mN_epochs\u001b[0m\u001b[0;34m+\u001b[0m\u001b[0;36m1\u001b[0m\u001b[0;34m)\u001b[0m\u001b[0;34m,\u001b[0m\u001b[0mhistory\u001b[0m\u001b[0;34m.\u001b[0m\u001b[0mhistory\u001b[0m\u001b[0;34m[\u001b[0m\u001b[0;34m'precision_5'\u001b[0m\u001b[0;34m]\u001b[0m\u001b[0;34m)\u001b[0m\u001b[0;34m\u001b[0m\u001b[0;34m\u001b[0m\u001b[0m\n\u001b[0m\u001b[1;32m     13\u001b[0m \u001b[0mplt\u001b[0m\u001b[0;34m.\u001b[0m\u001b[0mxlabel\u001b[0m\u001b[0;34m(\u001b[0m\u001b[0;34m\"epochs\"\u001b[0m\u001b[0;34m)\u001b[0m\u001b[0;34m\u001b[0m\u001b[0;34m\u001b[0m\u001b[0m\n\u001b[1;32m     14\u001b[0m \u001b[0mplt\u001b[0m\u001b[0;34m.\u001b[0m\u001b[0mylabel\u001b[0m\u001b[0;34m(\u001b[0m\u001b[0;34m\"Precision\"\u001b[0m\u001b[0;34m)\u001b[0m\u001b[0;34m\u001b[0m\u001b[0;34m\u001b[0m\u001b[0m\n",
      "\u001b[0;31mKeyError\u001b[0m: 'precision_5'"
     ]
    },
    {
     "data": {
      "image/png": "[encoded data removed]",
      "text/plain": [
       "<Figure size 1200x1200 with 6 Axes>"
      ]
     },
     "metadata": {},
     "output_type": "display_data"
    }
   ],
   "source": [
    "N_epochs=len(history.history['loss'])\n",
    "fig,ax=plt.subplots(nrows=2,ncols=3,squeeze=False,figsize=(12,12))\n",
    "plt.sca(ax[0,0])\n",
    "ax[0,0].scatter(range(1,N_epochs+1),history.history['loss'])\n",
    "\n",
    "plt.xlabel(\"epochs\")\n",
    "plt.ylabel(\"loss\")\n",
    "plt.title(\"Training data loss\",fontsize=9)\n",
    "plt.grid()\n",
    "\n",
    "plt.sca(ax[0,1])\n",
    "ax[0,1].scatter(range(1,N_epochs+1),history.history['precision_5'])\n",
    "plt.xlabel(\"epochs\")\n",
    "plt.ylabel(\"Precision\")\n",
    "plt.title(\"Precision\",fontsize=9)\n",
    "plt.grid()\n",
    "\n",
    "plt.sca(ax[0,2])\n",
    "ax[0,2].scatter(range(1,N_epochs+1),history.history['recall_5'])\n",
    "plt.xlabel(\"epochs\")\n",
    "plt.ylabel(\"Recall\")\n",
    "plt.title(\"Recall\",fontsize=9)\n",
    "plt.grid()\n",
    "\n",
    "\n",
    "plt.sca(ax[1,1])\n",
    "ax[1,1].scatter(range(1,N_epochs+1),history.history['val_precision_5'])\n",
    "plt.xlabel(\"epochs\")\n",
    "plt.ylabel(\"Val_Precision\")\n",
    "plt.title(\"Val_Precision\",fontsize=9)\n",
    "plt.grid()\n",
    "\n",
    "plt.sca(ax[1,2])\n",
    "ax[1,2].scatter(range(1,N_epochs+1),history.history['val_recall_5'])\n",
    "plt.xlabel(\"epochs\")\n",
    "plt.ylabel(\"Val_Recall\")\n",
    "plt.title(\"Val_Recall\",fontsize=9)\n",
    "plt.grid()\n",
    "                                                    \n",
    "plt.sca(ax[1,0])\n",
    "ax[1,0].scatter(range(1,N_epochs+1),history.history['val_loss'],color=\"orange\")\n",
    "\n",
    "plt.xlabel(\"epochs\")\n",
    "plt.ylabel(\"val_loss\")\n",
    "plt.title(\"Validation data loss\",fontsize=9)\n",
    "plt.grid()\n",
    "fig.tight_layout()\n",
    "plt.show()"
   ]
  },
  {
   "cell_type": "markdown",
   "metadata": {},
   "source": [
    "### Prediction on Test  data"
   ]
  },
  {
   "cell_type": "code",
   "execution_count": 100,
   "metadata": {
    "scrolled": true
   },
   "outputs": [
    {
     "data": {
      "text/plain": [
       "array([1, 0, 0, ..., 1, 0, 0])"
      ]
     },
     "execution_count": 100,
     "metadata": {},
     "output_type": "execute_result"
    }
   ],
   "source": [
    "y_test"
   ]
  },
  {
   "cell_type": "code",
   "execution_count": 101,
   "metadata": {
    "scrolled": true
   },
   "outputs": [
    {
     "name": "stdout",
     "output_type": "stream",
     "text": [
      "274/274 [==============================] - 2s 6ms/step\n"
     ]
    }
   ],
   "source": [
    "# metrics on test dataset\n",
    "y_pred=siamese_net_4_mod_1.predict([test_cust_names,test_wl_names])"
   ]
  },
  {
   "cell_type": "code",
   "execution_count": 102,
   "metadata": {
    "scrolled": true
   },
   "outputs": [
    {
     "data": {
      "text/plain": [
       "array([[0.6415718 ],\n",
       "       [0.01102902],\n",
       "       [0.05983183],\n",
       "       ...,\n",
       "       [0.90826786],\n",
       "       [0.76519495],\n",
       "       [0.05551093]], dtype=float32)"
      ]
     },
     "execution_count": 102,
     "metadata": {},
     "output_type": "execute_result"
    }
   ],
   "source": [
    "y_pred"
   ]
  },
  {
   "cell_type": "code",
   "execution_count": 103,
   "metadata": {},
   "outputs": [],
   "source": [
    "delta=abs(y_test-y_pred.flatten())"
   ]
  },
  {
   "cell_type": "code",
   "execution_count": 104,
   "metadata": {},
   "outputs": [
    {
     "data": {
      "image/png": "[encoded data removed]",
      "text/plain": [
       "<Figure size 1600x300 with 1 Axes>"
      ]
     },
     "metadata": {},
     "output_type": "display_data"
    }
   ],
   "source": [
    "fig,ax=plt.subplots(figsize=(16,3))\n",
    "plt.scatter(range(len(delta)),delta)\n",
    "plt.xlabel(\"test_data_points\")\n",
    "plt.ylabel(\"delta\")\n",
    "plt.show()"
   ]
  },
  {
   "cell_type": "markdown",
   "metadata": {},
   "source": [
    "### Prediction on test dataset"
   ]
  },
  {
   "cell_type": "code",
   "execution_count": 105,
   "metadata": {},
   "outputs": [],
   "source": [
    "y_pred=np.array([1 if i>=0.5 else 0 for i in y_pred])"
   ]
  },
  {
   "cell_type": "code",
   "execution_count": 106,
   "metadata": {
    "scrolled": true
   },
   "outputs": [
    {
     "name": "stdout",
     "output_type": "stream",
     "text": [
      "              precision    recall  f1-score   support\n",
      "\n",
      "           0       0.91      0.86      0.88      4253\n",
      "           1       0.87      0.92      0.90      4491\n",
      "\n",
      "    accuracy                           0.89      8744\n",
      "   macro avg       0.89      0.89      0.89      8744\n",
      "weighted avg       0.89      0.89      0.89      8744\n",
      "\n",
      "Confusion matrix \n",
      "\n",
      " [[3659  594]\n",
      " [ 370 4121]]\n"
     ]
    }
   ],
   "source": [
    "from sklearn.metrics import classification_report,confusion_matrix\n",
    "print(classification_report(y_test,y_pred))\n",
    "print(\"Confusion matrix \\n\\n\",confusion_matrix(y_test,y_pred))"
   ]
  },
  {
   "cell_type": "code",
   "execution_count": 108,
   "metadata": {},
   "outputs": [
    {
     "data": {
      "text/plain": [
       "[array([[ 6,  3,  8, ...,  0,  0,  0],\n",
       "        [17,  5,  1, ...,  0,  0,  0],\n",
       "        [ 6, 10,  5, ...,  0,  0,  0],\n",
       "        ...,\n",
       "        [ 6,  1, 17, ...,  0,  0,  0],\n",
       "        [ 6,  7,  5, ...,  0,  0,  0],\n",
       "        [ 1, 14,  8, ...,  0,  0,  0]], dtype=int32),\n",
       " array([[ 6,  3,  8, ...,  0,  0,  0],\n",
       "        [ 5,  9,  4, ...,  0,  0,  0],\n",
       "        [ 6, 10,  5, ...,  0,  0,  0],\n",
       "        ...,\n",
       "        [ 1, 17,  3, ...,  0,  0,  0],\n",
       "        [ 6,  7,  5, ...,  0,  0,  0],\n",
       "        [ 1, 14,  8, ...,  0,  0,  0]], dtype=int32)]"
      ]
     },
     "execution_count": 108,
     "metadata": {},
     "output_type": "execute_result"
    }
   ],
   "source": [
    "[train_cust_names,train_wl_names]"
   ]
  },
  {
   "cell_type": "markdown",
   "metadata": {},
   "source": [
    "### Prediction on training data"
   ]
  },
  {
   "cell_type": "code",
   "execution_count": 109,
   "metadata": {},
   "outputs": [
    {
     "name": "stdout",
     "output_type": "stream",
     "text": [
      "2214/2214 [==============================] - 12s 5ms/step\n"
     ]
    }
   ],
   "source": [
    "y_pred_train=siamese_net_4_mod_1.predict([train_cust_names,train_wl_names])"
   ]
  },
  {
   "cell_type": "code",
   "execution_count": 110,
   "metadata": {},
   "outputs": [],
   "source": [
    "y_pred_train=np.array([1 if i>=0.5 else 0 for i in y_pred_train])"
   ]
  },
  {
   "cell_type": "code",
   "execution_count": 114,
   "metadata": {},
   "outputs": [
    {
     "name": "stdout",
     "output_type": "stream",
     "text": [
      "              precision    recall  f1-score   support\n",
      "\n",
      "           0       0.93      0.87      0.90     34351\n",
      "           1       0.89      0.94      0.91     36475\n",
      "\n",
      "    accuracy                           0.91     70826\n",
      "   macro avg       0.91      0.90      0.91     70826\n",
      "weighted avg       0.91      0.91      0.91     70826\n",
      "\n"
     ]
    }
   ],
   "source": [
    "from sklearn.metrics import classification_report\n",
    "print(classification_report(y_train,y_pred_train))"
   ]
  },
  {
   "cell_type": "code",
   "execution_count": 112,
   "metadata": {},
   "outputs": [],
   "source": [
    "# We see that the difference b/w the metrics atmost lies to 0.06. So fairly there is no overfitting happening.We require f1 score .It is is fairly good.Based on recall on \n",
    "# on 0 as major target value we can see that on test data "
   ]
  },
  {
   "cell_type": "markdown",
   "metadata": {},
   "source": [
    "### Prediction on Validation data"
   ]
  },
  {
   "cell_type": "code",
   "execution_count": 115,
   "metadata": {},
   "outputs": [
    {
     "data": {
      "text/plain": [
       "array([0, 0, 0, ..., 1, 1, 1])"
      ]
     },
     "execution_count": 115,
     "metadata": {},
     "output_type": "execute_result"
    }
   ],
   "source": [
    "y_val"
   ]
  },
  {
   "cell_type": "code",
   "execution_count": 116,
   "metadata": {},
   "outputs": [
    {
     "name": "stdout",
     "output_type": "stream",
     "text": [
      "246/246 [==============================] - 2s 6ms/step\n"
     ]
    }
   ],
   "source": [
    "y_pred_val=siamese_net_4_mod_1.predict([val_cust_names,val_wl_names])\n",
    "y_pred_val_binary= np.array([1 if i>=0.5 else 0 for i in y_pred_val])"
   ]
  },
  {
   "cell_type": "code",
   "execution_count": 117,
   "metadata": {
    "scrolled": true
   },
   "outputs": [
    {
     "name": "stdout",
     "output_type": "stream",
     "text": [
      "              precision    recall  f1-score   support\n",
      "\n",
      "           0       0.91      0.85      0.88      3796\n",
      "           1       0.87      0.92      0.90      4074\n",
      "\n",
      "    accuracy                           0.89      7870\n",
      "   macro avg       0.89      0.89      0.89      7870\n",
      "weighted avg       0.89      0.89      0.89      7870\n",
      "\n"
     ]
    }
   ],
   "source": [
    "print(classification_report(y_val,y_pred_val_binary))"
   ]
  },
  {
   "cell_type": "code",
   "execution_count": 119,
   "metadata": {},
   "outputs": [
    {
     "name": "stdout",
     "output_type": "stream",
     "text": [
      "1    6994\n",
      "0     876\n",
      "Name: match, dtype: int64\n"
     ]
    },
    {
     "data": {
      "text/html": [
       "\n",
       "            <button style=\"display:none\" \n",
       "            class=\"btn btn-default ipython-export-btn\" \n",
       "            id=\"btn-df-1b39f6e9-87e9-40ba-9a73-255292c5b767\" \n",
       "            onclick=\"_export_df('1b39f6e9-87e9-40ba-9a73-255292c5b767')\">\n",
       "                Export dataframe\n",
       "            </button>\n",
       "            \n",
       "            <script>\n",
       "                \n",
       "                function _check_export_df_possible(dfid,yes_fn,no_fn) {\n",
       "                    console.log('Checking dataframe exportability...')\n",
       "                    if(!IPython || !IPython.notebook || !IPython.notebook.kernel || !IPython.notebook.kernel) {\n",
       "                        console.log('Export is not possible (IPython kernel is not available)')\n",
       "                        if(no_fn) {\n",
       "                            no_fn();\n",
       "                        }\n",
       "                    } else {\n",
       "                        var pythonCode = 'from dataiku.notebook.export import IPythonExporter;IPythonExporter._check_export_stdout(\"'+dfid+'\")';\n",
       "                        IPython.notebook.kernel.execute(pythonCode,{iopub: {output: function(resp) {\n",
       "                            console.info(\"Exportability response\", resp);\n",
       "                            var size = /^([0-9]+)x([0-9]+)$/.exec(resp.content.data || resp.content.text)\n",
       "                            if(!size) {\n",
       "                                console.log('Export is not possible (dataframe is not in-memory anymore)')\n",
       "                                if(no_fn) {\n",
       "                                    no_fn();\n",
       "                                }\n",
       "                            } else {\n",
       "                                console.log('Export is possible')\n",
       "                                if(yes_fn) {\n",
       "                                    yes_fn(1*size[1],1*size[2]);\n",
       "                                }\n",
       "                            }\n",
       "                        }}});\n",
       "                    }\n",
       "                }\n",
       "            \n",
       "                function _export_df(dfid) {\n",
       "                    \n",
       "                    var btn = $('#btn-df-'+dfid);\n",
       "                    var btns = $('.ipython-export-btn');\n",
       "                    \n",
       "                    _check_export_df_possible(dfid,function() {\n",
       "                        \n",
       "                        window.parent.openExportModalFromIPython('Pandas dataframe',function(data) {\n",
       "                            btns.prop('disabled',true);\n",
       "                            btn.text('Exporting...');\n",
       "                            var command = 'from dataiku.notebook.export import IPythonExporter;IPythonExporter._run_export(\"'+dfid+'\",\"'+data.exportId+'\")';\n",
       "                            var callback = {iopub:{output: function(resp) {\n",
       "                                console.info(\"CB resp:\", resp);\n",
       "                                _check_export_df_possible(dfid,function(rows, cols) {\n",
       "                                    $('#btn-df-'+dfid)\n",
       "                                        .css('display','inline-block')\n",
       "                                        .text('Export this dataframe ('+rows+' rows, '+cols+' cols)')\n",
       "                                        .prop('disabled',false);\n",
       "                                },function() {\n",
       "                                    $('#btn-df-'+dfid).css('display','none');\n",
       "                                });\n",
       "                            }}};\n",
       "                            IPython.notebook.kernel.execute(command,callback,{silent:false}); // yes, silent now defaults to true. figures.\n",
       "                        });\n",
       "                    \n",
       "                    }, function(){\n",
       "                            alert('Unable to export : the Dataframe object is not loaded in memory');\n",
       "                            btn.css('display','none');\n",
       "                    });\n",
       "                    \n",
       "                }\n",
       "                \n",
       "                (function(dfid) {\n",
       "                \n",
       "                    var retryCount = 10;\n",
       "                \n",
       "                    function is_valid_websock(s) {\n",
       "                        return s && s.readyState==1;\n",
       "                    }\n",
       "                \n",
       "                    function check_conn() {\n",
       "                        \n",
       "                        if(typeof(IPython) === \"undefined\" || !IPython || !IPython.notebook) {\n",
       "                            // Don't even try to go further\n",
       "                            return;\n",
       "                        }\n",
       "                        \n",
       "                        // Check if IPython is ready\n",
       "                        console.info(\"Checking conn ...\")\n",
       "                        if(IPython.notebook.kernel\n",
       "                        && IPython.notebook.kernel\n",
       "                        && is_valid_websock(IPython.notebook.kernel.ws)\n",
       "                        ) {\n",
       "                            \n",
       "                            _check_export_df_possible(dfid,function(rows, cols) {\n",
       "                                $('#btn-df-'+dfid).css('display','inline-block');\n",
       "                                $('#btn-df-'+dfid).text('Export this dataframe ('+rows+' rows, '+cols+' cols)');\n",
       "                            });\n",
       "                            \n",
       "                        } else {\n",
       "                            console.info(\"Conditions are not ok\", IPython.notebook.kernel);\n",
       "                            \n",
       "                            // Retry later\n",
       "                            \n",
       "                            if(retryCount>0) {\n",
       "                                setTimeout(check_conn,500);\n",
       "                                retryCount--;\n",
       "                            }\n",
       "                            \n",
       "                        }\n",
       "                    };\n",
       "                    \n",
       "                    setTimeout(check_conn,100);\n",
       "                    \n",
       "                })(\"1b39f6e9-87e9-40ba-9a73-255292c5b767\");\n",
       "                \n",
       "            </script>\n",
       "            \n",
       "        <div>\n",
       "<style scoped>\n",
       "    .dataframe tbody tr th:only-of-type {\n",
       "        vertical-align: middle;\n",
       "    }\n",
       "\n",
       "    .dataframe tbody tr th {\n",
       "        vertical-align: top;\n",
       "    }\n",
       "\n",
       "    .dataframe thead th {\n",
       "        text-align: right;\n",
       "    }\n",
       "</style>\n",
       "<table border=\"1\" class=\"dataframe\">\n",
       "  <thead>\n",
       "    <tr style=\"text-align: right;\">\n",
       "      <th></th>\n",
       "      <th>truth_val</th>\n",
       "      <th>pred_val</th>\n",
       "      <th>match</th>\n",
       "    </tr>\n",
       "  </thead>\n",
       "  <tbody>\n",
       "    <tr>\n",
       "      <th>0</th>\n",
       "      <td>0</td>\n",
       "      <td>0</td>\n",
       "      <td>1</td>\n",
       "    </tr>\n",
       "    <tr>\n",
       "      <th>1</th>\n",
       "      <td>0</td>\n",
       "      <td>0</td>\n",
       "      <td>1</td>\n",
       "    </tr>\n",
       "    <tr>\n",
       "      <th>2</th>\n",
       "      <td>0</td>\n",
       "      <td>0</td>\n",
       "      <td>1</td>\n",
       "    </tr>\n",
       "    <tr>\n",
       "      <th>3</th>\n",
       "      <td>0</td>\n",
       "      <td>0</td>\n",
       "      <td>1</td>\n",
       "    </tr>\n",
       "    <tr>\n",
       "      <th>4</th>\n",
       "      <td>1</td>\n",
       "      <td>1</td>\n",
       "      <td>1</td>\n",
       "    </tr>\n",
       "    <tr>\n",
       "      <th>...</th>\n",
       "      <td>...</td>\n",
       "      <td>...</td>\n",
       "      <td>...</td>\n",
       "    </tr>\n",
       "    <tr>\n",
       "      <th>7865</th>\n",
       "      <td>1</td>\n",
       "      <td>0</td>\n",
       "      <td>0</td>\n",
       "    </tr>\n",
       "    <tr>\n",
       "      <th>7866</th>\n",
       "      <td>1</td>\n",
       "      <td>1</td>\n",
       "      <td>1</td>\n",
       "    </tr>\n",
       "    <tr>\n",
       "      <th>7867</th>\n",
       "      <td>1</td>\n",
       "      <td>1</td>\n",
       "      <td>1</td>\n",
       "    </tr>\n",
       "    <tr>\n",
       "      <th>7868</th>\n",
       "      <td>1</td>\n",
       "      <td>1</td>\n",
       "      <td>1</td>\n",
       "    </tr>\n",
       "    <tr>\n",
       "      <th>7869</th>\n",
       "      <td>1</td>\n",
       "      <td>1</td>\n",
       "      <td>1</td>\n",
       "    </tr>\n",
       "  </tbody>\n",
       "</table>\n",
       "<p>7870 rows × 3 columns</p>\n",
       "</div>"
      ],
      "text/plain": [
       "      truth_val  pred_val  match\n",
       "0             0         0      1\n",
       "1             0         0      1\n",
       "2             0         0      1\n",
       "3             0         0      1\n",
       "4             1         1      1\n",
       "...         ...       ...    ...\n",
       "7865          1         0      0\n",
       "7866          1         1      1\n",
       "7867          1         1      1\n",
       "7868          1         1      1\n",
       "7869          1         1      1\n",
       "\n",
       "[7870 rows x 3 columns]"
      ]
     },
     "execution_count": 119,
     "metadata": {},
     "output_type": "execute_result"
    }
   ],
   "source": [
    "val_results=pd.DataFrame({\"truth_val\":y_val,\"pred_val\":y_pred_val_binary})\n",
    "val_results[\"match\"]=val_results[[\"truth_val\",\"pred_val\"]].apply(lambda x: 1 if x[0]==x[1] else 0,axis=1)\n",
    "print(val_results[\"match\"].value_counts())\n",
    "val_results"
   ]
  },
  {
   "cell_type": "code",
   "execution_count": 120,
   "metadata": {},
   "outputs": [
    {
     "data": {
      "text/plain": [
       "(7870,)"
      ]
     },
     "execution_count": 120,
     "metadata": {},
     "output_type": "execute_result"
    }
   ],
   "source": [
    "y_val.shape"
   ]
  },
  {
   "cell_type": "code",
   "execution_count": 122,
   "metadata": {},
   "outputs": [],
   "source": [
    "# loading Siamese model object\n",
    "# loading Siamese model object\n",
    "folder_path =  dataiku.Folder(\"Name Screening notebooks\").get_path()\n",
    "model_path=os.path.join(folder_path,\"mixed_val_loss_ind.hdf5\")\n",
    "#model_object=tf.keras.models.load_model(model_path)"
   ]
  },
  {
   "cell_type": "markdown",
   "metadata": {},
   "source": [
    "# Random Search"
   ]
  },
  {
   "cell_type": "code",
   "execution_count": 126,
   "metadata": {
    "code_folding": []
   },
   "outputs": [],
   "source": [
    "import tensorflow as tf\n",
    "opt = tf.keras.optimizers.Adam(learning_rate=0.0001)\n",
    "def build_model(hp):\n",
    "\n",
    "\n",
    "    rate = 0.2\n",
    "    tf.random.set_seed(\n",
    "        11\n",
    "    )\n",
    "\n",
    "    rate = 0.2\n",
    "\n",
    "    output_dim = 100\n",
    "\n",
    "    #from tensorflow.keras import layers\n",
    "    from tensorflow.keras import regularizers\n",
    "    from sklearn.preprocessing import OneHotEncoder\n",
    "    from tensorflow import one_hot\n",
    "\n",
    "    #OHE = one_hot(depth=100)\n",
    "    # Define inputs \n",
    "    left_input = Input((51,))\n",
    "    right_input = Input((51,))\n",
    "\n",
    "    embedded_l = Embedding(51, output_dim)(left_input)                        #   ------layer 1 (embedding layer)\n",
    "    embedded_r = Embedding(51, output_dim)(right_input)\n",
    "\n",
    "\n",
    "    position_embeddings_l = PositionEmbedding(sequence_length=51)(embedded_l)\n",
    "    position_embeddings_r = PositionEmbedding(sequence_length=51)(embedded_r)\n",
    "\n",
    "    embedded_l = embedded_l + position_embeddings_l\n",
    "    embedded_r = embedded_r + position_embeddings_r\n",
    "\n",
    "    C_l =tf.keras.layers.Conv1D(filters=hp.Int('conv_1_filter', min_value=32, max_value=128, step=16),\n",
    "        # adding filter size or kernel size\n",
    "                                kernel_size=hp.Choice('conv_1_kernel', values = [3,5]),\n",
    "                                padding = 'same',\n",
    "                                activation = 'relu',kernel_initializer='he_uniform')(embedded_l)\n",
    "    \n",
    "    C_r = tf.keras.layers.Conv1D(    # #adding filter \n",
    "        filters=hp.Int('conv_1_filter', min_value=32, max_value=128, step=16),\n",
    "        # adding filter size or kernel size\n",
    "        kernel_size=hp.Choice('conv_1_kernel', values = [3,5]),\n",
    "                                 padding = 'same',\n",
    "                                 activation = 'relu',kernel_initializer='he_uniform')(embedded_r)\n",
    "\n",
    "    C_l = Dense(output_dim)(C_l)                                             # ----------------layer3 ( dense layer)\n",
    "    C_r = Dense(output_dim)(C_r)\n",
    "\n",
    "    C_l = embedded_l + C_l                                                   # updating vector\n",
    "    C_r = embedded_r + C_r\n",
    "\n",
    "    ##\n",
    "\n",
    "    C_l = tf.keras.layers.Dropout(rate)(C_l)                                # -----------------layer 4 ( dropout layer)\n",
    "    C_r = tf.keras.layers.Dropout(rate)(C_r)\n",
    "\n",
    "    C_l = embedded_l + C_l                                                 # updating vector\n",
    "    C_r = embedded_r + C_r\n",
    "\n",
    "\n",
    "\n",
    "    # Generate C_l & C_r with regularization - kernel,bias,activity                  # layer5 ( Conv1d)\n",
    "    C_l = tf.keras.layers.Conv1D(filters=hp.Int('conv_2_filter', min_value=8, max_value=64, step=8),\n",
    "        # adding filter size or kernel size\n",
    "                                 kernel_size=hp.Choice('conv_2_kernel', values = [3,8]),\n",
    "                                 padding = 'same',\n",
    "                                 activation = 'relu',kernel_initializer='he_uniform',\n",
    "                                 kernel_regularizer=regularizers.L2(l2=1e-5),\n",
    "                                 bias_regularizer=regularizers.L1(1),\n",
    "                                 activity_regularizer=regularizers.L2(1e-2))(C_l)\n",
    "    C_r = tf.keras.layers.Conv1D(filters=hp.Int('conv_2_filter', min_value=8, max_value=64, step=8),\n",
    "        # adding filter size or kernel size\n",
    "                                 kernel_size=hp.Choice('conv_2_kernel', values = [3,8]),\n",
    "                                 padding = 'same',\n",
    "                                 activation = 'relu',kernel_initializer='he_uniform',\n",
    "                                 kernel_regularizer=regularizers.L2(l2=1e-5),\n",
    "                                 bias_regularizer=regularizers.L1(1),\n",
    "                                 activity_regularizer=regularizers.L2(1e-2))(C_r)\n",
    "    # Adding dense layer with nuerons equal to 64\n",
    "\n",
    "    C_l = Dense(output_dim)(C_l)                                                      #layer6 (dense layer)\n",
    "    C_r = Dense(output_dim)(C_r)\n",
    "\n",
    "    # Summing the input  embed & output of dense layer \n",
    "    C_l = embedded_l + C_l                                                           # update \n",
    "    C_r = embedded_r + C_r\n",
    "\n",
    "\n",
    "    ##\n",
    "\n",
    "\n",
    "    # Adding dense layer with one nueron. \n",
    "\n",
    "    C_l = Dense(1)(C_l)                                                                       # layer7 (dense layer)\n",
    "    C_r = Dense(1)(C_r)\n",
    "\n",
    "    # return the cosine similarity on output of left & right sub-network\n",
    "    y_pred = Dot(axes=(1), normalize=True)([C_l, C_r]) # y_pred == E_w\n",
    "    # flattening\n",
    "    y_pred = Flatten()(y_pred)\n",
    "    # one final neuron with sigmoid as activation.\n",
    "    y_pred = tf.keras.layers.Dense(1, activation=\"sigmoid\")(y_pred)                           # layer 8 (output layer)\n",
    "\n",
    "    # define optimizer\n",
    "    opt = tf.keras.optimizers.Adam(learning_rate=0.0001)\n",
    "\n",
    "    \n",
    "    model = Model(inputs=[left_input,right_input],outputs=y_pred)\n",
    "    #siamese_net_4_mod_1.compile(loss=tf.keras.losses.BinaryCrossentropy(), optimizer=opt, \\\n",
    "    \n",
    "    \n",
    "    \n",
    "    \n",
    "    model.compile(loss=loss(), optimizer=tf.keras.optimizers.Adam(hp.Choice('learning_rate', values=[1e-2, 1e-3])), \\\n",
    "                                metrics=[tf.keras.metrics.Precision(thresholds=0.5),tf.keras.metrics.Recall(thresholds=0.5)])\n",
    "\n",
    "    return model\n",
    "    "
   ]
  },
  {
   "cell_type": "code",
   "execution_count": 127,
   "metadata": {},
   "outputs": [],
   "source": [
    "import keras_tuner\n",
    "tuner_rs = keras_tuner.RandomSearch(\n",
    "    build_model,\n",
    "    objective='val_loss',\n",
    "    project_name=\"Name_Matching\",\n",
    "    directory=\"tuner_01\",\n",
    "    max_trials=15)\n"
   ]
  },
  {
   "cell_type": "code",
   "execution_count": 128,
   "metadata": {},
   "outputs": [
    {
     "name": "stdout",
     "output_type": "stream",
     "text": [
      "Search space summary\n",
      "Default search space size: 5\n",
      "conv_1_filter (Int)\n",
      "{'default': None, 'conditions': [], 'min_value': 32, 'max_value': 128, 'step': 16, 'sampling': 'linear'}\n",
      "conv_1_kernel (Choice)\n",
      "{'default': 3, 'conditions': [], 'values': [3, 5], 'ordered': True}\n",
      "conv_2_filter (Int)\n",
      "{'default': None, 'conditions': [], 'min_value': 8, 'max_value': 64, 'step': 8, 'sampling': 'linear'}\n",
      "conv_2_kernel (Choice)\n",
      "{'default': 3, 'conditions': [], 'values': [3, 8], 'ordered': True}\n",
      "learning_rate (Choice)\n",
      "{'default': 0.01, 'conditions': [], 'values': [0.01, 0.001], 'ordered': True}\n"
     ]
    }
   ],
   "source": [
    "#best_model = tuner.get_best_models(2)\n",
    "tuner_rs.search_space_summary()"
   ]
  },
  {
   "cell_type": "code",
   "execution_count": 130,
   "metadata": {},
   "outputs": [
    {
     "name": "stdout",
     "output_type": "stream",
     "text": [
      "Trial 15 Complete [00h 02m 23s]\n",
      "val_loss: 0.16514073312282562\n",
      "\n",
      "Best val_loss So Far: 0.09921715408563614\n",
      "Total elapsed time: 00h 29m 28s\n"
     ]
    }
   ],
   "source": [
    "tuner_rs.search([train_cust_names,train_wl_names],y_train, epochs=10, validation_data=([val_cust_names,val_wl_names],y_val),batch_size=500)"
   ]
  },
  {
   "cell_type": "code",
   "execution_count": 131,
   "metadata": {},
   "outputs": [
    {
     "name": "stdout",
     "output_type": "stream",
     "text": [
      "Results summary\n",
      "Results in tuner_01/Name_Matching\n",
      "Showing 10 best trials\n",
      "Objective(name=\"val_loss\", direction=\"min\")\n",
      "\n",
      "Trial 01 summary\n",
      "Hyperparameters:\n",
      "conv_1_filter: 96\n",
      "conv_1_kernel: 5\n",
      "conv_2_filter: 8\n",
      "conv_2_kernel: 3\n",
      "learning_rate: 0.01\n",
      "Score: 0.09921715408563614\n",
      "\n",
      "Trial 11 summary\n",
      "Hyperparameters:\n",
      "conv_1_filter: 128\n",
      "conv_1_kernel: 3\n",
      "conv_2_filter: 8\n",
      "conv_2_kernel: 3\n",
      "learning_rate: 0.01\n",
      "Score: 0.10310964286327362\n",
      "\n",
      "Trial 08 summary\n",
      "Hyperparameters:\n",
      "conv_1_filter: 112\n",
      "conv_1_kernel: 5\n",
      "conv_2_filter: 16\n",
      "conv_2_kernel: 3\n",
      "learning_rate: 0.01\n",
      "Score: 0.1178521066904068\n",
      "\n",
      "Trial 05 summary\n",
      "Hyperparameters:\n",
      "conv_1_filter: 32\n",
      "conv_1_kernel: 3\n",
      "conv_2_filter: 24\n",
      "conv_2_kernel: 3\n",
      "learning_rate: 0.01\n",
      "Score: 0.12932991981506348\n",
      "\n",
      "Trial 13 summary\n",
      "Hyperparameters:\n",
      "conv_1_filter: 80\n",
      "conv_1_kernel: 3\n",
      "conv_2_filter: 8\n",
      "conv_2_kernel: 8\n",
      "learning_rate: 0.001\n",
      "Score: 0.1356419324874878\n",
      "\n",
      "Trial 07 summary\n",
      "Hyperparameters:\n",
      "conv_1_filter: 48\n",
      "conv_1_kernel: 3\n",
      "conv_2_filter: 40\n",
      "conv_2_kernel: 8\n",
      "learning_rate: 0.001\n",
      "Score: 0.13771194219589233\n",
      "\n",
      "Trial 04 summary\n",
      "Hyperparameters:\n",
      "conv_1_filter: 96\n",
      "conv_1_kernel: 5\n",
      "conv_2_filter: 40\n",
      "conv_2_kernel: 3\n",
      "learning_rate: 0.001\n",
      "Score: 0.13923533260822296\n",
      "\n",
      "Trial 10 summary\n",
      "Hyperparameters:\n",
      "conv_1_filter: 112\n",
      "conv_1_kernel: 3\n",
      "conv_2_filter: 40\n",
      "conv_2_kernel: 3\n",
      "learning_rate: 0.001\n",
      "Score: 0.1410619020462036\n",
      "\n",
      "Trial 12 summary\n",
      "Hyperparameters:\n",
      "conv_1_filter: 112\n",
      "conv_1_kernel: 3\n",
      "conv_2_filter: 32\n",
      "conv_2_kernel: 8\n",
      "learning_rate: 0.001\n",
      "Score: 0.15455341339111328\n",
      "\n",
      "Trial 03 summary\n",
      "Hyperparameters:\n",
      "conv_1_filter: 96\n",
      "conv_1_kernel: 3\n",
      "conv_2_filter: 64\n",
      "conv_2_kernel: 8\n",
      "learning_rate: 0.001\n",
      "Score: 0.15634439885616302\n"
     ]
    }
   ],
   "source": [
    "tuner_rs.results_summary()"
   ]
  },
  {
   "cell_type": "code",
   "execution_count": 132,
   "metadata": {},
   "outputs": [],
   "source": [
    "# Get the top 2 models.\n",
    "models_rs = tuner_rs.get_best_models(num_models=2)\n",
    "best_model_rs = models_rs[0]\n"
   ]
  },
  {
   "cell_type": "code",
   "execution_count": 133,
   "metadata": {},
   "outputs": [
    {
     "data": {
      "text/plain": [
       "<keras.src.engine.functional.Functional at 0x7fd96e5137f0>"
      ]
     },
     "execution_count": 133,
     "metadata": {},
     "output_type": "execute_result"
    }
   ],
   "source": [
    "best_model_rs"
   ]
  },
  {
   "cell_type": "code",
   "execution_count": 134,
   "metadata": {},
   "outputs": [
    {
     "name": "stderr",
     "output_type": "stream",
     "text": [
      "You are saving your model as an HDF5 file via `model.save()`. This file format is considered legacy. We recommend using instead the native Keras format, e.g. `model.save('my_model.keras')`.\n"
     ]
    }
   ],
   "source": [
    "model_path_rs=os.path.join(folder_path,\"Siamese_RS_best_model_pe.hdf5\")\n",
    "tf.keras.models.save_model(best_model_rs, model_path_rs)"
   ]
  },
  {
   "cell_type": "markdown",
   "metadata": {},
   "source": [
    "# re-train the model"
   ]
  },
  {
   "cell_type": "code",
   "execution_count": 111,
   "metadata": {},
   "outputs": [],
   "source": [
    "# Get the top 2 hyperparameters.\n",
    "best_hps_rs = tuner_rs.get_best_hyperparameters(5)\n",
    "# Build the model with the best hp.\n",
    "model_rs = build_model(best_hps_rs[0])\n"
   ]
  },
  {
   "cell_type": "code",
   "execution_count": 113,
   "metadata": {},
   "outputs": [],
   "source": [
    "model_path=os.path.join(folder_path,\"mixed_val_loss_trained_rs.hdf5\")"
   ]
  },
  {
   "cell_type": "code",
   "execution_count": 114,
   "metadata": {},
   "outputs": [
    {
     "name": "stdout",
     "output_type": "stream",
     "text": [
      "Epoch 1/30\n",
      "2214/2214 [==============================] - 24s 10ms/step - loss: 0.1441 - precision_1: 0.7928 - recall_1: 0.9565 - val_loss: 0.1139 - val_precision_1: 0.8299 - val_recall_1: 0.9703\n",
      "\n",
      "Epoch 00001: val_loss improved from inf to 0.11386, saving model to /app/dataiku_filesystem_managed/NAMESCREENING_1/X71uZTip/mixed_val_loss_trained_rs.hdf5\n",
      "Epoch 2/30\n",
      "2214/2214 [==============================] - 21s 10ms/step - loss: 24.5636 - precision_1: 0.8317 - recall_1: 0.9630 - val_loss: 0.1044 - val_precision_1: 0.8328 - val_recall_1: 0.9698\n",
      "\n",
      "Epoch 00002: val_loss improved from 0.11386 to 0.10442, saving model to /app/dataiku_filesystem_managed/NAMESCREENING_1/X71uZTip/mixed_val_loss_trained_rs.hdf5\n",
      "Epoch 3/30\n",
      "2214/2214 [==============================] - 21s 10ms/step - loss: 0.7866 - precision_1: 0.8459 - recall_1: 0.9646 - val_loss: 0.0987 - val_precision_1: 0.8648 - val_recall_1: 0.9686\n",
      "\n",
      "Epoch 00003: val_loss improved from 0.10442 to 0.09872, saving model to /app/dataiku_filesystem_managed/NAMESCREENING_1/X71uZTip/mixed_val_loss_trained_rs.hdf5\n",
      "Epoch 4/30\n",
      "2214/2214 [==============================] - 21s 10ms/step - loss: 0.1066 - precision_1: 0.8571 - recall_1: 0.9656 - val_loss: 0.0905 - val_precision_1: 0.8648 - val_recall_1: 0.9691\n",
      "\n",
      "Epoch 00004: val_loss improved from 0.09872 to 0.09046, saving model to /app/dataiku_filesystem_managed/NAMESCREENING_1/X71uZTip/mixed_val_loss_trained_rs.hdf5\n",
      "Epoch 5/30\n",
      "2214/2214 [==============================] - 21s 10ms/step - loss: 0.0960 - precision_1: 0.8652 - recall_1: 0.9650 - val_loss: 0.0893 - val_precision_1: 0.8691 - val_recall_1: 0.9693\n",
      "\n",
      "Epoch 00005: val_loss improved from 0.09046 to 0.08930, saving model to /app/dataiku_filesystem_managed/NAMESCREENING_1/X71uZTip/mixed_val_loss_trained_rs.hdf5\n",
      "Epoch 6/30\n",
      "2214/2214 [==============================] - 21s 9ms/step - loss: 0.0926 - precision_1: 0.8716 - recall_1: 0.9658 - val_loss: 0.0895 - val_precision_1: 0.8771 - val_recall_1: 0.9688\n",
      "\n",
      "Epoch 00006: val_loss did not improve from 0.08930\n",
      "Epoch 7/30\n",
      "2214/2214 [==============================] - 22s 10ms/step - loss: 0.0897 - precision_1: 0.8788 - recall_1: 0.9656 - val_loss: 0.0866 - val_precision_1: 0.8876 - val_recall_1: 0.9688\n",
      "\n",
      "Epoch 00007: val_loss improved from 0.08930 to 0.08662, saving model to /app/dataiku_filesystem_managed/NAMESCREENING_1/X71uZTip/mixed_val_loss_trained_rs.hdf5\n",
      "Epoch 8/30\n",
      "2214/2214 [==============================] - 21s 10ms/step - loss: 0.2575 - precision_1: 0.8837 - recall_1: 0.9647 - val_loss: 0.0819 - val_precision_1: 0.8816 - val_recall_1: 0.9683\n",
      "\n",
      "Epoch 00008: val_loss improved from 0.08662 to 0.08194, saving model to /app/dataiku_filesystem_managed/NAMESCREENING_1/X71uZTip/mixed_val_loss_trained_rs.hdf5\n",
      "Epoch 9/30\n",
      "2214/2214 [==============================] - 21s 10ms/step - loss: 0.0877 - precision_1: 0.8864 - recall_1: 0.9660 - val_loss: 0.0810 - val_precision_1: 0.8908 - val_recall_1: 0.9688\n",
      "\n",
      "Epoch 00009: val_loss improved from 0.08194 to 0.08103, saving model to /app/dataiku_filesystem_managed/NAMESCREENING_1/X71uZTip/mixed_val_loss_trained_rs.hdf5\n",
      "Epoch 10/30\n",
      "2214/2214 [==============================] - 21s 10ms/step - loss: 0.0861 - precision_1: 0.8902 - recall_1: 0.9659 - val_loss: 0.0840 - val_precision_1: 0.8948 - val_recall_1: 0.9686\n",
      "\n",
      "Epoch 00010: val_loss did not improve from 0.08103\n",
      "Epoch 11/30\n",
      "2214/2214 [==============================] - 22s 10ms/step - loss: 0.0845 - precision_1: 0.8931 - recall_1: 0.9657 - val_loss: 0.0779 - val_precision_1: 0.8958 - val_recall_1: 0.9683\n",
      "\n",
      "Epoch 00011: val_loss improved from 0.08103 to 0.07789, saving model to /app/dataiku_filesystem_managed/NAMESCREENING_1/X71uZTip/mixed_val_loss_trained_rs.hdf5\n",
      "Epoch 12/30\n",
      "2214/2214 [==============================] - 21s 10ms/step - loss: 11.7853 - precision_1: 0.8974 - recall_1: 0.9637 - val_loss: 0.0793 - val_precision_1: 0.8930 - val_recall_1: 0.9691\n",
      "\n",
      "Epoch 00012: val_loss did not improve from 0.07789\n",
      "Epoch 13/30\n",
      "2214/2214 [==============================] - 21s 10ms/step - loss: 0.0804 - precision_1: 0.9016 - recall_1: 0.9656 - val_loss: 0.0744 - val_precision_1: 0.9113 - val_recall_1: 0.9683\n",
      "\n",
      "Epoch 00013: val_loss improved from 0.07789 to 0.07440, saving model to /app/dataiku_filesystem_managed/NAMESCREENING_1/X71uZTip/mixed_val_loss_trained_rs.hdf5\n",
      "Epoch 14/30\n",
      "2214/2214 [==============================] - 22s 10ms/step - loss: 0.1005 - precision_1: 0.9030 - recall_1: 0.9653 - val_loss: 0.0765 - val_precision_1: 0.9107 - val_recall_1: 0.9688\n",
      "\n",
      "Epoch 00014: val_loss did not improve from 0.07440\n",
      "Epoch 15/30\n",
      "2214/2214 [==============================] - 21s 10ms/step - loss: 0.0927 - precision_1: 0.9060 - recall_1: 0.9651 - val_loss: 0.0764 - val_precision_1: 0.9090 - val_recall_1: 0.9688\n",
      "\n",
      "Epoch 00015: val_loss did not improve from 0.07440\n",
      "Epoch 16/30\n",
      "2214/2214 [==============================] - 22s 10ms/step - loss: 0.2306 - precision_1: 0.9083 - recall_1: 0.9647 - val_loss: 0.0769 - val_precision_1: 0.9237 - val_recall_1: 0.9659\n",
      "\n",
      "Epoch 00016: val_loss did not improve from 0.07440\n",
      "Epoch 17/30\n",
      "2214/2214 [==============================] - 21s 10ms/step - loss: 0.0790 - precision_1: 0.9112 - recall_1: 0.9656 - val_loss: 0.0728 - val_precision_1: 0.9194 - val_recall_1: 0.9683\n",
      "\n",
      "Epoch 00017: val_loss improved from 0.07440 to 0.07281, saving model to /app/dataiku_filesystem_managed/NAMESCREENING_1/X71uZTip/mixed_val_loss_trained_rs.hdf5\n",
      "Epoch 18/30\n",
      "2214/2214 [==============================] - 22s 10ms/step - loss: 0.0792 - precision_1: 0.9119 - recall_1: 0.9655 - val_loss: 0.0724 - val_precision_1: 0.9207 - val_recall_1: 0.9683\n",
      "\n",
      "Epoch 00018: val_loss improved from 0.07281 to 0.07241, saving model to /app/dataiku_filesystem_managed/NAMESCREENING_1/X71uZTip/mixed_val_loss_trained_rs.hdf5\n",
      "Epoch 19/30\n",
      "2214/2214 [==============================] - 21s 9ms/step - loss: 0.0775 - precision_1: 0.9136 - recall_1: 0.9657 - val_loss: 0.0736 - val_precision_1: 0.9183 - val_recall_1: 0.9681\n",
      "\n",
      "Epoch 00019: val_loss did not improve from 0.07241\n",
      "Epoch 20/30\n",
      "2214/2214 [==============================] - 22s 10ms/step - loss: 0.0777 - precision_1: 0.9144 - recall_1: 0.9652 - val_loss: 0.0754 - val_precision_1: 0.9215 - val_recall_1: 0.9683\n",
      "\n",
      "Epoch 00020: val_loss did not improve from 0.07241\n",
      "Epoch 21/30\n",
      "2214/2214 [==============================] - 22s 10ms/step - loss: 0.0769 - precision_1: 0.9151 - recall_1: 0.9656 - val_loss: 0.0727 - val_precision_1: 0.9174 - val_recall_1: 0.9683\n",
      "\n",
      "Epoch 00021: val_loss did not improve from 0.07241\n",
      "Epoch 22/30\n",
      "2214/2214 [==============================] - 21s 10ms/step - loss: 0.0806 - precision_1: 0.9153 - recall_1: 0.9652 - val_loss: 0.0744 - val_precision_1: 0.9230 - val_recall_1: 0.9681\n",
      "\n",
      "Epoch 00022: val_loss did not improve from 0.07241\n",
      "Epoch 23/30\n",
      "2214/2214 [==============================] - 21s 9ms/step - loss: 0.0773 - precision_1: 0.9164 - recall_1: 0.9648 - val_loss: 0.0772 - val_precision_1: 0.9221 - val_recall_1: 0.9681\n",
      "\n",
      "Epoch 00023: val_loss did not improve from 0.07241\n",
      "Epoch 24/30\n",
      "2214/2214 [==============================] - 21s 9ms/step - loss: 0.0762 - precision_1: 0.9176 - recall_1: 0.9650 - val_loss: 0.0747 - val_precision_1: 0.9262 - val_recall_1: 0.9678\n",
      "\n",
      "Epoch 00024: val_loss did not improve from 0.07241\n",
      "Epoch 25/30\n",
      "2214/2214 [==============================] - 21s 9ms/step - loss: 0.0753 - precision_1: 0.9183 - recall_1: 0.9652 - val_loss: 0.0755 - val_precision_1: 0.9273 - val_recall_1: 0.9671\n",
      "\n",
      "Epoch 00025: val_loss did not improve from 0.07241\n",
      "Epoch 26/30\n",
      "2214/2214 [==============================] - 21s 10ms/step - loss: 0.0749 - precision_1: 0.9189 - recall_1: 0.9654 - val_loss: 0.0735 - val_precision_1: 0.9273 - val_recall_1: 0.9671\n",
      "\n",
      "Epoch 00026: val_loss did not improve from 0.07241\n",
      "Epoch 27/30\n",
      "2214/2214 [==============================] - 21s 10ms/step - loss: 0.0742 - precision_1: 0.9193 - recall_1: 0.9651 - val_loss: 0.0711 - val_precision_1: 0.9289 - val_recall_1: 0.9681\n",
      "\n",
      "Epoch 00027: val_loss improved from 0.07241 to 0.07108, saving model to /app/dataiku_filesystem_managed/NAMESCREENING_1/X71uZTip/mixed_val_loss_trained_rs.hdf5\n",
      "Epoch 28/30\n",
      "2214/2214 [==============================] - 21s 9ms/step - loss: 0.0724 - precision_1: 0.9202 - recall_1: 0.9651 - val_loss: 0.0645 - val_precision_1: 0.9286 - val_recall_1: 0.9671\n",
      "\n",
      "Epoch 00028: val_loss improved from 0.07108 to 0.06455, saving model to /app/dataiku_filesystem_managed/NAMESCREENING_1/X71uZTip/mixed_val_loss_trained_rs.hdf5\n",
      "Epoch 29/30\n",
      "2214/2214 [==============================] - 21s 9ms/step - loss: 0.0712 - precision_1: 0.9208 - recall_1: 0.9654 - val_loss: 0.0696 - val_precision_1: 0.9271 - val_recall_1: 0.9671\n",
      "\n",
      "Epoch 00029: val_loss did not improve from 0.06455\n",
      "Epoch 30/30\n",
      "2214/2214 [==============================] - 21s 9ms/step - loss: 0.9496 - precision_1: 0.9216 - recall_1: 0.9635 - val_loss: 0.0690 - val_precision_1: 0.9340 - val_recall_1: 0.9651\n",
      "\n",
      "Epoch 00030: val_loss did not improve from 0.06455\n"
     ]
    }
   ],
   "source": [
    "from tensorflow.keras.callbacks import (ModelCheckpoint, TensorBoard, ReduceLROnPlateau,\n",
    "                                        CSVLogger, EarlyStopping)\n",
    "from tensorflow.keras.optimizers import Adam\n",
    "keras_callbacks   = [\\\n",
    "      EarlyStopping(monitor='val_loss', min_delta =0.01, patience=25, mode='min'),\\\n",
    "      ReduceLROnPlateau(monitor='val_loss', factor=0.75,patience=10, min_lr=0.000001),\\\n",
    "      ModelCheckpoint(filepath=model_path, \n",
    "                      monitor='val_loss',\n",
    "                      verbose=1, \n",
    "                      save_best_only=True,\n",
    "                      save_weights_only=False,\n",
    "                      mode='min',\n",
    "                      )]\n",
    "history = model_rs.fit(x=[train_cust_names,train_wl_names],y=y_train,validation_data=([val_cust_names,val_wl_names],y_val),\n",
    "                       epochs = 30,\n",
    "                       verbose = 1,\n",
    "                       shuffle = True,\n",
    "                       callbacks=[keras_callbacks])"
   ]
  },
  {
   "cell_type": "code",
   "execution_count": 115,
   "metadata": {},
   "outputs": [
    {
     "data": {
      "image/png": "[encoded data removed]",
      "text/plain": [
       "<Figure size 432x288 with 1 Axes>"
      ]
     },
     "metadata": {},
     "output_type": "display_data"
    }
   ],
   "source": [
    "import matplotlib.pyplot as plt\n",
    "plt.plot(history.history['loss'])\n",
    "plt.plot(history.history['val_loss'])\n",
    "plt.title('model loss')\n",
    "plt.ylabel('loss')\n",
    "plt.xlabel('epoch')\n",
    "plt.legend(['train', 'val'], loc='upper right')\n",
    "plt.show()"
   ]
  },
  {
   "cell_type": "code",
   "execution_count": 135,
   "metadata": {},
   "outputs": [
    {
     "data": {
      "text/plain": [
       "dict_keys(['loss', 'precision', 'recall', 'val_loss', 'val_precision', 'val_recall', 'lr'])"
      ]
     },
     "execution_count": 135,
     "metadata": {},
     "output_type": "execute_result"
    }
   ],
   "source": [
    "history.history.keys()"
   ]
  },
  {
   "cell_type": "code",
   "execution_count": 136,
   "metadata": {},
   "outputs": [
    {
     "ename": "KeyError",
     "evalue": "'precision_1'",
     "output_type": "error",
     "traceback": [
      "\u001b[0;31m---------------------------------------------------------------------------\u001b[0m",
      "\u001b[0;31mKeyError\u001b[0m                                  Traceback (most recent call last)",
      "\u001b[0;32m<ipython-input-136-56503d012d42>\u001b[0m in \u001b[0;36m<cell line: 12>\u001b[0;34m()\u001b[0m\n\u001b[1;32m     10\u001b[0m \u001b[0;34m\u001b[0m\u001b[0m\n\u001b[1;32m     11\u001b[0m \u001b[0mplt\u001b[0m\u001b[0;34m.\u001b[0m\u001b[0msca\u001b[0m\u001b[0;34m(\u001b[0m\u001b[0max\u001b[0m\u001b[0;34m[\u001b[0m\u001b[0;36m0\u001b[0m\u001b[0;34m,\u001b[0m\u001b[0;36m1\u001b[0m\u001b[0;34m]\u001b[0m\u001b[0;34m)\u001b[0m\u001b[0;34m\u001b[0m\u001b[0;34m\u001b[0m\u001b[0m\n\u001b[0;32m---> 12\u001b[0;31m \u001b[0max\u001b[0m\u001b[0;34m[\u001b[0m\u001b[0;36m0\u001b[0m\u001b[0;34m,\u001b[0m\u001b[0;36m1\u001b[0m\u001b[0;34m]\u001b[0m\u001b[0;34m.\u001b[0m\u001b[0mscatter\u001b[0m\u001b[0;34m(\u001b[0m\u001b[0mrange\u001b[0m\u001b[0;34m(\u001b[0m\u001b[0;36m1\u001b[0m\u001b[0;34m,\u001b[0m\u001b[0mN_epochs\u001b[0m\u001b[0;34m+\u001b[0m\u001b[0;36m1\u001b[0m\u001b[0;34m)\u001b[0m\u001b[0;34m,\u001b[0m\u001b[0mhistory\u001b[0m\u001b[0;34m.\u001b[0m\u001b[0mhistory\u001b[0m\u001b[0;34m[\u001b[0m\u001b[0;34m'precision_1'\u001b[0m\u001b[0;34m]\u001b[0m\u001b[0;34m)\u001b[0m\u001b[0;34m\u001b[0m\u001b[0;34m\u001b[0m\u001b[0m\n\u001b[0m\u001b[1;32m     13\u001b[0m \u001b[0mplt\u001b[0m\u001b[0;34m.\u001b[0m\u001b[0mxlabel\u001b[0m\u001b[0;34m(\u001b[0m\u001b[0;34m\"epochs\"\u001b[0m\u001b[0;34m)\u001b[0m\u001b[0;34m\u001b[0m\u001b[0;34m\u001b[0m\u001b[0m\n\u001b[1;32m     14\u001b[0m \u001b[0mplt\u001b[0m\u001b[0;34m.\u001b[0m\u001b[0mylabel\u001b[0m\u001b[0;34m(\u001b[0m\u001b[0;34m\"Precision\"\u001b[0m\u001b[0;34m)\u001b[0m\u001b[0;34m\u001b[0m\u001b[0;34m\u001b[0m\u001b[0m\n",
      "\u001b[0;31mKeyError\u001b[0m: 'precision_1'"
     ]
    },
    {
     "data": {
      "image/png": "[encoded data removed]",
      "text/plain": [
       "<Figure size 1200x1200 with 6 Axes>"
      ]
     },
     "metadata": {},
     "output_type": "display_data"
    }
   ],
   "source": [
    "N_epochs=len(history.history['loss'])\n",
    "fig,ax=plt.subplots(nrows=2,ncols=3,squeeze=False,figsize=(12,12))\n",
    "plt.sca(ax[0,0])\n",
    "ax[0,0].scatter(range(1,N_epochs+1),history.history['loss'])\n",
    "\n",
    "plt.xlabel(\"epochs\")\n",
    "plt.ylabel(\"loss\")\n",
    "plt.title(\"Training data loss\",fontsize=9)\n",
    "plt.grid()\n",
    "\n",
    "plt.sca(ax[0,1])\n",
    "ax[0,1].scatter(range(1,N_epochs+1),history.history['precision_1'])\n",
    "plt.xlabel(\"epochs\")\n",
    "plt.ylabel(\"Precision\")\n",
    "plt.title(\"Precision\",fontsize=9)\n",
    "plt.grid()\n",
    "\n",
    "plt.sca(ax[0,2])\n",
    "ax[0,2].scatter(range(1,N_epochs+1),history.history['recall_1'])\n",
    "plt.xlabel(\"epochs\")\n",
    "plt.ylabel(\"Recall\")\n",
    "plt.title(\"Recall\",fontsize=9)\n",
    "plt.grid()\n",
    "\n",
    "\n",
    "plt.sca(ax[1,1])\n",
    "ax[1,1].scatter(range(1,N_epochs+1),history.history['val_precision_1'])\n",
    "plt.xlabel(\"epochs\")\n",
    "plt.ylabel(\"Val_Precision\")\n",
    "plt.title(\"Val_Precision\",fontsize=9)\n",
    "plt.grid()\n",
    "\n",
    "plt.sca(ax[1,2])\n",
    "ax[1,2].scatter(range(1,N_epochs+1),history.history['val_recall_1'])\n",
    "plt.xlabel(\"epochs\")\n",
    "plt.ylabel(\"Val_Recall\")\n",
    "plt.title(\"Val_Recall\",fontsize=9)\n",
    "plt.grid()\n",
    "                                                    \n",
    "plt.sca(ax[1,0])\n",
    "ax[1,0].scatter(range(1,N_epochs+1),history.history['val_loss'],color=\"orange\")\n",
    "\n",
    "plt.xlabel(\"epochs\")\n",
    "plt.ylabel(\"val_loss\")\n",
    "plt.title(\"Validation data loss\",fontsize=9)\n",
    "plt.grid()\n",
    "fig.tight_layout()\n",
    "plt.show()"
   ]
  },
  {
   "cell_type": "code",
   "execution_count": 129,
   "metadata": {},
   "outputs": [
    {
     "data": {
      "image/png": "[encoded data removed]",
      "text/plain": [
       "<Figure size 1152x216 with 1 Axes>"
      ]
     },
     "metadata": {},
     "output_type": "display_data"
    }
   ],
   "source": [
    "# metrics on test dataset\n",
    "y_pred=model_rs.predict([test_cust_names,test_wl_names])\n",
    "\n",
    "y_pred\n",
    "\n",
    "delta=abs(y_test-y_pred.flatten())\n",
    "\n",
    "fig,ax=plt.subplots(figsize=(16,3))\n",
    "plt.scatter(range(len(delta)),delta)\n",
    "plt.xlabel(\"test_data_points\")\n",
    "plt.ylabel(\"delta\")\n",
    "plt.show()"
   ]
  },
  {
   "cell_type": "code",
   "execution_count": 130,
   "metadata": {},
   "outputs": [
    {
     "data": {
      "text/plain": [
       "0.96058786"
      ]
     },
     "execution_count": 130,
     "metadata": {},
     "output_type": "execute_result"
    }
   ],
   "source": [
    "recall=tf.keras.metrics.Recall(thresholds=0.5)\n",
    "\n",
    "\n",
    "recall.update_state(y_test,y_pred)\n",
    "recall_value = recall.result().numpy()\n",
    "\n",
    "recall_value\n",
    "\n"
   ]
  },
  {
   "cell_type": "code",
   "execution_count": 131,
   "metadata": {},
   "outputs": [
    {
     "data": {
      "text/plain": [
       "0.93396837"
      ]
     },
     "execution_count": 131,
     "metadata": {},
     "output_type": "execute_result"
    }
   ],
   "source": [
    "precision=tf.keras.metrics.Precision(thresholds=0.5)\n",
    "precision.update_state(y_test,y_pred)\n",
    "precision_value = precision.result().numpy()\n",
    "\n",
    "precision_value"
   ]
  },
  {
   "cell_type": "code",
   "execution_count": 211,
   "metadata": {
    "scrolled": false
   },
   "outputs": [
    {
     "data": {
      "text/html": [
       "\n",
       "            <button style=\"display:none\" \n",
       "            class=\"btn btn-default ipython-export-btn\" \n",
       "            id=\"btn-df-f6265984-0f8f-425f-8407-2cee407d0797\" \n",
       "            onclick=\"_export_df('f6265984-0f8f-425f-8407-2cee407d0797')\">\n",
       "                Export dataframe\n",
       "            </button>\n",
       "            \n",
       "            <script>\n",
       "                \n",
       "                function _check_export_df_possible(dfid,yes_fn,no_fn) {\n",
       "                    console.log('Checking dataframe exportability...')\n",
       "                    if(!IPython || !IPython.notebook || !IPython.notebook.kernel || !IPython.notebook.kernel) {\n",
       "                        console.log('Export is not possible (IPython kernel is not available)')\n",
       "                        if(no_fn) {\n",
       "                            no_fn();\n",
       "                        }\n",
       "                    } else {\n",
       "                        var pythonCode = 'from dataiku.notebook.export import IPythonExporter;IPythonExporter._check_export_stdout(\"'+dfid+'\")';\n",
       "                        IPython.notebook.kernel.execute(pythonCode,{iopub: {output: function(resp) {\n",
       "                            console.info(\"Exportability response\", resp);\n",
       "                            var size = /^([0-9]+)x([0-9]+)$/.exec(resp.content.data || resp.content.text)\n",
       "                            if(!size) {\n",
       "                                console.log('Export is not possible (dataframe is not in-memory anymore)')\n",
       "                                if(no_fn) {\n",
       "                                    no_fn();\n",
       "                                }\n",
       "                            } else {\n",
       "                                console.log('Export is possible')\n",
       "                                if(yes_fn) {\n",
       "                                    yes_fn(1*size[1],1*size[2]);\n",
       "                                }\n",
       "                            }\n",
       "                        }}});\n",
       "                    }\n",
       "                }\n",
       "            \n",
       "                function _export_df(dfid) {\n",
       "                    \n",
       "                    var btn = $('#btn-df-'+dfid);\n",
       "                    var btns = $('.ipython-export-btn');\n",
       "                    \n",
       "                    _check_export_df_possible(dfid,function() {\n",
       "                        \n",
       "                        window.parent.openExportModalFromIPython('Pandas dataframe',function(data) {\n",
       "                            btns.prop('disabled',true);\n",
       "                            btn.text('Exporting...');\n",
       "                            var command = 'from dataiku.notebook.export import IPythonExporter;IPythonExporter._run_export(\"'+dfid+'\",\"'+data.exportId+'\")';\n",
       "                            var callback = {iopub:{output: function(resp) {\n",
       "                                console.info(\"CB resp:\", resp);\n",
       "                                _check_export_df_possible(dfid,function(rows, cols) {\n",
       "                                    $('#btn-df-'+dfid)\n",
       "                                        .css('display','inline-block')\n",
       "                                        .text('Export this dataframe ('+rows+' rows, '+cols+' cols)')\n",
       "                                        .prop('disabled',false);\n",
       "                                },function() {\n",
       "                                    $('#btn-df-'+dfid).css('display','none');\n",
       "                                });\n",
       "                            }}};\n",
       "                            IPython.notebook.kernel.execute(command,callback,{silent:false}); // yes, silent now defaults to true. figures.\n",
       "                        });\n",
       "                    \n",
       "                    }, function(){\n",
       "                            alert('Unable to export : the Dataframe object is not loaded in memory');\n",
       "                            btn.css('display','none');\n",
       "                    });\n",
       "                    \n",
       "                }\n",
       "                \n",
       "                (function(dfid) {\n",
       "                \n",
       "                    var retryCount = 10;\n",
       "                \n",
       "                    function is_valid_websock(s) {\n",
       "                        return s && s.readyState==1;\n",
       "                    }\n",
       "                \n",
       "                    function check_conn() {\n",
       "                        \n",
       "                        if(typeof(IPython) === \"undefined\" || !IPython || !IPython.notebook) {\n",
       "                            // Don't even try to go further\n",
       "                            return;\n",
       "                        }\n",
       "                        \n",
       "                        // Check if IPython is ready\n",
       "                        console.info(\"Checking conn ...\")\n",
       "                        if(IPython.notebook.kernel\n",
       "                        && IPython.notebook.kernel\n",
       "                        && is_valid_websock(IPython.notebook.kernel.ws)\n",
       "                        ) {\n",
       "                            \n",
       "                            _check_export_df_possible(dfid,function(rows, cols) {\n",
       "                                $('#btn-df-'+dfid).css('display','inline-block');\n",
       "                                $('#btn-df-'+dfid).text('Export this dataframe ('+rows+' rows, '+cols+' cols)');\n",
       "                            });\n",
       "                            \n",
       "                        } else {\n",
       "                            console.info(\"Conditions are not ok\", IPython.notebook.kernel);\n",
       "                            \n",
       "                            // Retry later\n",
       "                            \n",
       "                            if(retryCount>0) {\n",
       "                                setTimeout(check_conn,500);\n",
       "                                retryCount--;\n",
       "                            }\n",
       "                            \n",
       "                        }\n",
       "                    };\n",
       "                    \n",
       "                    setTimeout(check_conn,100);\n",
       "                    \n",
       "                })(\"f6265984-0f8f-425f-8407-2cee407d0797\");\n",
       "                \n",
       "            </script>\n",
       "            \n",
       "        <div>\n",
       "<style scoped>\n",
       "    .dataframe tbody tr th:only-of-type {\n",
       "        vertical-align: middle;\n",
       "    }\n",
       "\n",
       "    .dataframe tbody tr th {\n",
       "        vertical-align: top;\n",
       "    }\n",
       "\n",
       "    .dataframe thead th {\n",
       "        text-align: right;\n",
       "    }\n",
       "</style>\n",
       "<table border=\"1\" class=\"dataframe\">\n",
       "  <thead>\n",
       "    <tr style=\"text-align: right;\">\n",
       "      <th></th>\n",
       "      <th>0</th>\n",
       "    </tr>\n",
       "  </thead>\n",
       "  <tbody>\n",
       "    <tr>\n",
       "      <th>count</th>\n",
       "      <td>4.491000e+03</td>\n",
       "    </tr>\n",
       "    <tr>\n",
       "      <th>mean</th>\n",
       "      <td>8.110596e-01</td>\n",
       "    </tr>\n",
       "    <tr>\n",
       "      <th>std</th>\n",
       "      <td>1.637117e-01</td>\n",
       "    </tr>\n",
       "    <tr>\n",
       "      <th>min</th>\n",
       "      <td>2.061114e-24</td>\n",
       "    </tr>\n",
       "    <tr>\n",
       "      <th>25%</th>\n",
       "      <td>8.318145e-01</td>\n",
       "    </tr>\n",
       "    <tr>\n",
       "      <th>50%</th>\n",
       "      <td>8.535271e-01</td>\n",
       "    </tr>\n",
       "    <tr>\n",
       "      <th>75%</th>\n",
       "      <td>8.641043e-01</td>\n",
       "    </tr>\n",
       "    <tr>\n",
       "      <th>max</th>\n",
       "      <td>8.781916e-01</td>\n",
       "    </tr>\n",
       "  </tbody>\n",
       "</table>\n",
       "</div>"
      ],
      "text/plain": [
       "                  0\n",
       "count  4.491000e+03\n",
       "mean   8.110596e-01\n",
       "std    1.637117e-01\n",
       "min    2.061114e-24\n",
       "25%    8.318145e-01\n",
       "50%    8.535271e-01\n",
       "75%    8.641043e-01\n",
       "max    8.781916e-01"
      ]
     },
     "execution_count": 211,
     "metadata": {},
     "output_type": "execute_result"
    }
   ],
   "source": [
    "# investigation on test datasets for checking the match of predicted value and test value when names of both profiles are same\n",
    "results_on_test_when_same_name_rs=model_rs.predict([test_cust_names[np.where(y_test==1)],test_wl_names[np.where(y_test==1)]])\n",
    "pd.DataFrame(results_on_test_when_same_name_rs).describe()"
   ]
  },
  {
   "cell_type": "code",
   "execution_count": 212,
   "metadata": {},
   "outputs": [
    {
     "data": {
      "text/plain": [
       "(array([[0.8672445 ],\n",
       "        [0.8498697 ],\n",
       "        [0.84803736],\n",
       "        ...,\n",
       "        [0.78380847],\n",
       "        [0.8066475 ],\n",
       "        [0.84023154]], dtype=float32),\n",
       " array([1, 0, 1, ..., 1, 1, 0]))"
      ]
     },
     "execution_count": 212,
     "metadata": {},
     "output_type": "execute_result"
    }
   ],
   "source": [
    "results_on_test_when_same_name_rs,y_pred"
   ]
  },
  {
   "cell_type": "code",
   "execution_count": 213,
   "metadata": {
    "scrolled": true
   },
   "outputs": [
    {
     "data": {
      "text/plain": [
       "<function matplotlib.pyplot.show(close=None, block=None)>"
      ]
     },
     "execution_count": 213,
     "metadata": {},
     "output_type": "execute_result"
    },
    {
     "data": {
      "image/png": "[encoded data removed]",
      "text/plain": [
       "<Figure size 432x288 with 2 Axes>"
      ]
     },
     "metadata": {},
     "output_type": "display_data"
    }
   ],
   "source": [
    "fig,ax=plt.subplots(nrows=2,ncols=1)\n",
    "#plt.scatter(np.arange(len(results_on_test_when_same_name)),results_on_test_when_same_name)\n",
    "ax[0].hist(results_on_test_when_same_name_rs,10)\n",
    "ax[1].scatter(np.arange(len(results_on_test_when_same_name_rs)),results_on_test_when_same_name_rs)\n",
    "\n",
    "plt.show"
   ]
  },
  {
   "cell_type": "code",
   "execution_count": 214,
   "metadata": {
    "scrolled": true
   },
   "outputs": [
    {
     "data": {
      "text/html": [
       "\n",
       "            <button style=\"display:none\" \n",
       "            class=\"btn btn-default ipython-export-btn\" \n",
       "            id=\"btn-df-02ae6821-8507-41ef-b723-5ca7105c729a\" \n",
       "            onclick=\"_export_df('02ae6821-8507-41ef-b723-5ca7105c729a')\">\n",
       "                Export dataframe\n",
       "            </button>\n",
       "            \n",
       "            <script>\n",
       "                \n",
       "                function _check_export_df_possible(dfid,yes_fn,no_fn) {\n",
       "                    console.log('Checking dataframe exportability...')\n",
       "                    if(!IPython || !IPython.notebook || !IPython.notebook.kernel || !IPython.notebook.kernel) {\n",
       "                        console.log('Export is not possible (IPython kernel is not available)')\n",
       "                        if(no_fn) {\n",
       "                            no_fn();\n",
       "                        }\n",
       "                    } else {\n",
       "                        var pythonCode = 'from dataiku.notebook.export import IPythonExporter;IPythonExporter._check_export_stdout(\"'+dfid+'\")';\n",
       "                        IPython.notebook.kernel.execute(pythonCode,{iopub: {output: function(resp) {\n",
       "                            console.info(\"Exportability response\", resp);\n",
       "                            var size = /^([0-9]+)x([0-9]+)$/.exec(resp.content.data || resp.content.text)\n",
       "                            if(!size) {\n",
       "                                console.log('Export is not possible (dataframe is not in-memory anymore)')\n",
       "                                if(no_fn) {\n",
       "                                    no_fn();\n",
       "                                }\n",
       "                            } else {\n",
       "                                console.log('Export is possible')\n",
       "                                if(yes_fn) {\n",
       "                                    yes_fn(1*size[1],1*size[2]);\n",
       "                                }\n",
       "                            }\n",
       "                        }}});\n",
       "                    }\n",
       "                }\n",
       "            \n",
       "                function _export_df(dfid) {\n",
       "                    \n",
       "                    var btn = $('#btn-df-'+dfid);\n",
       "                    var btns = $('.ipython-export-btn');\n",
       "                    \n",
       "                    _check_export_df_possible(dfid,function() {\n",
       "                        \n",
       "                        window.parent.openExportModalFromIPython('Pandas dataframe',function(data) {\n",
       "                            btns.prop('disabled',true);\n",
       "                            btn.text('Exporting...');\n",
       "                            var command = 'from dataiku.notebook.export import IPythonExporter;IPythonExporter._run_export(\"'+dfid+'\",\"'+data.exportId+'\")';\n",
       "                            var callback = {iopub:{output: function(resp) {\n",
       "                                console.info(\"CB resp:\", resp);\n",
       "                                _check_export_df_possible(dfid,function(rows, cols) {\n",
       "                                    $('#btn-df-'+dfid)\n",
       "                                        .css('display','inline-block')\n",
       "                                        .text('Export this dataframe ('+rows+' rows, '+cols+' cols)')\n",
       "                                        .prop('disabled',false);\n",
       "                                },function() {\n",
       "                                    $('#btn-df-'+dfid).css('display','none');\n",
       "                                });\n",
       "                            }}};\n",
       "                            IPython.notebook.kernel.execute(command,callback,{silent:false}); // yes, silent now defaults to true. figures.\n",
       "                        });\n",
       "                    \n",
       "                    }, function(){\n",
       "                            alert('Unable to export : the Dataframe object is not loaded in memory');\n",
       "                            btn.css('display','none');\n",
       "                    });\n",
       "                    \n",
       "                }\n",
       "                \n",
       "                (function(dfid) {\n",
       "                \n",
       "                    var retryCount = 10;\n",
       "                \n",
       "                    function is_valid_websock(s) {\n",
       "                        return s && s.readyState==1;\n",
       "                    }\n",
       "                \n",
       "                    function check_conn() {\n",
       "                        \n",
       "                        if(typeof(IPython) === \"undefined\" || !IPython || !IPython.notebook) {\n",
       "                            // Don't even try to go further\n",
       "                            return;\n",
       "                        }\n",
       "                        \n",
       "                        // Check if IPython is ready\n",
       "                        console.info(\"Checking conn ...\")\n",
       "                        if(IPython.notebook.kernel\n",
       "                        && IPython.notebook.kernel\n",
       "                        && is_valid_websock(IPython.notebook.kernel.ws)\n",
       "                        ) {\n",
       "                            \n",
       "                            _check_export_df_possible(dfid,function(rows, cols) {\n",
       "                                $('#btn-df-'+dfid).css('display','inline-block');\n",
       "                                $('#btn-df-'+dfid).text('Export this dataframe ('+rows+' rows, '+cols+' cols)');\n",
       "                            });\n",
       "                            \n",
       "                        } else {\n",
       "                            console.info(\"Conditions are not ok\", IPython.notebook.kernel);\n",
       "                            \n",
       "                            // Retry later\n",
       "                            \n",
       "                            if(retryCount>0) {\n",
       "                                setTimeout(check_conn,500);\n",
       "                                retryCount--;\n",
       "                            }\n",
       "                            \n",
       "                        }\n",
       "                    };\n",
       "                    \n",
       "                    setTimeout(check_conn,100);\n",
       "                    \n",
       "                })(\"02ae6821-8507-41ef-b723-5ca7105c729a\");\n",
       "                \n",
       "            </script>\n",
       "            \n",
       "        <div>\n",
       "<style scoped>\n",
       "    .dataframe tbody tr th:only-of-type {\n",
       "        vertical-align: middle;\n",
       "    }\n",
       "\n",
       "    .dataframe tbody tr th {\n",
       "        vertical-align: top;\n",
       "    }\n",
       "\n",
       "    .dataframe thead th {\n",
       "        text-align: right;\n",
       "    }\n",
       "</style>\n",
       "<table border=\"1\" class=\"dataframe\">\n",
       "  <thead>\n",
       "    <tr style=\"text-align: right;\">\n",
       "      <th></th>\n",
       "      <th>0</th>\n",
       "    </tr>\n",
       "  </thead>\n",
       "  <tbody>\n",
       "    <tr>\n",
       "      <th>count</th>\n",
       "      <td>4.253000e+03</td>\n",
       "    </tr>\n",
       "    <tr>\n",
       "      <th>mean</th>\n",
       "      <td>7.514372e-02</td>\n",
       "    </tr>\n",
       "    <tr>\n",
       "      <th>std</th>\n",
       "      <td>2.051771e-01</td>\n",
       "    </tr>\n",
       "    <tr>\n",
       "      <th>min</th>\n",
       "      <td>8.579623e-25</td>\n",
       "    </tr>\n",
       "    <tr>\n",
       "      <th>25%</th>\n",
       "      <td>2.217060e-13</td>\n",
       "    </tr>\n",
       "    <tr>\n",
       "      <th>50%</th>\n",
       "      <td>2.221102e-09</td>\n",
       "    </tr>\n",
       "    <tr>\n",
       "      <th>75%</th>\n",
       "      <td>6.318390e-04</td>\n",
       "    </tr>\n",
       "    <tr>\n",
       "      <th>max</th>\n",
       "      <td>8.727832e-01</td>\n",
       "    </tr>\n",
       "  </tbody>\n",
       "</table>\n",
       "</div>"
      ],
      "text/plain": [
       "                  0\n",
       "count  4.253000e+03\n",
       "mean   7.514372e-02\n",
       "std    2.051771e-01\n",
       "min    8.579623e-25\n",
       "25%    2.217060e-13\n",
       "50%    2.221102e-09\n",
       "75%    6.318390e-04\n",
       "max    8.727832e-01"
      ]
     },
     "execution_count": 214,
     "metadata": {},
     "output_type": "execute_result"
    }
   ],
   "source": [
    "# investigation on test datapoints when customer and watchlist name miss-match\n",
    "results_on_test_when_diff_name_rs=model_rs.predict([test_cust_names[np.where(y_test==0)],test_wl_names[np.where(y_test==0)]])\n",
    "pd.DataFrame(results_on_test_when_diff_name_rs).describe()"
   ]
  },
  {
   "cell_type": "code",
   "execution_count": 215,
   "metadata": {},
   "outputs": [
    {
     "data": {
      "text/plain": [
       "<function matplotlib.pyplot.show(close=None, block=None)>"
      ]
     },
     "execution_count": 215,
     "metadata": {},
     "output_type": "execute_result"
    },
    {
     "data": {
      "image/png": "[encoded data removed]",
      "text/plain": [
       "<Figure size 432x288 with 2 Axes>"
      ]
     },
     "metadata": {},
     "output_type": "display_data"
    }
   ],
   "source": [
    "fig,ax=plt.subplots(nrows=2,ncols=1)\n",
    "\n",
    "ax[0].hist(results_on_test_when_diff_name_rs,10)\n",
    "ax[1].scatter(np.arange(len(results_on_test_when_diff_name_rs)),results_on_test_when_diff_name_rs)\n",
    "\n",
    "plt.show"
   ]
  },
  {
   "cell_type": "markdown",
   "metadata": {},
   "source": [
    "# Bayesian optimization"
   ]
  },
  {
   "cell_type": "code",
   "execution_count": 119,
   "metadata": {},
   "outputs": [],
   "source": [
    "import keras_tuner"
   ]
  },
  {
   "cell_type": "code",
   "execution_count": 120,
   "metadata": {},
   "outputs": [
    {
     "name": "stdout",
     "output_type": "stream",
     "text": [
      "INFO:tensorflow:Reloading Tuner from tuner_06/sid_bo4/tuner0.json\n"
     ]
    },
    {
     "name": "stderr",
     "output_type": "stream",
     "text": [
      "INFO:tensorflow:Reloading Tuner from tuner_06/sid_bo4/tuner0.json\n"
     ]
    }
   ],
   "source": [
    "tuner02=keras_tuner.BayesianOptimization(\n",
    "    build_model,\n",
    "    objective='val_loss',\n",
    "    project_name=\"sid_bo4\",\n",
    "    directory=\"tuner_06\",\n",
    "    max_trials=10)\n"
   ]
  },
  {
   "cell_type": "code",
   "execution_count": 121,
   "metadata": {},
   "outputs": [
    {
     "name": "stdout",
     "output_type": "stream",
     "text": [
      "INFO:tensorflow:Oracle triggered exit\n"
     ]
    },
    {
     "name": "stderr",
     "output_type": "stream",
     "text": [
      "INFO:tensorflow:Oracle triggered exit\n"
     ]
    }
   ],
   "source": [
    "\n",
    "tuner02.search([train_cust_names,train_wl_names],y_train, epochs=30, validation_data=([val_cust_names,val_wl_names],y_val),batch_size=500)\n",
    "\n",
    "\n"
   ]
  },
  {
   "cell_type": "code",
   "execution_count": 122,
   "metadata": {},
   "outputs": [],
   "source": [
    "# Get the top 2 models.\n",
    "models_bo = tuner02.get_best_models(num_models=2)\n",
    "best_model_bo = models_bo[0]"
   ]
  },
  {
   "cell_type": "markdown",
   "metadata": {},
   "source": [
    "# retrain the model after Bayesian Optimization"
   ]
  },
  {
   "cell_type": "code",
   "execution_count": 123,
   "metadata": {},
   "outputs": [],
   "source": [
    "# Get the top 2 hyperparameters.\n",
    "best_hps_bo = tuner02.get_best_hyperparameters(5)\n",
    "# Build the model with the best hp.\n",
    "model_bo = build_model(best_hps_bo[0])"
   ]
  },
  {
   "cell_type": "code",
   "execution_count": 133,
   "metadata": {},
   "outputs": [],
   "source": [
    "model_path=os.path.join(folder_path,\"Siamese_BO.hdf5\")\n",
    "tf.keras.models.save_model(model_bo,model_path)"
   ]
  },
  {
   "cell_type": "code",
   "execution_count": 124,
   "metadata": {},
   "outputs": [],
   "source": [
    "model_path=os.path.join(folder_path,\"mixed_val_loss_bo.hdf5\")"
   ]
  },
  {
   "cell_type": "code",
   "execution_count": 0,
   "metadata": {},
   "outputs": [],
   "source": []
  },
  {
   "cell_type": "code",
   "execution_count": 125,
   "metadata": {},
   "outputs": [
    {
     "name": "stdout",
     "output_type": "stream",
     "text": [
      "Epoch 1/30\n",
      "2214/2214 [==============================] - 26s 11ms/step - loss: 0.1937 - precision_1: 0.7248 - recall_1: 0.9454 - val_loss: 0.1517 - val_precision_1: 0.7951 - val_recall_1: 0.9580\n",
      "\n",
      "Epoch 00001: val_loss improved from inf to 0.15166, saving model to /app/dataiku_filesystem_managed/NAMESCREENING_1/X71uZTip/mixed_val_loss_bo.hdf5\n",
      "Epoch 2/30\n",
      "2214/2214 [==============================] - 23s 10ms/step - loss: 0.1371 - precision_1: 0.7886 - recall_1: 0.9669 - val_loss: 0.1253 - val_precision_1: 0.7882 - val_recall_1: 0.9745\n",
      "\n",
      "Epoch 00002: val_loss improved from 0.15166 to 0.12530, saving model to /app/dataiku_filesystem_managed/NAMESCREENING_1/X71uZTip/mixed_val_loss_bo.hdf5\n",
      "Epoch 3/30\n",
      "2214/2214 [==============================] - 23s 11ms/step - loss: 0.1186 - precision_1: 0.8024 - recall_1: 0.9682 - val_loss: 0.1126 - val_precision_1: 0.8191 - val_recall_1: 0.9656\n",
      "\n",
      "Epoch 00003: val_loss improved from 0.12530 to 0.11261, saving model to /app/dataiku_filesystem_managed/NAMESCREENING_1/X71uZTip/mixed_val_loss_bo.hdf5\n",
      "Epoch 4/30\n",
      "2214/2214 [==============================] - 23s 10ms/step - loss: 0.1105 - precision_1: 0.8101 - recall_1: 0.9686 - val_loss: 0.1078 - val_precision_1: 0.8122 - val_recall_1: 0.9715\n",
      "\n",
      "Epoch 00004: val_loss improved from 0.11261 to 0.10780, saving model to /app/dataiku_filesystem_managed/NAMESCREENING_1/X71uZTip/mixed_val_loss_bo.hdf5\n",
      "Epoch 5/30\n",
      "2214/2214 [==============================] - 23s 10ms/step - loss: 0.1056 - precision_1: 0.8156 - recall_1: 0.9687 - val_loss: 0.1034 - val_precision_1: 0.8385 - val_recall_1: 0.9607\n",
      "\n",
      "Epoch 00005: val_loss improved from 0.10780 to 0.10341, saving model to /app/dataiku_filesystem_managed/NAMESCREENING_1/X71uZTip/mixed_val_loss_bo.hdf5\n",
      "Epoch 6/30\n",
      "2214/2214 [==============================] - 23s 11ms/step - loss: 0.1024 - precision_1: 0.8212 - recall_1: 0.9684 - val_loss: 0.0991 - val_precision_1: 0.8197 - val_recall_1: 0.9710\n",
      "\n",
      "Epoch 00006: val_loss improved from 0.10341 to 0.09909, saving model to /app/dataiku_filesystem_managed/NAMESCREENING_1/X71uZTip/mixed_val_loss_bo.hdf5\n",
      "Epoch 7/30\n",
      "2214/2214 [==============================] - 23s 10ms/step - loss: 0.0995 - precision_1: 0.8268 - recall_1: 0.9680 - val_loss: 0.0964 - val_precision_1: 0.8430 - val_recall_1: 0.9676\n",
      "\n",
      "Epoch 00007: val_loss improved from 0.09909 to 0.09637, saving model to /app/dataiku_filesystem_managed/NAMESCREENING_1/X71uZTip/mixed_val_loss_bo.hdf5\n",
      "Epoch 8/30\n",
      "2214/2214 [==============================] - 23s 11ms/step - loss: 0.0973 - precision_1: 0.8307 - recall_1: 0.9673 - val_loss: 0.0947 - val_precision_1: 0.8321 - val_recall_1: 0.9705\n",
      "\n",
      "Epoch 00008: val_loss improved from 0.09637 to 0.09466, saving model to /app/dataiku_filesystem_managed/NAMESCREENING_1/X71uZTip/mixed_val_loss_bo.hdf5\n",
      "Epoch 9/30\n",
      "2214/2214 [==============================] - 24s 11ms/step - loss: 0.0956 - precision_1: 0.8335 - recall_1: 0.9681 - val_loss: 0.0928 - val_precision_1: 0.8411 - val_recall_1: 0.9705\n",
      "\n",
      "Epoch 00009: val_loss improved from 0.09466 to 0.09285, saving model to /app/dataiku_filesystem_managed/NAMESCREENING_1/X71uZTip/mixed_val_loss_bo.hdf5\n",
      "Epoch 10/30\n",
      "2214/2214 [==============================] - 24s 11ms/step - loss: 0.0938 - precision_1: 0.8372 - recall_1: 0.9678 - val_loss: 0.0921 - val_precision_1: 0.8366 - val_recall_1: 0.9715\n",
      "\n",
      "Epoch 00010: val_loss improved from 0.09285 to 0.09205, saving model to /app/dataiku_filesystem_managed/NAMESCREENING_1/X71uZTip/mixed_val_loss_bo.hdf5\n",
      "Epoch 11/30\n",
      "2214/2214 [==============================] - 24s 11ms/step - loss: 0.0924 - precision_1: 0.8401 - recall_1: 0.9676 - val_loss: 0.0910 - val_precision_1: 0.8382 - val_recall_1: 0.9715\n",
      "\n",
      "Epoch 00011: val_loss improved from 0.09205 to 0.09098, saving model to /app/dataiku_filesystem_managed/NAMESCREENING_1/X71uZTip/mixed_val_loss_bo.hdf5\n",
      "Epoch 12/30\n",
      "2214/2214 [==============================] - 23s 11ms/step - loss: 0.0912 - precision_1: 0.8423 - recall_1: 0.9677 - val_loss: 0.0890 - val_precision_1: 0.8435 - val_recall_1: 0.9698\n",
      "\n",
      "Epoch 00012: val_loss improved from 0.09098 to 0.08902, saving model to /app/dataiku_filesystem_managed/NAMESCREENING_1/X71uZTip/mixed_val_loss_bo.hdf5\n",
      "Epoch 13/30\n",
      "2214/2214 [==============================] - 24s 11ms/step - loss: 0.0900 - precision_1: 0.8449 - recall_1: 0.9674 - val_loss: 0.0882 - val_precision_1: 0.8566 - val_recall_1: 0.9674\n",
      "\n",
      "Epoch 00013: val_loss improved from 0.08902 to 0.08821, saving model to /app/dataiku_filesystem_managed/NAMESCREENING_1/X71uZTip/mixed_val_loss_bo.hdf5\n",
      "Epoch 14/30\n",
      "2214/2214 [==============================] - 24s 11ms/step - loss: 0.0891 - precision_1: 0.8474 - recall_1: 0.9677 - val_loss: 0.0892 - val_precision_1: 0.8712 - val_recall_1: 0.9578\n",
      "\n",
      "Epoch 00014: val_loss did not improve from 0.08821\n",
      "Epoch 15/30\n",
      "2214/2214 [==============================] - 24s 11ms/step - loss: 0.0883 - precision_1: 0.8477 - recall_1: 0.9679 - val_loss: 0.0866 - val_precision_1: 0.8452 - val_recall_1: 0.9705\n",
      "\n",
      "Epoch 00015: val_loss improved from 0.08821 to 0.08657, saving model to /app/dataiku_filesystem_managed/NAMESCREENING_1/X71uZTip/mixed_val_loss_bo.hdf5\n",
      "Epoch 16/30\n",
      "2214/2214 [==============================] - 24s 11ms/step - loss: 0.0874 - precision_1: 0.8495 - recall_1: 0.9673 - val_loss: 0.0858 - val_precision_1: 0.8692 - val_recall_1: 0.9654\n",
      "\n",
      "Epoch 00016: val_loss improved from 0.08657 to 0.08582, saving model to /app/dataiku_filesystem_managed/NAMESCREENING_1/X71uZTip/mixed_val_loss_bo.hdf5\n",
      "Epoch 17/30\n",
      "2214/2214 [==============================] - 25s 11ms/step - loss: 0.0866 - precision_1: 0.8514 - recall_1: 0.9673 - val_loss: 0.0840 - val_precision_1: 0.8522 - val_recall_1: 0.9698\n",
      "\n",
      "Epoch 00017: val_loss improved from 0.08582 to 0.08402, saving model to /app/dataiku_filesystem_managed/NAMESCREENING_1/X71uZTip/mixed_val_loss_bo.hdf5\n",
      "Epoch 18/30\n",
      "2214/2214 [==============================] - 24s 11ms/step - loss: 0.0858 - precision_1: 0.8521 - recall_1: 0.9670 - val_loss: 0.0839 - val_precision_1: 0.8502 - val_recall_1: 0.9698\n",
      "\n",
      "Epoch 00018: val_loss improved from 0.08402 to 0.08386, saving model to /app/dataiku_filesystem_managed/NAMESCREENING_1/X71uZTip/mixed_val_loss_bo.hdf5\n",
      "Epoch 19/30\n",
      "2214/2214 [==============================] - 24s 11ms/step - loss: 0.0851 - precision_1: 0.8532 - recall_1: 0.9670 - val_loss: 0.0825 - val_precision_1: 0.8517 - val_recall_1: 0.9696\n",
      "\n",
      "Epoch 00019: val_loss improved from 0.08386 to 0.08247, saving model to /app/dataiku_filesystem_managed/NAMESCREENING_1/X71uZTip/mixed_val_loss_bo.hdf5\n",
      "Epoch 20/30\n",
      "2214/2214 [==============================] - 24s 11ms/step - loss: 0.0845 - precision_1: 0.8547 - recall_1: 0.9671 - val_loss: 0.0815 - val_precision_1: 0.8597 - val_recall_1: 0.9688\n",
      "\n",
      "Epoch 00020: val_loss improved from 0.08247 to 0.08149, saving model to /app/dataiku_filesystem_managed/NAMESCREENING_1/X71uZTip/mixed_val_loss_bo.hdf5\n",
      "Epoch 21/30\n",
      "2214/2214 [==============================] - 24s 11ms/step - loss: 0.0838 - precision_1: 0.8560 - recall_1: 0.9669 - val_loss: 0.0813 - val_precision_1: 0.8681 - val_recall_1: 0.9676\n",
      "\n",
      "Epoch 00021: val_loss improved from 0.08149 to 0.08125, saving model to /app/dataiku_filesystem_managed/NAMESCREENING_1/X71uZTip/mixed_val_loss_bo.hdf5\n",
      "Epoch 22/30\n",
      "2214/2214 [==============================] - 23s 11ms/step - loss: 0.0834 - precision_1: 0.8570 - recall_1: 0.9668 - val_loss: 0.0807 - val_precision_1: 0.8622 - val_recall_1: 0.9691\n",
      "\n",
      "Epoch 00022: val_loss improved from 0.08125 to 0.08065, saving model to /app/dataiku_filesystem_managed/NAMESCREENING_1/X71uZTip/mixed_val_loss_bo.hdf5\n",
      "Epoch 23/30\n",
      "2214/2214 [==============================] - 24s 11ms/step - loss: 0.0827 - precision_1: 0.8587 - recall_1: 0.9670 - val_loss: 0.0808 - val_precision_1: 0.8565 - val_recall_1: 0.9696\n",
      "\n",
      "Epoch 00023: val_loss did not improve from 0.08065\n",
      "Epoch 24/30\n",
      "2214/2214 [==============================] - 23s 10ms/step - loss: 0.0823 - precision_1: 0.8594 - recall_1: 0.9669 - val_loss: 0.0797 - val_precision_1: 0.8613 - val_recall_1: 0.9693\n",
      "\n",
      "Epoch 00024: val_loss improved from 0.08065 to 0.07973, saving model to /app/dataiku_filesystem_managed/NAMESCREENING_1/X71uZTip/mixed_val_loss_bo.hdf5\n",
      "Epoch 25/30\n",
      "2214/2214 [==============================] - 23s 10ms/step - loss: 0.0818 - precision_1: 0.8603 - recall_1: 0.9663 - val_loss: 0.0796 - val_precision_1: 0.8596 - val_recall_1: 0.9696\n",
      "\n",
      "Epoch 00025: val_loss improved from 0.07973 to 0.07957, saving model to /app/dataiku_filesystem_managed/NAMESCREENING_1/X71uZTip/mixed_val_loss_bo.hdf5\n",
      "Epoch 26/30\n",
      "2214/2214 [==============================] - 22s 10ms/step - loss: 0.0813 - precision_1: 0.8615 - recall_1: 0.9668 - val_loss: 0.0789 - val_precision_1: 0.8645 - val_recall_1: 0.9696\n",
      "\n",
      "Epoch 00026: val_loss improved from 0.07957 to 0.07893, saving model to /app/dataiku_filesystem_managed/NAMESCREENING_1/X71uZTip/mixed_val_loss_bo.hdf5\n",
      "Epoch 27/30\n",
      "2214/2214 [==============================] - 22s 10ms/step - loss: 0.0808 - precision_1: 0.8626 - recall_1: 0.9665 - val_loss: 0.0787 - val_precision_1: 0.8688 - val_recall_1: 0.9691\n",
      "\n",
      "Epoch 00027: val_loss improved from 0.07893 to 0.07870, saving model to /app/dataiku_filesystem_managed/NAMESCREENING_1/X71uZTip/mixed_val_loss_bo.hdf5\n",
      "Epoch 28/30\n",
      "2214/2214 [==============================] - 22s 10ms/step - loss: 0.0804 - precision_1: 0.8635 - recall_1: 0.9663 - val_loss: 0.0782 - val_precision_1: 0.8692 - val_recall_1: 0.9691\n",
      "\n",
      "Epoch 00028: val_loss improved from 0.07870 to 0.07818, saving model to /app/dataiku_filesystem_managed/NAMESCREENING_1/X71uZTip/mixed_val_loss_bo.hdf5\n",
      "Epoch 29/30\n",
      "2214/2214 [==============================] - 23s 10ms/step - loss: 0.0801 - precision_1: 0.8644 - recall_1: 0.9664 - val_loss: 0.0772 - val_precision_1: 0.8681 - val_recall_1: 0.9693\n",
      "\n",
      "Epoch 00029: val_loss improved from 0.07818 to 0.07716, saving model to /app/dataiku_filesystem_managed/NAMESCREENING_1/X71uZTip/mixed_val_loss_bo.hdf5\n",
      "Epoch 30/30\n",
      "2214/2214 [==============================] - 23s 10ms/step - loss: 0.0796 - precision_1: 0.8654 - recall_1: 0.9664 - val_loss: 0.0786 - val_precision_1: 0.8821 - val_recall_1: 0.9659\n",
      "\n",
      "Epoch 00030: val_loss did not improve from 0.07716\n"
     ]
    }
   ],
   "source": [
    "keras_callbacks   = [\\\n",
    "      EarlyStopping(monitor='val_loss', min_delta =0.01, patience=25, mode='min'),\\\n",
    "      ReduceLROnPlateau(monitor='val_loss', factor=0.75,patience=10, min_lr=0.000001),\\\n",
    "      ModelCheckpoint(filepath=model_path, \n",
    "                      monitor='val_loss',\n",
    "                      verbose=1, \n",
    "                      save_best_only=True,\n",
    "                      save_weights_only=False,\n",
    "                      mode='min',\n",
    "                      )]\n",
    "history = model_bo.fit(x=[train_cust_names,train_wl_names],y=y_train,validation_data=([val_cust_names,val_wl_names],y_val),\n",
    "                       epochs = 30,\n",
    "                       verbose = 1,\n",
    "                       shuffle = True,\n",
    "                       callbacks=[keras_callbacks])\n",
    "\n",
    "\n",
    "\n",
    "\n",
    "\n"
   ]
  },
  {
   "cell_type": "markdown",
   "metadata": {},
   "source": [
    "# Plots from Bayesian Optimization"
   ]
  },
  {
   "cell_type": "code",
   "execution_count": 126,
   "metadata": {},
   "outputs": [
    {
     "data": {
      "image/png": "[encoded data removed]",
      "text/plain": [
       "<Figure size 432x288 with 1 Axes>"
      ]
     },
     "metadata": {},
     "output_type": "display_data"
    }
   ],
   "source": [
    "import matplotlib.pyplot as plt\n",
    "plt.plot(history.history['loss'])\n",
    "plt.plot(history.history['val_loss'])\n",
    "plt.title('model loss')\n",
    "plt.ylabel('loss')\n",
    "plt.xlabel('epoch')\n",
    "plt.legend(['train', 'val'], loc='upper right')\n",
    "plt.show()"
   ]
  },
  {
   "cell_type": "code",
   "execution_count": 127,
   "metadata": {},
   "outputs": [
    {
     "data": {
      "image/png": "[encoded data removed]",
      "text/plain": [
       "<Figure size 864x864 with 6 Axes>"
      ]
     },
     "metadata": {},
     "output_type": "display_data"
    }
   ],
   "source": [
    "history.history.keys()\n",
    "\n",
    "N_epochs=len(history.history['loss'])\n",
    "fig,ax=plt.subplots(nrows=2,ncols=3,squeeze=False,figsize=(12,12))\n",
    "plt.sca(ax[0,0])\n",
    "ax[0,0].scatter(range(1,N_epochs+1),history.history['loss'])\n",
    "\n",
    "plt.xlabel(\"epochs\")\n",
    "plt.ylabel(\"loss\")\n",
    "plt.title(\"Training data loss\",fontsize=9)\n",
    "plt.grid()\n",
    "\n",
    "plt.sca(ax[0,1])\n",
    "ax[0,1].scatter(range(1,N_epochs+1),history.history['precision_1'])\n",
    "plt.xlabel(\"epochs\")\n",
    "plt.ylabel(\"Precision\")\n",
    "plt.title(\"Precision\",fontsize=9)\n",
    "plt.grid()\n",
    "\n",
    "plt.sca(ax[0,2])\n",
    "ax[0,2].scatter(range(1,N_epochs+1),history.history['recall_1'])\n",
    "plt.xlabel(\"epochs\")\n",
    "plt.ylabel(\"Recall\")\n",
    "plt.title(\"Recall\",fontsize=9)\n",
    "plt.grid()\n",
    "\n",
    "\n",
    "plt.sca(ax[1,1])\n",
    "ax[1,1].scatter(range(1,N_epochs+1),history.history['val_precision_1'])\n",
    "plt.xlabel(\"epochs\")\n",
    "plt.ylabel(\"Val_Precision\")\n",
    "plt.title(\"Val_Precision\",fontsize=9)\n",
    "plt.grid()\n",
    "\n",
    "plt.sca(ax[1,2])\n",
    "ax[1,2].scatter(range(1,N_epochs+1),history.history['val_recall_1'])\n",
    "plt.xlabel(\"epochs\")\n",
    "plt.ylabel(\"Val_Recall\")\n",
    "plt.title(\"Val_Recall\",fontsize=9)\n",
    "plt.grid()\n",
    "                                                    \n",
    "plt.sca(ax[1,0])\n",
    "ax[1,0].scatter(range(1,N_epochs+1),history.history['val_loss'],color=\"orange\")\n",
    "\n",
    "plt.xlabel(\"epochs\")\n",
    "plt.ylabel(\"val_loss\")\n",
    "plt.title(\"Validation data loss\",fontsize=9)\n",
    "plt.grid()\n",
    "fig.tight_layout()\n",
    "plt.show()"
   ]
  },
  {
   "cell_type": "markdown",
   "metadata": {},
   "source": [
    "# Results on test data from BO"
   ]
  },
  {
   "cell_type": "code",
   "execution_count": 128,
   "metadata": {},
   "outputs": [
    {
     "data": {
      "image/png": "[encoded data removed]",
      "text/plain": [
       "<Figure size 1152x216 with 1 Axes>"
      ]
     },
     "metadata": {},
     "output_type": "display_data"
    },
    {
     "name": "stdout",
     "output_type": "stream",
     "text": [
      "recall_value 0.9596972\n",
      "precision_value 0.8756603\n"
     ]
    }
   ],
   "source": [
    "# metrics on test dataset\n",
    "y_pred=model_bo.predict([test_cust_names,test_wl_names])\n",
    "\n",
    "y_pred\n",
    "\n",
    "delta=abs(y_test-y_pred.flatten())\n",
    "\n",
    "fig,ax=plt.subplots(figsize=(16,3))\n",
    "plt.scatter(range(len(delta)),delta)\n",
    "plt.xlabel(\"test_data_points\")\n",
    "plt.ylabel(\"delta\")\n",
    "plt.show()\n",
    "\n",
    "recall=tf.keras.metrics.Recall(thresholds=0.5)\n",
    "\n",
    "\n",
    "recall.update_state(y_test,y_pred)\n",
    "recall_value = recall.result().numpy()\n",
    "\n",
    "print(\"recall_value\",recall_value)\n",
    "\n",
    "\n",
    "\n",
    "precision=tf.keras.metrics.Precision(thresholds=0.5)\n",
    "precision.update_state(y_test,y_pred)\n",
    "precision_value = precision.result().numpy()\n",
    "\n",
    "print(\"precision_value\",precision_value)"
   ]
  },
  {
   "cell_type": "code",
   "execution_count": 216,
   "metadata": {
    "scrolled": false
   },
   "outputs": [
    {
     "data": {
      "text/html": [
       "\n",
       "            <button style=\"display:none\" \n",
       "            class=\"btn btn-default ipython-export-btn\" \n",
       "            id=\"btn-df-6b62db67-4790-4400-9448-67d630a43dee\" \n",
       "            onclick=\"_export_df('6b62db67-4790-4400-9448-67d630a43dee')\">\n",
       "                Export dataframe\n",
       "            </button>\n",
       "            \n",
       "            <script>\n",
       "                \n",
       "                function _check_export_df_possible(dfid,yes_fn,no_fn) {\n",
       "                    console.log('Checking dataframe exportability...')\n",
       "                    if(!IPython || !IPython.notebook || !IPython.notebook.kernel || !IPython.notebook.kernel) {\n",
       "                        console.log('Export is not possible (IPython kernel is not available)')\n",
       "                        if(no_fn) {\n",
       "                            no_fn();\n",
       "                        }\n",
       "                    } else {\n",
       "                        var pythonCode = 'from dataiku.notebook.export import IPythonExporter;IPythonExporter._check_export_stdout(\"'+dfid+'\")';\n",
       "                        IPython.notebook.kernel.execute(pythonCode,{iopub: {output: function(resp) {\n",
       "                            console.info(\"Exportability response\", resp);\n",
       "                            var size = /^([0-9]+)x([0-9]+)$/.exec(resp.content.data || resp.content.text)\n",
       "                            if(!size) {\n",
       "                                console.log('Export is not possible (dataframe is not in-memory anymore)')\n",
       "                                if(no_fn) {\n",
       "                                    no_fn();\n",
       "                                }\n",
       "                            } else {\n",
       "                                console.log('Export is possible')\n",
       "                                if(yes_fn) {\n",
       "                                    yes_fn(1*size[1],1*size[2]);\n",
       "                                }\n",
       "                            }\n",
       "                        }}});\n",
       "                    }\n",
       "                }\n",
       "            \n",
       "                function _export_df(dfid) {\n",
       "                    \n",
       "                    var btn = $('#btn-df-'+dfid);\n",
       "                    var btns = $('.ipython-export-btn');\n",
       "                    \n",
       "                    _check_export_df_possible(dfid,function() {\n",
       "                        \n",
       "                        window.parent.openExportModalFromIPython('Pandas dataframe',function(data) {\n",
       "                            btns.prop('disabled',true);\n",
       "                            btn.text('Exporting...');\n",
       "                            var command = 'from dataiku.notebook.export import IPythonExporter;IPythonExporter._run_export(\"'+dfid+'\",\"'+data.exportId+'\")';\n",
       "                            var callback = {iopub:{output: function(resp) {\n",
       "                                console.info(\"CB resp:\", resp);\n",
       "                                _check_export_df_possible(dfid,function(rows, cols) {\n",
       "                                    $('#btn-df-'+dfid)\n",
       "                                        .css('display','inline-block')\n",
       "                                        .text('Export this dataframe ('+rows+' rows, '+cols+' cols)')\n",
       "                                        .prop('disabled',false);\n",
       "                                },function() {\n",
       "                                    $('#btn-df-'+dfid).css('display','none');\n",
       "                                });\n",
       "                            }}};\n",
       "                            IPython.notebook.kernel.execute(command,callback,{silent:false}); // yes, silent now defaults to true. figures.\n",
       "                        });\n",
       "                    \n",
       "                    }, function(){\n",
       "                            alert('Unable to export : the Dataframe object is not loaded in memory');\n",
       "                            btn.css('display','none');\n",
       "                    });\n",
       "                    \n",
       "                }\n",
       "                \n",
       "                (function(dfid) {\n",
       "                \n",
       "                    var retryCount = 10;\n",
       "                \n",
       "                    function is_valid_websock(s) {\n",
       "                        return s && s.readyState==1;\n",
       "                    }\n",
       "                \n",
       "                    function check_conn() {\n",
       "                        \n",
       "                        if(typeof(IPython) === \"undefined\" || !IPython || !IPython.notebook) {\n",
       "                            // Don't even try to go further\n",
       "                            return;\n",
       "                        }\n",
       "                        \n",
       "                        // Check if IPython is ready\n",
       "                        console.info(\"Checking conn ...\")\n",
       "                        if(IPython.notebook.kernel\n",
       "                        && IPython.notebook.kernel\n",
       "                        && is_valid_websock(IPython.notebook.kernel.ws)\n",
       "                        ) {\n",
       "                            \n",
       "                            _check_export_df_possible(dfid,function(rows, cols) {\n",
       "                                $('#btn-df-'+dfid).css('display','inline-block');\n",
       "                                $('#btn-df-'+dfid).text('Export this dataframe ('+rows+' rows, '+cols+' cols)');\n",
       "                            });\n",
       "                            \n",
       "                        } else {\n",
       "                            console.info(\"Conditions are not ok\", IPython.notebook.kernel);\n",
       "                            \n",
       "                            // Retry later\n",
       "                            \n",
       "                            if(retryCount>0) {\n",
       "                                setTimeout(check_conn,500);\n",
       "                                retryCount--;\n",
       "                            }\n",
       "                            \n",
       "                        }\n",
       "                    };\n",
       "                    \n",
       "                    setTimeout(check_conn,100);\n",
       "                    \n",
       "                })(\"6b62db67-4790-4400-9448-67d630a43dee\");\n",
       "                \n",
       "            </script>\n",
       "            \n",
       "        <div>\n",
       "<style scoped>\n",
       "    .dataframe tbody tr th:only-of-type {\n",
       "        vertical-align: middle;\n",
       "    }\n",
       "\n",
       "    .dataframe tbody tr th {\n",
       "        vertical-align: top;\n",
       "    }\n",
       "\n",
       "    .dataframe thead th {\n",
       "        text-align: right;\n",
       "    }\n",
       "</style>\n",
       "<table border=\"1\" class=\"dataframe\">\n",
       "  <thead>\n",
       "    <tr style=\"text-align: right;\">\n",
       "      <th></th>\n",
       "      <th>0</th>\n",
       "    </tr>\n",
       "  </thead>\n",
       "  <tbody>\n",
       "    <tr>\n",
       "      <th>count</th>\n",
       "      <td>4.491000e+03</td>\n",
       "    </tr>\n",
       "    <tr>\n",
       "      <th>mean</th>\n",
       "      <td>7.712112e-01</td>\n",
       "    </tr>\n",
       "    <tr>\n",
       "      <th>std</th>\n",
       "      <td>1.525654e-01</td>\n",
       "    </tr>\n",
       "    <tr>\n",
       "      <th>min</th>\n",
       "      <td>1.821692e-08</td>\n",
       "    </tr>\n",
       "    <tr>\n",
       "      <th>25%</th>\n",
       "      <td>7.698596e-01</td>\n",
       "    </tr>\n",
       "    <tr>\n",
       "      <th>50%</th>\n",
       "      <td>8.127668e-01</td>\n",
       "    </tr>\n",
       "    <tr>\n",
       "      <th>75%</th>\n",
       "      <td>8.398400e-01</td>\n",
       "    </tr>\n",
       "    <tr>\n",
       "      <th>max</th>\n",
       "      <td>8.672827e-01</td>\n",
       "    </tr>\n",
       "  </tbody>\n",
       "</table>\n",
       "</div>"
      ],
      "text/plain": [
       "                  0\n",
       "count  4.491000e+03\n",
       "mean   7.712112e-01\n",
       "std    1.525654e-01\n",
       "min    1.821692e-08\n",
       "25%    7.698596e-01\n",
       "50%    8.127668e-01\n",
       "75%    8.398400e-01\n",
       "max    8.672827e-01"
      ]
     },
     "execution_count": 216,
     "metadata": {},
     "output_type": "execute_result"
    }
   ],
   "source": [
    "# investigation on test datasets for checking the match of predicted value and test value when names of both profiles are same\n",
    "results_on_test_when_same_name_bo=model_bo.predict([test_cust_names[np.where(y_test==1)],test_wl_names[np.where(y_test==1)]])\n",
    "pd.DataFrame(results_on_test_when_same_name_bo).describe()"
   ]
  },
  {
   "cell_type": "code",
   "execution_count": 217,
   "metadata": {},
   "outputs": [
    {
     "data": {
      "text/plain": [
       "(array([[0.84191185],\n",
       "        [0.81254244],\n",
       "        [0.79854465],\n",
       "        ...,\n",
       "        [0.76618415],\n",
       "        [0.74516195],\n",
       "        [0.8188886 ]], dtype=float32),\n",
       " array([1, 0, 1, ..., 1, 1, 0]))"
      ]
     },
     "execution_count": 217,
     "metadata": {},
     "output_type": "execute_result"
    }
   ],
   "source": [
    "results_on_test_when_same_name_bo,y_pred"
   ]
  },
  {
   "cell_type": "code",
   "execution_count": 218,
   "metadata": {
    "scrolled": true
   },
   "outputs": [
    {
     "data": {
      "text/plain": [
       "<function matplotlib.pyplot.show(close=None, block=None)>"
      ]
     },
     "execution_count": 218,
     "metadata": {},
     "output_type": "execute_result"
    },
    {
     "data": {
      "image/png": "[encoded data removed]",
      "text/plain": [
       "<Figure size 432x288 with 2 Axes>"
      ]
     },
     "metadata": {},
     "output_type": "display_data"
    }
   ],
   "source": [
    "fig,ax=plt.subplots(nrows=2,ncols=1)\n",
    "#plt.scatter(np.arange(len(results_on_test_when_same_name)),results_on_test_when_same_name)\n",
    "ax[0].hist(results_on_test_when_same_name_bo,10)\n",
    "ax[1].scatter(np.arange(len(results_on_test_when_same_name_bo)),results_on_test_when_same_name_bo)\n",
    "\n",
    "plt.show"
   ]
  },
  {
   "cell_type": "code",
   "execution_count": 219,
   "metadata": {
    "scrolled": true
   },
   "outputs": [
    {
     "data": {
      "text/html": [
       "\n",
       "            <button style=\"display:none\" \n",
       "            class=\"btn btn-default ipython-export-btn\" \n",
       "            id=\"btn-df-d6ead976-865d-45c1-b00f-a4ccebc9b69f\" \n",
       "            onclick=\"_export_df('d6ead976-865d-45c1-b00f-a4ccebc9b69f')\">\n",
       "                Export dataframe\n",
       "            </button>\n",
       "            \n",
       "            <script>\n",
       "                \n",
       "                function _check_export_df_possible(dfid,yes_fn,no_fn) {\n",
       "                    console.log('Checking dataframe exportability...')\n",
       "                    if(!IPython || !IPython.notebook || !IPython.notebook.kernel || !IPython.notebook.kernel) {\n",
       "                        console.log('Export is not possible (IPython kernel is not available)')\n",
       "                        if(no_fn) {\n",
       "                            no_fn();\n",
       "                        }\n",
       "                    } else {\n",
       "                        var pythonCode = 'from dataiku.notebook.export import IPythonExporter;IPythonExporter._check_export_stdout(\"'+dfid+'\")';\n",
       "                        IPython.notebook.kernel.execute(pythonCode,{iopub: {output: function(resp) {\n",
       "                            console.info(\"Exportability response\", resp);\n",
       "                            var size = /^([0-9]+)x([0-9]+)$/.exec(resp.content.data || resp.content.text)\n",
       "                            if(!size) {\n",
       "                                console.log('Export is not possible (dataframe is not in-memory anymore)')\n",
       "                                if(no_fn) {\n",
       "                                    no_fn();\n",
       "                                }\n",
       "                            } else {\n",
       "                                console.log('Export is possible')\n",
       "                                if(yes_fn) {\n",
       "                                    yes_fn(1*size[1],1*size[2]);\n",
       "                                }\n",
       "                            }\n",
       "                        }}});\n",
       "                    }\n",
       "                }\n",
       "            \n",
       "                function _export_df(dfid) {\n",
       "                    \n",
       "                    var btn = $('#btn-df-'+dfid);\n",
       "                    var btns = $('.ipython-export-btn');\n",
       "                    \n",
       "                    _check_export_df_possible(dfid,function() {\n",
       "                        \n",
       "                        window.parent.openExportModalFromIPython('Pandas dataframe',function(data) {\n",
       "                            btns.prop('disabled',true);\n",
       "                            btn.text('Exporting...');\n",
       "                            var command = 'from dataiku.notebook.export import IPythonExporter;IPythonExporter._run_export(\"'+dfid+'\",\"'+data.exportId+'\")';\n",
       "                            var callback = {iopub:{output: function(resp) {\n",
       "                                console.info(\"CB resp:\", resp);\n",
       "                                _check_export_df_possible(dfid,function(rows, cols) {\n",
       "                                    $('#btn-df-'+dfid)\n",
       "                                        .css('display','inline-block')\n",
       "                                        .text('Export this dataframe ('+rows+' rows, '+cols+' cols)')\n",
       "                                        .prop('disabled',false);\n",
       "                                },function() {\n",
       "                                    $('#btn-df-'+dfid).css('display','none');\n",
       "                                });\n",
       "                            }}};\n",
       "                            IPython.notebook.kernel.execute(command,callback,{silent:false}); // yes, silent now defaults to true. figures.\n",
       "                        });\n",
       "                    \n",
       "                    }, function(){\n",
       "                            alert('Unable to export : the Dataframe object is not loaded in memory');\n",
       "                            btn.css('display','none');\n",
       "                    });\n",
       "                    \n",
       "                }\n",
       "                \n",
       "                (function(dfid) {\n",
       "                \n",
       "                    var retryCount = 10;\n",
       "                \n",
       "                    function is_valid_websock(s) {\n",
       "                        return s && s.readyState==1;\n",
       "                    }\n",
       "                \n",
       "                    function check_conn() {\n",
       "                        \n",
       "                        if(typeof(IPython) === \"undefined\" || !IPython || !IPython.notebook) {\n",
       "                            // Don't even try to go further\n",
       "                            return;\n",
       "                        }\n",
       "                        \n",
       "                        // Check if IPython is ready\n",
       "                        console.info(\"Checking conn ...\")\n",
       "                        if(IPython.notebook.kernel\n",
       "                        && IPython.notebook.kernel\n",
       "                        && is_valid_websock(IPython.notebook.kernel.ws)\n",
       "                        ) {\n",
       "                            \n",
       "                            _check_export_df_possible(dfid,function(rows, cols) {\n",
       "                                $('#btn-df-'+dfid).css('display','inline-block');\n",
       "                                $('#btn-df-'+dfid).text('Export this dataframe ('+rows+' rows, '+cols+' cols)');\n",
       "                            });\n",
       "                            \n",
       "                        } else {\n",
       "                            console.info(\"Conditions are not ok\", IPython.notebook.kernel);\n",
       "                            \n",
       "                            // Retry later\n",
       "                            \n",
       "                            if(retryCount>0) {\n",
       "                                setTimeout(check_conn,500);\n",
       "                                retryCount--;\n",
       "                            }\n",
       "                            \n",
       "                        }\n",
       "                    };\n",
       "                    \n",
       "                    setTimeout(check_conn,100);\n",
       "                    \n",
       "                })(\"d6ead976-865d-45c1-b00f-a4ccebc9b69f\");\n",
       "                \n",
       "            </script>\n",
       "            \n",
       "        <div>\n",
       "<style scoped>\n",
       "    .dataframe tbody tr th:only-of-type {\n",
       "        vertical-align: middle;\n",
       "    }\n",
       "\n",
       "    .dataframe tbody tr th {\n",
       "        vertical-align: top;\n",
       "    }\n",
       "\n",
       "    .dataframe thead th {\n",
       "        text-align: right;\n",
       "    }\n",
       "</style>\n",
       "<table border=\"1\" class=\"dataframe\">\n",
       "  <thead>\n",
       "    <tr style=\"text-align: right;\">\n",
       "      <th></th>\n",
       "      <th>0</th>\n",
       "    </tr>\n",
       "  </thead>\n",
       "  <tbody>\n",
       "    <tr>\n",
       "      <th>count</th>\n",
       "      <td>4.253000e+03</td>\n",
       "    </tr>\n",
       "    <tr>\n",
       "      <th>mean</th>\n",
       "      <td>1.413947e-01</td>\n",
       "    </tr>\n",
       "    <tr>\n",
       "      <th>std</th>\n",
       "      <td>2.514066e-01</td>\n",
       "    </tr>\n",
       "    <tr>\n",
       "      <th>min</th>\n",
       "      <td>6.554223e-08</td>\n",
       "    </tr>\n",
       "    <tr>\n",
       "      <th>25%</th>\n",
       "      <td>1.599789e-04</td>\n",
       "    </tr>\n",
       "    <tr>\n",
       "      <th>50%</th>\n",
       "      <td>2.522975e-03</td>\n",
       "    </tr>\n",
       "    <tr>\n",
       "      <th>75%</th>\n",
       "      <td>1.391882e-01</td>\n",
       "    </tr>\n",
       "    <tr>\n",
       "      <th>max</th>\n",
       "      <td>8.588395e-01</td>\n",
       "    </tr>\n",
       "  </tbody>\n",
       "</table>\n",
       "</div>"
      ],
      "text/plain": [
       "                  0\n",
       "count  4.253000e+03\n",
       "mean   1.413947e-01\n",
       "std    2.514066e-01\n",
       "min    6.554223e-08\n",
       "25%    1.599789e-04\n",
       "50%    2.522975e-03\n",
       "75%    1.391882e-01\n",
       "max    8.588395e-01"
      ]
     },
     "execution_count": 219,
     "metadata": {},
     "output_type": "execute_result"
    }
   ],
   "source": [
    "# investigation on test datapoints when customer and watchlist name miss-match\n",
    "results_on_test_when_diff_name_bo=model_bo.predict([test_cust_names[np.where(y_test==0)],test_wl_names[np.where(y_test==0)]])\n",
    "pd.DataFrame(results_on_test_when_diff_name_bo).describe()"
   ]
  },
  {
   "cell_type": "code",
   "execution_count": 220,
   "metadata": {},
   "outputs": [
    {
     "data": {
      "text/plain": [
       "<function matplotlib.pyplot.show(close=None, block=None)>"
      ]
     },
     "execution_count": 220,
     "metadata": {},
     "output_type": "execute_result"
    },
    {
     "data": {
      "image/png": "[encoded data removed]",
      "text/plain": [
       "<Figure size 432x288 with 2 Axes>"
      ]
     },
     "metadata": {},
     "output_type": "display_data"
    }
   ],
   "source": [
    "fig,ax=plt.subplots(nrows=2,ncols=1)\n",
    "\n",
    "ax[0].hist(results_on_test_when_diff_name_rs,10)\n",
    "ax[1].scatter(np.arange(len(results_on_test_when_diff_name_bo)),results_on_test_when_diff_name_bo)\n",
    "\n",
    "plt.show"
   ]
  },
  {
   "cell_type": "code",
   "execution_count": 0,
   "metadata": {},
   "outputs": [],
   "source": []
  },
  {
   "cell_type": "markdown",
   "metadata": {},
   "source": [
    "# Hyperband"
   ]
  },
  {
   "cell_type": "code",
   "execution_count": 0,
   "metadata": {},
   "outputs": [],
   "source": [
    "tuner =keras_tuner.Hyperband(\n",
    "    hypermodel=build_model,\n",
    "    objective=\"val_loss\",\n",
    "    max_epochs=10,\n",
    "    directory='new_directory_1',\n",
    "    #hyperparameters=hp,\n",
    "    project_name='Hyperband_03'  \n",
    ")"
   ]
  },
  {
   "cell_type": "code",
   "execution_count": 0,
   "metadata": {},
   "outputs": [],
   "source": [
    "def build_model(hp):\n",
    "\n",
    "\n",
    "    rate = 0.2\n",
    "    tf.random.set_seed(\n",
    "        11\n",
    "    )\n",
    "\n",
    "    rate = 0.2\n",
    "\n",
    "    output_dim = 100\n",
    "\n",
    "    #from tensorflow.keras import layers\n",
    "    from tensorflow.keras import regularizers\n",
    "    from sklearn.preprocessing import OneHotEncoder\n",
    "    from tensorflow import one_hot\n",
    "\n",
    "    #OHE = one_hot(depth=100)\n",
    "    # Define inputs \n",
    "    left_input = Input((51,))\n",
    "    right_input = Input((51,))\n",
    "\n",
    "    embedded_l = Embedding(51, output_dim)(left_input)                        #   ------layer 1 (embedding layer)\n",
    "    embedded_r = Embedding(51, output_dim)(right_input)\n",
    "\n",
    "\n",
    "    position_embeddings_l = PositionEmbedding(\n",
    "        sequence_length=51)(embedded_l)\n",
    "    position_embeddings_r = PositionEmbedding(\n",
    "        sequence_length=51)(embedded_r)\n",
    "\n",
    "    embedded_l = embedded_l + position_embeddings_l\n",
    "    embedded_r = embedded_r + position_embeddings_r\n",
    "\n",
    "    C_l =tf.keras.layers.Conv1D(filters=hp.Int('conv_1_filter', min_value=32, max_value=128, step=16),\n",
    "        # adding filter size or kernel size\n",
    "                                kernel_size=hp.Choice('conv_1_kernel', values = [3,5]),\n",
    "                                padding = 'same',\n",
    "                                activation = 'relu',kernel_initializer='he_uniform')(embedded_l)\n",
    "    \n",
    "    C_r = tf.keras.layers.Conv1D(    # #adding filter \n",
    "        filters=hp.Int('conv_1_filter', min_value=32, max_value=128, step=16),\n",
    "        # adding filter size or kernel size\n",
    "        kernel_size=hp.Choice('conv_1_kernel', values = [3,5]),\n",
    "                                 padding = 'same',\n",
    "                                 activation = 'relu',kernel_initializer='he_uniform')(embedded_r)\n",
    "\n",
    "    C_l = Dense(output_dim)(C_l)                                             # ----------------layer3 ( dense layer)\n",
    "    C_r = Dense(output_dim)(C_r)\n",
    "\n",
    "    C_l = embedded_l + C_l                                                   # updating vector\n",
    "    C_r = embedded_r + C_r\n",
    "\n",
    "    ##\n",
    "\n",
    "    C_l = tf.keras.layers.Dropout(rate)(C_l)                                # -----------------layer 4 ( dropout layer)\n",
    "    C_r = tf.keras.layers.Dropout(rate)(C_r)\n",
    "\n",
    "    C_l = embedded_l + C_l                                                 # updating vector\n",
    "    C_r = embedded_r + C_r\n",
    "\n",
    "\n",
    "\n",
    "    # Generate C_l & C_r with regularization - kernel,bias,activity                  # layer5 ( Conv1d)\n",
    "    C_l = tf.keras.layers.Conv1D(filters=hp.Int('conv_2_filter', min_value=8, max_value=64, step=8),\n",
    "        # adding filter size or kernel size\n",
    "                                 kernel_size=hp.Choice('conv_2_kernel', values = [3,8]),\n",
    "                                 padding = 'same',\n",
    "                                 activation = 'relu',kernel_initializer='he_uniform',\n",
    "                                 kernel_regularizer=regularizers.L2(l2=1e-5),\n",
    "                                 bias_regularizer=regularizers.L1(1),\n",
    "                                 activity_regularizer=regularizers.L2(1e-2))(C_l)\n",
    "    C_r = tf.keras.layers.Conv1D(filters=hp.Int('conv_2_filter', min_value=8, max_value=64, step=8),\n",
    "        # adding filter size or kernel size\n",
    "                                 kernel_size=hp.Choice('conv_2_kernel', values = [3,8]),\n",
    "                                 padding = 'same',\n",
    "                                 activation = 'relu',kernel_initializer='he_uniform',\n",
    "                                 kernel_regularizer=regularizers.L2(l2=1e-5),\n",
    "                                 bias_regularizer=regularizers.L1(1),\n",
    "                                 activity_regularizer=regularizers.L2(1e-2))(C_r)\n",
    "    # Adding dense layer with nuerons equal to 64\n",
    "\n",
    "    C_l = Dense(output_dim)(C_l)                                                      #layer6 (dense layer)\n",
    "    C_r = Dense(output_dim)(C_r)\n",
    "\n",
    "    # Summing the input  embed & output of dense layer \n",
    "    C_l = embedded_l + C_l                                                           # update \n",
    "    C_r = embedded_r + C_r\n",
    "\n",
    "\n",
    "    ##\n",
    "\n",
    "\n",
    "    # Adding dense layer with one nueron. \n",
    "\n",
    "    C_l = Dense(1)(C_l)                                                                       # layer7 (dense layer)\n",
    "    C_r = Dense(1)(C_r)\n",
    "\n",
    "    # return the cosine similarity on output of left & right sub-network\n",
    "    y_pred = Dot(axes=(1), normalize=True)([C_l, C_r]) # y_pred == E_w\n",
    "    # flattening\n",
    "    y_pred = Flatten()(y_pred)\n",
    "    # one final neuron with sigmoid as activation.\n",
    "    y_pred = tf.keras.layers.Dense(1, activation=\"sigmoid\")(y_pred)                           # layer 8 (output layer)\n",
    "\n",
    "    # define optimizer\n",
    "    opt = keras.optimizers.Adam(learning_rate=0.0001)\n",
    "    model = Model(inputs=[left_input,right_input],outputs=y_pred)\n",
    "    hp_loss=hp.Choice(\"loss_name\",values=[\"loss\",\"BCS_loss\"])\n",
    "    if hp_loss==\"loss\":\n",
    "    #hp_loss=hp.Choice(\"loss\",values=[loss(),BinaryCrossentropy()])\n",
    "       model.compile(loss(), optimizer=keras.optimizers.Adam(hp.Choice('learning_rate', values=[1e-2, 1e-3])), \\\n",
    "                                metrics=[tf.keras.metrics.Precision(thresholds=0.5),tf.keras.metrics.Recall(thresholds=0.5)])\n",
    "    \n",
    "    #siamese_net_4_mod_1.compile(loss=tf.keras.losses.BinaryCrossentropy(), optimizer=opt, \\\n",
    "    else:\n",
    "       \n",
    "       model.compile(BinaryCrossentropy(), optimizer=keras.optimizers.Adam(hp.Choice('learning_rate', values=[1e-2, 1e-3])), \\\n",
    "                                metrics=[tf.keras.metrics.Precision(thresholds=0.5),tf.keras.metrics.Recall(thresholds=0.5)])\n",
    "\n",
    "    return model"
   ]
  },
  {
   "cell_type": "code",
   "execution_count": 0,
   "metadata": {},
   "outputs": [],
   "source": []
  },
  {
   "cell_type": "code",
   "execution_count": 0,
   "metadata": {},
   "outputs": [],
   "source": [
    "tuner.search(x_train=[train_cust_names,train_wl_names], y_train=y_train, epochs=50, validation_data=([val_cust_names,val_wl_names],y_val),batch_size=128)\n",
    "\n",
    "\n"
   ]
  },
  {
   "cell_type": "code",
   "execution_count": 0,
   "metadata": {},
   "outputs": [],
   "source": [
    "from keras_preprocessing.sequence import pad_sequences"
   ]
  },
  {
   "cell_type": "code",
   "execution_count": 0,
   "metadata": {},
   "outputs": [],
   "source": [
    "class tok:\n",
    "    def __init__(self):\n",
    "        self.maxlen=maxlen\n",
    "        self.vector=[test_cust_names,test_wl_names]\n",
    "        self.test=y_test\n",
    "tok_var=tok()"
   ]
  },
  {
   "cell_type": "code",
   "execution_count": 0,
   "metadata": {},
   "outputs": [],
   "source": [
    "tok_var.maxlen\n",
    "\n",
    "file_path=os.path.join(folder_path,\"tok_var.sav\")\n",
    "pickle.dump(tok_var,open(file_path,\"wb\"))\n",
    "x=pickle.load(open(file_path,\"rb\"))"
   ]
  }
 ],
 "metadata": {
  "createdOn": 1695735387872,
  "creator": "00147515",
  "customFields": {},
  "hide_input": false,
  "kernelspec": {
   "display_name": "Python (env py_39_tm_ns_2)",
   "language": "python",
   "name": "py-dku-venv-py_39_tm_ns_2"
  },
  "language_info": {
   "codemirror_mode": {
    "name": "ipython",
    "version": 3
   },
   "file_extension": ".py",
   "mimetype": "text/x-python",
   "name": "python",
   "nbconvert_exporter": "python",
   "pygments_lexer": "ipython3",
   "version": "3.9.6"
  },
  "modifiedBy": "00147515",
  "tags": [
   "Combi-Model"
  ]
 },
 "nbformat": 4,
 "nbformat_minor": 1
}
