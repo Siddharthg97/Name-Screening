{
 "cells": [
  {
   "cell_type": "code",
   "execution_count": 30,
   "id": "62d719c2",
   "metadata": {},
   "outputs": [
    {
     "name": "stdout",
     "output_type": "stream",
     "text": [
      "Requirement already satisfied: transformers in c:\\users\\80009028\\appdata\\local\\anaconda3\\lib\\site-packages (4.32.1)\n",
      "Requirement already satisfied: filelock in c:\\users\\80009028\\appdata\\local\\anaconda3\\lib\\site-packages (from transformers) (3.9.0)\n",
      "Requirement already satisfied: huggingface-hub<1.0,>=0.15.1 in c:\\users\\80009028\\appdata\\local\\anaconda3\\lib\\site-packages (from transformers) (0.15.1)\n",
      "Requirement already satisfied: numpy>=1.17 in c:\\users\\80009028\\appdata\\local\\anaconda3\\lib\\site-packages (from transformers) (1.24.3)\n",
      "Requirement already satisfied: packaging>=20.0 in c:\\users\\80009028\\appdata\\local\\anaconda3\\lib\\site-packages (from transformers) (23.2)\n",
      "Requirement already satisfied: pyyaml>=5.1 in c:\\users\\80009028\\appdata\\local\\anaconda3\\lib\\site-packages (from transformers) (6.0)\n",
      "Requirement already satisfied: regex!=2019.12.17 in c:\\users\\80009028\\appdata\\local\\anaconda3\\lib\\site-packages (from transformers) (2022.7.9)\n",
      "Requirement already satisfied: requests in c:\\users\\80009028\\appdata\\local\\anaconda3\\lib\\site-packages (from transformers) (2.31.0)\n",
      "Requirement already satisfied: tokenizers!=0.11.3,<0.14,>=0.11.1 in c:\\users\\80009028\\appdata\\local\\anaconda3\\lib\\site-packages (from transformers) (0.13.2)\n",
      "Requirement already satisfied: safetensors>=0.3.1 in c:\\users\\80009028\\appdata\\local\\anaconda3\\lib\\site-packages (from transformers) (0.3.2)\n",
      "Requirement already satisfied: tqdm>=4.27 in c:\\users\\80009028\\appdata\\local\\anaconda3\\lib\\site-packages (from transformers) (4.65.0)\n",
      "Requirement already satisfied: fsspec in c:\\users\\80009028\\appdata\\local\\anaconda3\\lib\\site-packages (from huggingface-hub<1.0,>=0.15.1->transformers) (2023.4.0)\n",
      "Requirement already satisfied: typing-extensions>=3.7.4.3 in c:\\users\\80009028\\appdata\\local\\anaconda3\\lib\\site-packages (from huggingface-hub<1.0,>=0.15.1->transformers) (4.10.0)\n",
      "Requirement already satisfied: colorama in c:\\users\\80009028\\appdata\\local\\anaconda3\\lib\\site-packages (from tqdm>=4.27->transformers) (0.4.6)\n",
      "Requirement already satisfied: charset-normalizer<4,>=2 in c:\\users\\80009028\\appdata\\local\\anaconda3\\lib\\site-packages (from requests->transformers) (3.3.2)\n",
      "Requirement already satisfied: idna<4,>=2.5 in c:\\users\\80009028\\appdata\\local\\anaconda3\\lib\\site-packages (from requests->transformers) (3.6)\n",
      "Requirement already satisfied: urllib3<3,>=1.21.1 in c:\\users\\80009028\\appdata\\local\\anaconda3\\lib\\site-packages (from requests->transformers) (2.2.1)\n",
      "Requirement already satisfied: certifi>=2017.4.17 in c:\\users\\80009028\\appdata\\local\\anaconda3\\lib\\site-packages (from requests->transformers) (2023.7.22)\n",
      "Note: you may need to restart the kernel to use updated packages.\n"
     ]
    }
   ],
   "source": [
    "pip install transformers"
   ]
  },
  {
   "cell_type": "code",
   "execution_count": null,
   "id": "e53deffa",
   "metadata": {},
   "outputs": [],
   "source": [
    "Step -1 Pre-processing for customer data to create a phrase \n",
    "1) manufacturing labour at XYZ corporation, construction sector\n",
    "2) if designation not present then employee at XYZ corporation, construction sector\n",
    "3) many more variations are to be formed\n",
    "\n",
    "Step -2 Pre-processing for watch-list\n",
    "\n",
    "1) noisy data removal like to be determined,dates , months , sanctioned entity, EXIT DUE TO ML CONCERN ,NO ACCOUNT TO BE OPENED\n",
    "2) extraction of only biography portion , and if not then only 3 sentences\n",
    "\n",
    "Step-3 Generating cls pooled embeddings using BERT \n",
    "\n",
    "Step-4 Utilized supervised approach two approaches\n",
    "1) obtaining cosine similarity , obtaining best threshold using plot of threshold v/s F1 score. But results were not so much good.\n",
    "Results were F1 score achieved was 0.45 with F1 score of 0.71.\n",
    "2) second approach is to use supervised model i.e. ANN or \n",
    "BERTforsequence classification (time consumption for running one epoch using dataset and dataloaders was more than 24 hours. ) and \n",
    "the model obtained from checkpoint was also not performing good.Used\n",
    "Hence discarded that, now used ANN \n",
    "\n",
    "\n",
    "\n"
   ]
  },
  {
   "cell_type": "code",
   "execution_count": 31,
   "id": "daf76d79",
   "metadata": {},
   "outputs": [
    {
     "name": "stdout",
     "output_type": "stream",
     "text": [
      "Requirement already satisfied: tensorflow in c:\\users\\80009028\\appdata\\local\\anaconda3\\lib\\site-packages (2.15.0)Note: you may need to restart the kernel to use updated packages.\n",
      "\n",
      "Requirement already satisfied: tensorflow-intel==2.15.0 in c:\\users\\80009028\\appdata\\local\\anaconda3\\lib\\site-packages (from tensorflow) (2.15.0)\n",
      "Requirement already satisfied: absl-py>=1.0.0 in c:\\users\\80009028\\appdata\\local\\anaconda3\\lib\\site-packages (from tensorflow-intel==2.15.0->tensorflow) (2.1.0)\n",
      "Requirement already satisfied: astunparse>=1.6.0 in c:\\users\\80009028\\appdata\\local\\anaconda3\\lib\\site-packages (from tensorflow-intel==2.15.0->tensorflow) (1.6.3)\n",
      "Requirement already satisfied: flatbuffers>=23.5.26 in c:\\users\\80009028\\appdata\\local\\anaconda3\\lib\\site-packages (from tensorflow-intel==2.15.0->tensorflow) (23.5.26)\n",
      "Requirement already satisfied: gast!=0.5.0,!=0.5.1,!=0.5.2,>=0.2.1 in c:\\users\\80009028\\appdata\\local\\anaconda3\\lib\\site-packages (from tensorflow-intel==2.15.0->tensorflow) (0.5.4)\n",
      "Requirement already satisfied: google-pasta>=0.1.1 in c:\\users\\80009028\\appdata\\local\\anaconda3\\lib\\site-packages (from tensorflow-intel==2.15.0->tensorflow) (0.2.0)\n",
      "Requirement already satisfied: h5py>=2.9.0 in c:\\users\\80009028\\appdata\\local\\anaconda3\\lib\\site-packages (from tensorflow-intel==2.15.0->tensorflow) (3.9.0)\n",
      "Requirement already satisfied: libclang>=13.0.0 in c:\\users\\80009028\\appdata\\local\\anaconda3\\lib\\site-packages (from tensorflow-intel==2.15.0->tensorflow) (16.0.6)\n",
      "Requirement already satisfied: ml-dtypes~=0.2.0 in c:\\users\\80009028\\appdata\\local\\anaconda3\\lib\\site-packages (from tensorflow-intel==2.15.0->tensorflow) (0.2.0)\n",
      "Requirement already satisfied: numpy<2.0.0,>=1.23.5 in c:\\users\\80009028\\appdata\\local\\anaconda3\\lib\\site-packages (from tensorflow-intel==2.15.0->tensorflow) (1.24.3)\n",
      "Requirement already satisfied: opt-einsum>=2.3.2 in c:\\users\\80009028\\appdata\\local\\anaconda3\\lib\\site-packages (from tensorflow-intel==2.15.0->tensorflow) (3.3.0)\n",
      "Requirement already satisfied: packaging in c:\\users\\80009028\\appdata\\local\\anaconda3\\lib\\site-packages (from tensorflow-intel==2.15.0->tensorflow) (23.2)\n",
      "Requirement already satisfied: protobuf!=4.21.0,!=4.21.1,!=4.21.2,!=4.21.3,!=4.21.4,!=4.21.5,<5.0.0dev,>=3.20.3 in c:\\users\\80009028\\appdata\\local\\anaconda3\\lib\\site-packages (from tensorflow-intel==2.15.0->tensorflow) (4.25.3)\n",
      "Requirement already satisfied: setuptools in c:\\users\\80009028\\appdata\\local\\anaconda3\\lib\\site-packages (from tensorflow-intel==2.15.0->tensorflow) (68.0.0)\n",
      "Requirement already satisfied: six>=1.12.0 in c:\\users\\80009028\\appdata\\local\\anaconda3\\lib\\site-packages (from tensorflow-intel==2.15.0->tensorflow) (1.16.0)\n",
      "Requirement already satisfied: termcolor>=1.1.0 in c:\\users\\80009028\\appdata\\local\\anaconda3\\lib\\site-packages (from tensorflow-intel==2.15.0->tensorflow) (2.4.0)\n",
      "Requirement already satisfied: typing-extensions>=3.6.6 in c:\\users\\80009028\\appdata\\local\\anaconda3\\lib\\site-packages (from tensorflow-intel==2.15.0->tensorflow) (4.10.0)\n",
      "Requirement already satisfied: wrapt<1.15,>=1.11.0 in c:\\users\\80009028\\appdata\\local\\anaconda3\\lib\\site-packages (from tensorflow-intel==2.15.0->tensorflow) (1.14.1)\n",
      "Requirement already satisfied: tensorflow-io-gcs-filesystem>=0.23.1 in c:\\users\\80009028\\appdata\\local\\anaconda3\\lib\\site-packages (from tensorflow-intel==2.15.0->tensorflow) (0.31.0)\n",
      "Requirement already satisfied: grpcio<2.0,>=1.24.3 in c:\\users\\80009028\\appdata\\local\\anaconda3\\lib\\site-packages (from tensorflow-intel==2.15.0->tensorflow) (1.62.0)\n",
      "Requirement already satisfied: tensorboard<2.16,>=2.15 in c:\\users\\80009028\\appdata\\local\\anaconda3\\lib\\site-packages (from tensorflow-intel==2.15.0->tensorflow) (2.15.2)\n",
      "Requirement already satisfied: tensorflow-estimator<2.16,>=2.15.0 in c:\\users\\80009028\\appdata\\local\\anaconda3\\lib\\site-packages (from tensorflow-intel==2.15.0->tensorflow) (2.15.0)\n",
      "Requirement already satisfied: keras<2.16,>=2.15.0 in c:\\users\\80009028\\appdata\\local\\anaconda3\\lib\\site-packages (from tensorflow-intel==2.15.0->tensorflow) (2.15.0)\n",
      "Requirement already satisfied: wheel<1.0,>=0.23.0 in c:\\users\\80009028\\appdata\\local\\anaconda3\\lib\\site-packages (from astunparse>=1.6.0->tensorflow-intel==2.15.0->tensorflow) (0.38.4)\n",
      "Requirement already satisfied: google-auth<3,>=1.6.3 in c:\\users\\80009028\\appdata\\local\\anaconda3\\lib\\site-packages (from tensorboard<2.16,>=2.15->tensorflow-intel==2.15.0->tensorflow) (2.28.1)\n",
      "Requirement already satisfied: google-auth-oauthlib<2,>=0.5 in c:\\users\\80009028\\appdata\\local\\anaconda3\\lib\\site-packages (from tensorboard<2.16,>=2.15->tensorflow-intel==2.15.0->tensorflow) (1.2.0)\n",
      "Requirement already satisfied: markdown>=2.6.8 in c:\\users\\80009028\\appdata\\local\\anaconda3\\lib\\site-packages (from tensorboard<2.16,>=2.15->tensorflow-intel==2.15.0->tensorflow) (3.4.1)\n",
      "Requirement already satisfied: requests<3,>=2.21.0 in c:\\users\\80009028\\appdata\\local\\anaconda3\\lib\\site-packages (from tensorboard<2.16,>=2.15->tensorflow-intel==2.15.0->tensorflow) (2.31.0)\n",
      "Requirement already satisfied: tensorboard-data-server<0.8.0,>=0.7.0 in c:\\users\\80009028\\appdata\\local\\anaconda3\\lib\\site-packages (from tensorboard<2.16,>=2.15->tensorflow-intel==2.15.0->tensorflow) (0.7.2)\n",
      "Requirement already satisfied: werkzeug>=1.0.1 in c:\\users\\80009028\\appdata\\local\\anaconda3\\lib\\site-packages (from tensorboard<2.16,>=2.15->tensorflow-intel==2.15.0->tensorflow) (2.2.3)\n",
      "Requirement already satisfied: cachetools<6.0,>=2.0.0 in c:\\users\\80009028\\appdata\\local\\anaconda3\\lib\\site-packages (from google-auth<3,>=1.6.3->tensorboard<2.16,>=2.15->tensorflow-intel==2.15.0->tensorflow) (5.3.2)\n",
      "Requirement already satisfied: pyasn1-modules>=0.2.1 in c:\\users\\80009028\\appdata\\local\\anaconda3\\lib\\site-packages (from google-auth<3,>=1.6.3->tensorboard<2.16,>=2.15->tensorflow-intel==2.15.0->tensorflow) (0.2.8)\n",
      "Requirement already satisfied: rsa<5,>=3.1.4 in c:\\users\\80009028\\appdata\\local\\anaconda3\\lib\\site-packages (from google-auth<3,>=1.6.3->tensorboard<2.16,>=2.15->tensorflow-intel==2.15.0->tensorflow) (4.9)\n",
      "Requirement already satisfied: requests-oauthlib>=0.7.0 in c:\\users\\80009028\\appdata\\local\\anaconda3\\lib\\site-packages (from google-auth-oauthlib<2,>=0.5->tensorboard<2.16,>=2.15->tensorflow-intel==2.15.0->tensorflow) (1.3.1)\n",
      "Requirement already satisfied: charset-normalizer<4,>=2 in c:\\users\\80009028\\appdata\\local\\anaconda3\\lib\\site-packages (from requests<3,>=2.21.0->tensorboard<2.16,>=2.15->tensorflow-intel==2.15.0->tensorflow) (3.3.2)\n",
      "Requirement already satisfied: idna<4,>=2.5 in c:\\users\\80009028\\appdata\\local\\anaconda3\\lib\\site-packages (from requests<3,>=2.21.0->tensorboard<2.16,>=2.15->tensorflow-intel==2.15.0->tensorflow) (3.6)\n",
      "Requirement already satisfied: urllib3<3,>=1.21.1 in c:\\users\\80009028\\appdata\\local\\anaconda3\\lib\\site-packages (from requests<3,>=2.21.0->tensorboard<2.16,>=2.15->tensorflow-intel==2.15.0->tensorflow) (2.2.1)\n",
      "Requirement already satisfied: certifi>=2017.4.17 in c:\\users\\80009028\\appdata\\local\\anaconda3\\lib\\site-packages (from requests<3,>=2.21.0->tensorboard<2.16,>=2.15->tensorflow-intel==2.15.0->tensorflow) (2023.7.22)\n",
      "Requirement already satisfied: MarkupSafe>=2.1.1 in c:\\users\\80009028\\appdata\\local\\anaconda3\\lib\\site-packages (from werkzeug>=1.0.1->tensorboard<2.16,>=2.15->tensorflow-intel==2.15.0->tensorflow) (2.1.1)\n",
      "Requirement already satisfied: pyasn1<0.5.0,>=0.4.6 in c:\\users\\80009028\\appdata\\local\\anaconda3\\lib\\site-packages (from pyasn1-modules>=0.2.1->google-auth<3,>=1.6.3->tensorboard<2.16,>=2.15->tensorflow-intel==2.15.0->tensorflow) (0.4.8)\n",
      "Requirement already satisfied: oauthlib>=3.0.0 in c:\\users\\80009028\\appdata\\local\\anaconda3\\lib\\site-packages (from requests-oauthlib>=0.7.0->google-auth-oauthlib<2,>=0.5->tensorboard<2.16,>=2.15->tensorflow-intel==2.15.0->tensorflow) (3.2.2)\n"
     ]
    }
   ],
   "source": [
    "pip install tensorflow"
   ]
  },
  {
   "cell_type": "code",
   "execution_count": 32,
   "id": "7013dd84",
   "metadata": {},
   "outputs": [
    {
     "name": "stdout",
     "output_type": "stream",
     "text": [
      "Requirement already satisfied: keras_tuner in c:\\users\\80009028\\appdata\\local\\anaconda3\\lib\\site-packages (1.4.6)Note: you may need to restart the kernel to use updated packages.\n",
      "\n",
      "Requirement already satisfied: keras in c:\\users\\80009028\\appdata\\local\\anaconda3\\lib\\site-packages (from keras_tuner) (2.15.0)\n",
      "Requirement already satisfied: packaging in c:\\users\\80009028\\appdata\\local\\anaconda3\\lib\\site-packages (from keras_tuner) (23.2)\n",
      "Requirement already satisfied: requests in c:\\users\\80009028\\appdata\\local\\anaconda3\\lib\\site-packages (from keras_tuner) (2.31.0)\n",
      "Requirement already satisfied: kt-legacy in c:\\users\\80009028\\appdata\\local\\anaconda3\\lib\\site-packages (from keras_tuner) (1.0.5)\n",
      "Requirement already satisfied: charset-normalizer<4,>=2 in c:\\users\\80009028\\appdata\\local\\anaconda3\\lib\\site-packages (from requests->keras_tuner) (3.3.2)\n",
      "Requirement already satisfied: idna<4,>=2.5 in c:\\users\\80009028\\appdata\\local\\anaconda3\\lib\\site-packages (from requests->keras_tuner) (3.6)\n",
      "Requirement already satisfied: urllib3<3,>=1.21.1 in c:\\users\\80009028\\appdata\\local\\anaconda3\\lib\\site-packages (from requests->keras_tuner) (2.2.1)\n",
      "Requirement already satisfied: certifi>=2017.4.17 in c:\\users\\80009028\\appdata\\local\\anaconda3\\lib\\site-packages (from requests->keras_tuner) (2023.7.22)\n"
     ]
    }
   ],
   "source": [
    "pip install keras_tuner"
   ]
  },
  {
   "cell_type": "code",
   "execution_count": 33,
   "id": "18801089",
   "metadata": {},
   "outputs": [],
   "source": [
    "import numpy as np\n",
    "import pandas as pd\n",
    "from transformers import BertTokenizer, BertModel\n",
    "import torch\n",
    "from sklearn.metrics.pairwise import cosine_similarity\n",
    "from sklearn.feature_extraction.text import TfidfVectorizer\n",
    "from sklearn.metrics.pairwise import cosine_similarity\n",
    "import matplotlib.pyplot as plt\n",
    "from gensim.models import Word2Vec\n",
    "from sklearn.metrics.pairwise import cosine_similarity\n",
    "from nltk.tokenize import word_tokenize\n",
    "from nltk.corpus import stopwords\n",
    "import nltk\n",
    "import gensim.downloader as api\n",
    "from sklearn.metrics import f1_score\n",
    "import tensorflow as tf\n",
    "from keras.models import Sequential\n",
    "from keras.layers import Input\n",
    "from keras.models import Model\n",
    "from tensorflow.keras.layers import Dot,Reshape,Flatten\n",
    "from tensorflow.keras.layers import Dense\n",
    "from keras import backend as K\n",
    "from tensorflow.keras.layers import Dense,Dropout,Activation,Embedding,Conv1D\n",
    "from tensorflow.keras.callbacks import EarlyStopping,ModelCheckpoint\n",
    "import tensorflow.keras.backend as K\n",
    "from sklearn.model_selection import GridSearchCV\n",
    "from sklearn.neural_network import MLPClassifier\n",
    "import keras_tuner as kt\n",
    "from keras.models import Sequential,Model\n",
    "from keras.layers import Dropout\n",
    "from kerastuner.tuners import BayesianOptimization\n",
    "from kerastuner import HyperParameters\n",
    "from itertools import product\n",
    "from tensorflow.keras.optimizers import Adam\n",
    "import matplotlib.pyplot as plt\n",
    "import seaborn as sns\n",
    "from sklearn.metrics import classification_report,confusion_matrix,ConfusionMatrixDisplay,f1_score\n",
    "from tensorflow.keras import regularizers"
   ]
  },
  {
   "cell_type": "code",
   "execution_count": 34,
   "id": "d78a843b",
   "metadata": {},
   "outputs": [],
   "source": [
    "df=pd.read_excel(\"final_data_for_occupation_final.xlsx\")"
   ]
  },
  {
   "cell_type": "code",
   "execution_count": 35,
   "id": "4c8ebcbb",
   "metadata": {},
   "outputs": [
    {
     "data": {
      "text/plain": [
       "Unnamed: 0             0\n",
       "V_OCC_DESC             5\n",
       "V_OCC_SEC_DESC         5\n",
       "V_EMPLOYER_NAME_x    432\n",
       "V_BIOGRAPHY            0\n",
       "LABEL                  0\n",
       "dtype: int64"
      ]
     },
     "execution_count": 35,
     "metadata": {},
     "output_type": "execute_result"
    }
   ],
   "source": [
    "df.isnull().sum()"
   ]
  },
  {
   "cell_type": "code",
   "execution_count": 36,
   "id": "14d9a9ab",
   "metadata": {},
   "outputs": [
    {
     "data": {
      "text/html": [
       "<div>\n",
       "<style scoped>\n",
       "    .dataframe tbody tr th:only-of-type {\n",
       "        vertical-align: middle;\n",
       "    }\n",
       "\n",
       "    .dataframe tbody tr th {\n",
       "        vertical-align: top;\n",
       "    }\n",
       "\n",
       "    .dataframe thead th {\n",
       "        text-align: right;\n",
       "    }\n",
       "</style>\n",
       "<table border=\"1\" class=\"dataframe\">\n",
       "  <thead>\n",
       "    <tr style=\"text-align: right;\">\n",
       "      <th></th>\n",
       "      <th>Unnamed: 0</th>\n",
       "      <th>V_OCC_DESC</th>\n",
       "      <th>V_OCC_SEC_DESC</th>\n",
       "      <th>V_EMPLOYER_NAME_x</th>\n",
       "      <th>V_BIOGRAPHY</th>\n",
       "      <th>LABEL</th>\n",
       "    </tr>\n",
       "  </thead>\n",
       "  <tbody>\n",
       "    <tr>\n",
       "      <th>0</th>\n",
       "      <td>0</td>\n",
       "      <td>MANUFACTURING LABOURERS</td>\n",
       "      <td>MANUFACTURING</td>\n",
       "      <td>BEYONICS PRECISION (M) SDN BHD</td>\n",
       "      <td>[BIOGRAPHY] To be determined. [IDENTIFICATION]...</td>\n",
       "      <td>0</td>\n",
       "    </tr>\n",
       "    <tr>\n",
       "      <th>1</th>\n",
       "      <td>1</td>\n",
       "      <td>MANUFACTURING LABOURERS</td>\n",
       "      <td>MANUFACTURING</td>\n",
       "      <td>BEYONICS PRECISION (M) SDN BHD</td>\n",
       "      <td>[BIOGRAPHY] To be determined. [IDENTIFICATION]...</td>\n",
       "      <td>0</td>\n",
       "    </tr>\n",
       "    <tr>\n",
       "      <th>2</th>\n",
       "      <td>2</td>\n",
       "      <td>ENGINEERING PROFESSIONALS (INCLUDING ELECTROTE...</td>\n",
       "      <td>CONSTRUCTION</td>\n",
       "      <td>SRI ESBINA (M) SDN BHD</td>\n",
       "      <td>[BIOGRAPHY] Military Attaché to Netherlands (J...</td>\n",
       "      <td>0</td>\n",
       "    </tr>\n",
       "    <tr>\n",
       "      <th>3</th>\n",
       "      <td>3</td>\n",
       "      <td>MANUFACTURING LABOURERS</td>\n",
       "      <td>GAMBLING/BETTING ACTIVITIES/JUNKET /CASINO/GAM...</td>\n",
       "      <td>GENTING MALAYSIA BERHAD</td>\n",
       "      <td>[BIOGRAPHY] General Manager of Guizhou Provinc...</td>\n",
       "      <td>0</td>\n",
       "    </tr>\n",
       "    <tr>\n",
       "      <th>4</th>\n",
       "      <td>4</td>\n",
       "      <td>MANUFACTURING LABOURERS</td>\n",
       "      <td>GAMBLING/BETTING ACTIVITIES/JUNKET /CASINO/GAM...</td>\n",
       "      <td>GENTING MALAYSIA BERHAD</td>\n",
       "      <td>[BIOGRAPHY] Member of the Board of Directors o...</td>\n",
       "      <td>0</td>\n",
       "    </tr>\n",
       "  </tbody>\n",
       "</table>\n",
       "</div>"
      ],
      "text/plain": [
       "   Unnamed: 0                                         V_OCC_DESC  \\\n",
       "0           0                            MANUFACTURING LABOURERS   \n",
       "1           1                            MANUFACTURING LABOURERS   \n",
       "2           2  ENGINEERING PROFESSIONALS (INCLUDING ELECTROTE...   \n",
       "3           3                            MANUFACTURING LABOURERS   \n",
       "4           4                            MANUFACTURING LABOURERS   \n",
       "\n",
       "                                      V_OCC_SEC_DESC  \\\n",
       "0                                      MANUFACTURING   \n",
       "1                                      MANUFACTURING   \n",
       "2                                       CONSTRUCTION   \n",
       "3  GAMBLING/BETTING ACTIVITIES/JUNKET /CASINO/GAM...   \n",
       "4  GAMBLING/BETTING ACTIVITIES/JUNKET /CASINO/GAM...   \n",
       "\n",
       "                V_EMPLOYER_NAME_x  \\\n",
       "0  BEYONICS PRECISION (M) SDN BHD   \n",
       "1  BEYONICS PRECISION (M) SDN BHD   \n",
       "2          SRI ESBINA (M) SDN BHD   \n",
       "3         GENTING MALAYSIA BERHAD   \n",
       "4         GENTING MALAYSIA BERHAD   \n",
       "\n",
       "                                         V_BIOGRAPHY  LABEL  \n",
       "0  [BIOGRAPHY] To be determined. [IDENTIFICATION]...      0  \n",
       "1  [BIOGRAPHY] To be determined. [IDENTIFICATION]...      0  \n",
       "2  [BIOGRAPHY] Military Attaché to Netherlands (J...      0  \n",
       "3  [BIOGRAPHY] General Manager of Guizhou Provinc...      0  \n",
       "4  [BIOGRAPHY] Member of the Board of Directors o...      0  "
      ]
     },
     "execution_count": 36,
     "metadata": {},
     "output_type": "execute_result"
    }
   ],
   "source": [
    "df.head()"
   ]
  },
  {
   "cell_type": "code",
   "execution_count": 37,
   "id": "d6df337a",
   "metadata": {},
   "outputs": [
    {
     "data": {
      "text/plain": [
       "(15797, 6)"
      ]
     },
     "execution_count": 37,
     "metadata": {},
     "output_type": "execute_result"
    }
   ],
   "source": [
    "df.shape"
   ]
  },
  {
   "cell_type": "code",
   "execution_count": 38,
   "id": "0d965e6a",
   "metadata": {},
   "outputs": [],
   "source": [
    "df=df.sample(frac=1)"
   ]
  },
  {
   "cell_type": "markdown",
   "id": "39281abe",
   "metadata": {},
   "source": [
    "# PRE-PROCESSING STEPS"
   ]
  },
  {
   "cell_type": "code",
   "execution_count": 39,
   "id": "744754b0",
   "metadata": {},
   "outputs": [
    {
     "data": {
      "text/html": [
       "<div>\n",
       "<style scoped>\n",
       "    .dataframe tbody tr th:only-of-type {\n",
       "        vertical-align: middle;\n",
       "    }\n",
       "\n",
       "    .dataframe tbody tr th {\n",
       "        vertical-align: top;\n",
       "    }\n",
       "\n",
       "    .dataframe thead th {\n",
       "        text-align: right;\n",
       "    }\n",
       "</style>\n",
       "<table border=\"1\" class=\"dataframe\">\n",
       "  <thead>\n",
       "    <tr style=\"text-align: right;\">\n",
       "      <th></th>\n",
       "      <th>Unnamed: 0</th>\n",
       "      <th>V_OCC_DESC</th>\n",
       "      <th>V_OCC_SEC_DESC</th>\n",
       "      <th>V_EMPLOYER_NAME_x</th>\n",
       "      <th>V_BIOGRAPHY</th>\n",
       "      <th>LABEL</th>\n",
       "    </tr>\n",
       "  </thead>\n",
       "  <tbody>\n",
       "    <tr>\n",
       "      <th>15679</th>\n",
       "      <td>12903</td>\n",
       "      <td>NaN</td>\n",
       "      <td>NaN</td>\n",
       "      <td>NaN</td>\n",
       "      <td>[BIOGRAPHY] Member of the Jiangxi Provincial P...</td>\n",
       "      <td>1</td>\n",
       "    </tr>\n",
       "    <tr>\n",
       "      <th>15680</th>\n",
       "      <td>12904</td>\n",
       "      <td>NaN</td>\n",
       "      <td>NaN</td>\n",
       "      <td>NaN</td>\n",
       "      <td>[BIOGRAPHY] Member of the Jiangxi Provincial P...</td>\n",
       "      <td>1</td>\n",
       "    </tr>\n",
       "  </tbody>\n",
       "</table>\n",
       "</div>"
      ],
      "text/plain": [
       "       Unnamed: 0 V_OCC_DESC V_OCC_SEC_DESC V_EMPLOYER_NAME_x  \\\n",
       "15679       12903        NaN            NaN               NaN   \n",
       "15680       12904        NaN            NaN               NaN   \n",
       "\n",
       "                                             V_BIOGRAPHY  LABEL  \n",
       "15679  [BIOGRAPHY] Member of the Jiangxi Provincial P...      1  \n",
       "15680  [BIOGRAPHY] Member of the Jiangxi Provincial P...      1  "
      ]
     },
     "execution_count": 39,
     "metadata": {},
     "output_type": "execute_result"
    }
   ],
   "source": [
    "df[(df[\"V_OCC_DESC\"].isnull()) & (df[\"V_OCC_SEC_DESC\"].isnull()) & (df[\"V_EMPLOYER_NAME_x\"].isnull())]"
   ]
  },
  {
   "cell_type": "code",
   "execution_count": 40,
   "id": "974834e2",
   "metadata": {},
   "outputs": [],
   "source": [
    "df.drop(df[(df[\"V_OCC_DESC\"].isnull()) & (df[\"V_OCC_SEC_DESC\"].isnull()) & (df[\"V_EMPLOYER_NAME_x\"].isnull())].index,axis=0,inplace=True)"
   ]
  },
  {
   "cell_type": "code",
   "execution_count": 41,
   "id": "6a5e5804",
   "metadata": {},
   "outputs": [],
   "source": [
    "df.reset_index(inplace=True)"
   ]
  },
  {
   "cell_type": "code",
   "execution_count": 42,
   "id": "5cc092de",
   "metadata": {},
   "outputs": [],
   "source": [
    "df[\"CUSTOMER_BIOGRAPHY\"]=[\"\" for i in df.index]"
   ]
  },
  {
   "cell_type": "code",
   "execution_count": 43,
   "id": "234d3c66",
   "metadata": {},
   "outputs": [
    {
     "data": {
      "text/plain": [
       "(15795,)"
      ]
     },
     "execution_count": 43,
     "metadata": {},
     "output_type": "execute_result"
    }
   ],
   "source": [
    "df[\"CUSTOMER_BIOGRAPHY\"].shape"
   ]
  },
  {
   "cell_type": "code",
   "execution_count": 1,
   "id": "6cdbfd32",
   "metadata": {},
   "outputs": [
    {
     "ename": "NameError",
     "evalue": "name 'df' is not defined",
     "output_type": "error",
     "traceback": [
      "\u001b[1;31m---------------------------------------------------------------------------\u001b[0m",
      "\u001b[1;31mNameError\u001b[0m                                 Traceback (most recent call last)",
      "Cell \u001b[1;32mIn[1], line 1\u001b[0m\n\u001b[1;32m----> 1\u001b[0m df\u001b[38;5;241m.\u001b[39misnull()\u001b[38;5;241m.\u001b[39msum()\n",
      "\u001b[1;31mNameError\u001b[0m: name 'df' is not defined"
     ]
    }
   ],
   "source": [
    "df.isnull().sum()"
   ]
  },
  {
   "cell_type": "code",
   "execution_count": 44,
   "id": "35eb30e7",
   "metadata": {},
   "outputs": [],
   "source": [
    "# if all three available\n",
    "key=0\n",
    "j=[]\n",
    "for i in df.index:\n",
    "\n",
    "    s=\"\"\n",
    "    if np.any(df.loc[i,[\"V_OCC_DESC\"]].notnull()):\n",
    "        s=df.loc[i,\"V_OCC_DESC\"]\n",
    "#         print(s)\n",
    "    if np.any(df.loc[i,[\"V_EMPLOYER_NAME_x\"]].notnull()):\n",
    "        if s!=\"\":\n",
    "            s=s+\" \"+\"at\"+\" \"+df.loc[i,'V_EMPLOYER_NAME_x']\n",
    "            key=1 # employer & occ present\n",
    "        else:\n",
    "            s=\"employee \"+\"at\"+\" \"+df.loc[i,'V_EMPLOYER_NAME_x']\n",
    "            key=2 # employer & occ not present\n",
    "    else:\n",
    "         if s!=\"\":\n",
    "                key=3 # occ present but no employer but occ present\n",
    "        \n",
    "    if np.any(df.loc[i,[\"V_OCC_SEC_DESC\"]].notnull()):\n",
    "        if s==\"\": # no employer no occ present , dept present\n",
    "            s=df.loc[i,\"V_OCC_SEC_DESC\"]+\" sector\"\n",
    "        elif key==1 or key==2 or key==3:# occ may/may not be present but employer  present, key==3 occ present but employer not present\n",
    "            s=s+\", \"+df.loc[i,\"V_OCC_SEC_DESC\"]+\" sector\"\n",
    "     \n",
    "    else:# no dept desc\n",
    "        pass\n",
    "            \n",
    "    j.append(s) \n"
   ]
  },
  {
   "cell_type": "code",
   "execution_count": 45,
   "id": "3530eee8",
   "metadata": {},
   "outputs": [],
   "source": [
    "df[\"CUSTOMER_BIOGRAPHY\"]=j\n",
    "df['CUSTOMER_BIOGRAPHY']=df['CUSTOMER_BIOGRAPHY'].str.upper()\n"
   ]
  },
  {
   "cell_type": "code",
   "execution_count": 46,
   "id": "56c44c2e",
   "metadata": {},
   "outputs": [],
   "source": [
    "df['V_OCC_DESC']=df['V_OCC_DESC'].apply(lambda x: \"\" if pd.isna(x) else x)\n",
    "df['V_EMPLOYER_NAME_x']=df['V_EMPLOYER_NAME_x'].apply(lambda x: \"\" if pd.isna(x) else x)\n",
    "df[\"V_OCC_SEC_DESC\"]=df[\"V_OCC_SEC_DESC\"].apply(lambda x: \"\" if pd.isna(x) else x)\n"
   ]
  },
  {
   "cell_type": "code",
   "execution_count": 47,
   "id": "6f0f3c6d",
   "metadata": {},
   "outputs": [
    {
     "data": {
      "text/html": [
       "<div>\n",
       "<style scoped>\n",
       "    .dataframe tbody tr th:only-of-type {\n",
       "        vertical-align: middle;\n",
       "    }\n",
       "\n",
       "    .dataframe tbody tr th {\n",
       "        vertical-align: top;\n",
       "    }\n",
       "\n",
       "    .dataframe thead th {\n",
       "        text-align: right;\n",
       "    }\n",
       "</style>\n",
       "<table border=\"1\" class=\"dataframe\">\n",
       "  <thead>\n",
       "    <tr style=\"text-align: right;\">\n",
       "      <th></th>\n",
       "      <th>index</th>\n",
       "      <th>Unnamed: 0</th>\n",
       "      <th>V_OCC_DESC</th>\n",
       "      <th>V_OCC_SEC_DESC</th>\n",
       "      <th>V_EMPLOYER_NAME_x</th>\n",
       "      <th>V_BIOGRAPHY</th>\n",
       "      <th>LABEL</th>\n",
       "      <th>CUSTOMER_BIOGRAPHY</th>\n",
       "    </tr>\n",
       "  </thead>\n",
       "  <tbody>\n",
       "    <tr>\n",
       "      <th>0</th>\n",
       "      <td>14126</td>\n",
       "      <td>14126</td>\n",
       "      <td>MANUFACTURING LABOURERS</td>\n",
       "      <td>MANUFACTURING</td>\n",
       "      <td>IMPERIAL GARMENTS SDN BHD</td>\n",
       "      <td>[AUSTRALIA SANCTIONS - DFAT-AS] No 1498 (Oct 2...</td>\n",
       "      <td>0</td>\n",
       "      <td>MANUFACTURING LABOURERS AT IMPERIAL GARMENTS S...</td>\n",
       "    </tr>\n",
       "    <tr>\n",
       "      <th>1</th>\n",
       "      <td>4451</td>\n",
       "      <td>4451</td>\n",
       "      <td>PRODUCTION AND MANUFACTURING MANAGERS</td>\n",
       "      <td>OTHER MANUFACTURING, EXCEPT ARMS AND WEAPONRY</td>\n",
       "      <td>CRRC ROLLING STOCK CENTRE</td>\n",
       "      <td>[BIOGRAPHY] Chairman of Sichuan Development Of...</td>\n",
       "      <td>0</td>\n",
       "      <td>PRODUCTION AND MANUFACTURING MANAGERS AT CRRC ...</td>\n",
       "    </tr>\n",
       "    <tr>\n",
       "      <th>2</th>\n",
       "      <td>8890</td>\n",
       "      <td>8890</td>\n",
       "      <td>SHOP SALES ASSISTANTS</td>\n",
       "      <td>OTHER WHOLESALE AND RETAIL TRADE ACTIVITIES N.E.C</td>\n",
       "      <td>TF VALUE MART SDN BHD</td>\n",
       "      <td>[BIOGRAPHY] Member of Pyithu Hluttaw represent...</td>\n",
       "      <td>0</td>\n",
       "      <td>SHOP SALES ASSISTANTS AT TF VALUE MART SDN BHD...</td>\n",
       "    </tr>\n",
       "    <tr>\n",
       "      <th>3</th>\n",
       "      <td>15395</td>\n",
       "      <td>15395</td>\n",
       "      <td>AGRICULTURAL, FORESTRY, FARMING AND FISHERY LA...</td>\n",
       "      <td>AGRICULTURE, FORESTRY AND FISHING</td>\n",
       "      <td>HUAT LAI BROILER BREEDERS SDN BHD</td>\n",
       "      <td>[BIOGRAPHY] Joint Secretary (Director) of Bang...</td>\n",
       "      <td>0</td>\n",
       "      <td>AGRICULTURAL, FORESTRY, FARMING AND FISHERY LA...</td>\n",
       "    </tr>\n",
       "    <tr>\n",
       "      <th>4</th>\n",
       "      <td>12697</td>\n",
       "      <td>12697</td>\n",
       "      <td>AGRICULTURAL, FORESTRY, FARMING AND FISHERY LA...</td>\n",
       "      <td>AGRICULTURE (CROPS &amp; ANIMAL PRODUCTION), AQUAC...</td>\n",
       "      <td>FELCRA BERHAD</td>\n",
       "      <td>[BIOGRAPHY] Deputy Secretary (Deputy Commissio...</td>\n",
       "      <td>0</td>\n",
       "      <td>AGRICULTURAL, FORESTRY, FARMING AND FISHERY LA...</td>\n",
       "    </tr>\n",
       "    <tr>\n",
       "      <th>...</th>\n",
       "      <td>...</td>\n",
       "      <td>...</td>\n",
       "      <td>...</td>\n",
       "      <td>...</td>\n",
       "      <td>...</td>\n",
       "      <td>...</td>\n",
       "      <td>...</td>\n",
       "      <td>...</td>\n",
       "    </tr>\n",
       "    <tr>\n",
       "      <th>15790</th>\n",
       "      <td>10524</td>\n",
       "      <td>10524</td>\n",
       "      <td>MANUFACTURING LABOURERS</td>\n",
       "      <td>AGRICULTURE, FORESTRY AND FISHING</td>\n",
       "      <td>LADANG KEKAYAAN</td>\n",
       "      <td>[BIOGRAPHY] Deputy Secretary of Bangladesh (re...</td>\n",
       "      <td>0</td>\n",
       "      <td>MANUFACTURING LABOURERS AT LADANG KEKAYAAN, AG...</td>\n",
       "    </tr>\n",
       "    <tr>\n",
       "      <th>15791</th>\n",
       "      <td>4472</td>\n",
       "      <td>4472</td>\n",
       "      <td>ADMINISTRATIVE ASSOCIATE PROFESSIONALS</td>\n",
       "      <td>PUBLIC ADMINISTRATION AND DEFENCE; COMPULSORY ...</td>\n",
       "      <td>HIGH COMMISSION OF INDIA</td>\n",
       "      <td>[BIOGRAPHY] Senior general manager of MECON Li...</td>\n",
       "      <td>0</td>\n",
       "      <td>ADMINISTRATIVE ASSOCIATE PROFESSIONALS AT HIGH...</td>\n",
       "    </tr>\n",
       "    <tr>\n",
       "      <th>15792</th>\n",
       "      <td>11986</td>\n",
       "      <td>11986</td>\n",
       "      <td>MANUFACTURING LABOURERS</td>\n",
       "      <td>MANUFACTURING</td>\n",
       "      <td>NSK MICRO PRECISION (M) SDN BHD</td>\n",
       "      <td>[BIOGRAPHY] Member of Sagaing Region Hluttaw r...</td>\n",
       "      <td>0</td>\n",
       "      <td>MANUFACTURING LABOURERS AT NSK MICRO PRECISION...</td>\n",
       "    </tr>\n",
       "    <tr>\n",
       "      <th>15793</th>\n",
       "      <td>5147</td>\n",
       "      <td>5147</td>\n",
       "      <td>FINANCIAL ANALYSTS</td>\n",
       "      <td>OTHER PROFESSIONAL, SCIENTIFIC AND TECHNICAL A...</td>\n",
       "      <td>HUAWEI TECHNOLOGIES (M) SDN BHD</td>\n",
       "      <td>CNCCDI;[BIOGRAPHY] President of Civil Affairs ...</td>\n",
       "      <td>0</td>\n",
       "      <td>FINANCIAL ANALYSTS AT HUAWEI TECHNOLOGIES (M) ...</td>\n",
       "    </tr>\n",
       "    <tr>\n",
       "      <th>15794</th>\n",
       "      <td>378</td>\n",
       "      <td>378</td>\n",
       "      <td>AGRICULTURAL, FORESTRY, FARMING AND FISHERY LA...</td>\n",
       "      <td>AGRICULTURE (CROPS &amp; ANIMAL PRODUCTION), AQUAC...</td>\n",
       "      <td>SIME DARBY PLANTATION SDN BHD</td>\n",
       "      <td>[BIOGRAPHY] Member of the Supervisory Board of...</td>\n",
       "      <td>0</td>\n",
       "      <td>AGRICULTURAL, FORESTRY, FARMING AND FISHERY LA...</td>\n",
       "    </tr>\n",
       "  </tbody>\n",
       "</table>\n",
       "<p>15795 rows × 8 columns</p>\n",
       "</div>"
      ],
      "text/plain": [
       "       index  Unnamed: 0                                         V_OCC_DESC  \\\n",
       "0      14126       14126                            MANUFACTURING LABOURERS   \n",
       "1       4451        4451              PRODUCTION AND MANUFACTURING MANAGERS   \n",
       "2       8890        8890                              SHOP SALES ASSISTANTS   \n",
       "3      15395       15395  AGRICULTURAL, FORESTRY, FARMING AND FISHERY LA...   \n",
       "4      12697       12697  AGRICULTURAL, FORESTRY, FARMING AND FISHERY LA...   \n",
       "...      ...         ...                                                ...   \n",
       "15790  10524       10524                            MANUFACTURING LABOURERS   \n",
       "15791   4472        4472             ADMINISTRATIVE ASSOCIATE PROFESSIONALS   \n",
       "15792  11986       11986                            MANUFACTURING LABOURERS   \n",
       "15793   5147        5147                                 FINANCIAL ANALYSTS   \n",
       "15794    378         378  AGRICULTURAL, FORESTRY, FARMING AND FISHERY LA...   \n",
       "\n",
       "                                          V_OCC_SEC_DESC  \\\n",
       "0                                          MANUFACTURING   \n",
       "1          OTHER MANUFACTURING, EXCEPT ARMS AND WEAPONRY   \n",
       "2      OTHER WHOLESALE AND RETAIL TRADE ACTIVITIES N.E.C   \n",
       "3                      AGRICULTURE, FORESTRY AND FISHING   \n",
       "4      AGRICULTURE (CROPS & ANIMAL PRODUCTION), AQUAC...   \n",
       "...                                                  ...   \n",
       "15790                  AGRICULTURE, FORESTRY AND FISHING   \n",
       "15791  PUBLIC ADMINISTRATION AND DEFENCE; COMPULSORY ...   \n",
       "15792                                      MANUFACTURING   \n",
       "15793  OTHER PROFESSIONAL, SCIENTIFIC AND TECHNICAL A...   \n",
       "15794  AGRICULTURE (CROPS & ANIMAL PRODUCTION), AQUAC...   \n",
       "\n",
       "                       V_EMPLOYER_NAME_x  \\\n",
       "0              IMPERIAL GARMENTS SDN BHD   \n",
       "1              CRRC ROLLING STOCK CENTRE   \n",
       "2                  TF VALUE MART SDN BHD   \n",
       "3      HUAT LAI BROILER BREEDERS SDN BHD   \n",
       "4                          FELCRA BERHAD   \n",
       "...                                  ...   \n",
       "15790                    LADANG KEKAYAAN   \n",
       "15791           HIGH COMMISSION OF INDIA   \n",
       "15792    NSK MICRO PRECISION (M) SDN BHD   \n",
       "15793    HUAWEI TECHNOLOGIES (M) SDN BHD   \n",
       "15794      SIME DARBY PLANTATION SDN BHD   \n",
       "\n",
       "                                             V_BIOGRAPHY  LABEL  \\\n",
       "0      [AUSTRALIA SANCTIONS - DFAT-AS] No 1498 (Oct 2...      0   \n",
       "1      [BIOGRAPHY] Chairman of Sichuan Development Of...      0   \n",
       "2      [BIOGRAPHY] Member of Pyithu Hluttaw represent...      0   \n",
       "3      [BIOGRAPHY] Joint Secretary (Director) of Bang...      0   \n",
       "4      [BIOGRAPHY] Deputy Secretary (Deputy Commissio...      0   \n",
       "...                                                  ...    ...   \n",
       "15790  [BIOGRAPHY] Deputy Secretary of Bangladesh (re...      0   \n",
       "15791  [BIOGRAPHY] Senior general manager of MECON Li...      0   \n",
       "15792  [BIOGRAPHY] Member of Sagaing Region Hluttaw r...      0   \n",
       "15793  CNCCDI;[BIOGRAPHY] President of Civil Affairs ...      0   \n",
       "15794  [BIOGRAPHY] Member of the Supervisory Board of...      0   \n",
       "\n",
       "                                      CUSTOMER_BIOGRAPHY  \n",
       "0      MANUFACTURING LABOURERS AT IMPERIAL GARMENTS S...  \n",
       "1      PRODUCTION AND MANUFACTURING MANAGERS AT CRRC ...  \n",
       "2      SHOP SALES ASSISTANTS AT TF VALUE MART SDN BHD...  \n",
       "3      AGRICULTURAL, FORESTRY, FARMING AND FISHERY LA...  \n",
       "4      AGRICULTURAL, FORESTRY, FARMING AND FISHERY LA...  \n",
       "...                                                  ...  \n",
       "15790  MANUFACTURING LABOURERS AT LADANG KEKAYAAN, AG...  \n",
       "15791  ADMINISTRATIVE ASSOCIATE PROFESSIONALS AT HIGH...  \n",
       "15792  MANUFACTURING LABOURERS AT NSK MICRO PRECISION...  \n",
       "15793  FINANCIAL ANALYSTS AT HUAWEI TECHNOLOGIES (M) ...  \n",
       "15794  AGRICULTURAL, FORESTRY, FARMING AND FISHERY LA...  \n",
       "\n",
       "[15795 rows x 8 columns]"
      ]
     },
     "execution_count": 47,
     "metadata": {},
     "output_type": "execute_result"
    }
   ],
   "source": [
    "df"
   ]
  },
  {
   "cell_type": "markdown",
   "id": "c18d3d85",
   "metadata": {},
   "source": [
    "# WATCHLIST PRE-PROCESSING"
   ]
  },
  {
   "cell_type": "code",
   "execution_count": 48,
   "id": "1513eee6",
   "metadata": {},
   "outputs": [],
   "source": [
    "import calendar\n",
    "cal=list(calendar.month_name)\n",
    "for i in list(calendar.month_name[1:]):\n",
    "    cal.append(i[:3])\n"
   ]
  },
  {
   "cell_type": "code",
   "execution_count": 49,
   "id": "df899117",
   "metadata": {},
   "outputs": [
    {
     "data": {
      "text/plain": [
       "'(January|February|March|April|May|June|July|August|September|October|November|December|Jan|Feb|Mar|Apr|May|Jun|Jul|Aug|Sep|Oct|Nov|Dec)'"
      ]
     },
     "execution_count": 49,
     "metadata": {},
     "output_type": "execute_result"
    }
   ],
   "source": [
    "cal_re=\"(%s)\" % \"|\".join(cal)[1:]\n",
    "cal_re\n"
   ]
  },
  {
   "cell_type": "code",
   "execution_count": 50,
   "id": "360a7d31",
   "metadata": {},
   "outputs": [
    {
     "name": "stdout",
     "output_type": "stream",
     "text": [
      "\n",
      "\n",
      "\n",
      "\n",
      "\n"
     ]
    }
   ],
   "source": [
    "import re\n",
    "# biography examination\n",
    "patt=re.compile(\"\\(sanctioned entity\\)|\\(reported \"+cal_re+\" \\d{4} (-*) \\)(\\.{0,1})|\"+\"\\(\\s*\"+cal_re+\" \\d{4} (-*) \"+cal_re+\" \\d{4}\\s*\\)|\\(Associated to sanctioned entity (-*) reported \\d{4}(\\s*\\.*)\\)|\\(\\s*-\\s*\"+cal_re+\"\\s*\\d{4}\\)\\s*\\(\\s*-\\s*\"+cal_re+\"\\s*\\d{4}\\s*\\)|To be determined(\\s*\\.*)|\",re.IGNORECASE)\n",
    "patt2=re.compile(\"REQUIRES ECDD & SENIOR MGMT APPROVAL|PNG Mule Accounts (WCL)|EXIT DUE TO ML CONCERN|NO ACCOUNT TO BE OPENED|AMLA FREEZING ORDER|AMLA FORFEITURE|CLOSE ACC AS ADVISED BY AG|Exit due to ML/TF concern|NO ACCOUNT TO BE OPENED \\(OU\\)\",re.IGNORECASE)\n",
    "print(re.sub(patt,\"\",\"(reported Aug 2019 - )\"))\n",
    "print(re.sub(patt,\"\",\"(reported Aug 2019 - ).\"))\n",
    "print(re.sub(patt,\"\",\"(Aug 2020 - Oct 2022)\"))\n",
    "print(re.sub(patt,\"\",\"( - Jun 2018) ( - Jun 2018)\"))\n",
    "print(re.sub(patt,\"\",\"To be determined\"))\n"
   ]
  },
  {
   "cell_type": "code",
   "execution_count": 51,
   "id": "4faf607a",
   "metadata": {},
   "outputs": [],
   "source": [
    "df['V_BIOGRAPHY']=df['V_BIOGRAPHY'].str.upper()"
   ]
  },
  {
   "cell_type": "code",
   "execution_count": 52,
   "id": "1c058223",
   "metadata": {},
   "outputs": [],
   "source": [
    "df['WATCHLIST_BIOGRAPHY'] = df['V_BIOGRAPHY'].copy()\n",
    "df[\"WATCHLIST_BIOGRAPHY\"]=df[\"WATCHLIST_BIOGRAPHY\"].apply(lambda x: re.sub(patt,\"\",x))\n",
    "df[\"WATCHLIST_BIOGRAPHY\"]=df[\"WATCHLIST_BIOGRAPHY\"].apply(lambda x: re.sub(patt2,\"\",x))\n"
   ]
  },
  {
   "cell_type": "code",
   "execution_count": 53,
   "id": "d5630562",
   "metadata": {},
   "outputs": [],
   "source": [
    "# df['WATCHLIST_BIOGRAPHY'] = df['V_BIOGRAPHY'].str.extract(r'\\[BIOGRAPHY\\](.*?)\\[IDENTIFICATION\\]')  \n",
    "ind1=df[df['WATCHLIST_BIOGRAPHY'].apply(lambda x: len(re.findall('\\[BIOGRAPHY\\](.*?)\\[IDENTIFICATION\\]',x))>0)].index\n",
    "ind2=df[df['WATCHLIST_BIOGRAPHY'].apply(lambda x: len(re.findall('\\[BIOGRAPHY\\](.*?)\\[IDENTIFICATION\\]',x))==0)].index\n"
   ]
  },
  {
   "cell_type": "code",
   "execution_count": 54,
   "id": "d0ce9a98",
   "metadata": {},
   "outputs": [],
   "source": [
    "# truncation for biographies containing biography secion\n",
    "df.loc[ind1.to_list(),\"WATCHLIST_BIOGRAPHY\"]=df.loc[ind1.to_list(),\"WATCHLIST_BIOGRAPHY\"].str.extract(r'\\[BIOGRAPHY\\](.*?)\\[IDENTIFICATION\\]').values.flatten()\n"
   ]
  },
  {
   "cell_type": "code",
   "execution_count": 55,
   "id": "300c65f3",
   "metadata": {},
   "outputs": [],
   "source": [
    "# Truncation for biographies where no biography secion is present  - \n",
    "\n",
    "df.loc[ind2.to_list(),\"WATCHLIST_BIOGRAPHY\"]=df.loc[ind2.to_list(),\"WATCHLIST_BIOGRAPHY\"].apply(lambda x:\".\".join(re.split(\"\\.\",x)[:3]))\n"
   ]
  },
  {
   "cell_type": "code",
   "execution_count": 56,
   "id": "e108a6e8",
   "metadata": {},
   "outputs": [],
   "source": [
    "df['WATCHLIST_BIOGRAPHY']=df['WATCHLIST_BIOGRAPHY'].apply(lambda x: \"\" if pd.isna(x) else x)\n",
    "df['WATCHLIST_BIOGRAPHY']=df['WATCHLIST_BIOGRAPHY'].apply(lambda x: re.sub(\"^\\s*\",\"\",x))\n",
    "df=df[df[\"WATCHLIST_BIOGRAPHY\"].apply(lambda x: x!=\"\")]\n"
   ]
  },
  {
   "cell_type": "code",
   "execution_count": 57,
   "id": "97f1c4f7",
   "metadata": {},
   "outputs": [],
   "source": [
    "df.reset_index(inplace=True)"
   ]
  },
  {
   "cell_type": "code",
   "execution_count": 58,
   "id": "cc7b52c7",
   "metadata": {},
   "outputs": [
    {
     "data": {
      "text/html": [
       "<div>\n",
       "<style scoped>\n",
       "    .dataframe tbody tr th:only-of-type {\n",
       "        vertical-align: middle;\n",
       "    }\n",
       "\n",
       "    .dataframe tbody tr th {\n",
       "        vertical-align: top;\n",
       "    }\n",
       "\n",
       "    .dataframe thead th {\n",
       "        text-align: right;\n",
       "    }\n",
       "</style>\n",
       "<table border=\"1\" class=\"dataframe\">\n",
       "  <thead>\n",
       "    <tr style=\"text-align: right;\">\n",
       "      <th></th>\n",
       "      <th>level_0</th>\n",
       "      <th>index</th>\n",
       "      <th>Unnamed: 0</th>\n",
       "      <th>V_OCC_DESC</th>\n",
       "      <th>V_OCC_SEC_DESC</th>\n",
       "      <th>V_EMPLOYER_NAME_x</th>\n",
       "      <th>V_BIOGRAPHY</th>\n",
       "      <th>LABEL</th>\n",
       "      <th>CUSTOMER_BIOGRAPHY</th>\n",
       "      <th>WATCHLIST_BIOGRAPHY</th>\n",
       "    </tr>\n",
       "  </thead>\n",
       "  <tbody>\n",
       "    <tr>\n",
       "      <th>0</th>\n",
       "      <td>0</td>\n",
       "      <td>14126</td>\n",
       "      <td>14126</td>\n",
       "      <td>MANUFACTURING LABOURERS</td>\n",
       "      <td>MANUFACTURING</td>\n",
       "      <td>IMPERIAL GARMENTS SDN BHD</td>\n",
       "      <td>[AUSTRALIA SANCTIONS - DFAT-AS] NO 1498 (OCT 2...</td>\n",
       "      <td>0</td>\n",
       "      <td>MANUFACTURING LABOURERS AT IMPERIAL GARMENTS S...</td>\n",
       "      <td>OWNER OF QUEEN STAR COMPUTER COMPANY  PARTNER ...</td>\n",
       "    </tr>\n",
       "    <tr>\n",
       "      <th>1</th>\n",
       "      <td>1</td>\n",
       "      <td>4451</td>\n",
       "      <td>4451</td>\n",
       "      <td>PRODUCTION AND MANUFACTURING MANAGERS</td>\n",
       "      <td>OTHER MANUFACTURING, EXCEPT ARMS AND WEAPONRY</td>\n",
       "      <td>CRRC ROLLING STOCK CENTRE</td>\n",
       "      <td>[BIOGRAPHY] CHAIRMAN OF SICHUAN DEVELOPMENT OF...</td>\n",
       "      <td>0</td>\n",
       "      <td>PRODUCTION AND MANUFACTURING MANAGERS AT CRRC ...</td>\n",
       "      <td>CHAIRMAN OF SICHUAN DEVELOPMENT OF ASSET MANAG...</td>\n",
       "    </tr>\n",
       "    <tr>\n",
       "      <th>2</th>\n",
       "      <td>2</td>\n",
       "      <td>8890</td>\n",
       "      <td>8890</td>\n",
       "      <td>SHOP SALES ASSISTANTS</td>\n",
       "      <td>OTHER WHOLESALE AND RETAIL TRADE ACTIVITIES N.E.C</td>\n",
       "      <td>TF VALUE MART SDN BHD</td>\n",
       "      <td>[BIOGRAPHY] MEMBER OF PYITHU HLUTTAW REPRESENT...</td>\n",
       "      <td>0</td>\n",
       "      <td>SHOP SALES ASSISTANTS AT TF VALUE MART SDN BHD...</td>\n",
       "      <td>MEMBER OF PYITHU HLUTTAW REPRESENTING DEFENCE ...</td>\n",
       "    </tr>\n",
       "    <tr>\n",
       "      <th>3</th>\n",
       "      <td>3</td>\n",
       "      <td>15395</td>\n",
       "      <td>15395</td>\n",
       "      <td>AGRICULTURAL, FORESTRY, FARMING AND FISHERY LA...</td>\n",
       "      <td>AGRICULTURE, FORESTRY AND FISHING</td>\n",
       "      <td>HUAT LAI BROILER BREEDERS SDN BHD</td>\n",
       "      <td>[BIOGRAPHY] JOINT SECRETARY (DIRECTOR) OF BANG...</td>\n",
       "      <td>0</td>\n",
       "      <td>AGRICULTURAL, FORESTRY, FARMING AND FISHERY LA...</td>\n",
       "      <td>JOINT SECRETARY (DIRECTOR) OF BANGLADESH INSTI...</td>\n",
       "    </tr>\n",
       "    <tr>\n",
       "      <th>4</th>\n",
       "      <td>4</td>\n",
       "      <td>12697</td>\n",
       "      <td>12697</td>\n",
       "      <td>AGRICULTURAL, FORESTRY, FARMING AND FISHERY LA...</td>\n",
       "      <td>AGRICULTURE (CROPS &amp; ANIMAL PRODUCTION), AQUAC...</td>\n",
       "      <td>FELCRA BERHAD</td>\n",
       "      <td>[BIOGRAPHY] DEPUTY SECRETARY (DEPUTY COMMISSIO...</td>\n",
       "      <td>0</td>\n",
       "      <td>AGRICULTURAL, FORESTRY, FARMING AND FISHERY LA...</td>\n",
       "      <td>DEPUTY SECRETARY (DEPUTY COMMISSIONER) TO THE ...</td>\n",
       "    </tr>\n",
       "    <tr>\n",
       "      <th>...</th>\n",
       "      <td>...</td>\n",
       "      <td>...</td>\n",
       "      <td>...</td>\n",
       "      <td>...</td>\n",
       "      <td>...</td>\n",
       "      <td>...</td>\n",
       "      <td>...</td>\n",
       "      <td>...</td>\n",
       "      <td>...</td>\n",
       "      <td>...</td>\n",
       "    </tr>\n",
       "    <tr>\n",
       "      <th>15534</th>\n",
       "      <td>15790</td>\n",
       "      <td>10524</td>\n",
       "      <td>10524</td>\n",
       "      <td>MANUFACTURING LABOURERS</td>\n",
       "      <td>AGRICULTURE, FORESTRY AND FISHING</td>\n",
       "      <td>LADANG KEKAYAAN</td>\n",
       "      <td>[BIOGRAPHY] DEPUTY SECRETARY OF BANGLADESH (RE...</td>\n",
       "      <td>0</td>\n",
       "      <td>MANUFACTURING LABOURERS AT LADANG KEKAYAAN, AG...</td>\n",
       "      <td>DEPUTY SECRETARY OF BANGLADESH  DIRECTOR OF TO...</td>\n",
       "    </tr>\n",
       "    <tr>\n",
       "      <th>15535</th>\n",
       "      <td>15791</td>\n",
       "      <td>4472</td>\n",
       "      <td>4472</td>\n",
       "      <td>ADMINISTRATIVE ASSOCIATE PROFESSIONALS</td>\n",
       "      <td>PUBLIC ADMINISTRATION AND DEFENCE; COMPULSORY ...</td>\n",
       "      <td>HIGH COMMISSION OF INDIA</td>\n",
       "      <td>[BIOGRAPHY] SENIOR GENERAL MANAGER OF MECON LI...</td>\n",
       "      <td>0</td>\n",
       "      <td>ADMINISTRATIVE ASSOCIATE PROFESSIONALS AT HIGH...</td>\n",
       "      <td>SENIOR GENERAL MANAGER OF MECON LIMITED (REPOR...</td>\n",
       "    </tr>\n",
       "    <tr>\n",
       "      <th>15536</th>\n",
       "      <td>15792</td>\n",
       "      <td>11986</td>\n",
       "      <td>11986</td>\n",
       "      <td>MANUFACTURING LABOURERS</td>\n",
       "      <td>MANUFACTURING</td>\n",
       "      <td>NSK MICRO PRECISION (M) SDN BHD</td>\n",
       "      <td>[BIOGRAPHY] MEMBER OF SAGAING REGION HLUTTAW R...</td>\n",
       "      <td>0</td>\n",
       "      <td>MANUFACTURING LABOURERS AT NSK MICRO PRECISION...</td>\n",
       "      <td>MEMBER OF SAGAING REGION HLUTTAW REPRESENTING ...</td>\n",
       "    </tr>\n",
       "    <tr>\n",
       "      <th>15537</th>\n",
       "      <td>15793</td>\n",
       "      <td>5147</td>\n",
       "      <td>5147</td>\n",
       "      <td>FINANCIAL ANALYSTS</td>\n",
       "      <td>OTHER PROFESSIONAL, SCIENTIFIC AND TECHNICAL A...</td>\n",
       "      <td>HUAWEI TECHNOLOGIES (M) SDN BHD</td>\n",
       "      <td>CNCCDI;[BIOGRAPHY] PRESIDENT OF CIVIL AFFAIRS ...</td>\n",
       "      <td>0</td>\n",
       "      <td>FINANCIAL ANALYSTS AT HUAWEI TECHNOLOGIES (M) ...</td>\n",
       "      <td>PRESIDENT OF CIVIL AFFAIRS NO.2 COURT MINQIN C...</td>\n",
       "    </tr>\n",
       "    <tr>\n",
       "      <th>15538</th>\n",
       "      <td>15794</td>\n",
       "      <td>378</td>\n",
       "      <td>378</td>\n",
       "      <td>AGRICULTURAL, FORESTRY, FARMING AND FISHERY LA...</td>\n",
       "      <td>AGRICULTURE (CROPS &amp; ANIMAL PRODUCTION), AQUAC...</td>\n",
       "      <td>SIME DARBY PLANTATION SDN BHD</td>\n",
       "      <td>[BIOGRAPHY] MEMBER OF THE SUPERVISORY BOARD OF...</td>\n",
       "      <td>0</td>\n",
       "      <td>AGRICULTURAL, FORESTRY, FARMING AND FISHERY LA...</td>\n",
       "      <td>MEMBER OF THE SUPERVISORY BOARD OF PERUSAHAAN ...</td>\n",
       "    </tr>\n",
       "  </tbody>\n",
       "</table>\n",
       "<p>15539 rows × 10 columns</p>\n",
       "</div>"
      ],
      "text/plain": [
       "       level_0  index  Unnamed: 0  \\\n",
       "0            0  14126       14126   \n",
       "1            1   4451        4451   \n",
       "2            2   8890        8890   \n",
       "3            3  15395       15395   \n",
       "4            4  12697       12697   \n",
       "...        ...    ...         ...   \n",
       "15534    15790  10524       10524   \n",
       "15535    15791   4472        4472   \n",
       "15536    15792  11986       11986   \n",
       "15537    15793   5147        5147   \n",
       "15538    15794    378         378   \n",
       "\n",
       "                                              V_OCC_DESC  \\\n",
       "0                                MANUFACTURING LABOURERS   \n",
       "1                  PRODUCTION AND MANUFACTURING MANAGERS   \n",
       "2                                  SHOP SALES ASSISTANTS   \n",
       "3      AGRICULTURAL, FORESTRY, FARMING AND FISHERY LA...   \n",
       "4      AGRICULTURAL, FORESTRY, FARMING AND FISHERY LA...   \n",
       "...                                                  ...   \n",
       "15534                            MANUFACTURING LABOURERS   \n",
       "15535             ADMINISTRATIVE ASSOCIATE PROFESSIONALS   \n",
       "15536                            MANUFACTURING LABOURERS   \n",
       "15537                                 FINANCIAL ANALYSTS   \n",
       "15538  AGRICULTURAL, FORESTRY, FARMING AND FISHERY LA...   \n",
       "\n",
       "                                          V_OCC_SEC_DESC  \\\n",
       "0                                          MANUFACTURING   \n",
       "1          OTHER MANUFACTURING, EXCEPT ARMS AND WEAPONRY   \n",
       "2      OTHER WHOLESALE AND RETAIL TRADE ACTIVITIES N.E.C   \n",
       "3                      AGRICULTURE, FORESTRY AND FISHING   \n",
       "4      AGRICULTURE (CROPS & ANIMAL PRODUCTION), AQUAC...   \n",
       "...                                                  ...   \n",
       "15534                  AGRICULTURE, FORESTRY AND FISHING   \n",
       "15535  PUBLIC ADMINISTRATION AND DEFENCE; COMPULSORY ...   \n",
       "15536                                      MANUFACTURING   \n",
       "15537  OTHER PROFESSIONAL, SCIENTIFIC AND TECHNICAL A...   \n",
       "15538  AGRICULTURE (CROPS & ANIMAL PRODUCTION), AQUAC...   \n",
       "\n",
       "                       V_EMPLOYER_NAME_x  \\\n",
       "0              IMPERIAL GARMENTS SDN BHD   \n",
       "1              CRRC ROLLING STOCK CENTRE   \n",
       "2                  TF VALUE MART SDN BHD   \n",
       "3      HUAT LAI BROILER BREEDERS SDN BHD   \n",
       "4                          FELCRA BERHAD   \n",
       "...                                  ...   \n",
       "15534                    LADANG KEKAYAAN   \n",
       "15535           HIGH COMMISSION OF INDIA   \n",
       "15536    NSK MICRO PRECISION (M) SDN BHD   \n",
       "15537    HUAWEI TECHNOLOGIES (M) SDN BHD   \n",
       "15538      SIME DARBY PLANTATION SDN BHD   \n",
       "\n",
       "                                             V_BIOGRAPHY  LABEL  \\\n",
       "0      [AUSTRALIA SANCTIONS - DFAT-AS] NO 1498 (OCT 2...      0   \n",
       "1      [BIOGRAPHY] CHAIRMAN OF SICHUAN DEVELOPMENT OF...      0   \n",
       "2      [BIOGRAPHY] MEMBER OF PYITHU HLUTTAW REPRESENT...      0   \n",
       "3      [BIOGRAPHY] JOINT SECRETARY (DIRECTOR) OF BANG...      0   \n",
       "4      [BIOGRAPHY] DEPUTY SECRETARY (DEPUTY COMMISSIO...      0   \n",
       "...                                                  ...    ...   \n",
       "15534  [BIOGRAPHY] DEPUTY SECRETARY OF BANGLADESH (RE...      0   \n",
       "15535  [BIOGRAPHY] SENIOR GENERAL MANAGER OF MECON LI...      0   \n",
       "15536  [BIOGRAPHY] MEMBER OF SAGAING REGION HLUTTAW R...      0   \n",
       "15537  CNCCDI;[BIOGRAPHY] PRESIDENT OF CIVIL AFFAIRS ...      0   \n",
       "15538  [BIOGRAPHY] MEMBER OF THE SUPERVISORY BOARD OF...      0   \n",
       "\n",
       "                                      CUSTOMER_BIOGRAPHY  \\\n",
       "0      MANUFACTURING LABOURERS AT IMPERIAL GARMENTS S...   \n",
       "1      PRODUCTION AND MANUFACTURING MANAGERS AT CRRC ...   \n",
       "2      SHOP SALES ASSISTANTS AT TF VALUE MART SDN BHD...   \n",
       "3      AGRICULTURAL, FORESTRY, FARMING AND FISHERY LA...   \n",
       "4      AGRICULTURAL, FORESTRY, FARMING AND FISHERY LA...   \n",
       "...                                                  ...   \n",
       "15534  MANUFACTURING LABOURERS AT LADANG KEKAYAAN, AG...   \n",
       "15535  ADMINISTRATIVE ASSOCIATE PROFESSIONALS AT HIGH...   \n",
       "15536  MANUFACTURING LABOURERS AT NSK MICRO PRECISION...   \n",
       "15537  FINANCIAL ANALYSTS AT HUAWEI TECHNOLOGIES (M) ...   \n",
       "15538  AGRICULTURAL, FORESTRY, FARMING AND FISHERY LA...   \n",
       "\n",
       "                                     WATCHLIST_BIOGRAPHY  \n",
       "0      OWNER OF QUEEN STAR COMPUTER COMPANY  PARTNER ...  \n",
       "1      CHAIRMAN OF SICHUAN DEVELOPMENT OF ASSET MANAG...  \n",
       "2      MEMBER OF PYITHU HLUTTAW REPRESENTING DEFENCE ...  \n",
       "3      JOINT SECRETARY (DIRECTOR) OF BANGLADESH INSTI...  \n",
       "4      DEPUTY SECRETARY (DEPUTY COMMISSIONER) TO THE ...  \n",
       "...                                                  ...  \n",
       "15534  DEPUTY SECRETARY OF BANGLADESH  DIRECTOR OF TO...  \n",
       "15535  SENIOR GENERAL MANAGER OF MECON LIMITED (REPOR...  \n",
       "15536  MEMBER OF SAGAING REGION HLUTTAW REPRESENTING ...  \n",
       "15537  PRESIDENT OF CIVIL AFFAIRS NO.2 COURT MINQIN C...  \n",
       "15538  MEMBER OF THE SUPERVISORY BOARD OF PERUSAHAAN ...  \n",
       "\n",
       "[15539 rows x 10 columns]"
      ]
     },
     "execution_count": 58,
     "metadata": {},
     "output_type": "execute_result"
    }
   ],
   "source": [
    "df"
   ]
  },
  {
   "cell_type": "code",
   "execution_count": 59,
   "id": "918b9f80",
   "metadata": {},
   "outputs": [],
   "source": [
    "# Load pre-trained BERT tokenizer and model\n",
    "tokenizer = BertTokenizer.from_pretrained('bert-base-uncased')\n",
    "model = BertModel.from_pretrained('bert-base-uncased')\n"
   ]
  },
  {
   "cell_type": "code",
   "execution_count": 60,
   "id": "e3cca4cc",
   "metadata": {},
   "outputs": [],
   "source": [
    "# Function to process a single pair of sentences and return the CLS token embedding\n",
    "def process_pair(sentence1, sentence2):\n",
    "    # Tokenize sentences and add special tokens\n",
    "    tokens = tokenizer(sentence1, sentence2, return_tensors='pt', padding=True, truncation=True)\n",
    "    \n",
    "    # Pass tokenized input to BERT model to obtain CLS token embeddings\n",
    "    with torch.no_grad():\n",
    "        outputs = model(**tokens)\n",
    "    \n",
    "    # Extract CLS token embeddings\n",
    "    cls_embedding = outputs.last_hidden_state[:, 0, :]\n",
    "    \n",
    "    return cls_embedding\n"
   ]
  },
  {
   "cell_type": "code",
   "execution_count": 61,
   "id": "02ee6a5a",
   "metadata": {},
   "outputs": [
    {
     "name": "stderr",
     "output_type": "stream",
     "text": [
      "Be aware, overflowing tokens are not returned for the setting you have chosen, i.e. sequence pairs with the 'longest_first' truncation strategy. So the returned list will always be empty even if some tokens have been removed.\n",
      "Be aware, overflowing tokens are not returned for the setting you have chosen, i.e. sequence pairs with the 'longest_first' truncation strategy. So the returned list will always be empty even if some tokens have been removed.\n",
      "Be aware, overflowing tokens are not returned for the setting you have chosen, i.e. sequence pairs with the 'longest_first' truncation strategy. So the returned list will always be empty even if some tokens have been removed.\n",
      "C:\\Users\\80009028\\AppData\\Local\\Temp\\1\\ipykernel_639088\\603872570.py:12: SettingWithCopyWarning: \n",
      "A value is trying to be set on a copy of a slice from a DataFrame.\n",
      "Try using .loc[row_indexer,col_indexer] = value instead\n",
      "\n",
      "See the caveats in the documentation: https://pandas.pydata.org/pandas-docs/stable/user_guide/indexing.html#returning-a-view-versus-a-copy\n",
      "  df['Embeddings'] = embeddings_tensor.tolist()  # Convert tensor to list for DataFrame compatibility\n"
     ]
    }
   ],
   "source": [
    "embeddings = []\n",
    "for _, row in df.iterrows():\n",
    "    sentence1 = row['CUSTOMER_BIOGRAPHY']\n",
    "    sentence2 = row['WATCHLIST_BIOGRAPHY']\n",
    "    cls_embedding = process_pair(sentence1, sentence2)\n",
    "    embeddings.append(cls_embedding)\n",
    "\n",
    "# Stack the embeddings into a single tensor\n",
    "embeddings_tensor = torch.stack(embeddings)\n",
    "\n",
    "# Add a new column to the DataFrame to store the embeddings\n",
    "df['Embeddings'] = embeddings_tensor.tolist()  # Convert tensor to list for DataFrame compatibility"
   ]
  },
  {
   "cell_type": "code",
   "execution_count": 62,
   "id": "045a181e",
   "metadata": {},
   "outputs": [],
   "source": [
    "df1=df[['Embeddings','LABEL']]"
   ]
  },
  {
   "cell_type": "code",
   "execution_count": 63,
   "id": "e0c62104",
   "metadata": {},
   "outputs": [],
   "source": [
    "x = np.array(df1['Embeddings'].tolist())\n",
    "y=df1['LABEL']"
   ]
  },
  {
   "cell_type": "code",
   "execution_count": 64,
   "id": "00c26cf4",
   "metadata": {},
   "outputs": [],
   "source": [
    "from sklearn.model_selection import train_test_split\n",
    "x_train,x_test,y_train,y_test=train_test_split(x,y,test_size=0.2,random_state=42,stratify=y)\n",
    "x_train, x_val, y_train, y_val = train_test_split(x_train, y_train, test_size=0.2, random_state=42, stratify=y_train)\n"
   ]
  },
  {
   "cell_type": "code",
   "execution_count": 65,
   "id": "e3eb8900",
   "metadata": {},
   "outputs": [
    {
     "data": {
      "text/plain": [
       "(9944, 1, 768)"
      ]
     },
     "execution_count": 65,
     "metadata": {},
     "output_type": "execute_result"
    }
   ],
   "source": [
    "x_train.shape"
   ]
  },
  {
   "cell_type": "code",
   "execution_count": 66,
   "id": "dc538980",
   "metadata": {},
   "outputs": [
    {
     "data": {
      "text/plain": [
       "(3108, 1, 768)"
      ]
     },
     "execution_count": 66,
     "metadata": {},
     "output_type": "execute_result"
    }
   ],
   "source": [
    "x_test.shape"
   ]
  },
  {
   "cell_type": "code",
   "execution_count": 67,
   "id": "f6466069",
   "metadata": {},
   "outputs": [
    {
     "data": {
      "text/plain": [
       "(2487, 1, 768)"
      ]
     },
     "execution_count": 67,
     "metadata": {},
     "output_type": "execute_result"
    }
   ],
   "source": [
    "x_val.shape"
   ]
  },
  {
   "cell_type": "code",
   "execution_count": 68,
   "id": "91baa565",
   "metadata": {},
   "outputs": [
    {
     "data": {
      "text/plain": [
       "LABEL\n",
       "0    9859\n",
       "1      85\n",
       "Name: count, dtype: int64"
      ]
     },
     "execution_count": 68,
     "metadata": {},
     "output_type": "execute_result"
    }
   ],
   "source": [
    "y_train.value_counts()"
   ]
  },
  {
   "cell_type": "code",
   "execution_count": 69,
   "id": "15655c36",
   "metadata": {},
   "outputs": [
    {
     "data": {
      "text/plain": [
       "LABEL\n",
       "0    3081\n",
       "1      27\n",
       "Name: count, dtype: int64"
      ]
     },
     "execution_count": 69,
     "metadata": {},
     "output_type": "execute_result"
    }
   ],
   "source": [
    "y_test.value_counts()"
   ]
  },
  {
   "cell_type": "code",
   "execution_count": 70,
   "id": "2097cbfb",
   "metadata": {},
   "outputs": [
    {
     "data": {
      "text/plain": [
       "LABEL\n",
       "0    2466\n",
       "1      21\n",
       "Name: count, dtype: int64"
      ]
     },
     "execution_count": 70,
     "metadata": {},
     "output_type": "execute_result"
    }
   ],
   "source": [
    "y_val.value_counts()"
   ]
  },
  {
   "cell_type": "code",
   "execution_count": 71,
   "id": "abd2d03c",
   "metadata": {},
   "outputs": [
    {
     "data": {
      "text/plain": [
       "{0: 0.5043107820265748, 1: 58.49411764705882}"
      ]
     },
     "execution_count": 71,
     "metadata": {},
     "output_type": "execute_result"
    }
   ],
   "source": [
    "class_counts = np.bincount(y_train)\n",
    "total_samples = len(y_train)\n",
    "class_weights = {i: total_samples / (len(np.unique(y_train)) * class_counts[i]) for i in range(len(class_counts))}\n",
    "class_weights"
   ]
  },
  {
   "cell_type": "code",
   "execution_count": 72,
   "id": "c743d894",
   "metadata": {},
   "outputs": [
    {
     "name": "stdout",
     "output_type": "stream",
     "text": [
      "Trial 30 Complete [00h 01m 15s]\n",
      "val_loss: 0.009887444786727428\n",
      "\n",
      "Best val_loss So Far: 0.009887444786727428\n",
      "Total elapsed time: 00h 41m 48s\n"
     ]
    }
   ],
   "source": [
    "def build_model(hp):\n",
    "    model = Sequential()\n",
    "    \n",
    "    # Tune the number of hidden layers\n",
    "    hp_hidden_layers = hp.Int('hidden_layers', min_value=1, max_value=1, step=1)\n",
    "    \n",
    "    for i in range(hp_hidden_layers):\n",
    "        # Tune the number of units in each hidden layer\n",
    "        units = hp.Int(f'units_{i}', min_value=5, max_value=20, step=1)\n",
    "        model.add(Dense(units, activation='relu'))\n",
    "        \n",
    "        # Add a dropout layer after each hidden layer\n",
    "        dropout_rate = hp.Float(f'dropout_{i}', min_value=0.1, max_value=0.4, step=0.1)\n",
    "        model.add(Dropout(dropout_rate))\n",
    "        # Tune the regularization parameter for each layer\n",
    "        reg_param_l1 = hp.Float(f'reg_param_l1_{i}', min_value=1e-4, max_value=1e-1, sampling='log')\n",
    "        reg_param_l2 = hp.Float(f'reg_param_l2_{i}', min_value=1e-4, max_value=1e-1, sampling='log')\n",
    "        model.add(Dense(units, activation='relu', kernel_regularizer=regularizers.l1_l2(reg_param_l1, reg_param_l2)))\n",
    "\n",
    "    # Output layer\n",
    "    model.add(Dense(1, activation='sigmoid'))\n",
    "    \n",
    "    # Tune the learning rate for the optimizer\n",
    "    learning_rate = hp.Choice('learning_rate', values=[1e-2,1e-3, 1e-4])\n",
    "    \n",
    "    model.compile(\n",
    "        optimizer=Adam(learning_rate=learning_rate),\n",
    "        loss='binary_crossentropy',\n",
    "        #metrics=['accuracy']\n",
    "    )\n",
    "    \n",
    "    return model\n",
    "\n",
    "# Instantiate the tuner\n",
    "tuner = kt.BayesianOptimization(\n",
    "    build_model,\n",
    "    objective='val_loss',\n",
    "    max_trials=30,\n",
    "    executions_per_trial=1,\n",
    "    directory='D:/Matching Occupation/Keras tuner',\n",
    "    project_name='New folder(46)',\n",
    "    overwrite=True,\n",
    "    max_consecutive_failed_trials=30\n",
    ")\n",
    "\n",
    "# Perform the hyperparameter search\n",
    "tuner.search(x_train, y_train, epochs=75, validation_data=(x_val,y_val),callbacks=[EarlyStopping(monitor='val_loss',patience=20)],class_weight=class_weights)"
   ]
  },
  {
   "cell_type": "code",
   "execution_count": 73,
   "id": "2f7ce542",
   "metadata": {},
   "outputs": [
    {
     "data": {
      "text/plain": [
       "{'space': [{'class_name': 'Int',\n",
       "   'config': {'name': 'hidden_layers',\n",
       "    'default': None,\n",
       "    'conditions': [],\n",
       "    'min_value': 1,\n",
       "    'max_value': 1,\n",
       "    'step': 1,\n",
       "    'sampling': 'linear'}},\n",
       "  {'class_name': 'Int',\n",
       "   'config': {'name': 'units_0',\n",
       "    'default': None,\n",
       "    'conditions': [],\n",
       "    'min_value': 5,\n",
       "    'max_value': 20,\n",
       "    'step': 1,\n",
       "    'sampling': 'linear'}},\n",
       "  {'class_name': 'Float',\n",
       "   'config': {'name': 'dropout_0',\n",
       "    'default': 0.1,\n",
       "    'conditions': [],\n",
       "    'min_value': 0.1,\n",
       "    'max_value': 0.4,\n",
       "    'step': 0.1,\n",
       "    'sampling': 'linear'}},\n",
       "  {'class_name': 'Float',\n",
       "   'config': {'name': 'reg_param_l1_0',\n",
       "    'default': 0.0001,\n",
       "    'conditions': [],\n",
       "    'min_value': 0.0001,\n",
       "    'max_value': 0.1,\n",
       "    'step': None,\n",
       "    'sampling': 'log'}},\n",
       "  {'class_name': 'Float',\n",
       "   'config': {'name': 'reg_param_l2_0',\n",
       "    'default': 0.0001,\n",
       "    'conditions': [],\n",
       "    'min_value': 0.0001,\n",
       "    'max_value': 0.1,\n",
       "    'step': None,\n",
       "    'sampling': 'log'}},\n",
       "  {'class_name': 'Choice',\n",
       "   'config': {'name': 'learning_rate',\n",
       "    'default': 0.01,\n",
       "    'conditions': [],\n",
       "    'values': [0.01, 0.001, 0.0001],\n",
       "    'ordered': True}}],\n",
       " 'values': {'hidden_layers': 1,\n",
       "  'units_0': 9,\n",
       "  'dropout_0': 0.1,\n",
       "  'reg_param_l1_0': 0.0001,\n",
       "  'reg_param_l2_0': 0.0004072497521014889,\n",
       "  'learning_rate': 0.01}}"
      ]
     },
     "execution_count": 73,
     "metadata": {},
     "output_type": "execute_result"
    }
   ],
   "source": [
    "best_hps=tuner.get_best_hyperparameters(num_trials=1)[0]\n",
    "best_hps.get_config()"
   ]
  },
  {
   "cell_type": "code",
   "execution_count": 74,
   "id": "70292224",
   "metadata": {},
   "outputs": [
    {
     "name": "stdout",
     "output_type": "stream",
     "text": [
      "Model: \"sequential_1\"\n",
      "_________________________________________________________________\n",
      " Layer (type)                Output Shape              Param #   \n",
      "=================================================================\n",
      " dense_3 (Dense)             (None, 1, 9)              6921      \n",
      "                                                                 \n",
      " dropout_1 (Dropout)         (None, 1, 9)              0         \n",
      "                                                                 \n",
      " dense_4 (Dense)             (None, 1, 9)              90        \n",
      "                                                                 \n",
      " dense_5 (Dense)             (None, 1, 1)              10        \n",
      "                                                                 \n",
      "=================================================================\n",
      "Total params: 7021 (27.43 KB)\n",
      "Trainable params: 7021 (27.43 KB)\n",
      "Non-trainable params: 0 (0.00 Byte)\n",
      "_________________________________________________________________\n"
     ]
    }
   ],
   "source": [
    "# Build the best model\n",
    "model = tuner.hypermodel.build(best_hps)\n",
    "model.build((None,1,768))  # Replace input_shape with the appropriate shape for your input data\n",
    "\n",
    "# Compile the model\n",
    "model.compile(\n",
    "    optimizer=model.optimizer,\n",
    "    loss=model.loss,\n",
    "    #metrics=['accuracy']\n",
    ")\n",
    "\n",
    "# Now you can access the model summary\n",
    "model.summary()"
   ]
  },
  {
   "cell_type": "code",
   "execution_count": 75,
   "id": "93dbfba7",
   "metadata": {},
   "outputs": [
    {
     "name": "stdout",
     "output_type": "stream",
     "text": [
      "Epoch 1/200\n",
      "298/311 [===========================>..] - ETA: 0s - loss: 0.0457\n",
      "Epoch 1: val_loss improved from inf to 0.01152, saving model to bert30.hdf5\n",
      "311/311 [==============================] - 3s 4ms/step - loss: 0.0452 - val_loss: 0.0115\n",
      "Epoch 2/200\n",
      " 50/311 [===>..........................] - ETA: 0s - loss: 0.0192"
     ]
    },
    {
     "name": "stderr",
     "output_type": "stream",
     "text": [
      "C:\\Users\\80009028\\AppData\\Local\\anaconda3\\Lib\\site-packages\\keras\\src\\engine\\training.py:3103: UserWarning: You are saving your model as an HDF5 file via `model.save()`. This file format is considered legacy. We recommend using instead the native Keras format, e.g. `model.save('my_model.keras')`.\n",
      "  saving_api.save_model(\n"
     ]
    },
    {
     "name": "stdout",
     "output_type": "stream",
     "text": [
      "298/311 [===========================>..] - ETA: 0s - loss: 0.0184\n",
      "Epoch 2: val_loss improved from 0.01152 to 0.01102, saving model to bert30.hdf5\n",
      "311/311 [==============================] - 1s 3ms/step - loss: 0.0195 - val_loss: 0.0110\n",
      "Epoch 3/200\n",
      "287/311 [==========================>...] - ETA: 0s - loss: 0.0210\n",
      "Epoch 3: val_loss did not improve from 0.01102\n",
      "311/311 [==============================] - 1s 3ms/step - loss: 0.0212 - val_loss: 0.0201\n",
      "Epoch 4/200\n",
      "306/311 [============================>.] - ETA: 0s - loss: 0.0188\n",
      "Epoch 4: val_loss did not improve from 0.01102\n",
      "311/311 [==============================] - 1s 3ms/step - loss: 0.0187 - val_loss: 0.0126\n",
      "Epoch 5/200\n",
      "304/311 [============================>.] - ETA: 0s - loss: 0.0177\n",
      "Epoch 5: val_loss did not improve from 0.01102\n",
      "311/311 [==============================] - 1s 3ms/step - loss: 0.0178 - val_loss: 0.0112\n",
      "Epoch 6/200\n",
      "301/311 [============================>.] - ETA: 0s - loss: 0.0139\n",
      "Epoch 6: val_loss did not improve from 0.01102\n",
      "311/311 [==============================] - 1s 3ms/step - loss: 0.0154 - val_loss: 0.0124\n",
      "Epoch 7/200\n",
      "296/311 [===========================>..] - ETA: 0s - loss: 0.0210\n",
      "Epoch 7: val_loss improved from 0.01102 to 0.01032, saving model to bert30.hdf5\n",
      "311/311 [==============================] - 1s 3ms/step - loss: 0.0204 - val_loss: 0.0103\n",
      "Epoch 8/200\n",
      "300/311 [===========================>..] - ETA: 0s - loss: 0.0143\n",
      "Epoch 8: val_loss improved from 0.01032 to 0.01021, saving model to bert30.hdf5\n",
      "311/311 [==============================] - 1s 3ms/step - loss: 0.0142 - val_loss: 0.0102\n",
      "Epoch 9/200\n",
      "301/311 [============================>.] - ETA: 0s - loss: 0.0136\n",
      "Epoch 9: val_loss improved from 0.01021 to 0.00942, saving model to bert30.hdf5\n",
      "311/311 [==============================] - 1s 3ms/step - loss: 0.0134 - val_loss: 0.0094\n",
      "Epoch 10/200\n",
      "311/311 [==============================] - ETA: 0s - loss: 0.0145\n",
      "Epoch 10: val_loss improved from 0.00942 to 0.00910, saving model to bert30.hdf5\n",
      "311/311 [==============================] - 1s 3ms/step - loss: 0.0145 - val_loss: 0.0091\n",
      "Epoch 11/200\n",
      "308/311 [============================>.] - ETA: 0s - loss: 0.0115\n",
      "Epoch 11: val_loss improved from 0.00910 to 0.00853, saving model to bert30.hdf5\n",
      "311/311 [==============================] - 1s 3ms/step - loss: 0.0116 - val_loss: 0.0085\n",
      "Epoch 12/200\n",
      "302/311 [============================>.] - ETA: 0s - loss: 0.0119\n",
      "Epoch 12: val_loss did not improve from 0.00853\n",
      "311/311 [==============================] - 1s 3ms/step - loss: 0.0121 - val_loss: 0.0095\n",
      "Epoch 13/200\n",
      "311/311 [==============================] - ETA: 0s - loss: 0.0122\n",
      "Epoch 13: val_loss did not improve from 0.00853\n",
      "311/311 [==============================] - 1s 3ms/step - loss: 0.0122 - val_loss: 0.0091\n",
      "Epoch 14/200\n",
      "311/311 [==============================] - ETA: 0s - loss: 0.0117\n",
      "Epoch 14: val_loss did not improve from 0.00853\n",
      "311/311 [==============================] - 1s 3ms/step - loss: 0.0117 - val_loss: 0.0117\n",
      "Epoch 15/200\n",
      "310/311 [============================>.] - ETA: 0s - loss: 0.0114\n",
      "Epoch 15: val_loss improved from 0.00853 to 0.00829, saving model to bert30.hdf5\n",
      "311/311 [==============================] - 1s 3ms/step - loss: 0.0113 - val_loss: 0.0083\n",
      "Epoch 16/200\n",
      "311/311 [==============================] - ETA: 0s - loss: 0.0098\n",
      "Epoch 16: val_loss did not improve from 0.00829\n",
      "311/311 [==============================] - 1s 3ms/step - loss: 0.0098 - val_loss: 0.0091\n",
      "Epoch 17/200\n",
      "300/311 [===========================>..] - ETA: 0s - loss: 0.0103\n",
      "Epoch 17: val_loss did not improve from 0.00829\n",
      "311/311 [==============================] - 1s 3ms/step - loss: 0.0106 - val_loss: 0.0107\n",
      "Epoch 18/200\n",
      "293/311 [===========================>..] - ETA: 0s - loss: 0.0098\n",
      "Epoch 18: val_loss did not improve from 0.00829\n",
      "311/311 [==============================] - 1s 3ms/step - loss: 0.0101 - val_loss: 0.0203\n",
      "Epoch 19/200\n",
      "285/311 [==========================>...] - ETA: 0s - loss: 0.0097\n",
      "Epoch 19: val_loss did not improve from 0.00829\n",
      "311/311 [==============================] - 1s 3ms/step - loss: 0.0103 - val_loss: 0.0087\n",
      "Epoch 20/200\n",
      "310/311 [============================>.] - ETA: 0s - loss: 0.0096\n",
      "Epoch 20: val_loss did not improve from 0.00829\n",
      "311/311 [==============================] - 1s 3ms/step - loss: 0.0097 - val_loss: 0.0284\n",
      "Epoch 21/200\n",
      "287/311 [==========================>...] - ETA: 0s - loss: 0.0094\n",
      "Epoch 21: val_loss did not improve from 0.00829\n",
      "311/311 [==============================] - 1s 3ms/step - loss: 0.0093 - val_loss: 0.0096\n",
      "Epoch 22/200\n",
      "302/311 [============================>.] - ETA: 0s - loss: 0.0103\n",
      "Epoch 22: val_loss did not improve from 0.00829\n",
      "311/311 [==============================] - 1s 3ms/step - loss: 0.0102 - val_loss: 0.0108\n",
      "Epoch 23/200\n",
      "309/311 [============================>.] - ETA: 0s - loss: 0.0089\n",
      "Epoch 23: val_loss did not improve from 0.00829\n",
      "311/311 [==============================] - 1s 3ms/step - loss: 0.0089 - val_loss: 0.0104\n",
      "Epoch 24/200\n",
      "291/311 [===========================>..] - ETA: 0s - loss: 0.0080\n",
      "Epoch 24: val_loss improved from 0.00829 to 0.00812, saving model to bert30.hdf5\n",
      "311/311 [==============================] - 1s 3ms/step - loss: 0.0078 - val_loss: 0.0081\n",
      "Epoch 25/200\n",
      "298/311 [===========================>..] - ETA: 0s - loss: 0.0091\n",
      "Epoch 25: val_loss did not improve from 0.00812\n",
      "311/311 [==============================] - 1s 3ms/step - loss: 0.0091 - val_loss: 0.0097\n",
      "Epoch 26/200\n",
      "291/311 [===========================>..] - ETA: 0s - loss: 0.0081\n",
      "Epoch 26: val_loss did not improve from 0.00812\n",
      "311/311 [==============================] - 1s 3ms/step - loss: 0.0083 - val_loss: 0.0102\n",
      "Epoch 27/200\n",
      "291/311 [===========================>..] - ETA: 0s - loss: 0.0086\n",
      "Epoch 27: val_loss did not improve from 0.00812\n",
      "311/311 [==============================] - 1s 3ms/step - loss: 0.0086 - val_loss: 0.0092\n",
      "Epoch 28/200\n",
      "307/311 [============================>.] - ETA: 0s - loss: 0.0081\n",
      "Epoch 28: val_loss did not improve from 0.00812\n",
      "311/311 [==============================] - 1s 3ms/step - loss: 0.0082 - val_loss: 0.0090\n",
      "Epoch 29/200\n",
      "308/311 [============================>.] - ETA: 0s - loss: 0.0072\n",
      "Epoch 29: val_loss did not improve from 0.00812\n",
      "311/311 [==============================] - 1s 3ms/step - loss: 0.0073 - val_loss: 0.0187\n",
      "Epoch 30/200\n",
      "300/311 [===========================>..] - ETA: 0s - loss: 0.0063\n",
      "Epoch 30: val_loss did not improve from 0.00812\n",
      "311/311 [==============================] - 1s 3ms/step - loss: 0.0066 - val_loss: 0.0092\n",
      "Epoch 31/200\n",
      "308/311 [============================>.] - ETA: 0s - loss: 0.0072\n",
      "Epoch 31: val_loss did not improve from 0.00812\n",
      "311/311 [==============================] - 1s 3ms/step - loss: 0.0072 - val_loss: 0.0116\n",
      "Epoch 32/200\n",
      "300/311 [===========================>..] - ETA: 0s - loss: 0.0074\n",
      "Epoch 32: val_loss did not improve from 0.00812\n",
      "311/311 [==============================] - 1s 3ms/step - loss: 0.0072 - val_loss: 0.0272\n",
      "Epoch 33/200\n",
      "307/311 [============================>.] - ETA: 0s - loss: 0.0107\n",
      "Epoch 33: val_loss did not improve from 0.00812\n",
      "311/311 [==============================] - 1s 3ms/step - loss: 0.0106 - val_loss: 0.0085\n",
      "Epoch 34/200\n",
      "310/311 [============================>.] - ETA: 0s - loss: 0.0075\n",
      "Epoch 34: val_loss did not improve from 0.00812\n",
      "311/311 [==============================] - 1s 3ms/step - loss: 0.0074 - val_loss: 0.0114\n",
      "Epoch 35/200\n",
      "311/311 [==============================] - ETA: 0s - loss: 0.0057\n",
      "Epoch 35: val_loss did not improve from 0.00812\n",
      "311/311 [==============================] - 1s 3ms/step - loss: 0.0057 - val_loss: 0.0142\n",
      "Epoch 36/200\n",
      "295/311 [===========================>..] - ETA: 0s - loss: 0.0066\n",
      "Epoch 36: val_loss did not improve from 0.00812\n",
      "311/311 [==============================] - 1s 3ms/step - loss: 0.0067 - val_loss: 0.0128\n",
      "Epoch 37/200\n",
      "291/311 [===========================>..] - ETA: 0s - loss: 0.0064\n",
      "Epoch 37: val_loss did not improve from 0.00812\n",
      "311/311 [==============================] - 1s 3ms/step - loss: 0.0062 - val_loss: 0.0116\n",
      "Epoch 38/200\n",
      "300/311 [===========================>..] - ETA: 0s - loss: 0.0063\n",
      "Epoch 38: val_loss did not improve from 0.00812\n",
      "311/311 [==============================] - 1s 3ms/step - loss: 0.0064 - val_loss: 0.0107\n",
      "Epoch 39/200\n",
      "298/311 [===========================>..] - ETA: 0s - loss: 0.0087\n",
      "Epoch 39: val_loss did not improve from 0.00812\n",
      "311/311 [==============================] - 1s 3ms/step - loss: 0.0086 - val_loss: 0.0210\n",
      "Epoch 40/200\n",
      "302/311 [============================>.] - ETA: 0s - loss: 0.0069\n",
      "Epoch 40: val_loss did not improve from 0.00812\n",
      "311/311 [==============================] - 1s 3ms/step - loss: 0.0071 - val_loss: 0.0088\n",
      "Epoch 41/200\n",
      "303/311 [============================>.] - ETA: 0s - loss: 0.0059\n",
      "Epoch 41: val_loss did not improve from 0.00812\n",
      "311/311 [==============================] - 1s 3ms/step - loss: 0.0061 - val_loss: 0.0094\n",
      "Epoch 42/200\n",
      "287/311 [==========================>...] - ETA: 0s - loss: 0.0080\n",
      "Epoch 42: val_loss did not improve from 0.00812\n",
      "311/311 [==============================] - 1s 3ms/step - loss: 0.0078 - val_loss: 0.0090\n",
      "Epoch 43/200\n",
      "310/311 [============================>.] - ETA: 0s - loss: 0.0049\n",
      "Epoch 43: val_loss did not improve from 0.00812\n",
      "311/311 [==============================] - 1s 3ms/step - loss: 0.0049 - val_loss: 0.0117\n",
      "Epoch 44/200\n",
      "308/311 [============================>.] - ETA: 0s - loss: 0.0059\n",
      "Epoch 44: val_loss did not improve from 0.00812\n",
      "Restoring model weights from the end of the best epoch: 24.\n",
      "311/311 [==============================] - 1s 3ms/step - loss: 0.0059 - val_loss: 0.0098\n",
      "Epoch 44: early stopping\n"
     ]
    }
   ],
   "source": [
    "from tensorflow.keras.callbacks import ModelCheckpoint, EarlyStopping\n",
    "checkpoint = ModelCheckpoint('bert30.hdf5', monitor = 'val_loss', verbose = 1, save_best_only = True, mode = 'min')\n",
    "early_stopping = EarlyStopping(monitor='val_loss', patience=20, verbose=1, restore_best_weights=True)\n",
    "callbacks_list = [checkpoint, early_stopping]\n",
    "# Train the model with callbacks\n",
    "history = model.fit(x_train, y_train, epochs=200, validation_data=(x_val, y_val), callbacks=callbacks_list)"
   ]
  },
  {
   "cell_type": "code",
   "execution_count": 76,
   "id": "de359deb",
   "metadata": {},
   "outputs": [],
   "source": [
    "model.load_weights('bert30.hdf5')"
   ]
  },
  {
   "cell_type": "code",
   "execution_count": 77,
   "id": "28011c88",
   "metadata": {},
   "outputs": [
    {
     "name": "stdout",
     "output_type": "stream",
     "text": [
      "311/311 [==============================] - 1s 3ms/step\n",
      "78/78 [==============================] - 0s 2ms/step\n",
      "98/98 [==============================] - 0s 2ms/step\n"
     ]
    }
   ],
   "source": [
    "y_train_pred_proba=model.predict(x_train)\n",
    "y_val_pred_proba=model.predict(x_val)\n",
    "y_test_pred_proba=model.predict(x_test)"
   ]
  },
  {
   "cell_type": "code",
   "execution_count": 78,
   "id": "12e9c10d",
   "metadata": {},
   "outputs": [
    {
     "name": "stderr",
     "output_type": "stream",
     "text": [
      "C:\\Users\\80009028\\AppData\\Local\\Temp\\1\\ipykernel_639088\\3813366357.py:1: UserWarning: \n",
      "\n",
      "`distplot` is a deprecated function and will be removed in seaborn v0.14.0.\n",
      "\n",
      "Please adapt your code to use either `displot` (a figure-level function with\n",
      "similar flexibility) or `histplot` (an axes-level function for histograms).\n",
      "\n",
      "For a guide to updating your code to use the new functions, please see\n",
      "https://gist.github.com/mwaskom/de44147ed2974457ad6372750bbe5751\n",
      "\n",
      "  sns.distplot(y_train_pred_proba)\n"
     ]
    },
    {
     "data": {
      "text/plain": [
       "<Axes: ylabel='Density'>"
      ]
     },
     "execution_count": 78,
     "metadata": {},
     "output_type": "execute_result"
    },
    {
     "data": {
      "image/png": "[encoded data removed]",
      "text/plain": [
       "<Figure size 640x480 with 1 Axes>"
      ]
     },
     "metadata": {},
     "output_type": "display_data"
    }
   ],
   "source": [
    "sns.distplot(y_train_pred_proba)"
   ]
  },
  {
   "cell_type": "code",
   "execution_count": 79,
   "id": "562b6945",
   "metadata": {},
   "outputs": [
    {
     "data": {
      "text/plain": [
       "(9944, 1, 1)"
      ]
     },
     "execution_count": 79,
     "metadata": {},
     "output_type": "execute_result"
    }
   ],
   "source": [
    "y_train_pred_proba.shape"
   ]
  },
  {
   "cell_type": "code",
   "execution_count": 80,
   "id": "d6d120b1",
   "metadata": {},
   "outputs": [
    {
     "data": {
      "text/plain": [
       "(9944,)"
      ]
     },
     "execution_count": 80,
     "metadata": {},
     "output_type": "execute_result"
    }
   ],
   "source": [
    "y_train.shape"
   ]
  },
  {
   "cell_type": "code",
   "execution_count": 81,
   "id": "65f8f4cd",
   "metadata": {},
   "outputs": [
    {
     "data": {
      "image/png": "[encoded data removed]",
      "text/plain": [
       "<Figure size 640x480 with 1 Axes>"
      ]
     },
     "metadata": {},
     "output_type": "display_data"
    }
   ],
   "source": [
    "def f1_optimal_threshold(y_train_true, y_train_proba, y_val_true, y_val_proba):\n",
    "    # Convert inputs to numpy arrays to ensure compatibility\n",
    "    #y_train_true = np.array(y_train_true)\n",
    "    #y_train_proba = np.array(y_train_proba)\n",
    "    #y_val_true = np.array(y_val_true)\n",
    "    #y_val_proba = np.array(y_val_proba)\n",
    "    \n",
    "    thresholds = np.linspace(0, 1, 20000)\n",
    "    train_f1_scores = []\n",
    "    val_f1_scores = []\n",
    "    y_train_proba = np.squeeze(y_train_proba, axis=(1, 2)) \n",
    "    y_val_proba=np.squeeze(y_val_proba, axis=(1, 2)) \n",
    "    for threshold in thresholds:\n",
    "        y_train_pred = np.where(y_train_proba > threshold, 1, 0)\n",
    "        y_val_pred = np.where(y_val_proba > threshold, 1, 0)\n",
    "        train_f1_scores.append(f1_score(y_train_true, y_train_pred))\n",
    "        val_f1_scores.append(f1_score(y_val_true, y_val_pred))\n",
    "    \n",
    "    plt.plot(thresholds, train_f1_scores, label='Training F1 Score')\n",
    "    plt.plot(thresholds, val_f1_scores, label='Validation F1 Score')\n",
    "    plt.xlabel('Threshold')\n",
    "    plt.ylabel('F1 Score')\n",
    "    plt.title('Threshold vs F1 Score')\n",
    "    plt.legend()\n",
    "    plt.show()\n",
    "    \n",
    "    return thresholds, train_f1_scores, val_f1_scores\n",
    "\n",
    "# Example usage:\n",
    "# Ensure y_train, y_train_pred_proba, y_val, y_val_pred_proba are properly defined\n",
    "thresholds, train_f1_scores, val_f1_scores = f1_optimal_threshold(y_train, y_train_pred_proba, \n",
    "                                                                  y_val, y_val_pred_proba)"
   ]
  },
  {
   "cell_type": "code",
   "execution_count": 82,
   "id": "24830a78",
   "metadata": {},
   "outputs": [
    {
     "data": {
      "text/plain": [
       "0.6645332266613331"
      ]
     },
     "execution_count": 82,
     "metadata": {},
     "output_type": "execute_result"
    }
   ],
   "source": [
    "optimal_index = np.argmax(train_f1_scores)\n",
    "optimal_threshold = thresholds[optimal_index]\n",
    "optimal_threshold"
   ]
  },
  {
   "cell_type": "code",
   "execution_count": 83,
   "id": "24e2c5a0",
   "metadata": {},
   "outputs": [],
   "source": [
    "y_train_pred_proba = np.squeeze(y_train_pred_proba, axis=(1, 2)) \n",
    "y_test_pred_proba = np.squeeze(y_test_pred_proba, axis=(1, 2)) \n",
    "y_train_bert_pred = np.where(y_train_pred_proba>optimal_threshold, 1, 0)\n",
    "y_test_bert_pred = np.where(y_test_pred_proba>optimal_threshold, 1, 0)\n",
    "y_val_pred_proba = np.squeeze(y_val_pred_proba, axis=(1, 2)) \n",
    "y_val_bert_pred = np.where(y_val_pred_proba>optimal_threshold, 1, 0)"
   ]
  },
  {
   "cell_type": "code",
   "execution_count": 84,
   "id": "9cfaa81b",
   "metadata": {},
   "outputs": [
    {
     "name": "stdout",
     "output_type": "stream",
     "text": [
      "              precision    recall  f1-score   support\n",
      "\n",
      "           0       1.00      1.00      1.00      9859\n",
      "           1       0.97      0.99      0.98        85\n",
      "\n",
      "    accuracy                           1.00      9944\n",
      "   macro avg       0.98      0.99      0.99      9944\n",
      "weighted avg       1.00      1.00      1.00      9944\n",
      "\n"
     ]
    }
   ],
   "source": [
    "print(classification_report(y_train, y_train_bert_pred))"
   ]
  },
  {
   "cell_type": "code",
   "execution_count": 85,
   "id": "ca76dcdf",
   "metadata": {},
   "outputs": [
    {
     "data": {
      "text/plain": [
       "<sklearn.metrics._plot.confusion_matrix.ConfusionMatrixDisplay at 0x218ef84b550>"
      ]
     },
     "execution_count": 85,
     "metadata": {},
     "output_type": "execute_result"
    },
    {
     "data": {
      "text/plain": [
       "<Figure size 500x500 with 0 Axes>"
      ]
     },
     "metadata": {},
     "output_type": "display_data"
    },
    {
     "data": {
      "image/png": "[encoded data removed]",
      "text/plain": [
       "<Figure size 640x480 with 2 Axes>"
      ]
     },
     "metadata": {},
     "output_type": "display_data"
    }
   ],
   "source": [
    "#Confusion matrix for training data\n",
    "\n",
    "plt.figure(figsize=(5,5))\n",
    "cm = confusion_matrix(y_train,y_train_bert_pred)\n",
    "disp = ConfusionMatrixDisplay(confusion_matrix = cm)\n",
    "disp.plot()"
   ]
  },
  {
   "cell_type": "code",
   "execution_count": 86,
   "id": "f8c97a70",
   "metadata": {},
   "outputs": [
    {
     "name": "stdout",
     "output_type": "stream",
     "text": [
      "              precision    recall  f1-score   support\n",
      "\n",
      "           0       1.00      1.00      1.00      2466\n",
      "           1       0.95      0.86      0.90        21\n",
      "\n",
      "    accuracy                           1.00      2487\n",
      "   macro avg       0.97      0.93      0.95      2487\n",
      "weighted avg       1.00      1.00      1.00      2487\n",
      "\n"
     ]
    }
   ],
   "source": [
    "print(classification_report(y_val,y_val_bert_pred))"
   ]
  },
  {
   "cell_type": "code",
   "execution_count": 87,
   "id": "db36225f",
   "metadata": {},
   "outputs": [
    {
     "data": {
      "text/plain": [
       "<sklearn.metrics._plot.confusion_matrix.ConfusionMatrixDisplay at 0x218ee873550>"
      ]
     },
     "execution_count": 87,
     "metadata": {},
     "output_type": "execute_result"
    },
    {
     "data": {
      "text/plain": [
       "<Figure size 500x500 with 0 Axes>"
      ]
     },
     "metadata": {},
     "output_type": "display_data"
    },
    {
     "data": {
      "image/png": "[encoded data removed]",
      "text/plain": [
       "<Figure size 640x480 with 2 Axes>"
      ]
     },
     "metadata": {},
     "output_type": "display_data"
    }
   ],
   "source": [
    "#Confusion matrix for val data\n",
    "\n",
    "plt.figure(figsize=(5,5))\n",
    "cm = confusion_matrix(y_val,y_val_bert_pred)\n",
    "disp = ConfusionMatrixDisplay(confusion_matrix = cm)\n",
    "disp.plot()"
   ]
  },
  {
   "cell_type": "code",
   "execution_count": 88,
   "id": "74da6c7f",
   "metadata": {},
   "outputs": [
    {
     "name": "stdout",
     "output_type": "stream",
     "text": [
      "              precision    recall  f1-score   support\n",
      "\n",
      "           0       1.00      1.00      1.00      3081\n",
      "           1       0.96      0.89      0.92        27\n",
      "\n",
      "    accuracy                           1.00      3108\n",
      "   macro avg       0.98      0.94      0.96      3108\n",
      "weighted avg       1.00      1.00      1.00      3108\n",
      "\n"
     ]
    }
   ],
   "source": [
    "print(classification_report(y_test, y_test_bert_pred))"
   ]
  },
  {
   "cell_type": "code",
   "execution_count": 89,
   "id": "77b02252",
   "metadata": {},
   "outputs": [
    {
     "data": {
      "text/plain": [
       "<sklearn.metrics._plot.confusion_matrix.ConfusionMatrixDisplay at 0x218f63fb890>"
      ]
     },
     "execution_count": 89,
     "metadata": {},
     "output_type": "execute_result"
    },
    {
     "data": {
      "text/plain": [
       "<Figure size 500x500 with 0 Axes>"
      ]
     },
     "metadata": {},
     "output_type": "display_data"
    },
    {
     "data": {
      "image/png": "[encoded data removed]",
      "text/plain": [
       "<Figure size 640x480 with 2 Axes>"
      ]
     },
     "metadata": {},
     "output_type": "display_data"
    }
   ],
   "source": [
    "#Confusion matrix for test data\n",
    "\n",
    "plt.figure(figsize=(5,5))\n",
    "cm = confusion_matrix(y_test,y_test_bert_pred)\n",
    "disp = ConfusionMatrixDisplay(confusion_matrix = cm)\n",
    "disp.plot()"
   ]
  },
  {
   "cell_type": "code",
   "execution_count": null,
   "id": "6352cc79",
   "metadata": {},
   "outputs": [],
   "source": []
  },
  {
   "cell_type": "code",
   "execution_count": 189,
   "id": "dd2c80b0",
   "metadata": {},
   "outputs": [
    {
     "name": "stdout",
     "output_type": "stream",
     "text": [
      "              precision    recall  f1-score   support\n",
      "\n",
      "           0       1.00      1.00      1.00      3082\n",
      "           1       0.92      0.88      0.90        26\n",
      "\n",
      "    accuracy                           1.00      3108\n",
      "   macro avg       0.96      0.94      0.95      3108\n",
      "weighted avg       1.00      1.00      1.00      3108\n",
      "\n"
     ]
    }
   ],
   "source": [
    "print(classification_report(y_test, y_test_bert_pred))"
   ]
  },
  {
   "cell_type": "code",
   "execution_count": 190,
   "id": "204d0d67",
   "metadata": {},
   "outputs": [
    {
     "data": {
      "text/plain": [
       "<sklearn.metrics._plot.confusion_matrix.ConfusionMatrixDisplay at 0x1dc11e8ce10>"
      ]
     },
     "execution_count": 190,
     "metadata": {},
     "output_type": "execute_result"
    },
    {
     "data": {
      "text/plain": [
       "<Figure size 500x500 with 0 Axes>"
      ]
     },
     "metadata": {},
     "output_type": "display_data"
    },
    {
     "data": {
      "image/png": "[encoded data removed]",
      "text/plain": [
       "<Figure size 640x480 with 2 Axes>"
      ]
     },
     "metadata": {},
     "output_type": "display_data"
    }
   ],
   "source": [
    "#Confusion matrix for test data\n",
    "\n",
    "plt.figure(figsize=(5,5))\n",
    "cm = confusion_matrix(y_test,y_test_bert_pred)\n",
    "disp = ConfusionMatrixDisplay(confusion_matrix = cm)\n",
    "disp.plot()"
   ]
  },
  {
   "cell_type": "code",
   "execution_count": null,
   "id": "110602bd",
   "metadata": {},
   "outputs": [],
   "source": []
  },
  {
   "cell_type": "code",
   "execution_count": null,
   "id": "fb0972fe",
   "metadata": {},
   "outputs": [],
   "source": []
  },
  {
   "cell_type": "code",
   "execution_count": null,
   "id": "1b18ed46",
   "metadata": {},
   "outputs": [],
   "source": []
  },
  {
   "cell_type": "code",
   "execution_count": null,
   "id": "60f19c33",
   "metadata": {},
   "outputs": [],
   "source": []
  },
  {
   "cell_type": "code",
   "execution_count": null,
   "id": "d16d5124",
   "metadata": {},
   "outputs": [],
   "source": []
  },
  {
   "cell_type": "code",
   "execution_count": null,
   "id": "c0f4b497",
   "metadata": {},
   "outputs": [],
   "source": []
  },
  {
   "cell_type": "code",
   "execution_count": null,
   "id": "b5144b6f",
   "metadata": {},
   "outputs": [],
   "source": []
  },
  {
   "cell_type": "code",
   "execution_count": null,
   "id": "5ed54ae5",
   "metadata": {},
   "outputs": [],
   "source": []
  }
 ],
 "metadata": {
  "kernelspec": {
   "display_name": "Python 3 (ipykernel)",
   "language": "python",
   "name": "python3"
  },
  "language_info": {
   "codemirror_mode": {
    "name": "ipython",
    "version": 3
   },
   "file_extension": ".py",
   "mimetype": "text/x-python",
   "name": "python",
   "nbconvert_exporter": "python",
   "pygments_lexer": "ipython3",
   "version": "3.9.13"
  }
 },
 "nbformat": 4,
 "nbformat_minor": 5
}
